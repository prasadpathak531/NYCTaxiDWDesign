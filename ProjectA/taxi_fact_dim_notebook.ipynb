{
 "cells": [
  {
   "cell_type": "markdown",
   "metadata": {},
   "source": [
    "### Importing data from Blob storage account for green taxi to create a Fact table for analysis purpose"
   ]
  },
  {
   "cell_type": "code",
   "execution_count": 2,
   "metadata": {
    "microsoft": {
     "language": "python"
    }
   },
   "outputs": [
    {
     "data": {
      "application/vnd.livy.statement-meta+json": {
       "execution_finish_time": "2023-08-31T03:22:50.4891391Z",
       "execution_start_time": "2023-08-31T03:22:46.419117Z",
       "livy_statement_state": "available",
       "parent_msg_id": "6730f1a2-4083-4a41-b498-02c79fb6e3ad",
       "queued_time": "2023-08-31T03:22:46.2655952Z",
       "session_id": "3",
       "session_start_time": null,
       "spark_jobs": null,
       "spark_pool": "sparkpool",
       "state": "finished",
       "statement_id": 3
      },
      "text/plain": [
       "StatementMeta(sparkpool, 3, 3, Finished, Available)"
      ]
     },
     "metadata": {},
     "output_type": "display_data"
    },
    {
     "data": {
      "application/vnd.synapse.widget-view+json": {
       "widget_id": "e15b4210-db64-47fe-8753-09a25e5f5c53",
       "widget_type": "Synapse.DataFrame"
      },
      "text/plain": [
       "SynapseWidget(Synapse.DataFrame, e15b4210-db64-47fe-8753-09a25e5f5c53)"
      ]
     },
     "metadata": {},
     "output_type": "display_data"
    }
   ],
   "source": [
    "%%pyspark\n",
    "blob_account_name = \"taxisourceblob\"\n",
    "blob_container_name = \"taxisource\"\n",
    "from pyspark.sql import SparkSession\n",
    "\n",
    "sc = SparkSession.builder.getOrCreate()\n",
    "token_library = sc._jvm.com.microsoft.azure.synapse.tokenlibrary.TokenLibrary\n",
    "blob_sas_token = token_library.getConnectionString(\"AzureBlobStorage1\")\n",
    "\n",
    "spark.conf.set(\n",
    "    'fs.azure.sas.%s.%s.blob.core.windows.net' % (blob_container_name, blob_account_name),\n",
    "    blob_sas_token)\n",
    "df_greentaxi = spark.read.load('wasbs://taxisource@taxisourceblob.blob.core.windows.net/GreenTaxis_201911.csv', format='csv'\n",
    "## If header exists uncomment line below\n",
    ", header=True\n",
    ")\n",
    "display(df_greentaxi.limit(10))"
   ]
  },
  {
   "cell_type": "code",
   "execution_count": 3,
   "metadata": {
    "jupyter": {
     "outputs_hidden": false,
     "source_hidden": false
    },
    "nteract": {
     "transient": {
      "deleting": false
     }
    }
   },
   "outputs": [
    {
     "data": {
      "application/vnd.livy.statement-meta+json": {
       "execution_finish_time": "2023-08-31T03:22:55.7377417Z",
       "execution_start_time": "2023-08-31T03:22:55.5671833Z",
       "livy_statement_state": "available",
       "parent_msg_id": "07184780-cf93-40f6-ae53-72e63afbe2e0",
       "queued_time": "2023-08-31T03:22:55.4266647Z",
       "session_id": "3",
       "session_start_time": null,
       "spark_jobs": null,
       "spark_pool": "sparkpool",
       "state": "finished",
       "statement_id": 4
      },
      "text/plain": [
       "StatementMeta(sparkpool, 3, 4, Finished, Available)"
      ]
     },
     "metadata": {},
     "output_type": "display_data"
    },
    {
     "data": {
      "text/plain": [
       "<bound method DataFrame.printSchema of DataFrame[VendorID: string, lpep_pickup_datetime: string, lpep_dropoff_datetime: string, store_and_fwd_flag: string, RatecodeID: string, PULocationID: string, DOLocationID: string, passenger_count: string, trip_distance: string, fare_amount: string, extra: string, mta_tax: string, tip_amount: string, tolls_amount: string, ehail_fee: string, improvement_surcharge: string, total_amount: string, payment_type: string, trip_type: string, congestion_surcharge: string]>"
      ]
     },
     "execution_count": 9,
     "metadata": {},
     "output_type": "execute_result"
    }
   ],
   "source": [
    "df_greentaxi.printSchema"
   ]
  },
  {
   "cell_type": "code",
   "execution_count": 4,
   "metadata": {
    "jupyter": {
     "outputs_hidden": false,
     "source_hidden": false
    },
    "nteract": {
     "transient": {
      "deleting": false
     }
    },
    "scrolled": true
   },
   "outputs": [
    {
     "data": {
      "application/vnd.livy.statement-meta+json": {
       "execution_finish_time": "2023-08-31T03:23:18.5344189Z",
       "execution_start_time": "2023-08-31T03:23:00.7460339Z",
       "livy_statement_state": "available",
       "parent_msg_id": "58a2c2c6-9322-4a86-8453-e90e09cb5039",
       "queued_time": "2023-08-31T03:23:00.5919078Z",
       "session_id": "3",
       "session_start_time": null,
       "spark_jobs": null,
       "spark_pool": "sparkpool",
       "state": "finished",
       "statement_id": 5
      },
      "text/plain": [
       "StatementMeta(sparkpool, 3, 5, Finished, Available)"
      ]
     },
     "metadata": {},
     "output_type": "display_data"
    },
    {
     "data": {
      "application/vnd.synapse.widget-view+json": {
       "widget_id": "1d74f067-592d-4cc2-b207-a6e48c178efc",
       "widget_type": "Synapse.DataFrame"
      },
      "text/plain": [
       "SynapseWidget(Synapse.DataFrame, 1d74f067-592d-4cc2-b207-a6e48c178efc)"
      ]
     },
     "metadata": {},
     "output_type": "display_data"
    }
   ],
   "source": [
    "display(df_greentaxi,summary=True)"
   ]
  },
  {
   "cell_type": "code",
   "execution_count": 6,
   "metadata": {
    "jupyter": {
     "outputs_hidden": false,
     "source_hidden": false
    },
    "nteract": {
     "transient": {
      "deleting": false
     }
    }
   },
   "outputs": [
    {
     "data": {
      "application/vnd.livy.statement-meta+json": {
       "execution_finish_time": "2023-08-31T03:23:27.9482886Z",
       "execution_start_time": "2023-08-31T03:23:26.0465654Z",
       "livy_statement_state": "available",
       "parent_msg_id": "d187e0cc-e043-4fce-a1f8-ea491eb78a27",
       "queued_time": "2023-08-31T03:23:25.8398723Z",
       "session_id": "3",
       "session_start_time": null,
       "spark_jobs": null,
       "spark_pool": "sparkpool",
       "state": "finished",
       "statement_id": 7
      },
      "text/plain": [
       "StatementMeta(sparkpool, 3, 7, Finished, Available)"
      ]
     },
     "metadata": {},
     "output_type": "display_data"
    },
    {
     "data": {
      "text/plain": [
       "449500"
      ]
     },
     "execution_count": 15,
     "metadata": {},
     "output_type": "execute_result"
    }
   ],
   "source": [
    "df_greentaxi.count()"
   ]
  },
  {
   "cell_type": "code",
   "execution_count": 7,
   "metadata": {
    "jupyter": {
     "outputs_hidden": false,
     "source_hidden": false
    },
    "nteract": {
     "transient": {
      "deleting": false
     }
    }
   },
   "outputs": [
    {
     "data": {
      "application/vnd.livy.statement-meta+json": {
       "execution_finish_time": "2023-08-31T03:23:29.1515979Z",
       "execution_start_time": "2023-08-31T03:23:28.9855797Z",
       "livy_statement_state": "available",
       "parent_msg_id": "d287a021-d67b-487a-a27c-1e73e127e44f",
       "queued_time": "2023-08-31T03:23:28.8062198Z",
       "session_id": "3",
       "session_start_time": null,
       "spark_jobs": null,
       "spark_pool": "sparkpool",
       "state": "finished",
       "statement_id": 8
      },
      "text/plain": [
       "StatementMeta(sparkpool, 3, 8, Finished, Available)"
      ]
     },
     "metadata": {},
     "output_type": "display_data"
    }
   ],
   "source": [
    "## selecting only require columns\n",
    "df_greentaxi = df_greentaxi.select(\n",
    "    \"VendorID\",\n",
    "    \"lpep_pickup_datetime\",\n",
    "    \"lpep_dropoff_datetime\",\n",
    "    \"RatecodeID\",\n",
    "    \"PULocationID\",\n",
    "    \"DOLocationID\",\n",
    "    \"passenger_count\",\n",
    "    \"trip_distance\",\n",
    "    \"trip_type\",\n",
    "    \"total_amount\"\n",
    ")"
   ]
  },
  {
   "cell_type": "code",
   "execution_count": 8,
   "metadata": {
    "jupyter": {
     "outputs_hidden": false,
     "source_hidden": false
    },
    "nteract": {
     "transient": {
      "deleting": false
     }
    },
    "scrolled": true
   },
   "outputs": [
    {
     "data": {
      "application/vnd.livy.statement-meta+json": {
       "execution_finish_time": "2023-08-31T03:23:34.2827242Z",
       "execution_start_time": "2023-08-31T03:23:34.0812286Z",
       "livy_statement_state": "available",
       "parent_msg_id": "fe1d2627-b951-4139-bed4-d883b7470dd8",
       "queued_time": "2023-08-31T03:23:33.9316309Z",
       "session_id": "3",
       "session_start_time": null,
       "spark_jobs": null,
       "spark_pool": "sparkpool",
       "state": "finished",
       "statement_id": 9
      },
      "text/plain": [
       "StatementMeta(sparkpool, 3, 9, Finished, Available)"
      ]
     },
     "metadata": {},
     "output_type": "display_data"
    },
    {
     "data": {
      "text/plain": [
       "<bound method DataFrame.printSchema of DataFrame[VendorID: string, lpep_pickup_datetime: string, lpep_dropoff_datetime: string, RatecodeID: string, PULocationID: string, DOLocationID: string, passenger_count: string, trip_distance: string, trip_type: string, total_amount: string]>"
      ]
     },
     "execution_count": 19,
     "metadata": {},
     "output_type": "execute_result"
    }
   ],
   "source": [
    "df_greentaxi.printSchema"
   ]
  },
  {
   "cell_type": "code",
   "execution_count": 9,
   "metadata": {
    "jupyter": {
     "outputs_hidden": false,
     "source_hidden": false
    },
    "nteract": {
     "transient": {
      "deleting": false
     }
    }
   },
   "outputs": [
    {
     "data": {
      "application/vnd.livy.statement-meta+json": {
       "execution_finish_time": "2023-08-31T03:23:37.7087097Z",
       "execution_start_time": "2023-08-31T03:23:37.1425792Z",
       "livy_statement_state": "available",
       "parent_msg_id": "52547f84-94e6-43d2-9263-4529c5736244",
       "queued_time": "2023-08-31T03:23:36.9905892Z",
       "session_id": "3",
       "session_start_time": null,
       "spark_jobs": null,
       "spark_pool": "sparkpool",
       "state": "finished",
       "statement_id": 10
      },
      "text/plain": [
       "StatementMeta(sparkpool, 3, 10, Finished, Available)"
      ]
     },
     "metadata": {},
     "output_type": "display_data"
    }
   ],
   "source": [
    "## updating the datatype of the columns as per the data present in it\n",
    "\n",
    "\n",
    "from pyspark.sql.types import *\n",
    "\n",
    "df_greentaxi_casted = df_greentaxi.withColumn(\"VendorID\",df_greentaxi.VendorID.cast('int'))  \\\n",
    "                    .withColumn(\"lpep_pickup_datetime\",df_greentaxi.lpep_pickup_datetime.cast(TimestampType()))     \\\n",
    "                    .withColumn(\"lpep_dropoff_datetime\",df_greentaxi.lpep_dropoff_datetime.cast(TimestampType()))     \\\n",
    "                    .withColumn(\"RatecodeID\",df_greentaxi.RatecodeID.cast('int'))     \\\n",
    "                    .withColumn(\"PULocationID\",df_greentaxi.PULocationID.cast('int'))     \\\n",
    "                    .withColumn(\"DOLocationID\",df_greentaxi.DOLocationID.cast('int'))     \\\n",
    "                    .withColumn(\"passenger_count\",df_greentaxi.passenger_count.cast('int'))     \\\n",
    "                    .withColumn(\"trip_distance\",df_greentaxi.trip_distance.cast('double'))     \\\n",
    "                    .withColumn(\"trip_type\",df_greentaxi.trip_type.cast('int'))     \\\n",
    "                    .withColumn(\"total_amount\",df_greentaxi.total_amount.cast('double'))"
   ]
  },
  {
   "cell_type": "code",
   "execution_count": 10,
   "metadata": {
    "jupyter": {
     "outputs_hidden": false,
     "source_hidden": false
    },
    "nteract": {
     "transient": {
      "deleting": false
     }
    }
   },
   "outputs": [
    {
     "data": {
      "application/vnd.livy.statement-meta+json": {
       "execution_finish_time": "2023-08-31T03:24:31.2127926Z",
       "execution_start_time": "2023-08-31T03:24:31.0431714Z",
       "livy_statement_state": "available",
       "parent_msg_id": "b52b65aa-c4da-4eca-a404-3aa4dc77d4f5",
       "queued_time": "2023-08-31T03:24:30.8481719Z",
       "session_id": "3",
       "session_start_time": null,
       "spark_jobs": null,
       "spark_pool": "sparkpool",
       "state": "finished",
       "statement_id": 11
      },
      "text/plain": [
       "StatementMeta(sparkpool, 3, 11, Finished, Available)"
      ]
     },
     "metadata": {},
     "output_type": "display_data"
    },
    {
     "data": {
      "text/plain": [
       "<bound method DataFrame.printSchema of DataFrame[VendorID: int, lpep_pickup_datetime: timestamp, lpep_dropoff_datetime: timestamp, RatecodeID: int, PULocationID: int, DOLocationID: int, passenger_count: int, trip_distance: double, trip_type: int, total_amount: double]>"
      ]
     },
     "execution_count": 23,
     "metadata": {},
     "output_type": "execute_result"
    }
   ],
   "source": [
    "df_greentaxi_casted.printSchema"
   ]
  },
  {
   "cell_type": "code",
   "execution_count": 10,
   "metadata": {
    "jupyter": {
     "outputs_hidden": false,
     "source_hidden": false
    },
    "nteract": {
     "transient": {
      "deleting": false
     }
    }
   },
   "outputs": [
    {
     "data": {
      "application/vnd.livy.statement-meta+json": {
       "execution_finish_time": "2023-08-30T12:59:09.4738654Z",
       "execution_start_time": "2023-08-30T12:59:07.5600871Z",
       "livy_statement_state": "available",
       "parent_msg_id": "f6c585d2-5ed4-430e-a9d0-816094109b39",
       "queued_time": "2023-08-30T12:59:07.4296035Z",
       "session_id": "6",
       "session_start_time": null,
       "spark_jobs": null,
       "spark_pool": "taxisparkpool",
       "state": "finished",
       "statement_id": 11
      },
      "text/plain": [
       "StatementMeta(taxisparkpool, 6, 11, Finished, Available)"
      ]
     },
     "metadata": {},
     "output_type": "display_data"
    },
    {
     "name": "stdout",
     "output_type": "stream",
     "text": [
      "+--------+--------------------+---------------------+----------+------------+------------+---------------+-------------+---------+------------+\n",
      "|VendorID|lpep_pickup_datetime|lpep_dropoff_datetime|RatecodeID|PULocationID|DOLocationID|passenger_count|trip_distance|trip_type|total_amount|\n",
      "+--------+--------------------+---------------------+----------+------------+------------+---------------+-------------+---------+------------+\n",
      "|       2| 2019-11-01 00:11:24|  2019-11-01 00:23:12|         1|          66|         148|              1|          2.8|        1|       18.66|\n",
      "|       2| 2019-11-01 00:49:25|  2019-11-01 01:14:19|         1|         145|         114|              1|         5.59|        1|        36.2|\n",
      "|       1| 2019-11-01 00:57:22|  2019-11-01 01:09:23|         1|         255|          37|              1|          2.1|        1|       13.55|\n",
      "|       2| 2019-11-01 00:59:52|  2019-11-01 01:08:19|         1|           7|         226|              1|         1.23|        1|         8.8|\n",
      "|       2| 2019-11-01 00:40:13|  2019-11-01 00:47:41|         1|         129|         129|              1|         1.18|        1|         8.3|\n",
      "|       2| 2019-11-01 00:42:30|  2019-11-01 00:50:41|         1|           7|         223|              1|         2.34|        1|        10.3|\n",
      "|       2| 2019-11-01 00:58:20|  2019-11-01 01:02:01|         1|         223|           7|              1|         0.96|        1|         6.3|\n",
      "|       2| 2019-11-01 00:09:35|  2019-11-01 00:28:55|         1|          49|         113|              1|         5.01|        1|       21.55|\n",
      "|       2| 2019-11-01 00:27:50|  2019-11-01 00:35:45|         1|         166|          43|              1|         2.06|        1|       10.29|\n",
      "|       2| 2019-11-01 00:57:28|  2019-11-01 01:04:16|         1|          42|         116|              1|         1.57|        1|         8.3|\n",
      "+--------+--------------------+---------------------+----------+------------+------------+---------------+-------------+---------+------------+\n",
      "only showing top 10 rows\n",
      "\n"
     ]
    }
   ],
   "source": [
    "df_greentaxi_casted.show(10)"
   ]
  },
  {
   "cell_type": "code",
   "execution_count": 11,
   "metadata": {
    "jupyter": {
     "outputs_hidden": false,
     "source_hidden": false
    },
    "nteract": {
     "transient": {
      "deleting": false
     }
    }
   },
   "outputs": [
    {
     "data": {
      "application/vnd.livy.statement-meta+json": {
       "execution_finish_time": "2023-08-31T03:24:48.9541391Z",
       "execution_start_time": "2023-08-31T03:24:40.0088738Z",
       "livy_statement_state": "available",
       "parent_msg_id": "477dcc11-1cae-476b-bed2-13e1838e0c7a",
       "queued_time": "2023-08-31T03:24:39.821707Z",
       "session_id": "3",
       "session_start_time": null,
       "spark_jobs": null,
       "spark_pool": "sparkpool",
       "state": "finished",
       "statement_id": 12
      },
      "text/plain": [
       "StatementMeta(sparkpool, 3, 12, Finished, Available)"
      ]
     },
     "metadata": {},
     "output_type": "display_data"
    },
    {
     "data": {
      "application/vnd.synapse.widget-view+json": {
       "widget_id": "f9a503c1-66ae-4252-a3db-83890e0821be",
       "widget_type": "Synapse.DataFrame"
      },
      "text/plain": [
       "SynapseWidget(Synapse.DataFrame, f9a503c1-66ae-4252-a3db-83890e0821be)"
      ]
     },
     "metadata": {},
     "output_type": "display_data"
    }
   ],
   "source": [
    "display(df_greentaxi_casted,summary=True)"
   ]
  },
  {
   "cell_type": "code",
   "execution_count": 12,
   "metadata": {
    "jupyter": {
     "outputs_hidden": false,
     "source_hidden": false
    },
    "nteract": {
     "transient": {
      "deleting": false
     }
    }
   },
   "outputs": [
    {
     "data": {
      "application/vnd.livy.statement-meta+json": {
       "execution_finish_time": "2023-08-31T03:25:14.1994669Z",
       "execution_start_time": "2023-08-31T03:25:14.0143069Z",
       "livy_statement_state": "available",
       "parent_msg_id": "8bb6b580-c869-4acd-989d-2eb92dd47716",
       "queued_time": "2023-08-31T03:25:13.8662883Z",
       "session_id": "3",
       "session_start_time": null,
       "spark_jobs": null,
       "spark_pool": "sparkpool",
       "state": "finished",
       "statement_id": 13
      },
      "text/plain": [
       "StatementMeta(sparkpool, 3, 13, Finished, Available)"
      ]
     },
     "metadata": {},
     "output_type": "display_data"
    },
    {
     "data": {
      "text/plain": [
       "[('VendorID', 'int'),\n",
       " ('lpep_pickup_datetime', 'timestamp'),\n",
       " ('lpep_dropoff_datetime', 'timestamp'),\n",
       " ('RatecodeID', 'int'),\n",
       " ('PULocationID', 'int'),\n",
       " ('DOLocationID', 'int'),\n",
       " ('passenger_count', 'int'),\n",
       " ('trip_distance', 'double'),\n",
       " ('trip_type', 'int'),\n",
       " ('total_amount', 'double')]"
      ]
     },
     "execution_count": 27,
     "metadata": {},
     "output_type": "execute_result"
    }
   ],
   "source": [
    "df_greentaxi_casted.dtypes"
   ]
  },
  {
   "cell_type": "code",
   "execution_count": 13,
   "metadata": {
    "jupyter": {
     "outputs_hidden": false,
     "source_hidden": false
    },
    "nteract": {
     "transient": {
      "deleting": false
     }
    },
    "scrolled": false
   },
   "outputs": [
    {
     "data": {
      "application/vnd.livy.statement-meta+json": {
       "execution_finish_time": "2023-08-31T03:25:25.663218Z",
       "execution_start_time": "2023-08-31T03:25:21.646325Z",
       "livy_statement_state": "available",
       "parent_msg_id": "0300df4b-764d-41eb-9d13-fb8c8b40ab7d",
       "queued_time": "2023-08-31T03:25:21.5024166Z",
       "session_id": "3",
       "session_start_time": null,
       "spark_jobs": null,
       "spark_pool": "sparkpool",
       "state": "finished",
       "statement_id": 14
      },
      "text/plain": [
       "StatementMeta(sparkpool, 3, 14, Finished, Available)"
      ]
     },
     "metadata": {},
     "output_type": "display_data"
    },
    {
     "name": "stdout",
     "output_type": "stream",
     "text": [
      "+-------+-------------------+------------------+------------------+-----------------+------------------+------------------+------------------+------------------+\n",
      "|summary|           VendorID|        RatecodeID|      PULocationID|     DOLocationID|   passenger_count|     trip_distance|         trip_type|      total_amount|\n",
      "+-------+-------------------+------------------+------------------+-----------------+------------------+------------------+------------------+------------------+\n",
      "|  count|             362429|            362429|            449500|           449500|            362429|            449500|            362429|            449500|\n",
      "|   mean| 1.8318649997654712|1.1028918767537919|108.07132369299221|129.3175216907675|1.3155100723176125|2.8923469410456066|1.0240516073493016| 18.70784015573655|\n",
      "| stddev|0.37398664126344555|0.6636113660917435| 71.07901050482566|76.30459822530052|0.9806889475422557| 44.14225245004878|0.1532096351393596|14.519740015634326|\n",
      "|    min|                  1|                 1|                 1|                1|                 0|         -20329.08|                 1|            -125.0|\n",
      "|    max|                  2|                99|               265|              265|                 9|            105.72|                 2|            833.33|\n",
      "+-------+-------------------+------------------+------------------+-----------------+------------------+------------------+------------------+------------------+\n",
      "\n"
     ]
    }
   ],
   "source": [
    "df_greentaxi_casted.describe().show()"
   ]
  },
  {
   "cell_type": "markdown",
   "metadata": {},
   "source": [
    "### Creating the lake Database for saving of the tables as Fact and Dimension for further analysis"
   ]
  },
  {
   "cell_type": "code",
   "execution_count": null,
   "metadata": {
    "jupyter": {
     "outputs_hidden": true,
     "source_hidden": false
    },
    "microsoft": {
     "language": "sparksql"
    },
    "nteract": {
     "transient": {
      "deleting": false
     }
    }
   },
   "outputs": [],
   "source": [
    "%%sql\n",
    "\n",
    "CREATE DATABASE taxis"
   ]
  },
  {
   "cell_type": "code",
   "execution_count": null,
   "metadata": {},
   "outputs": [],
   "source": [
    "## saving table into the newly created lake database\n",
    "\n",
    "df_greentaxi_casted.write.mode(\"overwrite\").saveAsTable(\"taxis.factgreentaxi\")"
   ]
  },
  {
   "cell_type": "code",
   "execution_count": 19,
   "metadata": {
    "jupyter": {
     "outputs_hidden": false,
     "source_hidden": false
    },
    "nteract": {
     "transient": {
      "deleting": false
     }
    }
   },
   "outputs": [
    {
     "data": {
      "application/vnd.livy.statement-meta+json": {
       "execution_finish_time": "2023-08-30T06:18:35.8765987Z",
       "execution_start_time": "2023-08-30T06:18:25.0909492Z",
       "livy_statement_state": "available",
       "parent_msg_id": "7b4abc9f-0bee-4a75-93e8-09c4284971f4",
       "queued_time": "2023-08-30T06:18:24.9498792Z",
       "session_id": "4",
       "session_start_time": null,
       "spark_jobs": null,
       "spark_pool": "taxisparkpool",
       "state": "finished",
       "statement_id": 18
      },
      "text/plain": [
       "StatementMeta(taxisparkpool, 4, 18, Finished, Available)"
      ]
     },
     "metadata": {},
     "output_type": "display_data"
    }
   ],
   "source": [
    "# df_greentaxi_casted.write.mode(\"overwrite\").parquet(\"abfss://taxioutput@taxiadlsaccount.dfs.core.windows.net/greentaxi/df_greentaxi_casted.parquet\")"
   ]
  },
  {
   "cell_type": "code",
   "execution_count": 19,
   "metadata": {
    "jupyter": {
     "outputs_hidden": false,
     "source_hidden": false
    },
    "nteract": {
     "transient": {
      "deleting": false
     }
    }
   },
   "outputs": [
    {
     "data": {
      "application/vnd.livy.statement-meta+json": {
       "execution_finish_time": "2023-08-31T03:30:05.6792614Z",
       "execution_start_time": "2023-08-31T03:30:05.0856566Z",
       "livy_statement_state": "available",
       "parent_msg_id": "cfda3faf-8b44-4688-a0fb-8a498196990e",
       "queued_time": "2023-08-31T03:30:04.9104676Z",
       "session_id": "3",
       "session_start_time": null,
       "spark_jobs": null,
       "spark_pool": "sparkpool",
       "state": "finished",
       "statement_id": 20
      },
      "text/plain": [
       "StatementMeta(sparkpool, 3, 20, Finished, Available)"
      ]
     },
     "metadata": {},
     "output_type": "display_data"
    }
   ],
   "source": [
    "df_result = spark.sql(\"SELECT * FROM taxis.factgreentaxi\")"
   ]
  },
  {
   "cell_type": "code",
   "execution_count": 20,
   "metadata": {
    "jupyter": {
     "outputs_hidden": false,
     "source_hidden": false
    },
    "nteract": {
     "transient": {
      "deleting": false
     }
    },
    "scrolled": true
   },
   "outputs": [
    {
     "data": {
      "application/vnd.livy.statement-meta+json": {
       "execution_finish_time": "2023-08-31T03:30:16.4658731Z",
       "execution_start_time": "2023-08-31T03:30:14.5313633Z",
       "livy_statement_state": "available",
       "parent_msg_id": "bd375eb6-2610-4082-a802-7501d709a260",
       "queued_time": "2023-08-31T03:30:14.3574212Z",
       "session_id": "3",
       "session_start_time": null,
       "spark_jobs": null,
       "spark_pool": "sparkpool",
       "state": "finished",
       "statement_id": 21
      },
      "text/plain": [
       "StatementMeta(sparkpool, 3, 21, Finished, Available)"
      ]
     },
     "metadata": {},
     "output_type": "display_data"
    },
    {
     "name": "stdout",
     "output_type": "stream",
     "text": [
      "+--------+--------------------+---------------------+----------+------------+------------+---------------+-------------+---------+------------+\n",
      "|VendorID|lpep_pickup_datetime|lpep_dropoff_datetime|RatecodeID|PULocationID|DOLocationID|passenger_count|trip_distance|trip_type|total_amount|\n",
      "+--------+--------------------+---------------------+----------+------------+------------+---------------+-------------+---------+------------+\n",
      "|       2| 2019-11-01 00:11:24|  2019-11-01 00:23:12|         1|          66|         148|              1|          2.8|        1|       18.66|\n",
      "|       2| 2019-11-01 00:49:25|  2019-11-01 01:14:19|         1|         145|         114|              1|         5.59|        1|        36.2|\n",
      "|       1| 2019-11-01 00:57:22|  2019-11-01 01:09:23|         1|         255|          37|              1|          2.1|        1|       13.55|\n",
      "|       2| 2019-11-01 00:59:52|  2019-11-01 01:08:19|         1|           7|         226|              1|         1.23|        1|         8.8|\n",
      "|       2| 2019-11-01 00:40:13|  2019-11-01 00:47:41|         1|         129|         129|              1|         1.18|        1|         8.3|\n",
      "|       2| 2019-11-01 00:42:30|  2019-11-01 00:50:41|         1|           7|         223|              1|         2.34|        1|        10.3|\n",
      "|       2| 2019-11-01 00:58:20|  2019-11-01 01:02:01|         1|         223|           7|              1|         0.96|        1|         6.3|\n",
      "|       2| 2019-11-01 00:09:35|  2019-11-01 00:28:55|         1|          49|         113|              1|         5.01|        1|       21.55|\n",
      "|       2| 2019-11-01 00:27:50|  2019-11-01 00:35:45|         1|         166|          43|              1|         2.06|        1|       10.29|\n",
      "|       2| 2019-11-01 00:57:28|  2019-11-01 01:04:16|         1|          42|         116|              1|         1.57|        1|         8.3|\n",
      "+--------+--------------------+---------------------+----------+------------+------------+---------------+-------------+---------+------------+\n",
      "only showing top 10 rows\n",
      "\n"
     ]
    }
   ],
   "source": [
    "df_result.show(10)"
   ]
  },
  {
   "cell_type": "markdown",
   "metadata": {},
   "source": [
    "### Loading data for Taxi zone using spark "
   ]
  },
  {
   "cell_type": "code",
   "execution_count": 24,
   "metadata": {
    "jupyter": {
     "outputs_hidden": false,
     "source_hidden": false
    },
    "microsoft": {
     "language": "python"
    },
    "nteract": {
     "transient": {
      "deleting": false
     }
    }
   },
   "outputs": [
    {
     "data": {
      "application/vnd.livy.statement-meta+json": {
       "execution_finish_time": "2023-08-31T03:35:25.3821279Z",
       "execution_start_time": "2023-08-31T03:35:23.4620988Z",
       "livy_statement_state": "available",
       "parent_msg_id": "550eefd8-8a31-4f1d-8697-d137f28ccfb9",
       "queued_time": "2023-08-31T03:35:23.3171609Z",
       "session_id": "3",
       "session_start_time": null,
       "spark_jobs": null,
       "spark_pool": "sparkpool",
       "state": "finished",
       "statement_id": 25
      },
      "text/plain": [
       "StatementMeta(sparkpool, 3, 25, Finished, Available)"
      ]
     },
     "metadata": {},
     "output_type": "display_data"
    },
    {
     "data": {
      "application/vnd.synapse.widget-view+json": {
       "widget_id": "9c94ad73-9d11-4e70-bdcc-9241c90bba75",
       "widget_type": "Synapse.DataFrame"
      },
      "text/plain": [
       "SynapseWidget(Synapse.DataFrame, 9c94ad73-9d11-4e70-bdcc-9241c90bba75)"
      ]
     },
     "metadata": {},
     "output_type": "display_data"
    }
   ],
   "source": [
    "%%pyspark\n",
    "\n",
    "# Creating dimension table of zones\n",
    "\n",
    "df_taxizone = spark.read.load([\n",
    "    'abfss://taxidata@taxidatastorageadls.dfs.core.windows.net/taxizones/TaxiZones1.csv',\n",
    "    'abfss://taxidata@taxidatastorageadls.dfs.core.windows.net/taxizones/TaxiZones2.csv'\n",
    "    ], format='csv'\n",
    "## If header exists uncomment line below\n",
    ", header=True\n",
    ")\n",
    "display(df_taxizone.limit(10))"
   ]
  },
  {
   "cell_type": "code",
   "execution_count": 25,
   "metadata": {
    "jupyter": {
     "outputs_hidden": false,
     "source_hidden": false
    },
    "nteract": {
     "transient": {
      "deleting": false
     }
    },
    "scrolled": true
   },
   "outputs": [
    {
     "data": {
      "application/vnd.livy.statement-meta+json": {
       "execution_finish_time": "2023-08-31T03:35:31.0597096Z",
       "execution_start_time": "2023-08-31T03:35:30.4994734Z",
       "livy_statement_state": "available",
       "parent_msg_id": "3f07f4b8-43ff-4556-b3f9-12d425dc0c7d",
       "queued_time": "2023-08-31T03:35:30.3637662Z",
       "session_id": "3",
       "session_start_time": null,
       "spark_jobs": null,
       "spark_pool": "sparkpool",
       "state": "finished",
       "statement_id": 26
      },
      "text/plain": [
       "StatementMeta(sparkpool, 3, 26, Finished, Available)"
      ]
     },
     "metadata": {},
     "output_type": "display_data"
    },
    {
     "data": {
      "text/plain": [
       "266"
      ]
     },
     "execution_count": 51,
     "metadata": {},
     "output_type": "execute_result"
    }
   ],
   "source": [
    "df_taxizone.count()"
   ]
  },
  {
   "cell_type": "code",
   "execution_count": 26,
   "metadata": {
    "jupyter": {
     "outputs_hidden": false,
     "source_hidden": false
    },
    "nteract": {
     "transient": {
      "deleting": false
     }
    }
   },
   "outputs": [
    {
     "data": {
      "application/vnd.livy.statement-meta+json": {
       "execution_finish_time": "2023-08-31T03:35:33.8366142Z",
       "execution_start_time": "2023-08-31T03:35:33.6526493Z",
       "livy_statement_state": "available",
       "parent_msg_id": "5b0d0d86-0376-4695-83a5-f9ce211db24d",
       "queued_time": "2023-08-31T03:35:33.4969354Z",
       "session_id": "3",
       "session_start_time": null,
       "spark_jobs": null,
       "spark_pool": "sparkpool",
       "state": "finished",
       "statement_id": 27
      },
      "text/plain": [
       "StatementMeta(sparkpool, 3, 27, Finished, Available)"
      ]
     },
     "metadata": {},
     "output_type": "display_data"
    },
    {
     "data": {
      "text/plain": [
       "<bound method DataFrame.printSchema of DataFrame[LocationID: string, Borough: string, Zone: string, service_zone: string]>"
      ]
     },
     "execution_count": 53,
     "metadata": {},
     "output_type": "execute_result"
    }
   ],
   "source": [
    "df_taxizone.printSchema"
   ]
  },
  {
   "cell_type": "code",
   "execution_count": 27,
   "metadata": {
    "jupyter": {
     "outputs_hidden": false,
     "source_hidden": false
    },
    "nteract": {
     "transient": {
      "deleting": false
     }
    }
   },
   "outputs": [
    {
     "data": {
      "application/vnd.livy.statement-meta+json": {
       "execution_finish_time": "2023-08-31T03:35:36.4936344Z",
       "execution_start_time": "2023-08-31T03:35:36.3209118Z",
       "livy_statement_state": "available",
       "parent_msg_id": "7e5482d8-70f9-4e7e-9de3-2a8f62ce9f09",
       "queued_time": "2023-08-31T03:35:36.1737003Z",
       "session_id": "3",
       "session_start_time": null,
       "spark_jobs": null,
       "spark_pool": "sparkpool",
       "state": "finished",
       "statement_id": 28
      },
      "text/plain": [
       "StatementMeta(sparkpool, 3, 28, Finished, Available)"
      ]
     },
     "metadata": {},
     "output_type": "display_data"
    }
   ],
   "source": [
    "df_taxizone_casted = df_taxizone.withColumn(\"LocationID\",df_taxizone.LocationID.cast('int'))"
   ]
  },
  {
   "cell_type": "code",
   "execution_count": 28,
   "metadata": {
    "jupyter": {
     "outputs_hidden": false,
     "source_hidden": false
    },
    "nteract": {
     "transient": {
      "deleting": false
     }
    }
   },
   "outputs": [
    {
     "data": {
      "application/vnd.livy.statement-meta+json": {
       "execution_finish_time": "2023-08-31T03:35:39.1537309Z",
       "execution_start_time": "2023-08-31T03:35:38.9665848Z",
       "livy_statement_state": "available",
       "parent_msg_id": "6a03761a-1260-4ef6-a361-086030a4ffd6",
       "queued_time": "2023-08-31T03:35:38.8258712Z",
       "session_id": "3",
       "session_start_time": null,
       "spark_jobs": null,
       "spark_pool": "sparkpool",
       "state": "finished",
       "statement_id": 29
      },
      "text/plain": [
       "StatementMeta(sparkpool, 3, 29, Finished, Available)"
      ]
     },
     "metadata": {},
     "output_type": "display_data"
    },
    {
     "data": {
      "text/plain": [
       "<bound method DataFrame.printSchema of DataFrame[LocationID: int, Borough: string, Zone: string, service_zone: string]>"
      ]
     },
     "execution_count": 57,
     "metadata": {},
     "output_type": "execute_result"
    }
   ],
   "source": [
    "df_taxizone_casted.printSchema"
   ]
  },
  {
   "cell_type": "markdown",
   "metadata": {},
   "source": [
    "### saving the taxi zone dimention table"
   ]
  },
  {
   "cell_type": "code",
   "execution_count": 29,
   "metadata": {
    "jupyter": {
     "outputs_hidden": false,
     "source_hidden": false
    },
    "nteract": {
     "transient": {
      "deleting": false
     }
    }
   },
   "outputs": [
    {
     "data": {
      "application/vnd.livy.statement-meta+json": {
       "execution_finish_time": "2023-08-31T03:35:44.5780825Z",
       "execution_start_time": "2023-08-31T03:35:41.6480675Z",
       "livy_statement_state": "available",
       "parent_msg_id": "05024770-6893-4992-bb5d-4e00819ed56f",
       "queued_time": "2023-08-31T03:35:41.5107944Z",
       "session_id": "3",
       "session_start_time": null,
       "spark_jobs": null,
       "spark_pool": "sparkpool",
       "state": "finished",
       "statement_id": 30
      },
      "text/plain": [
       "StatementMeta(sparkpool, 3, 30, Finished, Available)"
      ]
     },
     "metadata": {},
     "output_type": "display_data"
    }
   ],
   "source": [
    "df_taxizone_casted.write.mode(\"overwrite\").saveAsTable(\"taxis.dimtaxizone\")"
   ]
  },
  {
   "cell_type": "code",
   "execution_count": 30,
   "metadata": {
    "jupyter": {
     "outputs_hidden": true,
     "source_hidden": false
    },
    "microsoft": {
     "language": "python"
    },
    "nteract": {
     "transient": {
      "deleting": false
     }
    }
   },
   "outputs": [
    {
     "data": {
      "application/vnd.livy.statement-meta+json": {
       "execution_finish_time": "2023-08-31T03:36:01.6276842Z",
       "execution_start_time": "2023-08-31T03:35:53.7716428Z",
       "livy_statement_state": "available",
       "parent_msg_id": "f9d8b2ce-2c86-4d25-971a-ade63ca5ef1f",
       "queued_time": "2023-08-31T03:35:53.6262664Z",
       "session_id": "3",
       "session_start_time": null,
       "spark_jobs": null,
       "spark_pool": "sparkpool",
       "state": "finished",
       "statement_id": 31
      },
      "text/plain": [
       "StatementMeta(sparkpool, 3, 31, Finished, Available)"
      ]
     },
     "metadata": {},
     "output_type": "display_data"
    },
    {
     "data": {
      "text/plain": [
       "DataFrame[]"
      ]
     },
     "execution_count": 61,
     "metadata": {},
     "output_type": "execute_result"
    }
   ],
   "source": [
    "%%pyspark\n",
    "\n",
    "# creating ratecodes table\n",
    "\n",
    "spark.sql(\"USE taxis;\")\n",
    "\n",
    "spark.sql(\"\"\"CREATE TABLE dimRateCodes (RateCodeId INT, RateCode VARCHAR(100),IsApproved INT);\"\"\")\n",
    "    \n",
    "spark.sql(\"\"\" INSERT INTO dimRateCodes VALUES(1, 'Standard Rate', 1),(2, 'JFK', 1),(3, 'Newark', 1),(4, 'Westchester', 0),(5, 'Negotiated fare', 1),(6, 'GroupRide', 1);\"\"\")"
   ]
  },
  {
   "cell_type": "code",
   "execution_count": 32,
   "metadata": {
    "jupyter": {
     "outputs_hidden": false,
     "source_hidden": false
    },
    "microsoft": {},
    "nteract": {
     "transient": {
      "deleting": false
     }
    }
   },
   "outputs": [
    {
     "data": {
      "application/vnd.livy.statement-meta+json": {
       "execution_finish_time": "2023-08-31T03:36:43.6318085Z",
       "execution_start_time": "2023-08-31T03:36:43.0489992Z",
       "livy_statement_state": "available",
       "parent_msg_id": "6f5b991a-770b-41de-9110-5a38cc56ef97",
       "queued_time": "2023-08-31T03:36:42.9105257Z",
       "session_id": "3",
       "session_start_time": null,
       "spark_jobs": null,
       "spark_pool": "sparkpool",
       "state": "finished",
       "statement_id": 33
      },
      "text/plain": [
       "StatementMeta(sparkpool, 3, 33, Finished, Available)"
      ]
     },
     "metadata": {},
     "output_type": "display_data"
    },
    {
     "data": {
      "text/plain": [
       "<bound method DataFrame.printSchema of DataFrame[RateCodeId: int, RateCode: string, IsApproved: int]>"
      ]
     },
     "execution_count": 65,
     "metadata": {},
     "output_type": "execute_result"
    }
   ],
   "source": [
    "#checking the table\n",
    "\n",
    "df_ratecodes = spark.sql(\"SELECT * FROM dimRateCodes\")\n",
    "df_ratecodes.printSchema"
   ]
  },
  {
   "cell_type": "markdown",
   "metadata": {},
   "source": [
    "### Saving Rate code dimension table into database"
   ]
  },
  {
   "cell_type": "code",
   "execution_count": null,
   "metadata": {},
   "outputs": [],
   "source": [
    "df_ratecodes.write.mode(\"overwrite\").saveAsTable(\"taxis.dimRateCode\")"
   ]
  },
  {
   "cell_type": "markdown",
   "metadata": {},
   "source": [
    "### Loading data for Yellow taxi into dataframe"
   ]
  },
  {
   "cell_type": "code",
   "execution_count": 33,
   "metadata": {
    "jupyter": {
     "outputs_hidden": false,
     "source_hidden": false
    },
    "nteract": {
     "transient": {
      "deleting": false
     }
    }
   },
   "outputs": [
    {
     "data": {
      "application/vnd.livy.statement-meta+json": {
       "execution_finish_time": "2023-08-31T03:37:43.0041869Z",
       "execution_start_time": "2023-08-31T03:37:38.9257964Z",
       "livy_statement_state": "available",
       "parent_msg_id": "4fc526e3-ec76-4a9f-b18a-4a50184acdce",
       "queued_time": "2023-08-31T03:37:38.7508319Z",
       "session_id": "3",
       "session_start_time": null,
       "spark_jobs": null,
       "spark_pool": "sparkpool",
       "state": "finished",
       "statement_id": 34
      },
      "text/plain": [
       "StatementMeta(sparkpool, 3, 34, Finished, Available)"
      ]
     },
     "metadata": {},
     "output_type": "display_data"
    },
    {
     "data": {
      "application/vnd.synapse.widget-view+json": {
       "widget_id": "97d9195d-bc54-4af0-8465-24e1ab6d0fb1",
       "widget_type": "Synapse.DataFrame"
      },
      "text/plain": [
       "SynapseWidget(Synapse.DataFrame, 97d9195d-bc54-4af0-8465-24e1ab6d0fb1)"
      ]
     },
     "metadata": {},
     "output_type": "display_data"
    }
   ],
   "source": [
    "## loading yellow taxi table\n",
    "\n",
    "df_yellowtaxi = spark.read.load('abfss://taxidata@taxidatastorageadls.dfs.core.windows.net/YellowTaxis_201911.parquet', format='parquet')\n",
    "display(df_yellowtaxi.limit(10))"
   ]
  },
  {
   "cell_type": "code",
   "execution_count": 34,
   "metadata": {
    "jupyter": {
     "outputs_hidden": false,
     "source_hidden": false
    },
    "nteract": {
     "transient": {
      "deleting": false
     }
    }
   },
   "outputs": [
    {
     "data": {
      "application/vnd.livy.statement-meta+json": {
       "execution_finish_time": "2023-08-31T03:37:58.2580138Z",
       "execution_start_time": "2023-08-31T03:37:58.0921326Z",
       "livy_statement_state": "available",
       "parent_msg_id": "fd30bc7f-f47e-42b9-8d1d-deb9137eaca0",
       "queued_time": "2023-08-31T03:37:57.9472183Z",
       "session_id": "3",
       "session_start_time": null,
       "spark_jobs": null,
       "spark_pool": "sparkpool",
       "state": "finished",
       "statement_id": 35
      },
      "text/plain": [
       "StatementMeta(sparkpool, 3, 35, Finished, Available)"
      ]
     },
     "metadata": {},
     "output_type": "display_data"
    },
    {
     "data": {
      "text/plain": [
       "<bound method DataFrame.printSchema of DataFrame[VendorID: int, tpep_pickup_datetime: timestamp, tpep_dropoff_datetime: timestamp, passenger_count: int, trip_distance: double, RatecodeID: int, store_and_fwd_flag: string, PULocationID: int, DOLocationID: int, payment_type: int, fare_amount: double, extra: double, mta_tax: double, tip_amount: double, tolls_amount: double, improvement_surcharge: double, total_amount: double, congestion_surcharge: double]>"
      ]
     },
     "execution_count": 69,
     "metadata": {},
     "output_type": "execute_result"
    }
   ],
   "source": [
    "df_yellowtaxi.printSchema"
   ]
  },
  {
   "cell_type": "code",
   "execution_count": 35,
   "metadata": {
    "jupyter": {
     "outputs_hidden": false,
     "source_hidden": false
    },
    "nteract": {
     "transient": {
      "deleting": false
     }
    }
   },
   "outputs": [
    {
     "data": {
      "application/vnd.livy.statement-meta+json": {
       "execution_finish_time": "2023-08-31T03:38:10.3402211Z",
       "execution_start_time": "2023-08-31T03:38:10.1767257Z",
       "livy_statement_state": "available",
       "parent_msg_id": "1e429bc6-8d01-43bb-a565-f0aea0fb1c6a",
       "queued_time": "2023-08-31T03:38:10.0321956Z",
       "session_id": "3",
       "session_start_time": null,
       "spark_jobs": null,
       "spark_pool": "sparkpool",
       "state": "finished",
       "statement_id": 36
      },
      "text/plain": [
       "StatementMeta(sparkpool, 3, 36, Finished, Available)"
      ]
     },
     "metadata": {},
     "output_type": "display_data"
    }
   ],
   "source": [
    "df_yellowtaxi_selected = df_yellowtaxi.select(\"VendorID\",\n",
    "    \"tpep_pickup_datetime\",\n",
    "    \"tpep_dropoff_datetime\",\n",
    "    \"RatecodeID\",\n",
    "    \"PULocationID\",\n",
    "    \"DOLocationID\",\n",
    "    \"passenger_count\",\n",
    "    \"trip_distance\",\n",
    "    \"total_amount\")"
   ]
  },
  {
   "cell_type": "code",
   "execution_count": 36,
   "metadata": {
    "jupyter": {
     "outputs_hidden": false,
     "source_hidden": false
    },
    "nteract": {
     "transient": {
      "deleting": false
     }
    }
   },
   "outputs": [
    {
     "data": {
      "application/vnd.livy.statement-meta+json": {
       "execution_finish_time": "2023-08-31T03:38:13.6857714Z",
       "execution_start_time": "2023-08-31T03:38:13.5264052Z",
       "livy_statement_state": "available",
       "parent_msg_id": "95420c06-a0ba-4d4d-8735-ea1cfda8efbf",
       "queued_time": "2023-08-31T03:38:13.4002647Z",
       "session_id": "3",
       "session_start_time": null,
       "spark_jobs": null,
       "spark_pool": "sparkpool",
       "state": "finished",
       "statement_id": 37
      },
      "text/plain": [
       "StatementMeta(sparkpool, 3, 37, Finished, Available)"
      ]
     },
     "metadata": {},
     "output_type": "display_data"
    },
    {
     "data": {
      "text/plain": [
       "<bound method DataFrame.printSchema of DataFrame[VendorID: int, tpep_pickup_datetime: timestamp, tpep_dropoff_datetime: timestamp, RatecodeID: int, PULocationID: int, DOLocationID: int, passenger_count: int, trip_distance: double, total_amount: double]>"
      ]
     },
     "execution_count": 73,
     "metadata": {},
     "output_type": "execute_result"
    }
   ],
   "source": [
    "df_yellowtaxi_selected.printSchema"
   ]
  },
  {
   "cell_type": "markdown",
   "metadata": {},
   "source": [
    "### Saving Yellow taxi as Fact table in lake database"
   ]
  },
  {
   "cell_type": "code",
   "execution_count": 37,
   "metadata": {
    "jupyter": {
     "outputs_hidden": false,
     "source_hidden": false
    },
    "nteract": {
     "transient": {
      "deleting": false
     }
    }
   },
   "outputs": [
    {
     "data": {
      "application/vnd.livy.statement-meta+json": {
       "execution_finish_time": "2023-08-31T03:38:36.824328Z",
       "execution_start_time": "2023-08-31T03:38:24.0548195Z",
       "livy_statement_state": "available",
       "parent_msg_id": "e128d95a-8b76-444a-a5b2-944c1f42e084",
       "queued_time": "2023-08-31T03:38:23.8652523Z",
       "session_id": "3",
       "session_start_time": null,
       "spark_jobs": null,
       "spark_pool": "sparkpool",
       "state": "finished",
       "statement_id": 38
      },
      "text/plain": [
       "StatementMeta(sparkpool, 3, 38, Finished, Available)"
      ]
     },
     "metadata": {},
     "output_type": "display_data"
    }
   ],
   "source": [
    "df_yellowtaxi_selected.write.mode(\"overwrite\").saveAsTable(\"taxis.factyellowtaxi\")"
   ]
  },
  {
   "cell_type": "markdown",
   "metadata": {},
   "source": [
    "### loading fhvtaxis Data"
   ]
  },
  {
   "cell_type": "code",
   "execution_count": 38,
   "metadata": {
    "jupyter": {
     "outputs_hidden": false,
     "source_hidden": false
    },
    "nteract": {
     "transient": {
      "deleting": false
     }
    }
   },
   "outputs": [
    {
     "data": {
      "application/vnd.livy.statement-meta+json": {
       "execution_finish_time": "2023-08-31T03:39:05.5231439Z",
       "execution_start_time": "2023-08-31T03:39:03.6343644Z",
       "livy_statement_state": "available",
       "parent_msg_id": "ff3692bd-fd4a-4bb9-9a82-d8e5cdb05f33",
       "queued_time": "2023-08-31T03:39:03.479384Z",
       "session_id": "3",
       "session_start_time": null,
       "spark_jobs": null,
       "spark_pool": "sparkpool",
       "state": "finished",
       "statement_id": 39
      },
      "text/plain": [
       "StatementMeta(sparkpool, 3, 39, Finished, Available)"
      ]
     },
     "metadata": {},
     "output_type": "display_data"
    },
    {
     "data": {
      "application/vnd.synapse.widget-view+json": {
       "widget_id": "d4a0b4bb-5879-4b3b-8aa1-b3ccdeb94f28",
       "widget_type": "Synapse.DataFrame"
      },
      "text/plain": [
       "SynapseWidget(Synapse.DataFrame, d4a0b4bb-5879-4b3b-8aa1-b3ccdeb94f28)"
      ]
     },
     "metadata": {},
     "output_type": "display_data"
    }
   ],
   "source": [
    "\n",
    "\n",
    "df_fhvtaxis = spark.read.load('abfss://taxidata@taxidatastorageadls.dfs.core.windows.net/fhvtaxis_201911.csv', format='csv'\n",
    "## If header exists uncomment line below\n",
    ", header=True\n",
    ")\n",
    "display(df_fhvtaxis.limit(10))"
   ]
  },
  {
   "cell_type": "code",
   "execution_count": 39,
   "metadata": {
    "jupyter": {
     "outputs_hidden": false,
     "source_hidden": false
    },
    "nteract": {
     "transient": {
      "deleting": false
     }
    }
   },
   "outputs": [
    {
     "data": {
      "application/vnd.livy.statement-meta+json": {
       "execution_finish_time": "2023-08-31T03:39:12.4263042Z",
       "execution_start_time": "2023-08-31T03:39:12.2672662Z",
       "livy_statement_state": "available",
       "parent_msg_id": "7f6781db-7b08-4a05-8aaa-1e887712bb04",
       "queued_time": "2023-08-31T03:39:12.1186774Z",
       "session_id": "3",
       "session_start_time": null,
       "spark_jobs": null,
       "spark_pool": "sparkpool",
       "state": "finished",
       "statement_id": 40
      },
      "text/plain": [
       "StatementMeta(sparkpool, 3, 40, Finished, Available)"
      ]
     },
     "metadata": {},
     "output_type": "display_data"
    },
    {
     "data": {
      "text/plain": [
       "<bound method DataFrame.printSchema of DataFrame[hvfhs_license_num: string, dispatching_base_num: string, pickup_datetime: string, dropoff_datetime: string, PULocationID: string, DOLocationID: string, SR_Flag: string]>"
      ]
     },
     "execution_count": 79,
     "metadata": {},
     "output_type": "execute_result"
    }
   ],
   "source": [
    "df_fhvtaxis.printSchema"
   ]
  },
  {
   "cell_type": "code",
   "execution_count": 40,
   "metadata": {
    "jupyter": {
     "outputs_hidden": false,
     "source_hidden": false
    },
    "nteract": {
     "transient": {
      "deleting": false
     }
    }
   },
   "outputs": [
    {
     "data": {
      "application/vnd.livy.statement-meta+json": {
       "execution_finish_time": "2023-08-31T03:39:16.025347Z",
       "execution_start_time": "2023-08-31T03:39:15.840502Z",
       "livy_statement_state": "available",
       "parent_msg_id": "8038ac48-7a5e-4500-875d-bbca95b4418f",
       "queued_time": "2023-08-31T03:39:15.6796632Z",
       "session_id": "3",
       "session_start_time": null,
       "spark_jobs": null,
       "spark_pool": "sparkpool",
       "state": "finished",
       "statement_id": 41
      },
      "text/plain": [
       "StatementMeta(sparkpool, 3, 41, Finished, Available)"
      ]
     },
     "metadata": {},
     "output_type": "display_data"
    },
    {
     "data": {
      "text/plain": [
       "['hvfhs_license_num',\n",
       " 'dispatching_base_num',\n",
       " 'pickup_datetime',\n",
       " 'dropoff_datetime',\n",
       " 'PULocationID',\n",
       " 'DOLocationID',\n",
       " 'SR_Flag']"
      ]
     },
     "execution_count": 81,
     "metadata": {},
     "output_type": "execute_result"
    }
   ],
   "source": [
    "df_fhvtaxis.columns"
   ]
  },
  {
   "cell_type": "code",
   "execution_count": 41,
   "metadata": {
    "jupyter": {
     "outputs_hidden": false,
     "source_hidden": false
    },
    "nteract": {
     "transient": {
      "deleting": false
     }
    }
   },
   "outputs": [
    {
     "data": {
      "application/vnd.livy.statement-meta+json": {
       "execution_finish_time": "2023-08-31T03:39:22.7998219Z",
       "execution_start_time": "2023-08-31T03:39:22.5927396Z",
       "livy_statement_state": "available",
       "parent_msg_id": "8da0ab0c-981e-4657-adc2-20278646d49c",
       "queued_time": "2023-08-31T03:39:22.4462201Z",
       "session_id": "3",
       "session_start_time": null,
       "spark_jobs": null,
       "spark_pool": "sparkpool",
       "state": "finished",
       "statement_id": 42
      },
      "text/plain": [
       "StatementMeta(sparkpool, 3, 42, Finished, Available)"
      ]
     },
     "metadata": {},
     "output_type": "display_data"
    }
   ],
   "source": [
    "df_fhvtaxis = df_fhvtaxis.select('hvfhs_license_num',\n",
    " 'dispatching_base_num',\n",
    " 'pickup_datetime',\n",
    " 'dropoff_datetime',\n",
    " 'PULocationID',\n",
    " 'DOLocationID')"
   ]
  },
  {
   "cell_type": "code",
   "execution_count": 42,
   "metadata": {
    "jupyter": {
     "outputs_hidden": false,
     "source_hidden": false
    },
    "nteract": {
     "transient": {
      "deleting": false
     }
    }
   },
   "outputs": [
    {
     "data": {
      "application/vnd.livy.statement-meta+json": {
       "execution_finish_time": "2023-08-31T03:39:52.7699099Z",
       "execution_start_time": "2023-08-31T03:39:52.5595053Z",
       "livy_statement_state": "available",
       "parent_msg_id": "7953a57a-0e39-4f61-b228-e2694e1dc1dc",
       "queued_time": "2023-08-31T03:39:52.4126315Z",
       "session_id": "3",
       "session_start_time": null,
       "spark_jobs": null,
       "spark_pool": "sparkpool",
       "state": "finished",
       "statement_id": 43
      },
      "text/plain": [
       "StatementMeta(sparkpool, 3, 43, Finished, Available)"
      ]
     },
     "metadata": {},
     "output_type": "display_data"
    }
   ],
   "source": [
    "## modifying the column type\n",
    "df_fhvtaxis_casted = df_fhvtaxis.withColumn(\"pickup_datetime\",df_fhvtaxis.pickup_datetime.cast(TimestampType()))  \\\n",
    "                            .withColumn(\"dropoff_datetime\",df_fhvtaxis.dropoff_datetime.cast(TimestampType()))    \\\n",
    "                            .withColumn(\"PULocationID\",df_fhvtaxis.PULocationID.cast('int'))    \\\n",
    "                            .withColumn(\"DOLocationID\",df_fhvtaxis.DOLocationID.cast('int'))    "
   ]
  },
  {
   "cell_type": "code",
   "execution_count": 43,
   "metadata": {
    "jupyter": {
     "outputs_hidden": false,
     "source_hidden": false
    },
    "nteract": {
     "transient": {
      "deleting": false
     }
    }
   },
   "outputs": [
    {
     "data": {
      "application/vnd.livy.statement-meta+json": {
       "execution_finish_time": "2023-08-31T03:41:12.5893335Z",
       "execution_start_time": "2023-08-31T03:41:12.3627942Z",
       "livy_statement_state": "available",
       "parent_msg_id": "47c93ce2-f388-4065-92dc-a2375a929f7b",
       "queued_time": "2023-08-31T03:41:12.2089927Z",
       "session_id": "3",
       "session_start_time": null,
       "spark_jobs": null,
       "spark_pool": "sparkpool",
       "state": "finished",
       "statement_id": 44
      },
      "text/plain": [
       "StatementMeta(sparkpool, 3, 44, Finished, Available)"
      ]
     },
     "metadata": {},
     "output_type": "display_data"
    },
    {
     "data": {
      "text/plain": [
       "<bound method DataFrame.printSchema of DataFrame[hvfhs_license_num: string, dispatching_base_num: string, pickup_datetime: timestamp, dropoff_datetime: timestamp, PULocationID: int, DOLocationID: int]>"
      ]
     },
     "execution_count": 87,
     "metadata": {},
     "output_type": "execute_result"
    }
   ],
   "source": [
    "df_fhvtaxis_casted.printSchema"
   ]
  },
  {
   "cell_type": "markdown",
   "metadata": {},
   "source": [
    "### saving FHV taxi as fact table in lake database"
   ]
  },
  {
   "cell_type": "code",
   "execution_count": 44,
   "metadata": {
    "jupyter": {
     "outputs_hidden": false,
     "source_hidden": false
    },
    "nteract": {
     "transient": {
      "deleting": false
     }
    }
   },
   "outputs": [
    {
     "data": {
      "application/vnd.livy.statement-meta+json": {
       "execution_finish_time": "2023-08-31T03:41:51.4780312Z",
       "execution_start_time": "2023-08-31T03:41:15.8444855Z",
       "livy_statement_state": "available",
       "parent_msg_id": "37c1b665-09bf-4f60-a96f-d6dbefce8a88",
       "queued_time": "2023-08-31T03:41:15.6945511Z",
       "session_id": "3",
       "session_start_time": null,
       "spark_jobs": null,
       "spark_pool": "sparkpool",
       "state": "finished",
       "statement_id": 45
      },
      "text/plain": [
       "StatementMeta(sparkpool, 3, 45, Finished, Available)"
      ]
     },
     "metadata": {},
     "output_type": "display_data"
    }
   ],
   "source": [
    "df_fhvtaxis_casted.write.mode(\"overwrite\").saveAsTable(\"taxis.factfhvtaxi\")"
   ]
  },
  {
   "cell_type": "markdown",
   "metadata": {},
   "source": [
    "### Loading the JSON file data as dataframe"
   ]
  },
  {
   "cell_type": "code",
   "execution_count": 46,
   "metadata": {
    "jupyter": {
     "outputs_hidden": false,
     "source_hidden": false
    },
    "nteract": {
     "transient": {
      "deleting": false
     }
    }
   },
   "outputs": [
    {
     "data": {
      "application/vnd.livy.statement-meta+json": {
       "execution_finish_time": "2023-08-31T03:43:44.0067577Z",
       "execution_start_time": "2023-08-31T03:43:42.0193649Z",
       "livy_statement_state": "available",
       "parent_msg_id": "5ea4cb4f-c4df-4a1f-a046-7654056cd40c",
       "queued_time": "2023-08-31T03:43:41.8880723Z",
       "session_id": "3",
       "session_start_time": null,
       "spark_jobs": null,
       "spark_pool": "sparkpool",
       "state": "finished",
       "statement_id": 47
      },
      "text/plain": [
       "StatementMeta(sparkpool, 3, 47, Finished, Available)"
      ]
     },
     "metadata": {},
     "output_type": "display_data"
    },
    {
     "data": {
      "application/vnd.synapse.widget-view+json": {
       "widget_id": "a83183a3-842e-490f-bb2b-9db867b6db94",
       "widget_type": "Synapse.DataFrame"
      },
      "text/plain": [
       "SynapseWidget(Synapse.DataFrame, a83183a3-842e-490f-bb2b-9db867b6db94)"
      ]
     },
     "metadata": {},
     "output_type": "display_data"
    }
   ],
   "source": [
    "\n",
    "# importing necessary libraries\n",
    "from pyspark.sql.functions import *\n",
    "\n",
    "# specifying path\n",
    "fhvBasesFilePath = 'abfss://taxidata@taxidatastorageadls.dfs.core.windows.net/FhvBases.json'\n",
    "\n",
    "# Read FHV Bases json file\n",
    "df_fhvbases = (\n",
    "                spark\n",
    "                  .read\n",
    "                  .option(\"multiline\", \"true\")\n",
    "                  .json(fhvBasesFilePath)\n",
    "             )\n",
    "\n",
    "display(df_fhvbases)\n",
    "\n",
    "# display(df_fhvbases)"
   ]
  },
  {
   "cell_type": "markdown",
   "metadata": {},
   "source": [
    "### As the data is hierarchical , so flattening the file to load the data correctly"
   ]
  },
  {
   "cell_type": "code",
   "execution_count": 47,
   "metadata": {
    "jupyter": {
     "outputs_hidden": false,
     "source_hidden": false
    },
    "nteract": {
     "transient": {
      "deleting": false
     }
    }
   },
   "outputs": [
    {
     "data": {
      "application/vnd.livy.statement-meta+json": {
       "execution_finish_time": "2023-08-31T03:45:01.9314616Z",
       "execution_start_time": "2023-08-31T03:45:01.7722897Z",
       "livy_statement_state": "available",
       "parent_msg_id": "f0fb8fe1-fc46-443c-ba6f-866363c9dc00",
       "queued_time": "2023-08-31T03:45:01.5947881Z",
       "session_id": "3",
       "session_start_time": null,
       "spark_jobs": null,
       "spark_pool": "sparkpool",
       "state": "finished",
       "statement_id": 48
      },
      "text/plain": [
       "StatementMeta(sparkpool, 3, 48, Finished, Available)"
      ]
     },
     "metadata": {},
     "output_type": "display_data"
    }
   ],
   "source": [
    "# flattening the file\n",
    "\n",
    "df_fhvbases = (df_fhvbases.select(\n",
    "    col(\"Address.Street\").alias(\"address_street\"),\n",
    "    col('Address.City').alias('address_city'),\n",
    "    col('Address.Postcode').alias('address_postcode'),\n",
    "    col('Address.State').alias('address_state'),\n",
    "    col('Address.Building').alias('address_building'),\n",
    "    to_date(col('Date'),\"MM/dd/yyyy\").alias('date'),\n",
    "    col('Entity Name').alias('entity_name'),\n",
    "    col('GeoLocation.Latitude').alias('geolocation_latitude'),\n",
    "    col('GeoLocation.Longitude').alias('geolocation_longitude'),\n",
    "    col('GeoLocation.Location').alias('geolocation_location'),\n",
    "    col('License Number').alias('license_number'),\n",
    "    col('SHL Endorsed').alias('shl_endorsed'),\n",
    "    col('GeoLocation.Location').alias('geolocation_location'),\n",
    "    col('Telephone Number').alias('telephone_number'),\n",
    "    col('Time').alias('geolocation_location'),\n",
    "    col('Type of Base').alias('type_of_base')\n",
    "))"
   ]
  },
  {
   "cell_type": "code",
   "execution_count": 48,
   "metadata": {
    "jupyter": {
     "outputs_hidden": false,
     "source_hidden": false
    },
    "nteract": {
     "transient": {
      "deleting": false
     }
    }
   },
   "outputs": [
    {
     "data": {
      "application/vnd.livy.statement-meta+json": {
       "execution_finish_time": "2023-08-31T03:45:43.9837928Z",
       "execution_start_time": "2023-08-31T03:45:43.8055171Z",
       "livy_statement_state": "available",
       "parent_msg_id": "4eea295d-0e7a-4e92-8224-df017d8d17bf",
       "queued_time": "2023-08-31T03:45:43.6542293Z",
       "session_id": "3",
       "session_start_time": null,
       "spark_jobs": null,
       "spark_pool": "sparkpool",
       "state": "finished",
       "statement_id": 49
      },
      "text/plain": [
       "StatementMeta(sparkpool, 3, 49, Finished, Available)"
      ]
     },
     "metadata": {},
     "output_type": "display_data"
    },
    {
     "data": {
      "text/plain": [
       "['address_street',\n",
       " 'address_city',\n",
       " 'address_postcode',\n",
       " 'address_state',\n",
       " 'address_building',\n",
       " 'date',\n",
       " 'entity_name',\n",
       " 'geolocation_latitude',\n",
       " 'geolocation_longitude',\n",
       " 'geolocation_location',\n",
       " 'license_number',\n",
       " 'shl_endorsed',\n",
       " 'geolocation_location',\n",
       " 'telephone_number',\n",
       " 'geolocation_location',\n",
       " 'type_of_base']"
      ]
     },
     "execution_count": 97,
     "metadata": {},
     "output_type": "execute_result"
    }
   ],
   "source": [
    "df_fhvbases.columns"
   ]
  },
  {
   "cell_type": "code",
   "execution_count": 49,
   "metadata": {
    "jupyter": {
     "outputs_hidden": false,
     "source_hidden": false
    },
    "nteract": {
     "transient": {
      "deleting": false
     }
    }
   },
   "outputs": [
    {
     "data": {
      "application/vnd.livy.statement-meta+json": {
       "execution_finish_time": "2023-08-31T03:46:42.6839853Z",
       "execution_start_time": "2023-08-31T03:46:42.5142242Z",
       "livy_statement_state": "available",
       "parent_msg_id": "5b643dd6-191e-4b9e-b095-2422c0f244e6",
       "queued_time": "2023-08-31T03:46:42.3524628Z",
       "session_id": "3",
       "session_start_time": null,
       "spark_jobs": null,
       "spark_pool": "sparkpool",
       "state": "finished",
       "statement_id": 50
      },
      "text/plain": [
       "StatementMeta(sparkpool, 3, 50, Finished, Available)"
      ]
     },
     "metadata": {},
     "output_type": "display_data"
    }
   ],
   "source": [
    "df_fhvbases = df_fhvbases.select(\n",
    "    'address_street',\n",
    " 'address_city',\n",
    " 'address_postcode',\n",
    " 'address_state',\n",
    " 'address_building',\n",
    " 'date',\n",
    " 'license_number',\n",
    " 'type_of_base'\n",
    ")"
   ]
  },
  {
   "cell_type": "markdown",
   "metadata": {},
   "source": [
    "### saving the table as Dimension table in Lake database"
   ]
  },
  {
   "cell_type": "code",
   "execution_count": 50,
   "metadata": {
    "jupyter": {
     "outputs_hidden": false,
     "source_hidden": false
    },
    "nteract": {
     "transient": {
      "deleting": false
     }
    }
   },
   "outputs": [
    {
     "data": {
      "application/vnd.livy.statement-meta+json": {
       "execution_finish_time": "2023-08-31T03:48:20.8194526Z",
       "execution_start_time": "2023-08-31T03:48:17.9436351Z",
       "livy_statement_state": "available",
       "parent_msg_id": "48705d55-3b7a-411e-8d96-6c0ec11464ad",
       "queued_time": "2023-08-31T03:48:17.8073953Z",
       "session_id": "3",
       "session_start_time": null,
       "spark_jobs": null,
       "spark_pool": "sparkpool",
       "state": "finished",
       "statement_id": 51
      },
      "text/plain": [
       "StatementMeta(sparkpool, 3, 51, Finished, Available)"
      ]
     },
     "metadata": {},
     "output_type": "display_data"
    }
   ],
   "source": [
    "df_fhvbases.write.mode(\"overwrite\").saveAsTable(\"taxis.dimbases\")"
   ]
  },
  {
   "cell_type": "markdown",
   "metadata": {},
   "source": [
    "## Analysing the data using spark SQL"
   ]
  },
  {
   "cell_type": "code",
   "execution_count": 52,
   "metadata": {
    "jupyter": {
     "outputs_hidden": false,
     "source_hidden": false
    },
    "microsoft": {
     "language": "sparksql"
    },
    "nteract": {
     "transient": {
      "deleting": false
     }
    }
   },
   "outputs": [
    {
     "data": {
      "application/vnd.livy.statement-meta+json": {
       "execution_finish_time": "2023-08-31T03:51:30.55864Z",
       "execution_start_time": "2023-08-31T03:51:27.746949Z",
       "livy_statement_state": "available",
       "parent_msg_id": "99d006f2-98bb-469c-9729-8c6ae9b1b38f",
       "queued_time": "2023-08-31T03:51:27.613709Z",
       "session_id": "3",
       "session_start_time": null,
       "spark_jobs": null,
       "spark_pool": "sparkpool",
       "state": "finished",
       "statement_id": 53
      },
      "text/plain": [
       "StatementMeta(sparkpool, 3, 53, Finished, Available)"
      ]
     },
     "metadata": {},
     "output_type": "display_data"
    },
    {
     "data": {
      "application/vnd.synapse.sparksql-result+json": {
       "data": [
        [
         1,
         "8"
        ],
        [
         10,
         "13"
        ],
        [
         11,
         "449467"
        ],
        [
         9,
         "1"
        ],
        [
         12,
         "11"
        ]
       ],
       "schema": {
        "fields": [
         {
          "metadata": {},
          "name": "months",
          "nullable": true,
          "type": "integer"
         },
         {
          "metadata": {
           "__autoGeneratedAlias": "true"
          },
          "name": "count(1)",
          "nullable": false,
          "type": "long"
         }
        ],
        "type": "struct"
       }
      },
      "text/plain": [
       "<Spark SQL result set with 5 rows and 2 fields>"
      ]
     },
     "execution_count": 52,
     "metadata": {},
     "output_type": "execute_result"
    }
   ],
   "source": [
    "%%sql\n",
    "\n",
    "SELECT month(lpep_pickup_datetime) as months, count(*) from factgreentaxi\n",
    "group by month(lpep_pickup_datetime)"
   ]
  },
  {
   "cell_type": "code",
   "execution_count": 53,
   "metadata": {
    "jupyter": {
     "outputs_hidden": false,
     "source_hidden": false
    },
    "microsoft": {
     "language": "sparksql"
    },
    "nteract": {
     "transient": {
      "deleting": false
     }
    }
   },
   "outputs": [
    {
     "data": {
      "application/vnd.livy.statement-meta+json": {
       "execution_finish_time": "2023-08-31T03:52:12.6940838Z",
       "execution_start_time": "2023-08-31T03:52:10.8485979Z",
       "livy_statement_state": "available",
       "parent_msg_id": "8d2e6865-b7a7-497e-958f-c82e39cb7fb7",
       "queued_time": "2023-08-31T03:52:10.7140758Z",
       "session_id": "3",
       "session_start_time": null,
       "spark_jobs": null,
       "spark_pool": "sparkpool",
       "state": "finished",
       "statement_id": 54
      },
      "text/plain": [
       "StatementMeta(sparkpool, 3, 54, Finished, Available)"
      ]
     },
     "metadata": {},
     "output_type": "display_data"
    },
    {
     "data": {
      "application/vnd.synapse.sparksql-result+json": {
       "data": [
        [
         2019,
         "449491"
        ],
        [
         2009,
         "8"
        ],
        [
         2010,
         "1"
        ]
       ],
       "schema": {
        "fields": [
         {
          "metadata": {},
          "name": "years",
          "nullable": true,
          "type": "integer"
         },
         {
          "metadata": {
           "__autoGeneratedAlias": "true"
          },
          "name": "count(1)",
          "nullable": false,
          "type": "long"
         }
        ],
        "type": "struct"
       }
      },
      "text/plain": [
       "<Spark SQL result set with 3 rows and 2 fields>"
      ]
     },
     "execution_count": 53,
     "metadata": {},
     "output_type": "execute_result"
    }
   ],
   "source": [
    "%%sql\n",
    "\n",
    "SELECT year(lpep_pickup_datetime) as years, count(*) from factgreentaxi\n",
    "group by year(lpep_pickup_datetime)"
   ]
  },
  {
   "cell_type": "code",
   "execution_count": 55,
   "metadata": {
    "jupyter": {
     "outputs_hidden": false,
     "source_hidden": false
    },
    "microsoft": {},
    "nteract": {
     "transient": {
      "deleting": false
     }
    }
   },
   "outputs": [
    {
     "data": {
      "application/vnd.livy.statement-meta+json": {
       "execution_finish_time": "2023-08-31T04:30:23.1212375Z",
       "execution_start_time": "2023-08-31T04:30:15.1581898Z",
       "livy_statement_state": "available",
       "parent_msg_id": "9128edee-7539-4b20-acb6-10534100522d",
       "queued_time": "2023-08-31T04:29:08.6692019Z",
       "session_id": "4",
       "session_start_time": "2023-08-31T04:29:08.7509235Z",
       "spark_jobs": null,
       "spark_pool": "sparkpool",
       "state": "finished",
       "statement_id": 2
      },
      "text/plain": [
       "StatementMeta(sparkpool, 4, 2, Finished, Available)"
      ]
     },
     "metadata": {},
     "output_type": "display_data"
    }
   ],
   "source": [
    "df = spark.sql('SELECT month(tpep_pickup_datetime) as months,year(tpep_pickup_datetime) as years,count(year(tpep_pickup_datetime)) as counts from taxis.factyellowtaxi WHERE month(tpep_pickup_datetime) BETWEEN 9 and 12 and  year(tpep_pickup_datetime) = 2019 group by month(tpep_pickup_datetime),year(tpep_pickup_datetime) order by years,months')\n"
   ]
  },
  {
   "cell_type": "code",
   "execution_count": null,
   "metadata": {
    "jupyter": {
     "outputs_hidden": false,
     "source_hidden": false
    },
    "nteract": {
     "transient": {
      "deleting": false
     }
    }
   },
   "outputs": [],
   "source": [
    "df.createOrReplaceTempView('yellowmonthcount')"
   ]
  }
 ],
 "metadata": {
  "description": null,
  "kernel_info": {
   "name": "synapse_pyspark"
  },
  "kernelspec": {
   "display_name": "Python 3 (ipykernel)",
   "language": "python",
   "name": "python3"
  },
  "language_info": {
   "codemirror_mode": {
    "name": "ipython",
    "version": 3
   },
   "file_extension": ".py",
   "mimetype": "text/x-python",
   "name": "python",
   "nbconvert_exporter": "python",
   "pygments_lexer": "ipython3",
   "version": "3.11.4"
  },
  "save_output": true,
  "synapse_widget": {
   "state": {
    "1d74f067-592d-4cc2-b207-a6e48c178efc": {
     "persist_state": {
      "view": {
       "chartType": "column",
       "type": "profile"
      }
     },
     "sync_state": {
      "profileResult": {
       "columnProfiles": [
        {
         "column": "lpep_dropoff_datetime",
         "profile": {
          "advanceProperty": {
           "typeInferBoolean": 0,
           "typeInferDatetime": 1,
           "typeInferFractional": 0,
           "typeInferIntegral": 0,
           "typeInferString": 0,
           "typeInferUnknown": 0
          },
          "column": "lpep_dropoff_datetime",
          "completeness": 1,
          "count": 449500,
          "dataType": "string",
          "distinctCount": 383684,
          "topK": [
           {
            "count": 14,
            "value": "2019-11-29 00:00:00"
           },
           {
            "count": 6,
            "value": "2019-11-25 12:14:00"
           },
           {
            "count": 7,
            "value": "2019-11-27 09:53:00"
           },
           {
            "count": 8,
            "value": "2019-11-25 15:19:00"
           },
           {
            "count": 7,
            "value": "2019-11-01 16:43:00"
           },
           {
            "count": 17,
            "value": "2019-11-17 00:00:00"
           },
           {
            "count": 8,
            "value": "2019-11-27 12:22:00"
           },
           {
            "count": 7,
            "value": "2019-11-25 17:35:00"
           },
           {
            "count": 8,
            "value": "2019-11-25 12:56:00"
           },
           {
            "count": 8,
            "value": "2019-11-01 09:30:00"
           },
           {
            "count": 9,
            "value": "2019-11-30 00:00:00"
           },
           {
            "count": 12,
            "value": "2019-11-08 00:00:00"
           },
           {
            "count": 7,
            "value": "2019-11-26 13:13:00"
           },
           {
            "count": 7,
            "value": "2019-11-01 09:17:00"
           },
           {
            "count": 7,
            "value": "2019-11-27 12:53:00"
           },
           {
            "count": 6,
            "value": "2019-11-26 10:50:00"
           },
           {
            "count": 6,
            "value": "2019-11-25 16:29:00"
           },
           {
            "count": 7,
            "value": "2019-11-01 15:13:00"
           },
           {
            "count": 6,
            "value": "2019-11-27 09:20:00"
           },
           {
            "count": 7,
            "value": "2019-11-27 14:10:00"
           },
           {
            "count": 8,
            "value": "2019-11-02 00:00:00"
           },
           {
            "count": 8,
            "value": "2019-11-01 12:10:00"
           },
           {
            "count": 6,
            "value": "2019-11-25 15:58:00"
           },
           {
            "count": 6,
            "value": "2019-11-26 09:23:00"
           },
           {
            "count": 6,
            "value": "2019-11-25 08:45:00"
           },
           {
            "count": 7,
            "value": "2019-11-27 11:23:00"
           },
           {
            "count": 17,
            "value": "2019-11-11 00:00:00"
           },
           {
            "count": 7,
            "value": "2019-11-27 08:17:00"
           },
           {
            "count": 7,
            "value": "2019-11-01 08:55:00"
           },
           {
            "count": 13,
            "value": "2019-11-10 00:00:00"
           },
           {
            "count": 6,
            "value": "2019-11-25 15:48:00"
           },
           {
            "count": 8,
            "value": "2019-11-27 08:30:00"
           },
           {
            "count": 7,
            "value": "2019-11-26 12:45:00"
           },
           {
            "count": 9,
            "value": "2019-11-14 00:00:00"
           },
           {
            "count": 7,
            "value": "2019-11-26 11:24:00"
           },
           {
            "count": 8,
            "value": "2019-11-25 10:46:00"
           },
           {
            "count": 7,
            "value": "2019-11-26 09:50:00"
           },
           {
            "count": 7,
            "value": "2019-11-25 13:03:00"
           },
           {
            "count": 7,
            "value": "2019-11-24 12:10:00"
           },
           {
            "count": 7,
            "value": "2019-11-27 14:22:00"
           },
           {
            "count": 7,
            "value": "2019-11-01 11:42:00"
           },
           {
            "count": 7,
            "value": "2019-11-01 18:13:00"
           },
           {
            "count": 8,
            "value": "2019-11-26 15:49:00"
           },
           {
            "count": 7,
            "value": "2019-11-12 10:28:00"
           },
           {
            "count": 7,
            "value": "2019-11-26 09:39:00"
           },
           {
            "count": 11,
            "value": "2019-11-24 00:00:00"
           },
           {
            "count": 6,
            "value": "2019-11-01 08:47:00"
           },
           {
            "count": 22,
            "value": "2019-12-01 00:00:00"
           },
           {
            "count": 7,
            "value": "2019-11-26 14:20:00"
           },
           {
            "count": 8,
            "value": "2019-11-26 14:34:00"
           },
           {
            "count": 8,
            "value": "2019-11-25 09:34:00"
           },
           {
            "count": 7,
            "value": "2019-11-25 13:02:00"
           },
           {
            "count": 9,
            "value": "2019-11-25 15:26:00"
           },
           {
            "count": 6,
            "value": "2019-11-25 12:53:00"
           },
           {
            "count": 7,
            "value": "2019-11-26 13:08:00"
           },
           {
            "count": 9,
            "value": "2019-11-25 09:10:00"
           },
           {
            "count": 7,
            "value": "2019-11-25 12:39:00"
           },
           {
            "count": 6,
            "value": "2019-11-25 09:55:00"
           },
           {
            "count": 6,
            "value": "2019-11-01 10:37:00"
           },
           {
            "count": 7,
            "value": "2019-11-25 14:10:00"
           },
           {
            "count": 7,
            "value": "2019-11-27 12:56:00"
           },
           {
            "count": 7,
            "value": "2019-11-26 15:54:00"
           },
           {
            "count": 6,
            "value": "2019-11-25 16:04:00"
           },
           {
            "count": 9,
            "value": "2019-11-01 10:29:00"
           },
           {
            "count": 9,
            "value": "2019-11-27 08:37:00"
           },
           {
            "count": 8,
            "value": "2019-11-25 15:33:00"
           },
           {
            "count": 12,
            "value": "2019-11-18 00:00:00"
           },
           {
            "count": 7,
            "value": "2019-11-26 11:54:00"
           },
           {
            "count": 7,
            "value": "2019-11-01 11:24:00"
           },
           {
            "count": 7,
            "value": "2019-11-27 10:30:00"
           },
           {
            "count": 7,
            "value": "2019-11-27 12:42:00"
           },
           {
            "count": 8,
            "value": "2019-11-26 09:48:00"
           },
           {
            "count": 13,
            "value": "2019-11-15 00:00:00"
           },
           {
            "count": 7,
            "value": "2019-11-26 10:15:00"
           },
           {
            "count": 9,
            "value": "2019-11-25 10:47:00"
           },
           {
            "count": 10,
            "value": "2019-11-03 00:00:00"
           },
           {
            "count": 7,
            "value": "2019-11-26 14:01:00"
           },
           {
            "count": 8,
            "value": "2019-11-26 12:29:00"
           },
           {
            "count": 6,
            "value": "2019-11-27 11:17:00"
           },
           {
            "count": 9,
            "value": "2019-11-28 00:00:00"
           },
           {
            "count": 9,
            "value": "2019-11-25 13:13:00"
           },
           {
            "count": 8,
            "value": "2019-11-26 10:55:00"
           },
           {
            "count": 6,
            "value": "2019-11-01 15:49:00"
           },
           {
            "count": 7,
            "value": "2019-11-26 11:00:00"
           },
           {
            "count": 9,
            "value": "2019-11-26 13:32:00"
           },
           {
            "count": 6,
            "value": "2019-11-27 11:26:00"
           },
           {
            "count": 10,
            "value": "2019-11-21 00:00:00"
           },
           {
            "count": 7,
            "value": "2019-11-26 13:50:00"
           },
           {
            "count": 7,
            "value": "2019-11-25 09:19:00"
           },
           {
            "count": 8,
            "value": "2019-11-26 11:21:00"
           },
           {
            "count": 7,
            "value": "2019-11-01 16:39:00"
           },
           {
            "count": 7,
            "value": "2019-11-25 11:24:00"
           },
           {
            "count": 10,
            "value": "2019-11-25 11:01:00"
           },
           {
            "count": 6,
            "value": "2019-11-26 10:34:00"
           },
           {
            "count": 10,
            "value": "2019-11-27 13:32:00"
           },
           {
            "count": 10,
            "value": "2019-11-16 00:00:00"
           },
           {
            "count": 7,
            "value": "2019-11-25 10:10:00"
           },
           {
            "count": 7,
            "value": "2019-11-01 10:10:00"
           },
           {
            "count": 8,
            "value": "2019-11-25 13:07:00"
           },
           {
            "count": 7,
            "value": "2019-11-26 09:57:00"
           }
          ]
         }
        },
        {
         "column": "DOLocationID",
         "profile": {
          "advanceProperty": {
           "typeInferBoolean": 0,
           "typeInferDatetime": 0,
           "typeInferFractional": 0,
           "typeInferIntegral": 1,
           "typeInferString": 0,
           "typeInferUnknown": 0
          },
          "column": "DOLocationID",
          "completeness": 1,
          "count": 449500,
          "dataType": "string",
          "distinctCount": 259,
          "topK": [
           {
            "count": 1754,
            "value": "205"
           },
           {
            "count": 2487,
            "value": "193"
           },
           {
            "count": 2898,
            "value": "142"
           },
           {
            "count": 6835,
            "value": "223"
           },
           {
            "count": 2037,
            "value": "66"
           },
           {
            "count": 2037,
            "value": "216"
           },
           {
            "count": 3199,
            "value": "89"
           },
           {
            "count": 1381,
            "value": "51"
           },
           {
            "count": 1496,
            "value": "170"
           },
           {
            "count": 1455,
            "value": "62"
           },
           {
            "count": 1825,
            "value": "135"
           },
           {
            "count": 1673,
            "value": "121"
           },
           {
            "count": 2739,
            "value": "40"
           },
           {
            "count": 2394,
            "value": "141"
           },
           {
            "count": 7293,
            "value": "181"
           },
           {
            "count": 2241,
            "value": "132"
           },
           {
            "count": 7210,
            "value": "236"
           },
           {
            "count": 4512,
            "value": "33"
           },
           {
            "count": 2337,
            "value": "197"
           },
           {
            "count": 2148,
            "value": "262"
           },
           {
            "count": 3587,
            "value": "56"
           },
           {
            "count": 1392,
            "value": "55"
           },
           {
            "count": 2212,
            "value": "134"
           },
           {
            "count": 6342,
            "value": "244"
           },
           {
            "count": 2223,
            "value": "37"
           },
           {
            "count": 1658,
            "value": "242"
           },
           {
            "count": 9652,
            "value": "166"
           },
           {
            "count": 5941,
            "value": "61"
           },
           {
            "count": 1878,
            "value": "255"
           },
           {
            "count": 2248,
            "value": "24"
           },
           {
            "count": 2896,
            "value": "83"
           },
           {
            "count": 1901,
            "value": "35"
           },
           {
            "count": 4422,
            "value": "152"
           },
           {
            "count": 1496,
            "value": "231"
           },
           {
            "count": 2426,
            "value": "112"
           },
           {
            "count": 1434,
            "value": "72"
           },
           {
            "count": 1544,
            "value": "10"
           },
           {
            "count": 1774,
            "value": "159"
           },
           {
            "count": 3240,
            "value": "237"
           },
           {
            "count": 4540,
            "value": "263"
           },
           {
            "count": 1903,
            "value": "256"
           },
           {
            "count": 2711,
            "value": "196"
           },
           {
            "count": 1924,
            "value": "48"
           },
           {
            "count": 6069,
            "value": "116"
           },
           {
            "count": 2959,
            "value": "76"
           },
           {
            "count": 1661,
            "value": "228"
           },
           {
            "count": 5622,
            "value": "138"
           },
           {
            "count": 3105,
            "value": "188"
           },
           {
            "count": 2618,
            "value": "43"
           },
           {
            "count": 1349,
            "value": "127"
           },
           {
            "count": 2912,
            "value": "65"
           },
           {
            "count": 1748,
            "value": "213"
           },
           {
            "count": 1755,
            "value": "80"
           },
           {
            "count": 1393,
            "value": "106"
           },
           {
            "count": 7870,
            "value": "82"
           },
           {
            "count": 5032,
            "value": "49"
           },
           {
            "count": 1911,
            "value": "39"
           },
           {
            "count": 2616,
            "value": "140"
           },
           {
            "count": 2977,
            "value": "173"
           },
           {
            "count": 3735,
            "value": "17"
           },
           {
            "count": 4159,
            "value": "25"
           },
           {
            "count": 1760,
            "value": "14"
           },
           {
            "count": 2179,
            "value": "69"
           },
           {
            "count": 1614,
            "value": "162"
           },
           {
            "count": 5071,
            "value": "151"
           },
           {
            "count": 7356,
            "value": "95"
           },
           {
            "count": 2615,
            "value": "145"
           },
           {
            "count": 1918,
            "value": "264"
           },
           {
            "count": 3258,
            "value": "225"
           },
           {
            "count": 15602,
            "value": "42"
           },
           {
            "count": 12163,
            "value": "75"
           },
           {
            "count": 1745,
            "value": "195"
           },
           {
            "count": 2326,
            "value": "189"
           },
           {
            "count": 4790,
            "value": "260"
           },
           {
            "count": 2016,
            "value": "70"
           },
           {
            "count": 1465,
            "value": "210"
           },
           {
            "count": 7156,
            "value": "238"
           },
           {
            "count": 1566,
            "value": "160"
           },
           {
            "count": 1436,
            "value": "235"
           },
           {
            "count": 2029,
            "value": "92"
           },
           {
            "count": 1976,
            "value": "247"
           },
           {
            "count": 1698,
            "value": "215"
           },
           {
            "count": 10988,
            "value": "7"
           },
           {
            "count": 1440,
            "value": "143"
           },
           {
            "count": 5604,
            "value": "97"
           },
           {
            "count": 2694,
            "value": "130"
           },
           {
            "count": 4371,
            "value": "179"
           },
           {
            "count": 11150,
            "value": "129"
           },
           {
            "count": 13976,
            "value": "41"
           },
           {
            "count": 2842,
            "value": "168"
           },
           {
            "count": 16732,
            "value": "74"
           },
           {
            "count": 2657,
            "value": "243"
           },
           {
            "count": 4753,
            "value": "226"
           },
           {
            "count": 1545,
            "value": "91"
           },
           {
            "count": 1752,
            "value": "52"
           },
           {
            "count": 2099,
            "value": "28"
           },
           {
            "count": 1813,
            "value": "161"
           },
           {
            "count": 2210,
            "value": "157"
           },
           {
            "count": 1824,
            "value": "146"
           },
           {
            "count": 4397,
            "value": "239"
           }
          ]
         }
        },
        {
         "column": "improvement_surcharge",
         "profile": {
          "advanceProperty": {
           "typeInferBoolean": 0,
           "typeInferDatetime": 0,
           "typeInferFractional": 0.8315995550611791,
           "typeInferIntegral": 0.16840044493882092,
           "typeInferString": 0,
           "typeInferUnknown": 0
          },
          "column": "improvement_surcharge",
          "completeness": 1,
          "count": 449500,
          "dataType": "string",
          "distinctCount": 10,
          "topK": [
           {
            "count": 1,
            "value": "0.32"
           },
           {
            "count": 3,
            "value": "0.43"
           },
           {
            "count": 1,
            "value": "0.47"
           },
           {
            "count": 1,
            "value": "0.46"
           },
           {
            "count": 1,
            "value": "0.13"
           },
           {
            "count": 372742,
            "value": "0.3"
           },
           {
            "count": 75696,
            "value": "0"
           },
           {
            "count": 1,
            "value": "0.12"
           },
           {
            "count": 1053,
            "value": "-0.3"
           },
           {
            "count": 1,
            "value": "0.44"
           }
          ]
         }
        },
        {
         "column": "PULocationID",
         "profile": {
          "advanceProperty": {
           "typeInferBoolean": 0,
           "typeInferDatetime": 0,
           "typeInferFractional": 0,
           "typeInferIntegral": 1,
           "typeInferString": 0,
           "typeInferUnknown": 0
          },
          "column": "PULocationID",
          "completeness": 1,
          "count": 449500,
          "dataType": "string",
          "distinctCount": 257,
          "topK": [
           {
            "count": 1146,
            "value": "205"
           },
           {
            "count": 780,
            "value": "169"
           },
           {
            "count": 1767,
            "value": "193"
           },
           {
            "count": 1066,
            "value": "182"
           },
           {
            "count": 5739,
            "value": "223"
           },
           {
            "count": 7110,
            "value": "66"
           },
           {
            "count": 771,
            "value": "216"
           },
           {
            "count": 2081,
            "value": "89"
           },
           {
            "count": 1368,
            "value": "51"
           },
           {
            "count": 846,
            "value": "78"
           },
           {
            "count": 1090,
            "value": "62"
           },
           {
            "count": 826,
            "value": "121"
           },
           {
            "count": 722,
            "value": "77"
           },
           {
            "count": 1806,
            "value": "40"
           },
           {
            "count": 7835,
            "value": "181"
           },
           {
            "count": 1081,
            "value": "236"
           },
           {
            "count": 10184,
            "value": "33"
           },
           {
            "count": 1227,
            "value": "197"
           },
           {
            "count": 836,
            "value": "22"
           },
           {
            "count": 1184,
            "value": "56"
           },
           {
            "count": 1852,
            "value": "55"
           },
           {
            "count": 1023,
            "value": "212"
           },
           {
            "count": 992,
            "value": "26"
           },
           {
            "count": 3674,
            "value": "134"
           },
           {
            "count": 10861,
            "value": "244"
           },
           {
            "count": 704,
            "value": "123"
           },
           {
            "count": 1111,
            "value": "174"
           },
           {
            "count": 1282,
            "value": "37"
           },
           {
            "count": 1770,
            "value": "242"
           },
           {
            "count": 18719,
            "value": "166"
           },
           {
            "count": 4014,
            "value": "61"
           },
           {
            "count": 4477,
            "value": "255"
           },
           {
            "count": 1049,
            "value": "177"
           },
           {
            "count": 1740,
            "value": "24"
           },
           {
            "count": 874,
            "value": "155"
           },
           {
            "count": 2524,
            "value": "83"
           },
           {
            "count": 1787,
            "value": "35"
           },
           {
            "count": 3362,
            "value": "152"
           },
           {
            "count": 1900,
            "value": "112"
           },
           {
            "count": 1303,
            "value": "72"
           },
           {
            "count": 1642,
            "value": "159"
           },
           {
            "count": 1780,
            "value": "256"
           },
           {
            "count": 3724,
            "value": "196"
           },
           {
            "count": 6447,
            "value": "116"
           },
           {
            "count": 2722,
            "value": "76"
           },
           {
            "count": 692,
            "value": "228"
           },
           {
            "count": 2354,
            "value": "188"
           },
           {
            "count": 4961,
            "value": "43"
           },
           {
            "count": 1212,
            "value": "127"
           },
           {
            "count": 9902,
            "value": "65"
           },
           {
            "count": 1256,
            "value": "71"
           },
           {
            "count": 1582,
            "value": "213"
           },
           {
            "count": 679,
            "value": "185"
           },
           {
            "count": 2383,
            "value": "80"
           },
           {
            "count": 753,
            "value": "106"
           },
           {
            "count": 21300,
            "value": "82"
           },
           {
            "count": 3339,
            "value": "49"
           },
           {
            "count": 983,
            "value": "36"
           },
           {
            "count": 1900,
            "value": "39"
           },
           {
            "count": 1239,
            "value": "173"
           },
           {
            "count": 2581,
            "value": "17"
           },
           {
            "count": 8022,
            "value": "25"
           },
           {
            "count": 1381,
            "value": "14"
           },
           {
            "count": 1889,
            "value": "69"
           },
           {
            "count": 13753,
            "value": "95"
           },
           {
            "count": 2987,
            "value": "145"
           },
           {
            "count": 716,
            "value": "264"
           },
           {
            "count": 2093,
            "value": "225"
           },
           {
            "count": 15163,
            "value": "42"
           },
           {
            "count": 27091,
            "value": "75"
           },
           {
            "count": 1011,
            "value": "189"
           },
           {
            "count": 9116,
            "value": "260"
           },
           {
            "count": 2112,
            "value": "210"
           },
           {
            "count": 822,
            "value": "167"
           },
           {
            "count": 942,
            "value": "165"
           },
           {
            "count": 1135,
            "value": "235"
           },
           {
            "count": 3688,
            "value": "92"
           },
           {
            "count": 781,
            "value": "18"
           },
           {
            "count": 1703,
            "value": "247"
           },
           {
            "count": 829,
            "value": "215"
           },
           {
            "count": 798,
            "value": "220"
           },
           {
            "count": 17664,
            "value": "7"
           },
           {
            "count": 12147,
            "value": "97"
           },
           {
            "count": 8211,
            "value": "130"
           },
           {
            "count": 2807,
            "value": "179"
           },
           {
            "count": 754,
            "value": "222"
           },
           {
            "count": 10718,
            "value": "129"
           },
           {
            "count": 762,
            "value": "29"
           },
           {
            "count": 25833,
            "value": "41"
           },
           {
            "count": 1628,
            "value": "168"
           },
           {
            "count": 1073,
            "value": "254"
           },
           {
            "count": 35295,
            "value": "74"
           },
           {
            "count": 2220,
            "value": "243"
           },
           {
            "count": 2936,
            "value": "226"
           },
           {
            "count": 1420,
            "value": "91"
           },
           {
            "count": 3803,
            "value": "52"
           },
           {
            "count": 819,
            "value": "85"
           },
           {
            "count": 794,
            "value": "119"
           },
           {
            "count": 928,
            "value": "136"
           },
           {
            "count": 1903,
            "value": "146"
           }
          ]
         }
        },
        {
         "column": "trip_distance",
         "profile": {
          "advanceProperty": {
           "typeInferBoolean": 0,
           "typeInferDatetime": 0,
           "typeInferFractional": 0.7802847608453838,
           "typeInferIntegral": 0,
           "typeInferString": 0.21971523915461624,
           "typeInferUnknown": 0
          },
          "column": "trip_distance",
          "completeness": 1,
          "count": 449500,
          "dataType": "string",
          "distinctCount": 5099,
          "topK": [
           {
            "count": 1216,
            "value": "1.32"
           },
           {
            "count": 1243,
            "value": "1.21"
           },
           {
            "count": 1321,
            "value": ".97"
           },
           {
            "count": 1370,
            "value": ".87"
           },
           {
            "count": 1085,
            "value": "1.54"
           },
           {
            "count": 1200,
            "value": "1.14"
           },
           {
            "count": 1360,
            "value": ".86"
           },
           {
            "count": 1278,
            "value": ".76"
           },
           {
            "count": 1098,
            "value": "1.46"
           },
           {
            "count": 2018,
            "value": ".50"
           },
           {
            "count": 1814,
            "value": "2.10"
           },
           {
            "count": 1307,
            "value": "1.08"
           },
           {
            "count": 3528,
            "value": ".90"
           },
           {
            "count": 1182,
            "value": "1.35"
           },
           {
            "count": 1223,
            "value": "1.29"
           },
           {
            "count": 1254,
            "value": "1.18"
           },
           {
            "count": 2623,
            "value": "1.60"
           },
           {
            "count": 1091,
            "value": ".68"
           },
           {
            "count": 1261,
            "value": "1.03"
           },
           {
            "count": 1189,
            "value": "1.24"
           },
           {
            "count": 3288,
            "value": "1.20"
           },
           {
            "count": 1222,
            "value": ".77"
           },
           {
            "count": 1238,
            "value": ".72"
           },
           {
            "count": 1234,
            "value": "1.34"
           },
           {
            "count": 1234,
            "value": ".94"
           },
           {
            "count": 1087,
            "value": "1.45"
           },
           {
            "count": 1151,
            "value": "1.42"
           },
           {
            "count": 1198,
            "value": "1.31"
           },
           {
            "count": 1375,
            "value": ".88"
           },
           {
            "count": 2608,
            "value": ".60"
           },
           {
            "count": 1303,
            "value": "1.09"
           },
           {
            "count": 1262,
            "value": ".83"
           },
           {
            "count": 1287,
            "value": "1.13"
           },
           {
            "count": 1333,
            "value": ".99"
           },
           {
            "count": 1550,
            "value": "2.40"
           },
           {
            "count": 1210,
            "value": ".71"
           },
           {
            "count": 3423,
            "value": "1.10"
           },
           {
            "count": 1141,
            "value": "1.26"
           },
           {
            "count": 1277,
            "value": "1.23"
           },
           {
            "count": 1219,
            "value": ".84"
           },
           {
            "count": 1184,
            "value": "1.15"
           },
           {
            "count": 1283,
            "value": "1.04"
           },
           {
            "count": 1384,
            "value": ".95"
           },
           {
            "count": 1276,
            "value": "2.70"
           },
           {
            "count": 1667,
            "value": "2.20"
           },
           {
            "count": 1150,
            "value": "3.00"
           },
           {
            "count": 2285,
            "value": "1.70"
           },
           {
            "count": 1219,
            "value": ".73"
           },
           {
            "count": 1185,
            "value": "1.37"
           },
           {
            "count": 1381,
            "value": "2.60"
           },
           {
            "count": 1264,
            "value": ".98"
           },
           {
            "count": 1256,
            "value": ".82"
           },
           {
            "count": 1219,
            "value": "1.19"
           },
           {
            "count": 1338,
            "value": "1.02"
           },
           {
            "count": 1309,
            "value": ".93"
           },
           {
            "count": 2717,
            "value": "1.50"
           },
           {
            "count": 1390,
            "value": ".89"
           },
           {
            "count": 1137,
            "value": ".69"
           },
           {
            "count": 1183,
            "value": "1.12"
           },
           {
            "count": 1212,
            "value": "1.33"
           },
           {
            "count": 3148,
            "value": "1.30"
           },
           {
            "count": 1204,
            "value": "1.22"
           },
           {
            "count": 1128,
            "value": "1.41"
           },
           {
            "count": 2063,
            "value": "1.90"
           },
           {
            "count": 1420,
            "value": "2.50"
           },
           {
            "count": 1298,
            "value": ".78"
           },
           {
            "count": 1361,
            "value": "2.80"
           },
           {
            "count": 1329,
            "value": ".92"
           },
           {
            "count": 1608,
            "value": "2.30"
           },
           {
            "count": 1340,
            "value": "1.05"
           },
           {
            "count": 1174,
            "value": "1.27"
           },
           {
            "count": 1193,
            "value": ".74"
           },
           {
            "count": 1263,
            "value": ".81"
           },
           {
            "count": 1226,
            "value": "1.38"
           },
           {
            "count": 1334,
            "value": ".96"
           },
           {
            "count": 2104,
            "value": "1.80"
           },
           {
            "count": 1120,
            "value": "3.10"
           },
           {
            "count": 1352,
            "value": ".85"
           },
           {
            "count": 3082,
            "value": ".70"
           },
           {
            "count": 1264,
            "value": "1.16"
           },
           {
            "count": 1308,
            "value": "1.01"
           },
           {
            "count": 1284,
            "value": "1.07"
           },
           {
            "count": 1221,
            "value": "1.11"
           },
           {
            "count": 3089,
            "value": "1.40"
           },
           {
            "count": 1268,
            "value": ".79"
           },
           {
            "count": 1893,
            "value": "2.00"
           },
           {
            "count": 1203,
            "value": "1.17"
           },
           {
            "count": 1406,
            "value": ".91"
           },
           {
            "count": 1235,
            "value": ".75"
           },
           {
            "count": 1252,
            "value": "1.36"
           },
           {
            "count": 1135,
            "value": "1.28"
           },
           {
            "count": 1100,
            "value": "1.39"
           },
           {
            "count": 12926,
            "value": ".00"
           },
           {
            "count": 1100,
            "value": ".67"
           },
           {
            "count": 3396,
            "value": ".80"
           },
           {
            "count": 1341,
            "value": ".40"
           },
           {
            "count": 3467,
            "value": "1.00"
           },
           {
            "count": 1289,
            "value": "1.06"
           },
           {
            "count": 1230,
            "value": "2.90"
           },
           {
            "count": 1234,
            "value": "1.25"
           }
          ]
         }
        },
        {
         "column": "tolls_amount",
         "profile": {
          "advanceProperty": {
           "typeInferBoolean": 0,
           "typeInferDatetime": 0,
           "typeInferFractional": 0.048978865406006676,
           "typeInferIntegral": 0.9510211345939933,
           "typeInferString": 0,
           "typeInferUnknown": 0
          },
          "column": "tolls_amount",
          "completeness": 1,
          "count": 449500,
          "dataType": "string",
          "distinctCount": 100,
          "topK": [
           {
            "count": 20,
            "value": "18.62"
           },
           {
            "count": 1,
            "value": "19.5"
           },
           {
            "count": 4,
            "value": "5.09"
           },
           {
            "count": 2,
            "value": "12"
           },
           {
            "count": 1,
            "value": "25.5"
           },
           {
            "count": 1161,
            "value": "2.8"
           },
           {
            "count": 849,
            "value": "5.76"
           },
           {
            "count": 2,
            "value": "15.3"
           },
           {
            "count": 1,
            "value": "4.44"
           },
           {
            "count": 1,
            "value": "4.99"
           },
           {
            "count": 1,
            "value": "28.86"
           },
           {
            "count": 1,
            "value": "40"
           },
           {
            "count": 1,
            "value": "15.5"
           },
           {
            "count": 1,
            "value": "6.13"
           },
           {
            "count": 2,
            "value": "24.48"
           },
           {
            "count": 1,
            "value": "15"
           },
           {
            "count": 1,
            "value": "11"
           },
           {
            "count": 3,
            "value": "9"
           },
           {
            "count": 1,
            "value": "32.5"
           },
           {
            "count": 1,
            "value": "3.55"
           },
           {
            "count": 2,
            "value": "4.5"
           },
           {
            "count": 1,
            "value": "18.94"
           },
           {
            "count": 1,
            "value": "33"
           },
           {
            "count": 1,
            "value": "8.5"
           },
           {
            "count": 1,
            "value": "0.5"
           },
           {
            "count": 1,
            "value": "5.6"
           },
           {
            "count": 46,
            "value": "18.36"
           },
           {
            "count": 2,
            "value": "9.24"
           },
           {
            "count": 44,
            "value": "2.16"
           },
           {
            "count": 1,
            "value": "16.7"
           },
           {
            "count": 2,
            "value": "12.79"
           },
           {
            "count": 5,
            "value": "9.5"
           },
           {
            "count": 1,
            "value": "14.5"
           },
           {
            "count": 1,
            "value": "4.56"
           },
           {
            "count": 1,
            "value": "35"
           },
           {
            "count": 31,
            "value": "8.92"
           },
           {
            "count": 1,
            "value": "30.05"
           },
           {
            "count": 1,
            "value": "16"
           },
           {
            "count": 1,
            "value": "5"
           },
           {
            "count": 1,
            "value": "10"
           },
           {
            "count": 10,
            "value": "24.74"
           },
           {
            "count": 4,
            "value": "17.28"
           },
           {
            "count": 1,
            "value": "10.7"
           },
           {
            "count": 1,
            "value": "27.12"
           },
           {
            "count": 1,
            "value": "27.5"
           },
           {
            "count": 4,
            "value": "21"
           },
           {
            "count": 1,
            "value": "13.25"
           },
           {
            "count": 3,
            "value": "11.52"
           },
           {
            "count": 457,
            "value": "12.24"
           },
           {
            "count": 1,
            "value": "31.12"
           },
           {
            "count": 17553,
            "value": "6.12"
           },
           {
            "count": 1,
            "value": "3.33"
           },
           {
            "count": 2,
            "value": "6"
           },
           {
            "count": 1,
            "value": "1"
           },
           {
            "count": 8,
            "value": "25"
           },
           {
            "count": 1,
            "value": "0.01"
           },
           {
            "count": 1,
            "value": "4.12"
           },
           {
            "count": 1,
            "value": "13.3"
           },
           {
            "count": 1,
            "value": "26.37"
           },
           {
            "count": 3,
            "value": "17.5"
           },
           {
            "count": 7,
            "value": "22.74"
           },
           {
            "count": 1120,
            "value": "2.29"
           },
           {
            "count": 1,
            "value": "2.74"
           },
           {
            "count": 427451,
            "value": "0"
           },
           {
            "count": 1,
            "value": "20"
           },
           {
            "count": 1,
            "value": "27.54"
           },
           {
            "count": 1,
            "value": "9.59"
           },
           {
            "count": 1,
            "value": "12.12"
           },
           {
            "count": 21,
            "value": "2.64"
           },
           {
            "count": 155,
            "value": "12.5"
           },
           {
            "count": 24,
            "value": "16.62"
           },
           {
            "count": 2,
            "value": "18.74"
           },
           {
            "count": 1,
            "value": "2.86"
           },
           {
            "count": 1,
            "value": "2.5"
           },
           {
            "count": 4,
            "value": "5.5"
           },
           {
            "count": 2,
            "value": "8.87"
           },
           {
            "count": 1,
            "value": "18.38"
           },
           {
            "count": 1,
            "value": "11.04"
           },
           {
            "count": 1,
            "value": "22.02"
           },
           {
            "count": 1,
            "value": "30"
           },
           {
            "count": 1,
            "value": "7"
           },
           {
            "count": 1,
            "value": "5.39"
           },
           {
            "count": 1,
            "value": "0.11"
           },
           {
            "count": 1,
            "value": "3.09"
           },
           {
            "count": 152,
            "value": "8.41"
           },
           {
            "count": 2,
            "value": "3"
           },
           {
            "count": 1,
            "value": "31.5"
           },
           {
            "count": 1,
            "value": "42.24"
           },
           {
            "count": 2,
            "value": "14.53"
           },
           {
            "count": 1,
            "value": "33.59"
           },
           {
            "count": 1,
            "value": "11.21"
           },
           {
            "count": 1,
            "value": "19.7"
           },
           {
            "count": 42,
            "value": "4.58"
           },
           {
            "count": 1,
            "value": "7.12"
           },
           {
            "count": 210,
            "value": "10.5"
           },
           {
            "count": 22,
            "value": "2.75"
           },
           {
            "count": 1,
            "value": "0.28"
           },
           {
            "count": 1,
            "value": "5.04"
           },
           {
            "count": 6,
            "value": "7.92"
           }
          ]
         }
        },
        {
         "column": "RatecodeID",
         "profile": {
          "advanceProperty": {
           "typeInferBoolean": 0,
           "typeInferDatetime": 0,
           "typeInferFractional": 0,
           "typeInferIntegral": 0.806293659621802,
           "typeInferString": 0,
           "typeInferUnknown": 0.193706340378198
          },
          "column": "RatecodeID",
          "completeness": 0.806293659621802,
          "count": 362429,
          "dataType": "string",
          "distinctCount": 7,
          "topK": [
           {
            "count": 280,
            "value": "4"
           },
           {
            "count": 2,
            "value": "99"
           },
           {
            "count": 8753,
            "value": "5"
           },
           {
            "count": 2,
            "value": "6"
           },
           {
            "count": 352351,
            "value": "1"
           },
           {
            "count": 849,
            "value": "2"
           },
           {
            "count": 192,
            "value": "3"
           }
          ]
         }
        },
        {
         "column": "VendorID",
         "profile": {
          "advanceProperty": {
           "typeInferBoolean": 0,
           "typeInferDatetime": 0,
           "typeInferFractional": 0,
           "typeInferIntegral": 0.806293659621802,
           "typeInferString": 0,
           "typeInferUnknown": 0.193706340378198
          },
          "column": "VendorID",
          "completeness": 0.806293659621802,
          "count": 362429,
          "dataType": "string",
          "distinctCount": 2,
          "topK": [
           {
            "count": 301492,
            "value": "2"
           },
           {
            "count": 60937,
            "value": "1"
           }
          ]
         }
        },
        {
         "column": "trip_type",
         "profile": {
          "advanceProperty": {
           "typeInferBoolean": 0,
           "typeInferDatetime": 0,
           "typeInferFractional": 0,
           "typeInferIntegral": 0.806293659621802,
           "typeInferString": 0,
           "typeInferUnknown": 0.193706340378198
          },
          "column": "trip_type",
          "completeness": 0.806293659621802,
          "count": 362429,
          "dataType": "string",
          "distinctCount": 2,
          "topK": [
           {
            "count": 353712,
            "value": "1"
           },
           {
            "count": 8717,
            "value": "2"
           }
          ]
         }
        },
        {
         "column": "tip_amount",
         "profile": {
          "advanceProperty": {
           "typeInferBoolean": 0,
           "typeInferDatetime": 0,
           "typeInferFractional": 0.2887563959955506,
           "typeInferIntegral": 0.7112436040044494,
           "typeInferString": 0,
           "typeInferUnknown": 0
          },
          "column": "tip_amount",
          "completeness": 1,
          "count": 449500,
          "dataType": "string",
          "distinctCount": 1559,
          "topK": [
           {
            "count": 388,
            "value": "2.21"
           },
           {
            "count": 527,
            "value": "1.32"
           },
           {
            "count": 703,
            "value": "2.32"
           },
           {
            "count": 668,
            "value": "3.31"
           },
           {
            "count": 821,
            "value": "3.06"
           },
           {
            "count": 1379,
            "value": "1.2"
           },
           {
            "count": 3374,
            "value": "1.46"
           },
           {
            "count": 545,
            "value": "3.41"
           },
           {
            "count": 360,
            "value": "1.08"
           },
           {
            "count": 418,
            "value": "1.35"
           },
           {
            "count": 1448,
            "value": "4"
           },
           {
            "count": 725,
            "value": "3.01"
           },
           {
            "count": 622,
            "value": "2.95"
           },
           {
            "count": 795,
            "value": "1.58"
           },
           {
            "count": 457,
            "value": "2.82"
           },
           {
            "count": 1218,
            "value": "2.76"
           },
           {
            "count": 681,
            "value": "2.71"
           },
           {
            "count": 738,
            "value": "1.82"
           },
           {
            "count": 760,
            "value": "3.16"
           },
           {
            "count": 1357,
            "value": "1.95"
           },
           {
            "count": 1220,
            "value": "2.66"
           },
           {
            "count": 417,
            "value": "0.5"
           },
           {
            "count": 1626,
            "value": "2.36"
           },
           {
            "count": 454,
            "value": "3.81"
           },
           {
            "count": 3027,
            "value": "1.66"
           },
           {
            "count": 1377,
            "value": "2.56"
           },
           {
            "count": 826,
            "value": "0.96"
           },
           {
            "count": 1132,
            "value": "2.45"
           },
           {
            "count": 610,
            "value": "3.51"
           },
           {
            "count": 1973,
            "value": "2.16"
           },
           {
            "count": 401,
            "value": "2.05"
           },
           {
            "count": 1121,
            "value": "1.45"
           },
           {
            "count": 575,
            "value": "3.36"
           },
           {
            "count": 551,
            "value": "2.41"
           },
           {
            "count": 530,
            "value": "2.51"
           },
           {
            "count": 392,
            "value": "4.51"
           },
           {
            "count": 458,
            "value": "1.75"
           },
           {
            "count": 651,
            "value": "2.81"
           },
           {
            "count": 1762,
            "value": "5"
           },
           {
            "count": 760,
            "value": "2.7"
           },
           {
            "count": 763,
            "value": "3.26"
           },
           {
            "count": 452,
            "value": "3.91"
           },
           {
            "count": 2489,
            "value": "1.96"
           },
           {
            "count": 427,
            "value": "1.85"
           },
           {
            "count": 2891,
            "value": "1.26"
           },
           {
            "count": 551,
            "value": "3.46"
           },
           {
            "count": 393,
            "value": "2.31"
           },
           {
            "count": 418,
            "value": "3.5"
           },
           {
            "count": 404,
            "value": "3.45"
           },
           {
            "count": 665,
            "value": "3.11"
           },
           {
            "count": 581,
            "value": "1.55"
           },
           {
            "count": 1999,
            "value": "1.5"
           },
           {
            "count": 440,
            "value": "3.56"
           },
           {
            "count": 517,
            "value": "1.74"
           },
           {
            "count": 560,
            "value": "2.61"
           },
           {
            "count": 2170,
            "value": "2.06"
           },
           {
            "count": 1459,
            "value": "2.46"
           },
           {
            "count": 11967,
            "value": "1"
           },
           {
            "count": 408,
            "value": "1.65"
           },
           {
            "count": 428,
            "value": "3.08"
           },
           {
            "count": 839,
            "value": "2.96"
           },
           {
            "count": 2827,
            "value": "1.76"
           },
           {
            "count": 504,
            "value": "0.01"
           },
           {
            "count": 517,
            "value": "3.61"
           },
           {
            "count": 595,
            "value": "2.91"
           },
           {
            "count": 608,
            "value": "1.89"
           },
           {
            "count": 363,
            "value": "1.59"
           },
           {
            "count": 606,
            "value": "3.21"
           },
           {
            "count": 290746,
            "value": "0"
           },
           {
            "count": 8612,
            "value": "2"
           },
           {
            "count": 2601,
            "value": "1.86"
           },
           {
            "count": 471,
            "value": "2.64"
           },
           {
            "count": 3258,
            "value": "1.56"
           },
           {
            "count": 1577,
            "value": "1.7"
           },
           {
            "count": 2295,
            "value": "1.16"
           },
           {
            "count": 478,
            "value": "2.49"
           },
           {
            "count": 579,
            "value": "2.34"
           },
           {
            "count": 476,
            "value": "2.58"
           },
           {
            "count": 372,
            "value": "2.79"
           },
           {
            "count": 583,
            "value": "3.2"
           },
           {
            "count": 1085,
            "value": "2.86"
           },
           {
            "count": 1005,
            "value": "2.5"
           },
           {
            "count": 418,
            "value": "3.66"
           },
           {
            "count": 541,
            "value": "3.76"
           },
           {
            "count": 528,
            "value": "4.01"
           },
           {
            "count": 366,
            "value": "2.11"
           },
           {
            "count": 360,
            "value": "4.21"
           },
           {
            "count": 3668,
            "value": "3"
           },
           {
            "count": 535,
            "value": "3.71"
           },
           {
            "count": 704,
            "value": "2.04"
           },
           {
            "count": 3177,
            "value": "1.36"
           },
           {
            "count": 529,
            "value": "0.7"
           },
           {
            "count": 1867,
            "value": "2.26"
           },
           {
            "count": 1539,
            "value": "1.06"
           },
           {
            "count": 1410,
            "value": "2.2"
           },
           {
            "count": 708,
            "value": "2.19"
           },
           {
            "count": 355,
            "value": "4.11"
           },
           {
            "count": 979,
            "value": "2.08"
           },
           {
            "count": 365,
            "value": "4.31"
           },
           {
            "count": 614,
            "value": "1.25"
           }
          ]
         }
        },
        {
         "column": "payment_type",
         "profile": {
          "advanceProperty": {
           "typeInferBoolean": 0,
           "typeInferDatetime": 0,
           "typeInferFractional": 0,
           "typeInferIntegral": 0.806293659621802,
           "typeInferString": 0,
           "typeInferUnknown": 0.193706340378198
          },
          "column": "payment_type",
          "completeness": 0.806293659621802,
          "count": 362429,
          "dataType": "string",
          "distinctCount": 5,
          "topK": [
           {
            "count": 836,
            "value": "4"
           },
           {
            "count": 7,
            "value": "5"
           },
           {
            "count": 198258,
            "value": "1"
           },
           {
            "count": 161417,
            "value": "2"
           },
           {
            "count": 1911,
            "value": "3"
           }
          ]
         }
        },
        {
         "column": "fare_amount",
         "profile": {
          "advanceProperty": {
           "typeInferBoolean": 0,
           "typeInferDatetime": 0,
           "typeInferFractional": 0.5898598442714127,
           "typeInferIntegral": 0.4101401557285873,
           "typeInferString": 0,
           "typeInferUnknown": 0
          },
          "column": "fare_amount",
          "completeness": 1,
          "count": 449500,
          "dataType": "string",
          "distinctCount": 5213,
          "topK": [
           {
            "count": 431,
            "value": "34"
           },
           {
            "count": 2645,
            "value": "19.5"
           },
           {
            "count": 473,
            "value": "16.23"
           },
           {
            "count": 429,
            "value": "30.2"
           },
           {
            "count": 8799,
            "value": "12"
           },
           {
            "count": 1638,
            "value": "23.5"
           },
           {
            "count": 1269,
            "value": "25.5"
           },
           {
            "count": 398,
            "value": "34.5"
           },
           {
            "count": 15819,
            "value": "8"
           },
           {
            "count": 425,
            "value": "23.01"
           },
           {
            "count": 582,
            "value": "36.25"
           },
           {
            "count": 512,
            "value": "15.23"
           },
           {
            "count": 2721,
            "value": "19"
           },
           {
            "count": 1831,
            "value": "23"
           },
           {
            "count": 508,
            "value": "21.37"
           },
           {
            "count": 842,
            "value": "28.2"
           },
           {
            "count": 8835,
            "value": "4"
           },
           {
            "count": 449,
            "value": "40"
           },
           {
            "count": 400,
            "value": "39.75"
           },
           {
            "count": 4434,
            "value": "15.5"
           },
           {
            "count": 5613,
            "value": "15"
           },
           {
            "count": 9784,
            "value": "11"
           },
           {
            "count": 13303,
            "value": "9"
           },
           {
            "count": 458,
            "value": "32.5"
           },
           {
            "count": 705,
            "value": "32.75"
           },
           {
            "count": 12533,
            "value": "4.5"
           },
           {
            "count": 469,
            "value": "33"
           },
           {
            "count": 13662,
            "value": "8.5"
           },
           {
            "count": 1759,
            "value": "16.53"
           },
           {
            "count": 392,
            "value": "28.54"
           },
           {
            "count": 472,
            "value": "13.75"
           },
           {
            "count": 2024,
            "value": "22"
           },
           {
            "count": 1186,
            "value": "26"
           },
           {
            "count": 11721,
            "value": "9.5"
           },
           {
            "count": 6058,
            "value": "13.5"
           },
           {
            "count": 7237,
            "value": "13"
           },
           {
            "count": 2184,
            "value": "20.5"
           },
           {
            "count": 584,
            "value": "26.2"
           },
           {
            "count": 5227,
            "value": "14.5"
           },
           {
            "count": 411,
            "value": "19.86"
           },
           {
            "count": 1530,
            "value": "24"
           },
           {
            "count": 1270,
            "value": "23.11"
           },
           {
            "count": 1002,
            "value": "22.25"
           },
           {
            "count": 595,
            "value": "35"
           },
           {
            "count": 4286,
            "value": "16"
           },
           {
            "count": 16145,
            "value": "5"
           },
           {
            "count": 680,
            "value": "30.5"
           },
           {
            "count": 12281,
            "value": "10"
           },
           {
            "count": 625,
            "value": "23.63"
           },
           {
            "count": 8559,
            "value": "11.5"
           },
           {
            "count": 423,
            "value": "33.5"
           },
           {
            "count": 765,
            "value": "29.25"
           },
           {
            "count": 1104,
            "value": "27.5"
           },
           {
            "count": 4398,
            "value": "3.5"
           },
           {
            "count": 2172,
            "value": "21"
           },
           {
            "count": 790,
            "value": "28.5"
           },
           {
            "count": 1029,
            "value": "25.75"
           },
           {
            "count": 1140,
            "value": "26.5"
           },
           {
            "count": 544,
            "value": "32"
           },
           {
            "count": 752,
            "value": "29.5"
           },
           {
            "count": 2831,
            "value": "18.5"
           },
           {
            "count": 952,
            "value": "22.2"
           },
           {
            "count": 18486,
            "value": "6"
           },
           {
            "count": 15656,
            "value": "7.5"
           },
           {
            "count": 397,
            "value": "43.25"
           },
           {
            "count": 3814,
            "value": "17"
           },
           {
            "count": 1659,
            "value": "25"
           },
           {
            "count": 829,
            "value": "20.73"
           },
           {
            "count": 797,
            "value": "18.95"
           },
           {
            "count": 5999,
            "value": "14"
           },
           {
            "count": 629,
            "value": "31"
           },
           {
            "count": 2014,
            "value": "21.5"
           },
           {
            "count": 17801,
            "value": "6.5"
           },
           {
            "count": 3290,
            "value": "17.5"
           },
           {
            "count": 1129,
            "value": "21.17"
           },
           {
            "count": 459,
            "value": "22.59"
           },
           {
            "count": 474,
            "value": "17.49"
           },
           {
            "count": 1232,
            "value": "0"
           },
           {
            "count": 3052,
            "value": "20"
           },
           {
            "count": 1083,
            "value": "27"
           },
           {
            "count": 7508,
            "value": "12.5"
           },
           {
            "count": 696,
            "value": "24.2"
           },
           {
            "count": 3443,
            "value": "2.5"
           },
           {
            "count": 420,
            "value": "21.25"
           },
           {
            "count": 17222,
            "value": "5.5"
           },
           {
            "count": 786,
            "value": "18.38"
           },
           {
            "count": 3250,
            "value": "18"
           },
           {
            "count": 411,
            "value": "15.69"
           },
           {
            "count": 985,
            "value": "30"
           },
           {
            "count": 17689,
            "value": "7"
           },
           {
            "count": 812,
            "value": "29"
           },
           {
            "count": 1758,
            "value": "3"
           },
           {
            "count": 540,
            "value": "31.5"
           },
           {
            "count": 956,
            "value": "52"
           },
           {
            "count": 1405,
            "value": "24.5"
           },
           {
            "count": 10276,
            "value": "10.5"
           },
           {
            "count": 1004,
            "value": "28"
           },
           {
            "count": 1806,
            "value": "22.5"
           },
           {
            "count": 465,
            "value": "16.63"
           },
           {
            "count": 3773,
            "value": "16.5"
           }
          ]
         }
        },
        {
         "column": "lpep_pickup_datetime",
         "profile": {
          "advanceProperty": {
           "typeInferBoolean": 0,
           "typeInferDatetime": 1,
           "typeInferFractional": 0,
           "typeInferIntegral": 0,
           "typeInferString": 0,
           "typeInferUnknown": 0
          },
          "column": "lpep_pickup_datetime",
          "completeness": 1,
          "count": 449500,
          "dataType": "string",
          "distinctCount": 368561,
          "topK": [
           {
            "count": 7,
            "value": "2019-11-26 11:59:00"
           },
           {
            "count": 9,
            "value": "2019-11-25 09:25:00"
           },
           {
            "count": 9,
            "value": "2019-11-25 12:41:00"
           },
           {
            "count": 6,
            "value": "2019-11-27 18:10:00"
           },
           {
            "count": 7,
            "value": "2019-11-01 11:25:00"
           },
           {
            "count": 7,
            "value": "2019-11-25 08:16:00"
           },
           {
            "count": 7,
            "value": "2019-11-27 10:34:00"
           },
           {
            "count": 8,
            "value": "2019-11-27 11:12:00"
           },
           {
            "count": 7,
            "value": "2019-11-26 11:43:00"
           },
           {
            "count": 7,
            "value": "2019-11-25 17:35:00"
           },
           {
            "count": 9,
            "value": "2019-11-27 10:06:00"
           },
           {
            "count": 7,
            "value": "2019-11-02 12:41:00"
           },
           {
            "count": 6,
            "value": "2019-11-26 11:48:00"
           },
           {
            "count": 8,
            "value": "2019-11-01 09:47:00"
           },
           {
            "count": 6,
            "value": "2019-11-26 12:06:00"
           },
           {
            "count": 7,
            "value": "2019-11-26 13:01:00"
           },
           {
            "count": 10,
            "value": "2019-11-26 10:36:00"
           },
           {
            "count": 7,
            "value": "2019-11-26 10:35:00"
           },
           {
            "count": 9,
            "value": "2019-11-26 14:04:00"
           },
           {
            "count": 8,
            "value": "2019-11-27 15:27:00"
           },
           {
            "count": 8,
            "value": "2019-11-25 15:04:00"
           },
           {
            "count": 7,
            "value": "2019-11-27 13:49:00"
           },
           {
            "count": 7,
            "value": "2019-11-27 11:15:00"
           },
           {
            "count": 13,
            "value": "2019-11-27 14:34:00"
           },
           {
            "count": 7,
            "value": "2019-11-26 09:41:00"
           },
           {
            "count": 7,
            "value": "2019-11-26 15:26:00"
           },
           {
            "count": 7,
            "value": "2019-11-20 10:31:00"
           },
           {
            "count": 6,
            "value": "2019-11-25 11:56:00"
           },
           {
            "count": 7,
            "value": "2019-11-01 08:23:00"
           },
           {
            "count": 7,
            "value": "2019-11-25 12:58:00"
           },
           {
            "count": 6,
            "value": "2019-11-25 09:30:00"
           },
           {
            "count": 6,
            "value": "2019-11-25 08:52:00"
           },
           {
            "count": 6,
            "value": "2019-11-24 15:11:00"
           },
           {
            "count": 7,
            "value": "2019-11-26 09:52:00"
           },
           {
            "count": 10,
            "value": "2019-11-01 09:04:00"
           },
           {
            "count": 6,
            "value": "2019-11-25 12:08:00"
           },
           {
            "count": 7,
            "value": "2019-11-24 10:17:00"
           },
           {
            "count": 6,
            "value": "2019-11-01 09:22:00"
           },
           {
            "count": 6,
            "value": "2019-11-27 10:26:00"
           },
           {
            "count": 6,
            "value": "2019-11-26 09:51:00"
           },
           {
            "count": 7,
            "value": "2019-11-26 13:21:00"
           },
           {
            "count": 8,
            "value": "2019-11-26 13:39:00"
           },
           {
            "count": 7,
            "value": "2019-11-25 16:06:00"
           },
           {
            "count": 7,
            "value": "2019-11-26 14:03:00"
           },
           {
            "count": 8,
            "value": "2019-11-01 15:01:00"
           },
           {
            "count": 7,
            "value": "2019-11-25 08:55:00"
           },
           {
            "count": 6,
            "value": "2019-11-24 12:14:00"
           },
           {
            "count": 7,
            "value": "2019-11-25 09:59:00"
           },
           {
            "count": 6,
            "value": "2019-11-01 12:16:00"
           },
           {
            "count": 8,
            "value": "2019-11-27 11:57:00"
           },
           {
            "count": 7,
            "value": "2019-11-26 09:20:00"
           },
           {
            "count": 6,
            "value": "2019-11-24 09:44:00"
           },
           {
            "count": 8,
            "value": "2019-11-26 15:30:00"
           },
           {
            "count": 7,
            "value": "2019-11-01 07:31:00"
           },
           {
            "count": 7,
            "value": "2019-11-01 10:42:00"
           },
           {
            "count": 6,
            "value": "2019-11-25 08:30:00"
           },
           {
            "count": 8,
            "value": "2019-11-26 13:10:00"
           },
           {
            "count": 6,
            "value": "2019-11-24 13:19:00"
           },
           {
            "count": 6,
            "value": "2019-11-01 11:17:00"
           },
           {
            "count": 9,
            "value": "2019-11-25 12:28:00"
           },
           {
            "count": 7,
            "value": "2019-11-01 10:29:00"
           },
           {
            "count": 7,
            "value": "2019-11-26 14:52:00"
           },
           {
            "count": 7,
            "value": "2019-11-25 14:09:00"
           },
           {
            "count": 9,
            "value": "2019-11-26 10:16:00"
           },
           {
            "count": 7,
            "value": "2019-11-26 14:25:00"
           },
           {
            "count": 6,
            "value": "2019-11-06 15:45:00"
           },
           {
            "count": 7,
            "value": "2019-11-01 17:07:00"
           },
           {
            "count": 7,
            "value": "2019-11-26 07:30:00"
           },
           {
            "count": 7,
            "value": "2019-11-25 11:09:00"
           },
           {
            "count": 7,
            "value": "2019-11-25 12:55:00"
           },
           {
            "count": 6,
            "value": "2019-11-26 12:01:00"
           },
           {
            "count": 7,
            "value": "2019-11-01 10:28:00"
           },
           {
            "count": 8,
            "value": "2019-11-26 10:25:00"
           },
           {
            "count": 7,
            "value": "2019-11-25 10:00:00"
           },
           {
            "count": 7,
            "value": "2019-11-27 10:14:00"
           },
           {
            "count": 7,
            "value": "2019-11-25 14:54:00"
           },
           {
            "count": 7,
            "value": "2019-11-25 11:21:00"
           },
           {
            "count": 6,
            "value": "2019-11-25 10:34:00"
           },
           {
            "count": 7,
            "value": "2019-11-26 10:00:00"
           },
           {
            "count": 6,
            "value": "2019-11-27 11:50:00"
           },
           {
            "count": 7,
            "value": "2019-11-27 11:11:00"
           },
           {
            "count": 7,
            "value": "2019-11-25 09:29:00"
           },
           {
            "count": 7,
            "value": "2019-11-26 13:47:00"
           },
           {
            "count": 7,
            "value": "2019-11-25 10:49:00"
           },
           {
            "count": 7,
            "value": "2019-11-25 11:52:00"
           },
           {
            "count": 7,
            "value": "2019-11-25 11:23:00"
           },
           {
            "count": 6,
            "value": "2019-11-27 11:26:00"
           },
           {
            "count": 9,
            "value": "2019-11-24 13:32:00"
           },
           {
            "count": 7,
            "value": "2019-11-26 10:09:00"
           },
           {
            "count": 6,
            "value": "2019-11-26 12:39:00"
           },
           {
            "count": 8,
            "value": "2019-11-27 12:50:00"
           },
           {
            "count": 10,
            "value": "2019-11-27 12:02:00"
           },
           {
            "count": 8,
            "value": "2019-11-26 10:05:00"
           },
           {
            "count": 8,
            "value": "2019-11-25 11:01:00"
           },
           {
            "count": 8,
            "value": "2019-11-25 15:56:00"
           },
           {
            "count": 6,
            "value": "2019-11-01 09:48:00"
           },
           {
            "count": 7,
            "value": "2019-11-01 14:21:00"
           },
           {
            "count": 8,
            "value": "2019-11-01 10:10:00"
           },
           {
            "count": 7,
            "value": "2019-11-26 09:44:00"
           },
           {
            "count": 7,
            "value": "2019-11-01 09:54:00"
           }
          ]
         }
        },
        {
         "column": "passenger_count",
         "profile": {
          "advanceProperty": {
           "typeInferBoolean": 0,
           "typeInferDatetime": 0,
           "typeInferFractional": 0,
           "typeInferIntegral": 0.806293659621802,
           "typeInferString": 0,
           "typeInferUnknown": 0.193706340378198
          },
          "column": "passenger_count",
          "completeness": 0.806293659621802,
          "count": 362429,
          "dataType": "string",
          "distinctCount": 10,
          "topK": [
           {
            "count": 11,
            "value": "8"
           },
           {
            "count": 1875,
            "value": "4"
           },
           {
            "count": 2,
            "value": "9"
           },
           {
            "count": 10354,
            "value": "5"
           },
           {
            "count": 6112,
            "value": "6"
           },
           {
            "count": 311239,
            "value": "1"
           },
           {
            "count": 707,
            "value": "0"
           },
           {
            "count": 26915,
            "value": "2"
           },
           {
            "count": 5,
            "value": "7"
           },
           {
            "count": 5209,
            "value": "3"
           }
          ]
         }
        },
        {
         "column": "store_and_fwd_flag",
         "profile": {
          "advanceProperty": {
           "typeInferBoolean": 0,
           "typeInferDatetime": 0,
           "typeInferFractional": 0,
           "typeInferIntegral": 0,
           "typeInferString": 0.806293659621802,
           "typeInferUnknown": 0.193706340378198
          },
          "column": "store_and_fwd_flag",
          "completeness": 0.806293659621802,
          "count": 362429,
          "dataType": "string",
          "distinctCount": 2,
          "topK": [
           {
            "count": 361223,
            "value": "N"
           },
           {
            "count": 1206,
            "value": "Y"
           }
          ]
         }
        },
        {
         "column": "extra",
         "profile": {
          "advanceProperty": {
           "typeInferBoolean": 0,
           "typeInferDatetime": 0,
           "typeInferFractional": 0.42590433815350387,
           "typeInferIntegral": 0.5740956618464961,
           "typeInferString": 0,
           "typeInferUnknown": 0
          },
          "column": "extra",
          "completeness": 1,
          "count": 449500,
          "dataType": "string",
          "distinctCount": 12,
          "topK": [
           {
            "count": 393,
            "value": "-0.5"
           },
           {
            "count": 356,
            "value": "8.25"
           },
           {
            "count": 153,
            "value": "4.5"
           },
           {
            "count": 98477,
            "value": "0.5"
           },
           {
            "count": 5,
            "value": "-4.5"
           },
           {
            "count": 61011,
            "value": "1"
           },
           {
            "count": 1575,
            "value": "3.75"
           },
           {
            "count": 196872,
            "value": "0"
           },
           {
            "count": 2115,
            "value": "3.25"
           },
           {
            "count": 4406,
            "value": "5.5"
           },
           {
            "count": 173,
            "value": "-1"
           },
           {
            "count": 83964,
            "value": "2.75"
           }
          ]
         }
        },
        {
         "column": "ehail_fee",
         "profile": {
          "advanceProperty": {
           "typeInferBoolean": 0,
           "typeInferDatetime": 0,
           "typeInferFractional": 0,
           "typeInferIntegral": 0,
           "typeInferString": 0,
           "typeInferUnknown": 1
          },
          "column": "ehail_fee",
          "completeness": 0,
          "count": 0,
          "dataType": "string",
          "distinctCount": 0,
          "topK": []
         }
        },
        {
         "column": "congestion_surcharge",
         "profile": {
          "advanceProperty": {
           "typeInferBoolean": 0,
           "typeInferDatetime": 0,
           "typeInferFractional": 0.13173526140155728,
           "typeInferIntegral": 0.6745583982202448,
           "typeInferString": 0,
           "typeInferUnknown": 0.193706340378198
          },
          "column": "congestion_surcharge",
          "completeness": 0.806293659621802,
          "count": 362429,
          "dataType": "string",
          "distinctCount": 5,
          "topK": [
           {
            "count": 7,
            "value": "-2.75"
           },
           {
            "count": 4,
            "value": "0.75"
           },
           {
            "count": 303214,
            "value": "0"
           },
           {
            "count": 102,
            "value": "2.5"
           },
           {
            "count": 59102,
            "value": "2.75"
           }
          ]
         }
        },
        {
         "column": "total_amount",
         "profile": {
          "advanceProperty": {
           "typeInferBoolean": 0,
           "typeInferDatetime": 0,
           "typeInferFractional": 0.9530767519466073,
           "typeInferIntegral": 0.04692324805339266,
           "typeInferString": 0,
           "typeInferUnknown": 0
          },
          "column": "total_amount",
          "completeness": 1,
          "count": 449500,
          "dataType": "string",
          "distinctCount": 5953,
          "topK": [
           {
            "count": 1973,
            "value": "17.8"
           },
           {
            "count": 4841,
            "value": "12.3"
           },
           {
            "count": 6719,
            "value": "10.8"
           },
           {
            "count": 9381,
            "value": "6.3"
           },
           {
            "count": 1902,
            "value": "12.96"
           },
           {
            "count": 732,
            "value": "18.48"
           },
           {
            "count": 768,
            "value": "12"
           },
           {
            "count": 887,
            "value": "26.88"
           },
           {
            "count": 1133,
            "value": "25.5"
           },
           {
            "count": 897,
            "value": "8"
           },
           {
            "count": 9598,
            "value": "8.8"
           },
           {
            "count": 793,
            "value": "5.76"
           },
           {
            "count": 2798,
            "value": "15.3"
           },
           {
            "count": 1960,
            "value": "17.3"
           },
           {
            "count": 990,
            "value": "23"
           },
           {
            "count": 1354,
            "value": "19.8"
           },
           {
            "count": 716,
            "value": "23.8"
           },
           {
            "count": 1574,
            "value": "14.16"
           },
           {
            "count": 4127,
            "value": "4.8"
           },
           {
            "count": 10473,
            "value": "7.3"
           },
           {
            "count": 1629,
            "value": "18.3"
           },
           {
            "count": 1255,
            "value": "11"
           },
           {
            "count": 903,
            "value": "32.5"
           },
           {
            "count": 2213,
            "value": "6.96"
           },
           {
            "count": 10913,
            "value": "7.8"
           },
           {
            "count": 815,
            "value": "17.76"
           },
           {
            "count": 1041,
            "value": "8.5"
           },
           {
            "count": 812,
            "value": "12.25"
           },
           {
            "count": 726,
            "value": "17.05"
           },
           {
            "count": 989,
            "value": "17.16"
           },
           {
            "count": 1392,
            "value": "14.76"
           },
           {
            "count": 830,
            "value": "22.8"
           },
           {
            "count": 6130,
            "value": "5.3"
           },
           {
            "count": 781,
            "value": "18.36"
           },
           {
            "count": 802,
            "value": "15.05"
           },
           {
            "count": 3270,
            "value": "14.8"
           },
           {
            "count": 8115,
            "value": "9.8"
           },
           {
            "count": 974,
            "value": "9.75"
           },
           {
            "count": 2082,
            "value": "12.36"
           },
           {
            "count": 1319,
            "value": "10"
           },
           {
            "count": 732,
            "value": "17.55"
           },
           {
            "count": 2483,
            "value": "19.78"
           },
           {
            "count": 1655,
            "value": "3.8"
           },
           {
            "count": 902,
            "value": "10.38"
           },
           {
            "count": 816,
            "value": "22.3"
           },
           {
            "count": 10507,
            "value": "6.8"
           },
           {
            "count": 1163,
            "value": "15.96"
           },
           {
            "count": 1567,
            "value": "24.42"
           },
           {
            "count": 3163,
            "value": "9.36"
           },
           {
            "count": 2699,
            "value": "10.56"
           },
           {
            "count": 1106,
            "value": "22.2"
           },
           {
            "count": 1737,
            "value": "3.3"
           },
           {
            "count": 2513,
            "value": "11.16"
           },
           {
            "count": 2876,
            "value": "9.96"
           },
           {
            "count": 958,
            "value": "36"
           },
           {
            "count": 4651,
            "value": "12.8"
           },
           {
            "count": 808,
            "value": "17"
           },
           {
            "count": 894,
            "value": "25"
           },
           {
            "count": 3061,
            "value": "8.16"
           },
           {
            "count": 2216,
            "value": "16.8"
           },
           {
            "count": 9928,
            "value": "8.3"
           },
           {
            "count": 1406,
            "value": "19.3"
           },
           {
            "count": 4036,
            "value": "13.3"
           },
           {
            "count": 3388,
            "value": "14.3"
           },
           {
            "count": 757,
            "value": "15.55"
           },
           {
            "count": 1103,
            "value": "16.56"
           },
           {
            "count": 860,
            "value": "13.55"
           },
           {
            "count": 1176,
            "value": "0"
           },
           {
            "count": 1257,
            "value": "15.36"
           },
           {
            "count": 749,
            "value": "23.3"
           },
           {
            "count": 729,
            "value": "21.66"
           },
           {
            "count": 1613,
            "value": "18.8"
           },
           {
            "count": 768,
            "value": "18.05"
           },
           {
            "count": 3853,
            "value": "13.8"
           },
           {
            "count": 7139,
            "value": "10.3"
           },
           {
            "count": 1205,
            "value": "20.8"
           },
           {
            "count": 1133,
            "value": "21.8"
           },
           {
            "count": 1316,
            "value": "20.3"
           },
           {
            "count": 1377,
            "value": "21.3"
           },
           {
            "count": 778,
            "value": "39.5"
           },
           {
            "count": 8131,
            "value": "5.8"
           },
           {
            "count": 1662,
            "value": "13.56"
           },
           {
            "count": 2662,
            "value": "15.8"
           },
           {
            "count": 1067,
            "value": "21.63"
           },
           {
            "count": 746,
            "value": "10.55"
           },
           {
            "count": 1145,
            "value": "23.98"
           },
           {
            "count": 2275,
            "value": "16.3"
           },
           {
            "count": 1492,
            "value": "6.36"
           },
           {
            "count": 1944,
            "value": "29"
           },
           {
            "count": 3272,
            "value": "8.76"
           },
           {
            "count": 2566,
            "value": "4.3"
           },
           {
            "count": 6018,
            "value": "11.3"
           },
           {
            "count": 8500,
            "value": "9.3"
           },
           {
            "count": 5699,
            "value": "11.8"
           },
           {
            "count": 735,
            "value": "9.12"
           },
           {
            "count": 1851,
            "value": "26.36"
           },
           {
            "count": 2826,
            "value": "7.56"
           },
           {
            "count": 2297,
            "value": "11.76"
           },
           {
            "count": 705,
            "value": "9.49"
           },
           {
            "count": 893,
            "value": "16.55"
           }
          ]
         }
        },
        {
         "column": "mta_tax",
         "profile": {
          "advanceProperty": {
           "typeInferBoolean": 0,
           "typeInferDatetime": 0,
           "typeInferFractional": 0.9770255839822024,
           "typeInferIntegral": 0.022974416017797553,
           "typeInferString": 0,
           "typeInferUnknown": 0
          },
          "column": "mta_tax",
          "completeness": 1,
          "count": 449500,
          "dataType": "string",
          "distinctCount": 4,
          "topK": [
           {
            "count": 438097,
            "value": "0.5"
           },
           {
            "count": 10327,
            "value": "0"
           },
           {
            "count": 1074,
            "value": "-0.5"
           },
           {
            "count": 2,
            "value": "3.55"
           }
          ]
         }
        }
       ],
       "dataFrameAdvanceMetrics": {},
       "insights": [
        {
         "data": {
          "MissingRate": "19.37%"
         },
         "description": "There are too many null in column 'RatecodeID'(missing rate: 19.37%). They might point to bugs in data collection and processing.",
         "entity": "Column",
         "helpLink": "",
         "instances": [
          "RatecodeID"
         ],
         "level": "Warn",
         "name": "High Missing Rate In Column 'RatecodeID'.",
         "suggestedOperations": {}
        },
        {
         "data": {
          "MissingRate": "19.37%"
         },
         "description": "There are too many null in column 'VendorID'(missing rate: 19.37%). They might point to bugs in data collection and processing.",
         "entity": "Column",
         "helpLink": "",
         "instances": [
          "VendorID"
         ],
         "level": "Warn",
         "name": "High Missing Rate In Column 'VendorID'.",
         "suggestedOperations": {}
        },
        {
         "data": {
          "MissingRate": "19.37%"
         },
         "description": "There are too many null in column 'trip_type'(missing rate: 19.37%). They might point to bugs in data collection and processing.",
         "entity": "Column",
         "helpLink": "",
         "instances": [
          "trip_type"
         ],
         "level": "Warn",
         "name": "High Missing Rate In Column 'trip_type'.",
         "suggestedOperations": {}
        },
        {
         "data": {
          "MissingRate": "19.37%"
         },
         "description": "There are too many null in column 'payment_type'(missing rate: 19.37%). They might point to bugs in data collection and processing.",
         "entity": "Column",
         "helpLink": "",
         "instances": [
          "payment_type"
         ],
         "level": "Warn",
         "name": "High Missing Rate In Column 'payment_type'.",
         "suggestedOperations": {}
        },
        {
         "data": {
          "MissingRate": "19.37%"
         },
         "description": "There are too many null in column 'passenger_count'(missing rate: 19.37%). They might point to bugs in data collection and processing.",
         "entity": "Column",
         "helpLink": "",
         "instances": [
          "passenger_count"
         ],
         "level": "Warn",
         "name": "High Missing Rate In Column 'passenger_count'.",
         "suggestedOperations": {}
        },
        {
         "data": {
          "MissingRate": "19.37%"
         },
         "description": "There are too many null in column 'store_and_fwd_flag'(missing rate: 19.37%). They might point to bugs in data collection and processing.",
         "entity": "Column",
         "helpLink": "",
         "instances": [
          "store_and_fwd_flag"
         ],
         "level": "Warn",
         "name": "High Missing Rate In Column 'store_and_fwd_flag'.",
         "suggestedOperations": {}
        },
        {
         "data": {
          "MissingRate": "100.00%"
         },
         "description": "There are too many null in column 'ehail_fee'(missing rate: 100.00%). They might point to bugs in data collection and processing.",
         "entity": "Column",
         "helpLink": "",
         "instances": [
          "ehail_fee"
         ],
         "level": "Warn",
         "name": "High Missing Rate In Column 'ehail_fee'.",
         "suggestedOperations": {}
        },
        {
         "data": {
          "MissingRate": "19.37%"
         },
         "description": "There are too many null in column 'congestion_surcharge'(missing rate: 19.37%). They might point to bugs in data collection and processing.",
         "entity": "Column",
         "helpLink": "",
         "instances": [
          "congestion_surcharge"
         ],
         "level": "Warn",
         "name": "High Missing Rate In Column 'congestion_surcharge'.",
         "suggestedOperations": {}
        },
        {
         "data": {
          "typeInferBoolean": "0.00%",
          "typeInferDatetime": "100.00%",
          "typeInferFractional": "0.00%",
          "typeInferIntegral": "0.00%",
          "typeInferString": "0.00%",
          "typeInferUnknown": "0.00%"
         },
         "description": "We detect the data type of column 'lpep_dropoff_datetime' may not match the String type. typeInferUnknown: 0.00%\ntypeInferBoolean: 0.00%\ntypeInferDatetime: 100.00%\ntypeInferString: 0.00%\ntypeInferIntegral: 0.00%\ntypeInferFractional: 0.00%\n",
         "entity": "Column",
         "helpLink": "",
         "instances": [
          "lpep_dropoff_datetime"
         ],
         "level": "Info",
         "name": "Schema suggestion for 'lpep_dropoff_datetime'.",
         "suggestedOperations": {}
        },
        {
         "data": {
          "typeInferBoolean": "0.00%",
          "typeInferDatetime": "0.00%",
          "typeInferFractional": "0.00%",
          "typeInferIntegral": "100.00%",
          "typeInferString": "0.00%",
          "typeInferUnknown": "0.00%"
         },
         "description": "We detect the data type of column 'DOLocationID' may not match the String type. typeInferUnknown: 0.00%\ntypeInferBoolean: 0.00%\ntypeInferDatetime: 0.00%\ntypeInferString: 0.00%\ntypeInferIntegral: 100.00%\ntypeInferFractional: 0.00%\n",
         "entity": "Column",
         "helpLink": "",
         "instances": [
          "DOLocationID"
         ],
         "level": "Info",
         "name": "Schema suggestion for 'DOLocationID'.",
         "suggestedOperations": {}
        },
        {
         "data": {
          "typeInferBoolean": "0.00%",
          "typeInferDatetime": "0.00%",
          "typeInferFractional": "83.16%",
          "typeInferIntegral": "16.84%",
          "typeInferString": "0.00%",
          "typeInferUnknown": "0.00%"
         },
         "description": "We detect the data type of column 'improvement_surcharge' may not match the String type. typeInferUnknown: 0.00%\ntypeInferBoolean: 0.00%\ntypeInferDatetime: 0.00%\ntypeInferString: 0.00%\ntypeInferIntegral: 16.84%\ntypeInferFractional: 83.16%\n",
         "entity": "Column",
         "helpLink": "",
         "instances": [
          "improvement_surcharge"
         ],
         "level": "Info",
         "name": "Schema suggestion for 'improvement_surcharge'.",
         "suggestedOperations": {}
        },
        {
         "data": {
          "typeInferBoolean": "0.00%",
          "typeInferDatetime": "0.00%",
          "typeInferFractional": "0.00%",
          "typeInferIntegral": "100.00%",
          "typeInferString": "0.00%",
          "typeInferUnknown": "0.00%"
         },
         "description": "We detect the data type of column 'PULocationID' may not match the String type. typeInferUnknown: 0.00%\ntypeInferBoolean: 0.00%\ntypeInferDatetime: 0.00%\ntypeInferString: 0.00%\ntypeInferIntegral: 100.00%\ntypeInferFractional: 0.00%\n",
         "entity": "Column",
         "helpLink": "",
         "instances": [
          "PULocationID"
         ],
         "level": "Info",
         "name": "Schema suggestion for 'PULocationID'.",
         "suggestedOperations": {}
        },
        {
         "data": {
          "typeInferBoolean": "0.00%",
          "typeInferDatetime": "0.00%",
          "typeInferFractional": "78.03%",
          "typeInferIntegral": "0.00%",
          "typeInferString": "21.97%",
          "typeInferUnknown": "0.00%"
         },
         "description": "We detect the data type of column 'trip_distance' may not match the String type. typeInferUnknown: 0.00%\ntypeInferBoolean: 0.00%\ntypeInferDatetime: 0.00%\ntypeInferString: 21.97%\ntypeInferIntegral: 0.00%\ntypeInferFractional: 78.03%\n",
         "entity": "Column",
         "helpLink": "",
         "instances": [
          "trip_distance"
         ],
         "level": "Info",
         "name": "Schema suggestion for 'trip_distance'.",
         "suggestedOperations": {}
        },
        {
         "data": {
          "typeInferBoolean": "0.00%",
          "typeInferDatetime": "0.00%",
          "typeInferFractional": "4.90%",
          "typeInferIntegral": "95.10%",
          "typeInferString": "0.00%",
          "typeInferUnknown": "0.00%"
         },
         "description": "We detect the data type of column 'tolls_amount' may not match the String type. typeInferUnknown: 0.00%\ntypeInferBoolean: 0.00%\ntypeInferDatetime: 0.00%\ntypeInferString: 0.00%\ntypeInferIntegral: 95.10%\ntypeInferFractional: 4.90%\n",
         "entity": "Column",
         "helpLink": "",
         "instances": [
          "tolls_amount"
         ],
         "level": "Info",
         "name": "Schema suggestion for 'tolls_amount'.",
         "suggestedOperations": {}
        },
        {
         "data": {
          "typeInferBoolean": "0.00%",
          "typeInferDatetime": "0.00%",
          "typeInferFractional": "0.00%",
          "typeInferIntegral": "80.63%",
          "typeInferString": "0.00%",
          "typeInferUnknown": "19.37%"
         },
         "description": "We detect the data type of column 'RatecodeID' may not match the String type. typeInferUnknown: 19.37%\ntypeInferBoolean: 0.00%\ntypeInferDatetime: 0.00%\ntypeInferString: 0.00%\ntypeInferIntegral: 80.63%\ntypeInferFractional: 0.00%\n",
         "entity": "Column",
         "helpLink": "",
         "instances": [
          "RatecodeID"
         ],
         "level": "Info",
         "name": "Schema suggestion for 'RatecodeID'.",
         "suggestedOperations": {}
        },
        {
         "data": {
          "typeInferBoolean": "0.00%",
          "typeInferDatetime": "0.00%",
          "typeInferFractional": "0.00%",
          "typeInferIntegral": "80.63%",
          "typeInferString": "0.00%",
          "typeInferUnknown": "19.37%"
         },
         "description": "We detect the data type of column 'VendorID' may not match the String type. typeInferUnknown: 19.37%\ntypeInferBoolean: 0.00%\ntypeInferDatetime: 0.00%\ntypeInferString: 0.00%\ntypeInferIntegral: 80.63%\ntypeInferFractional: 0.00%\n",
         "entity": "Column",
         "helpLink": "",
         "instances": [
          "VendorID"
         ],
         "level": "Info",
         "name": "Schema suggestion for 'VendorID'.",
         "suggestedOperations": {}
        },
        {
         "data": {
          "typeInferBoolean": "0.00%",
          "typeInferDatetime": "0.00%",
          "typeInferFractional": "0.00%",
          "typeInferIntegral": "80.63%",
          "typeInferString": "0.00%",
          "typeInferUnknown": "19.37%"
         },
         "description": "We detect the data type of column 'trip_type' may not match the String type. typeInferUnknown: 19.37%\ntypeInferBoolean: 0.00%\ntypeInferDatetime: 0.00%\ntypeInferString: 0.00%\ntypeInferIntegral: 80.63%\ntypeInferFractional: 0.00%\n",
         "entity": "Column",
         "helpLink": "",
         "instances": [
          "trip_type"
         ],
         "level": "Info",
         "name": "Schema suggestion for 'trip_type'.",
         "suggestedOperations": {}
        },
        {
         "data": {
          "typeInferBoolean": "0.00%",
          "typeInferDatetime": "0.00%",
          "typeInferFractional": "28.88%",
          "typeInferIntegral": "71.12%",
          "typeInferString": "0.00%",
          "typeInferUnknown": "0.00%"
         },
         "description": "We detect the data type of column 'tip_amount' may not match the String type. typeInferUnknown: 0.00%\ntypeInferBoolean: 0.00%\ntypeInferDatetime: 0.00%\ntypeInferString: 0.00%\ntypeInferIntegral: 71.12%\ntypeInferFractional: 28.88%\n",
         "entity": "Column",
         "helpLink": "",
         "instances": [
          "tip_amount"
         ],
         "level": "Info",
         "name": "Schema suggestion for 'tip_amount'.",
         "suggestedOperations": {}
        },
        {
         "data": {
          "typeInferBoolean": "0.00%",
          "typeInferDatetime": "0.00%",
          "typeInferFractional": "0.00%",
          "typeInferIntegral": "80.63%",
          "typeInferString": "0.00%",
          "typeInferUnknown": "19.37%"
         },
         "description": "We detect the data type of column 'payment_type' may not match the String type. typeInferUnknown: 19.37%\ntypeInferBoolean: 0.00%\ntypeInferDatetime: 0.00%\ntypeInferString: 0.00%\ntypeInferIntegral: 80.63%\ntypeInferFractional: 0.00%\n",
         "entity": "Column",
         "helpLink": "",
         "instances": [
          "payment_type"
         ],
         "level": "Info",
         "name": "Schema suggestion for 'payment_type'.",
         "suggestedOperations": {}
        },
        {
         "data": {
          "typeInferBoolean": "0.00%",
          "typeInferDatetime": "0.00%",
          "typeInferFractional": "58.99%",
          "typeInferIntegral": "41.01%",
          "typeInferString": "0.00%",
          "typeInferUnknown": "0.00%"
         },
         "description": "We detect the data type of column 'fare_amount' may not match the String type. typeInferUnknown: 0.00%\ntypeInferBoolean: 0.00%\ntypeInferDatetime: 0.00%\ntypeInferString: 0.00%\ntypeInferIntegral: 41.01%\ntypeInferFractional: 58.99%\n",
         "entity": "Column",
         "helpLink": "",
         "instances": [
          "fare_amount"
         ],
         "level": "Info",
         "name": "Schema suggestion for 'fare_amount'.",
         "suggestedOperations": {}
        },
        {
         "data": {
          "typeInferBoolean": "0.00%",
          "typeInferDatetime": "100.00%",
          "typeInferFractional": "0.00%",
          "typeInferIntegral": "0.00%",
          "typeInferString": "0.00%",
          "typeInferUnknown": "0.00%"
         },
         "description": "We detect the data type of column 'lpep_pickup_datetime' may not match the String type. typeInferUnknown: 0.00%\ntypeInferBoolean: 0.00%\ntypeInferDatetime: 100.00%\ntypeInferString: 0.00%\ntypeInferIntegral: 0.00%\ntypeInferFractional: 0.00%\n",
         "entity": "Column",
         "helpLink": "",
         "instances": [
          "lpep_pickup_datetime"
         ],
         "level": "Info",
         "name": "Schema suggestion for 'lpep_pickup_datetime'.",
         "suggestedOperations": {}
        },
        {
         "data": {
          "typeInferBoolean": "0.00%",
          "typeInferDatetime": "0.00%",
          "typeInferFractional": "0.00%",
          "typeInferIntegral": "80.63%",
          "typeInferString": "0.00%",
          "typeInferUnknown": "19.37%"
         },
         "description": "We detect the data type of column 'passenger_count' may not match the String type. typeInferUnknown: 19.37%\ntypeInferBoolean: 0.00%\ntypeInferDatetime: 0.00%\ntypeInferString: 0.00%\ntypeInferIntegral: 80.63%\ntypeInferFractional: 0.00%\n",
         "entity": "Column",
         "helpLink": "",
         "instances": [
          "passenger_count"
         ],
         "level": "Info",
         "name": "Schema suggestion for 'passenger_count'.",
         "suggestedOperations": {}
        },
        {
         "data": {
          "typeInferBoolean": "0.00%",
          "typeInferDatetime": "0.00%",
          "typeInferFractional": "42.59%",
          "typeInferIntegral": "57.41%",
          "typeInferString": "0.00%",
          "typeInferUnknown": "0.00%"
         },
         "description": "We detect the data type of column 'extra' may not match the String type. typeInferUnknown: 0.00%\ntypeInferBoolean: 0.00%\ntypeInferDatetime: 0.00%\ntypeInferString: 0.00%\ntypeInferIntegral: 57.41%\ntypeInferFractional: 42.59%\n",
         "entity": "Column",
         "helpLink": "",
         "instances": [
          "extra"
         ],
         "level": "Info",
         "name": "Schema suggestion for 'extra'.",
         "suggestedOperations": {}
        },
        {
         "data": {
          "typeInferBoolean": "0.00%",
          "typeInferDatetime": "0.00%",
          "typeInferFractional": "0.00%",
          "typeInferIntegral": "0.00%",
          "typeInferString": "0.00%",
          "typeInferUnknown": "100.00%"
         },
         "description": "We detect the data type of column 'ehail_fee' may not match the String type. typeInferUnknown: 100.00%\ntypeInferBoolean: 0.00%\ntypeInferDatetime: 0.00%\ntypeInferString: 0.00%\ntypeInferIntegral: 0.00%\ntypeInferFractional: 0.00%\n",
         "entity": "Column",
         "helpLink": "",
         "instances": [
          "ehail_fee"
         ],
         "level": "Info",
         "name": "Schema suggestion for 'ehail_fee'.",
         "suggestedOperations": {}
        },
        {
         "data": {
          "typeInferBoolean": "0.00%",
          "typeInferDatetime": "0.00%",
          "typeInferFractional": "13.17%",
          "typeInferIntegral": "67.46%",
          "typeInferString": "0.00%",
          "typeInferUnknown": "19.37%"
         },
         "description": "We detect the data type of column 'congestion_surcharge' may not match the String type. typeInferUnknown: 19.37%\ntypeInferBoolean: 0.00%\ntypeInferDatetime: 0.00%\ntypeInferString: 0.00%\ntypeInferIntegral: 67.46%\ntypeInferFractional: 13.17%\n",
         "entity": "Column",
         "helpLink": "",
         "instances": [
          "congestion_surcharge"
         ],
         "level": "Info",
         "name": "Schema suggestion for 'congestion_surcharge'.",
         "suggestedOperations": {}
        },
        {
         "data": {
          "typeInferBoolean": "0.00%",
          "typeInferDatetime": "0.00%",
          "typeInferFractional": "95.31%",
          "typeInferIntegral": "4.69%",
          "typeInferString": "0.00%",
          "typeInferUnknown": "0.00%"
         },
         "description": "We detect the data type of column 'total_amount' may not match the String type. typeInferUnknown: 0.00%\ntypeInferBoolean: 0.00%\ntypeInferDatetime: 0.00%\ntypeInferString: 0.00%\ntypeInferIntegral: 4.69%\ntypeInferFractional: 95.31%\n",
         "entity": "Column",
         "helpLink": "",
         "instances": [
          "total_amount"
         ],
         "level": "Info",
         "name": "Schema suggestion for 'total_amount'.",
         "suggestedOperations": {}
        },
        {
         "data": {
          "typeInferBoolean": "0.00%",
          "typeInferDatetime": "0.00%",
          "typeInferFractional": "97.70%",
          "typeInferIntegral": "2.30%",
          "typeInferString": "0.00%",
          "typeInferUnknown": "0.00%"
         },
         "description": "We detect the data type of column 'mta_tax' may not match the String type. typeInferUnknown: 0.00%\ntypeInferBoolean: 0.00%\ntypeInferDatetime: 0.00%\ntypeInferString: 0.00%\ntypeInferIntegral: 2.30%\ntypeInferFractional: 97.70%\n",
         "entity": "Column",
         "helpLink": "",
         "instances": [
          "mta_tax"
         ],
         "level": "Info",
         "name": "Schema suggestion for 'mta_tax'.",
         "suggestedOperations": {}
        }
       ],
       "label": "DataFrame_-710892543",
       "numRecords": 449500
      }
     },
     "type": "Synapse.DataFrame"
    },
    "97d9195d-bc54-4af0-8465-24e1ab6d0fb1": {
     "persist_state": {
      "view": {
       "chartOptions": {
        "aggregationType": "sum",
        "categoryFieldKeys": [
         "1"
        ],
        "chartType": "bar",
        "isStacked": false,
        "seriesFieldKeys": [
         "0"
        ]
       },
       "tableOptions": {},
       "type": "details"
      }
     },
     "sync_state": {
      "isSummary": false,
      "language": "scala",
      "table": {
       "rows": [
        {
         "0": "1",
         "1": "2019-11-01 00:30:41",
         "10": "3.0",
         "11": "0.5",
         "12": "0.5",
         "13": "0.0",
         "14": "0.0",
         "15": "0.3",
         "16": "4.3",
         "17": "0.0",
         "2": "2019-11-01 00:32:25",
         "3": "1",
         "4": "0.0",
         "5": "1",
         "6": "N",
         "7": "145",
         "8": "145",
         "9": "2"
        },
        {
         "0": "1",
         "1": "2019-11-01 00:34:01",
         "10": "2.5",
         "11": "0.5",
         "12": "0.5",
         "13": "0.0",
         "14": "0.0",
         "15": "0.3",
         "16": "3.8",
         "17": "0.0",
         "2": "2019-11-01 00:34:09",
         "3": "1",
         "4": "0.0",
         "5": "1",
         "6": "N",
         "7": "145",
         "8": "145",
         "9": "2"
        },
        {
         "0": "2",
         "1": "2019-11-01 00:41:59",
         "10": "2.5",
         "11": "0.5",
         "12": "0.5",
         "13": "0.95",
         "14": "0.0",
         "15": "0.3",
         "16": "4.75",
         "17": "0.0",
         "2": "2019-11-01 00:42:23",
         "3": "1",
         "4": "0.0",
         "5": "1",
         "6": "N",
         "7": "193",
         "8": "193",
         "9": "1"
        },
        {
         "0": "2",
         "1": "2019-11-01 00:02:39",
         "10": "2.5",
         "11": "0.5",
         "12": "0.5",
         "13": "0.95",
         "14": "0.0",
         "15": "0.3",
         "16": "4.75",
         "17": "0.0",
         "2": "2019-11-01 00:02:51",
         "3": "1",
         "4": "0.0",
         "5": "1",
         "6": "N",
         "7": "193",
         "8": "193",
         "9": "1"
        },
        {
         "0": "2",
         "1": "2019-11-01 00:18:30",
         "10": "2.5",
         "11": "0.0",
         "12": "0.5",
         "13": "0.0",
         "14": "0.0",
         "15": "0.3",
         "16": "3.3",
         "17": "0.0",
         "2": "2019-11-01 00:18:39",
         "3": "2",
         "4": "0.0",
         "5": "1",
         "6": "N",
         "7": "226",
         "8": "226",
         "9": "2"
        },
        {
         "0": "1",
         "1": "2019-11-01 00:35:48",
         "10": "32.0",
         "11": "3.0",
         "12": "0.5",
         "13": "8.35",
         "14": "6.12",
         "15": "0.3",
         "16": "50.27",
         "17": "2.5",
         "2": "2019-11-01 01:13:12",
         "3": "1",
         "4": "8.5",
         "5": "1",
         "6": "N",
         "7": "138",
         "8": "161",
         "9": "1"
        },
        {
         "0": "1",
         "1": "2019-11-01 00:02:59",
         "10": "3.5",
         "11": "3.0",
         "12": "0.5",
         "13": "0.0",
         "14": "0.0",
         "15": "0.3",
         "16": "7.3",
         "17": "2.5",
         "2": "2019-11-01 00:05:26",
         "3": "1",
         "4": "0.3",
         "5": "1",
         "6": "N",
         "7": "239",
         "8": "142",
         "9": "2"
        },
        {
         "0": "1",
         "1": "2019-11-01 00:11:43",
         "10": "8.5",
         "11": "3.0",
         "12": "0.5",
         "13": "0.0",
         "14": "0.0",
         "15": "0.3",
         "16": "12.3",
         "17": "2.5",
         "2": "2019-11-01 00:19:43",
         "3": "1",
         "4": "1.9",
         "5": "1",
         "6": "N",
         "7": "142",
         "8": "262",
         "9": "2"
        },
        {
         "0": "1",
         "1": "2019-11-01 00:11:34",
         "10": "5.5",
         "11": "3.0",
         "12": "0.5",
         "13": "0.0",
         "14": "0.0",
         "15": "0.3",
         "16": "9.3",
         "17": "2.5",
         "2": "2019-11-01 00:18:02",
         "3": "1",
         "4": "0.5",
         "5": "1",
         "6": "N",
         "7": "246",
         "8": "186",
         "9": "2"
        },
        {
         "0": "1",
         "1": "2019-11-01 00:54:04",
         "10": "10.0",
         "11": "3.0",
         "12": "0.5",
         "13": "2.75",
         "14": "0.0",
         "15": "0.3",
         "16": "16.55",
         "17": "2.5",
         "2": "2019-11-01 01:05:24",
         "3": "2",
         "4": "2.4",
         "5": "1",
         "6": "N",
         "7": "246",
         "8": "239",
         "9": "1"
        }
       ],
       "schema": [
        {
         "key": "0",
         "name": "VendorID",
         "type": "int"
        },
        {
         "key": "1",
         "name": "tpep_pickup_datetime",
         "type": "timestamp"
        },
        {
         "key": "2",
         "name": "tpep_dropoff_datetime",
         "type": "timestamp"
        },
        {
         "key": "3",
         "name": "passenger_count",
         "type": "int"
        },
        {
         "key": "4",
         "name": "trip_distance",
         "type": "double"
        },
        {
         "key": "5",
         "name": "RatecodeID",
         "type": "int"
        },
        {
         "key": "6",
         "name": "store_and_fwd_flag",
         "type": "string"
        },
        {
         "key": "7",
         "name": "PULocationID",
         "type": "int"
        },
        {
         "key": "8",
         "name": "DOLocationID",
         "type": "int"
        },
        {
         "key": "9",
         "name": "payment_type",
         "type": "int"
        },
        {
         "key": "10",
         "name": "fare_amount",
         "type": "double"
        },
        {
         "key": "11",
         "name": "extra",
         "type": "double"
        },
        {
         "key": "12",
         "name": "mta_tax",
         "type": "double"
        },
        {
         "key": "13",
         "name": "tip_amount",
         "type": "double"
        },
        {
         "key": "14",
         "name": "tolls_amount",
         "type": "double"
        },
        {
         "key": "15",
         "name": "improvement_surcharge",
         "type": "double"
        },
        {
         "key": "16",
         "name": "total_amount",
         "type": "double"
        },
        {
         "key": "17",
         "name": "congestion_surcharge",
         "type": "double"
        }
       ],
       "truncated": false
      }
     },
     "type": "Synapse.DataFrame"
    },
    "9c94ad73-9d11-4e70-bdcc-9241c90bba75": {
     "persist_state": {
      "view": {
       "chartOptions": {
        "aggregationType": "count",
        "categoryFieldKeys": [
         "0"
        ],
        "chartType": "bar",
        "isStacked": false,
        "seriesFieldKeys": [
         "0"
        ]
       },
       "tableOptions": {},
       "type": "details"
      }
     },
     "sync_state": {
      "isSummary": false,
      "language": "scala",
      "table": {
       "rows": [
        {
         "0": "4",
         "1": "Manhattan",
         "2": "Alphabet City",
         "3": "Yellow Zone"
        },
        {
         "0": "5",
         "1": "Staten Island",
         "2": "Arden Heights",
         "3": "Boro Zone"
        },
        {
         "0": "6",
         "1": "Staten Island",
         "2": "Arrochar/Fort Wadsworth",
         "3": "Boro Zone"
        },
        {
         "0": "7",
         "1": "Queens",
         "2": "Astoria",
         "3": "Boro Zone"
        },
        {
         "0": "8",
         "1": "Queens",
         "2": "Astoria Park",
         "3": "Boro Zone"
        },
        {
         "0": "9",
         "1": "Queens",
         "2": "Auburndale",
         "3": "Boro Zone"
        },
        {
         "0": "10",
         "1": "Queens",
         "2": "Baisley Park",
         "3": "Boro Zone"
        },
        {
         "0": "11",
         "1": "Brooklyn",
         "2": "Bath Beach",
         "3": "Boro Zone"
        },
        {
         "0": "12",
         "1": "Manhattan",
         "2": "Battery Park",
         "3": "Yellow Zone"
        },
        {
         "0": "13",
         "1": "Manhattan",
         "2": "Battery Park City",
         "3": "Yellow Zone"
        }
       ],
       "schema": [
        {
         "key": "0",
         "name": "LocationID",
         "type": "string"
        },
        {
         "key": "1",
         "name": "Borough",
         "type": "string"
        },
        {
         "key": "2",
         "name": "Zone",
         "type": "string"
        },
        {
         "key": "3",
         "name": "service_zone",
         "type": "string"
        }
       ],
       "truncated": false
      }
     },
     "type": "Synapse.DataFrame"
    },
    "a83183a3-842e-490f-bb2b-9db867b6db94": {
     "persist_state": {
      "view": {
       "chartOptions": {
        "aggregationType": "sum",
        "categoryFieldKeys": [
         "1"
        ],
        "chartType": "bar",
        "isStacked": false,
        "seriesFieldKeys": [
         "6"
        ]
       },
       "tableOptions": {},
       "type": "details"
      }
     },
     "sync_state": {
      "isSummary": false,
      "language": "scala",
      "table": {
       "rows": [
        {
         "0": {
          "Building": "636",
          "City": "NEW YORK",
          "Postcode": 10001,
          "State": "NY",
          "Street": "WEST   28 STREET"
         },
         "1": "08/15/2019",
         "2": "VIER-NY,LLC",
         "3": {
          "Latitude": 40.75273,
          "Location": "(40.75273, -74.006408)",
          "Longitude": -74.006408
         },
         "4": "B02865",
         "5": "No",
         "6": "6466657536",
         "7": "18:03:31",
         "8": "BLACK CAR BASE"
        },
        {
         "0": {
          "Building": "131",
          "City": "BRONX",
          "Postcode": 10468,
          "State": "NY",
          "Street": "KINGSBRIDGE ROAD"
         },
         "1": "08/15/2019",
         "2": "VETERANS RADIO DISPATCHER CORP.",
         "3": {
          "Latitude": 40.86927,
          "Location": "(40.86927, -73.90281)",
          "Longitude": -73.90281
         },
         "4": "B02634",
         "5": "No",
         "6": "7183647878",
         "7": "18:03:31",
         "8": "LIVERY BASE"
        },
        {
         "0": {
          "Building": "115-54",
          "City": "ELMONT",
          "Postcode": 11003,
          "State": "NY",
          "Street": "238 STREET"
         },
         "1": "08/15/2019",
         "2": "ALPHA VAN LINE",
         "3": {
          "Latitude": 40.693473,
          "Location": "(40.693473, -73.724446)",
          "Longitude": -73.724446
         },
         "4": "B80094",
         "5": "No",
         "6": "5162850750",
         "7": "18:03:31",
         "8": "COMMUTER VAN AUTHORITY BASE"
        },
        {
         "0": {
          "Building": "866",
          "City": "BROOKLYN",
          "Postcode": 11208,
          "State": "NY",
          "Street": "NEW LOTS AVENUE"
         },
         "1": "08/15/2019",
         "2": "A.T.B. CAR AND LIMOUSINE SERVICE, INC.",
         "3": {
          "Latitude": 40.667838,
          "Location": "(40.667838, -73.8788)",
          "Longitude": -73.8788
         },
         "4": "B02677",
         "5": "No",
         "6": "7184854444",
         "7": "18:03:31",
         "8": "LIVERY BASE"
        },
        {
         "0": {
          "Building": "57-48",
          "City": "MASPETH",
          "Postcode": 11378,
          "State": "NY",
          "Street": "MASPETH AVENUE"
         },
         "1": "08/15/2019",
         "2": "KYOEI LIMOUSINE, INC.",
         "3": {
          "Latitude": 40.722961,
          "Location": "(40.722961, -73.91031)",
          "Longitude": -73.91031
         },
         "4": "B02152",
         "5": "No",
         "6": "7183263258",
         "7": "18:03:31",
         "8": "LUXURY/LIMOUSINE"
        },
        {
         "0": {
          "Building": "31-00",
          "City": "LIC",
          "Postcode": 11101,
          "State": "NY",
          "Street": "47 AVENUE  SUITE # 4123A"
         },
         "1": "08/15/2019",
         "2": "ENDOR CAR & DRIVER,LLC.",
         "3": {
          "Latitude": 40.742082,
          "Location": "(40.742082, -73.93552)",
          "Longitude": -73.93552
         },
         "4": "B02844",
         "5": "No",
         "6": "4154758459",
         "7": "18:03:31",
         "8": "BLACK CAR BASE"
        },
        {
         "0": {
          "Building": "68-20A",
          "City": "FRESH MEADOWS",
          "Postcode": 11365,
          "State": "NY",
          "Street": "FRESH MEADOW LANE"
         },
         "1": "08/15/2019",
         "2": "SKYWAY EXECUTIVE SERVICE, INC",
         "3": {
          "Latitude": 40.733337,
          "Location": "(40.733337, -73.794706)",
          "Longitude": -73.794706
         },
         "4": "B02841",
         "5": "No",
         "6": "7183595959",
         "7": "18:03:31",
         "8": "BLACK CAR BASE"
        },
        {
         "0": {
          "Building": "22-11",
          "City": "LIC",
          "Postcode": 11101,
          "State": "NY",
          "Street": "38 AVENUE"
         },
         "1": "08/15/2019",
         "2": "FARRELL'S LEASING CO.",
         "3": {
          "Latitude": 40.757077,
          "Location": "(40.757077, -73.937504)",
          "Longitude": -73.937504
         },
         "4": "B00472",
         "5": "No",
         "6": "2128616300",
         "7": "18:03:31",
         "8": "LUXURY/LIMOUSINE"
        },
        {
         "0": {
          "Building": "429",
          "City": "BROOKLYN",
          "Postcode": 11212,
          "State": "NY",
          "Street": "SUTTER AVENUE"
         },
         "1": "08/15/2019",
         "2": "CITY CAR SERVICE CORP",
         "3": {
          "Latitude": 40.668473,
          "Location": "(40.668473, -73.903383)",
          "Longitude": -73.903383
         },
         "4": "B01739",
         "5": "No",
         "6": "7184182222",
         "7": "18:03:31",
         "8": "LIVERY BASE"
        },
        {
         "0": {
          "Building": "41-31",
          "City": "FLUSHING",
          "Postcode": 11355,
          "State": "NY",
          "Street": "MAIN STREET"
         },
         "1": "08/15/2019",
         "2": "YELLOWSTONE TRANSPORTATION INC.",
         "3": {
          "Latitude": 40.758114,
          "Location": "(40.758114, -73.82962)",
          "Longitude": -73.82962
         },
         "4": "B00248",
         "5": "No",
         "6": "7185397777",
         "7": "18:03:31",
         "8": "LIVERY BASE"
        },
        {
         "0": {
          "Building": "1811",
          "City": "BROOKLYN",
          "Postcode": 11223,
          "State": "NY",
          "Street": "EAST    7 STREET"
         },
         "1": "08/15/2019",
         "2": "ELTRI CAR SERVICE INC",
         "3": {
          "Latitude": 40.612302,
          "Location": "(40.612302, -73.963221)",
          "Longitude": -73.963221
         },
         "4": "B02861",
         "5": "No",
         "6": "7183820100",
         "7": "18:03:31",
         "8": "BLACK CAR BASE"
        },
        {
         "0": {
          "Building": "104-08",
          "City": "RICHMOND HILL",
          "Postcode": 11419,
          "State": "NY",
          "Street": "123RD STREET"
         },
         "1": "08/15/2019",
         "2": "V.J. CAR & LIMO SVC INC.",
         "3": {
          "Latitude": 40.691906,
          "Location": "(40.691906, -73.82342)",
          "Longitude": -73.82342
         },
         "4": "B02093",
         "5": "No",
         "6": "7186417777",
         "7": "18:03:31",
         "8": "LIVERY BASE"
        },
        {
         "0": {
          "Building": "6701",
          "City": "BROOKLYN",
          "Postcode": 11204,
          "State": "NY",
          "Street": "BAY PARKWAY  OFFICE #1 3RD FLR"
         },
         "1": "08/15/2019",
         "2": "ADVANTAGE LIMO OF NY INC",
         "3": {
          "Latitude": 40.603784,
          "Location": "(40.603784, -73.972558)",
          "Longitude": -73.972558
         },
         "4": "B02980",
         "5": "No",
         "6": "3478655876",
         "7": "18:03:31",
         "8": "LUXURY/LIMOUSINE"
        },
        {
         "0": {
          "Building": "636",
          "City": "NEW YORK",
          "Postcode": 10001,
          "State": "NY",
          "Street": "WEST   28 STREET"
         },
         "1": "08/15/2019",
         "2": "ELF-NY,LLC",
         "3": {
          "Latitude": 40.75273,
          "Location": "(40.75273, -74.00641)",
          "Longitude": -74.00641
         },
         "4": "B02878",
         "5": "No",
         "6": "6466657540",
         "7": "18:03:31",
         "8": "BLACK CAR BASE"
        },
        {
         "0": {
          "Building": "85-02",
          "City": "REGO PARK",
          "Postcode": 11374,
          "State": "NY",
          "Street": "67 AVENUE  SUITE 1"
         },
         "1": "08/15/2019",
         "2": "ALTA MEDICAL TRANSPORTATION, INC.",
         "3": {
          "Latitude": 40.717275,
          "Location": "(40.717275, -73.86211)",
          "Longitude": -73.86211
         },
         "4": "B90691",
         "5": "No",
         "6": "7188972582",
         "7": "18:03:31",
         "8": "PARATRANSIT BASE"
        },
        {
         "0": {
          "Building": "565",
          "City": "BRONX",
          "Postcode": 10460,
          "State": "NY",
          "Street": "VAN NEST AVENUE"
         },
         "1": "08/15/2019",
         "2": "RAELEEN CAR CORP.",
         "3": {
          "Latitude": 40.755734,
          "Location": "(40.755734, -73.93795)",
          "Longitude": -73.93795
         },
         "4": "B02840",
         "5": "No",
         "6": "9176031815",
         "7": "18:03:31",
         "8": "BLACK CAR BASE"
        },
        {
         "0": {
          "Building": "2421",
          "City": "BROOKLYN",
          "Postcode": 11214,
          "State": "NY",
          "Street": "BATH AVENUE"
         },
         "1": "08/15/2019",
         "2": "ASCONA CAR SERVICE INC.",
         "3": {
          "Latitude": 40.595422,
          "Location": "(40.595422, -73.992368)",
          "Longitude": -73.992368
         },
         "4": "B02658",
         "5": "No",
         "6": "7186461611",
         "7": "18:03:31",
         "8": "LIVERY BASE"
        },
        {
         "0": {
          "Building": "6318",
          "City": "BROOKLYN",
          "Postcode": 11219,
          "State": "NY",
          "Street": "14 AVENUE"
         },
         "1": "08/15/2019",
         "2": "CHICO EXPRESS LIMO, INC.",
         "3": {
          "Latitude": 40.625609,
          "Location": "(40.625609, -73.998684)",
          "Longitude": -73.998684
         },
         "4": "B02331",
         "5": "No",
         "6": "7182367777",
         "7": "18:03:31",
         "8": "BLACK CAR BASE"
        },
        {
         "0": {
          "Building": "32-10",
          "City": "LIC",
          "Postcode": 11101,
          "State": "NY",
          "Street": "GREENPOINT AVENUE"
         },
         "1": "08/15/2019",
         "2": "LYFE AUTO GROUP INC",
         "3": {
          "Latitude": 40.734944,
          "Location": "(40.734944, -73.935733)",
          "Longitude": -73.935733
         },
         "4": "B02969",
         "5": "No",
         "6": "7187066234",
         "7": "18:03:31",
         "8": "BLACK CAR BASE"
        },
        {
         "0": {
          "Building": "626",
          "City": "UNIONDALE",
          "Postcode": 11556,
          "State": "NY",
          "Street": "REXCORP PLAZA"
         },
         "1": "08/15/2019",
         "2": "SAROS TRANSPORTATION GROUP INC.",
         "3": {
          "Latitude": 40.638931,
          "Location": "(40.638931, -73.982954)",
          "Longitude": -73.982954
         },
         "4": "B02651",
         "5": "No",
         "6": "7185640084",
         "7": "18:03:31",
         "8": "BLACK CAR BASE"
        },
        {
         "0": {
          "Building": "144",
          "City": "BRONX",
          "Postcode": 10457,
          "State": "NY",
          "Street": "EAST  174 STREET"
         },
         "1": "08/15/2019",
         "2": "EXCELLENT CAR & LIMO SERVICE, INC.",
         "3": {
          "Latitude": 40.844708,
          "Location": "(40.844708, -73.909828)",
          "Longitude": -73.909828
         },
         "4": "B02437",
         "5": "No",
         "6": "7187317777",
         "7": "18:03:31",
         "8": "LIVERY BASE"
        },
        {
         "0": {
          "Building": "1",
          "City": "BRONX",
          "Postcode": 10463,
          "State": "NY",
          "Street": "RIVERDALE AVENUE"
         },
         "1": "08/15/2019",
         "2": "KINGSDALE DISPATCH INC",
         "3": {
          "Latitude": 40.880379,
          "Location": "(40.880379, -73.911322)",
          "Longitude": -73.911322
         },
         "4": "B02037",
         "5": "No",
         "6": "7187962222",
         "7": "18:03:31",
         "8": "LIVERY BASE"
        },
        {
         "0": {
          "Building": "252",
          "City": "BROOKLYN",
          "Postcode": 11222,
          "State": "NY",
          "Street": "JAVA STREET"
         },
         "1": "08/15/2019",
         "2": "STM ENTERPRISES,INC",
         "3": {
          "Latitude": 40.733448,
          "Location": "(40.733448, -73.95454)",
          "Longitude": -73.95454
         },
         "4": "B01522",
         "5": "Yes",
         "6": "7183835600",
         "7": "18:03:31",
         "8": "LIVERY BASE"
        },
        {
         "0": {
          "Building": "2667",
          "City": "BROOKLYN",
          "Postcode": 11223,
          "State": "NY",
          "Street": "CONEY ISLAND AVENUE  2ND FL"
         },
         "1": "08/15/2019",
         "2": "ALL AROUND TRANS, INC.",
         "3": {
          "Latitude": 40.591779,
          "Location": "(40.591779, -73.960354)",
          "Longitude": -73.960354
         },
         "4": "B90533",
         "5": "No",
         "6": "7183326033",
         "7": "18:03:31",
         "8": "PARATRANSIT BASE"
        },
        {
         "0": {
          "Building": "2110",
          "City": "BROOKLYN",
          "Postcode": 11235,
          "State": "NY",
          "Street": "AVENUE X"
         },
         "1": "08/15/2019",
         "2": "SMILE TRANSPORTATION GROUP INC",
         "3": {
          "Latitude": 40.641403,
          "Location": "(40.641403, -73.91821)",
          "Longitude": -73.91821
         },
         "4": "B02784",
         "5": "No",
         "6": "7187553733",
         "7": "18:03:31",
         "8": "BLACK CAR BASE"
        },
        {
         "0": {
          "Building": "110",
          "City": "FLORAL PARK",
          "Postcode": 11001,
          "State": "NY",
          "Street": "JERICHO TURNPIKE  SUITE 4"
         },
         "1": "08/15/2019",
         "2": "CARLUX LIMO INC.",
         "3": {
          "Latitude": 40.727625,
          "Location": "(40.727625, -73.7072)",
          "Longitude": -73.7072
         },
         "4": "B02629",
         "5": "No",
         "6": "8666580011",
         "7": "18:03:31",
         "8": "LUXURY/LIMOUSINE"
        },
        {
         "0": {
          "Building": "212-03",
          "City": "OAKLAND GRDNS",
          "Postcode": 11364,
          "State": "NY",
          "Street": "UNION TURNPIKE"
         },
         "1": "08/15/2019",
         "2": "CABOT LIMO NY CORP.",
         "3": {
          "Latitude": 40.733903,
          "Location": "(40.733903, -73.758753)",
          "Longitude": -73.758753
         },
         "4": "B02460",
         "5": "No",
         "6": "7184646666",
         "7": "18:03:31",
         "8": "LUXURY/LIMOUSINE"
        },
        {
         "0": {
          "Building": "2079",
          "City": "BROOKLYN",
          "Postcode": 11229,
          "State": "NY",
          "Street": "EAST   16 STREET"
         },
         "1": "08/15/2019",
         "2": "AVENTINE AUTO RENTAL INC",
         "3": {
          "Latitude": 40.599286,
          "Location": "(40.599286, -73.95541)",
          "Longitude": -73.95541
         },
         "4": "B00319",
         "5": "No",
         "6": "7183361010",
         "7": "18:03:31",
         "8": "LIVERY BASE"
        },
        {
         "0": {
          "Building": "961",
          "City": "BRONX",
          "Postcode": 10456,
          "State": "NY",
          "Street": "WASHINGTON AVENUE"
         },
         "1": "08/15/2019",
         "2": "UPTOWN TRANSIT CORP",
         "3": {
          "Latitude": 40.825287,
          "Location": "(40.825287, -73.91052)",
          "Longitude": -73.91052
         },
         "4": "B00850",
         "5": "No",
         "6": "7189932800",
         "7": "18:03:31",
         "8": "LIVERY BASE"
        },
        {
         "0": {
          "Building": "13",
          "City": "MONTVALE",
          "Postcode": 7645,
          "State": "NJ",
          "Street": "WEST GRAND AVENUE"
         },
         "1": "08/15/2019",
         "2": "PERFECT LIMO SERVICE, INC.",
         "3": {
          "Latitude": 41.040362,
          "Location": "(41.040362, -74.03064)",
          "Longitude": -74.03064
         },
         "4": "B02106",
         "5": "No",
         "6": "2015731321",
         "7": "18:03:31",
         "8": "LUXURY/LIMOUSINE"
        },
        {
         "0": {
          "Building": "8",
          "City": "NEW YORK",
          "Postcode": 10018,
          "State": "NY",
          "Street": "WEST   38 STREET  STE. 902"
         },
         "1": "08/15/2019",
         "2": "HINO-MARU ENTERPRISES INC.",
         "3": {
          "Latitude": 40.751092,
          "Location": "(40.751092, -73.983587)",
          "Longitude": -73.983587
         },
         "4": "B00552",
         "5": "No",
         "6": "2127520133",
         "7": "18:03:31",
         "8": "LUXURY/LIMOUSINE"
        },
        {
         "0": {
          "Building": "2548",
          "City": "NEW YORK",
          "Postcode": 10030,
          "State": "NY",
          "Street": "8 AVENUE"
         },
         "1": "08/15/2019",
         "2": "MALCOLM LIMO EXPRESS CORP.",
         "3": {
          "Latitude": 40.816919,
          "Location": "(40.816919, -73.94591)",
          "Longitude": -73.94591
         },
         "4": "B02657",
         "5": "Yes",
         "6": "2126904000",
         "7": "18:03:31",
         "8": "LIVERY BASE"
        },
        {
         "0": {
          "Building": "335",
          "City": "BROOKLYN",
          "Postcode": 11231,
          "State": "NY",
          "Street": "BOND STREET"
         },
         "1": "08/15/2019",
         "2": "OPTIMUM CAR & LIMO, INC.",
         "3": {
          "Latitude": 40.678782,
          "Location": "(40.678782, -73.989979)",
          "Longitude": -73.989979
         },
         "4": "B02110",
         "5": "No",
         "6": "7186909128",
         "7": "18:03:31",
         "8": "BLACK CAR BASE"
        },
        {
         "0": {
          "Building": "9732",
          "City": "BROOKLYN",
          "Postcode": 11236,
          "State": "NY",
          "Street": "SEAVIEW AVENUE"
         },
         "1": "08/15/2019",
         "2": "DREAMLAND CAR & LIMO.SVC INC.",
         "3": {
          "Latitude": 40.634234,
          "Location": "(40.634234, -73.888321)",
          "Longitude": -73.888321
         },
         "4": "B01979",
         "5": "Yes",
         "6": "7184445000",
         "7": "18:03:31",
         "8": "LIVERY BASE"
        },
        {
         "0": {
          "Building": "4604",
          "City": "BROOKLYN",
          "Postcode": 11220,
          "State": "NY",
          "Street": "7 AVENUE"
         },
         "1": "08/15/2019",
         "2": "LA MEXICANA EXPRESS INC.",
         "3": {
          "Latitude": 40.644713,
          "Location": "(40.644713, -74.003866)",
          "Longitude": -74.003866
         },
         "4": "B01606",
         "5": "No",
         "6": "7184375555",
         "7": "18:03:31",
         "8": "LIVERY BASE"
        },
        {
         "0": {
          "Building": "6902",
          "City": "BROOKLYN",
          "Postcode": 11204,
          "State": "NY",
          "Street": "18TH AVENUE"
         },
         "1": "08/15/2019",
         "2": "LONG ISLAND CITY CAR AND LIMO INC.",
         "3": {
          "Latitude": 40.616886,
          "Location": "(40.616886, -73.99284)",
          "Longitude": -73.99284
         },
         "4": "B02655",
         "5": "No",
         "6": "7189371177",
         "7": "18:03:31",
         "8": "LUXURY/LIMOUSINE"
        },
        {
         "0": {
          "Building": "117-28",
          "City": "JAMAICA",
          "Postcode": 11434,
          "State": "NY",
          "Street": "165 STREET"
         },
         "1": "08/15/2019",
         "2": "LUNAU GROUP LLC",
         "3": {
          "Latitude": 40.684032,
          "Location": "(40.684032, -73.781135)",
          "Longitude": -73.781135
         },
         "4": "B80260",
         "5": "No",
         "6": "7183745230",
         "7": "18:03:31",
         "8": "COMMUTER VAN AUTHORITY BASE"
        },
        {
         "0": {
          "Building": "220",
          "City": "NEW YORK",
          "Postcode": 10029,
          "State": "NY",
          "Street": "EAST 116 ST"
         },
         "1": "08/15/2019",
         "2": "EL BARRIO'S CAR SERVICE LLC",
         "3": {
          "Latitude": 40.797415,
          "Location": "(40.797415, -73.93931)",
          "Longitude": -73.93931
         },
         "4": "B01065",
         "5": "Yes",
         "6": "2127225555",
         "7": "18:03:31",
         "8": "LIVERY BASE"
        },
        {
         "0": {
          "Building": "335",
          "City": "BROOKLYN",
          "Postcode": 11231,
          "State": "NY",
          "Street": "BOND STREET"
         },
         "1": "08/15/2019",
         "2": "FINEST CAR SERVICE, LLC",
         "3": {
          "Latitude": 40.678782,
          "Location": "(40.678782, -73.98998)",
          "Longitude": -73.98998
         },
         "4": "B02182",
         "5": "Yes",
         "6": "3475878364",
         "7": "18:03:31",
         "8": "LIVERY BASE"
        },
        {
         "0": {
          "Building": "2269",
          "City": "BRONX",
          "Postcode": 10468,
          "State": "NY",
          "Street": "HAMPDEN PLACE"
         },
         "1": "08/15/2019",
         "2": "HIGH CLASS BRONX LIMO C/S CORP",
         "3": {
          "Latitude": 40.861378,
          "Location": "(40.861378, -73.91125)",
          "Longitude": -73.91125
         },
         "4": "B01717",
         "5": "No",
         "6": "7189331111",
         "7": "18:03:31",
         "8": "LIVERY BASE"
        },
        {
         "0": {
          "Building": "104-09",
          "City": "RICHMOND HILL",
          "Postcode": 11418,
          "State": "NY",
          "Street": "109TH STREET"
         },
         "1": "08/15/2019",
         "2": "ROYAL CAR & LIMO SERVICE INC.",
         "3": {
          "Latitude": 40.683813,
          "Location": "(40.683813, -73.832688)",
          "Longitude": -73.832688
         },
         "4": "B00653",
         "5": "Yes",
         "6": "7183233333",
         "7": "18:03:31",
         "8": "LIVERY BASE"
        },
        {
         "0": {
          "Building": "99",
          "City": "BROOKLYN",
          "Postcode": 11218,
          "State": "NY",
          "Street": "CHURCH AVENUE"
         },
         "1": "08/15/2019",
         "2": "CHURCH AVENUE EXPRESS INC",
         "3": {
          "Latitude": 40.64171,
          "Location": "(40.64171, -73.98135)",
          "Longitude": -73.98135
         },
         "4": "B02799",
         "5": "No",
         "6": "7186338444",
         "7": "18:03:31",
         "8": "LIVERY BASE"
        },
        {
         "0": {
          "Building": "2300",
          "City": "BROOKLYN",
          "Postcode": 11229,
          "State": "NY",
          "Street": "EAST   15 STREET  2FL"
         },
         "1": "08/15/2019",
         "2": "SUNSET SERVICE TRANSPORTATION INC",
         "3": {
          "Latitude": 40.598808,
          "Location": "(40.598808, -73.944799)",
          "Longitude": -73.944799
         },
         "4": "B80098",
         "5": "No",
         "6": "7185397777",
         "7": "18:03:31",
         "8": "COMMUTER VAN AUTHORITY BASE"
        },
        {
         "0": {
          "Building": "3646",
          "City": "BETHPAGE",
          "Postcode": 11714,
          "State": "NY",
          "Street": "PRAIRIE PATH"
         },
         "1": "08/15/2019",
         "2": "OSCAR LIMOUSINE INC",
         "3": {
          "Latitude": 40.803977,
          "Location": "(40.803977, -73.40549)",
          "Longitude": -73.40549
         },
         "4": "B02727",
         "5": "No",
         "6": "6468530201",
         "7": "18:03:31",
         "8": "LUXURY/LIMOUSINE"
        },
        {
         "0": {
          "Building": "117",
          "City": "BROOKLYN",
          "Postcode": 11207,
          "State": "NY",
          "Street": "JAMAICA AVENUE"
         },
         "1": "08/15/2019",
         "2": "910 CAR SERVICE INC",
         "3": {
          "Latitude": 40.679046,
          "Location": "(40.679046, -73.89599)",
          "Longitude": -73.89599
         },
         "4": "B00459",
         "5": "No",
         "6": "7189221500",
         "7": "18:03:31",
         "8": "LIVERY BASE"
        },
        {
         "0": {
          "Building": "176",
          "City": "HACKENSACK",
          "Postcode": 7606,
          "State": "NJ",
          "Street": "SADDLE RIVER AVENUE  BLDG F"
         },
         "1": "08/15/2019",
         "2": "A PEGASUS LIMOUSINE CORP.",
         "3": {
          "Latitude": 40.863348,
          "Location": "(40.863348, -74.09752)",
          "Longitude": -74.09752
         },
         "4": "B02627",
         "5": "No",
         "6": "9737773007",
         "7": "18:03:31",
         "8": "LUXURY/LIMOUSINE"
        },
        {
         "0": {
          "Building": "4020",
          "City": "NEW YORK",
          "Postcode": 10034,
          "State": "NY",
          "Street": "10 AVENUE"
         },
         "1": "08/15/2019",
         "2": "SEAMAN RADIO DISPATCHERS INC",
         "3": {
          "Latitude": 40.869265,
          "Location": "(40.869265, -73.91584)",
          "Longitude": -73.91584
         },
         "4": "B00860",
         "5": "Yes",
         "6": "2123043612",
         "7": "18:03:31",
         "8": "LIVERY BASE"
        },
        {
         "0": {
          "Building": "3173",
          "City": "BROOKLYN",
          "Postcode": 11235,
          "State": "NY",
          "Street": "CONEY ISLAND AVENUE"
         },
         "1": "08/15/2019",
         "2": "SHORE TRANSPORTATION INC",
         "3": {
          "Latitude": 40.57861,
          "Location": "(40.57861, -73.95948)",
          "Longitude": -73.95948
         },
         "4": "B01482",
         "5": "No",
         "6": "7186466666",
         "7": "18:03:31",
         "8": "LIVERY BASE"
        },
        {
         "0": {
          "Building": "2809",
          "City": "BRONX",
          "Postcode": 10458,
          "State": "NY",
          "Street": "WEBSTER AVENUE"
         },
         "1": "08/15/2019",
         "2": "NY MINUTE CAR SERVICE INC.",
         "3": {
          "Latitude": 40.866717,
          "Location": "(40.866717, -73.88502)",
          "Longitude": -73.88502
         },
         "4": "B02509",
         "5": "No",
         "6": "7183657777",
         "7": "18:03:31",
         "8": "LIVERY BASE"
        },
        {
         "0": {
          "Building": "225",
          "City": "SECAUCUS",
          "Postcode": 7094,
          "State": "NJ",
          "Street": "MEADOWLANDS PARKWAY"
         },
         "1": "08/15/2019",
         "2": "EMPIRE INTERNATIONAL LTD.",
         "3": {
          "Latitude": 40.78084,
          "Location": "(40.78084, -74.080302)",
          "Longitude": -74.080302
         },
         "4": "B01800",
         "5": "No",
         "6": "2017841200",
         "7": "18:03:31",
         "8": "LUXURY/LIMOUSINE"
        },
        {
         "0": {
          "Building": "41-24",
          "City": "LIC",
          "Postcode": 11101,
          "State": "NY",
          "Street": "38 STREET"
         },
         "1": "08/15/2019",
         "2": "LOVE LIMOUSINE NYC LTD",
         "3": {
          "Latitude": 40.638477,
          "Location": "(40.638477, -73.983333)",
          "Longitude": -73.983333
         },
         "4": "B00306",
         "5": "No",
         "6": "7184381100",
         "7": "18:03:31",
         "8": "BLACK CAR BASE"
        },
        {
         "0": {
          "Building": "258-27",
          "City": "ROSEDALE",
          "Postcode": 11422,
          "State": "NY",
          "Street": "147 AVENUE"
         },
         "1": "08/15/2019",
         "2": "MONTEGO VAN SERVICE INC.",
         "3": {
          "Latitude": 40.657683,
          "Location": "(40.657683, -73.729753)",
          "Longitude": -73.729753
         },
         "4": "B80012",
         "5": "No",
         "6": "7184817715",
         "7": "18:03:31",
         "8": "COMMUTER VAN AUTHORITY BASE"
        },
        {
         "0": {
          "Building": "372",
          "City": "BROOKLYN",
          "Postcode": 11221,
          "State": "NY",
          "Street": "WILSON AVENUE"
         },
         "1": "08/15/2019",
         "2": "NATASHAS GRP CAR CORP",
         "3": {
          "Latitude": 40.694835,
          "Location": "(40.694835, -73.915817)",
          "Longitude": -73.915817
         },
         "4": "B00932",
         "5": "No",
         "6": "7185740155",
         "7": "18:03:31",
         "8": "LIVERY BASE"
        },
        {
         "0": {
          "Building": "2100",
          "City": "BRONX",
          "Postcode": 10475,
          "State": "NY",
          "Street": "BARTOW AVENUE"
         },
         "1": "08/15/2019",
         "2": "BEST DEAL CAR SERVICE 2,INC.",
         "3": {
          "Latitude": 40.868211,
          "Location": "(40.868211, -73.82485)",
          "Longitude": -73.82485
         },
         "4": "B02735",
         "5": "No",
         "6": "7187985555",
         "7": "18:03:31",
         "8": "LIVERY BASE"
        },
        {
         "0": {
          "Building": "636",
          "City": "NEW YORK",
          "Postcode": 10001,
          "State": "NY",
          "Street": "WEST   28 STREET"
         },
         "1": "08/15/2019",
         "2": "SIEBEN-NY,LLC",
         "3": {
          "Latitude": 40.75242,
          "Location": "(40.75242, -74.006218)",
          "Longitude": -74.006218
         },
         "4": "B02864",
         "5": "No",
         "6": "6466653597",
         "7": "18:03:31",
         "8": "BLACK CAR BASE"
        },
        {
         "0": {
          "Building": "88-43",
          "City": "GLENDALE",
          "Postcode": 11385,
          "State": "NY",
          "Street": "76 AVENUE"
         },
         "1": "08/15/2019",
         "2": "SUNNY'S LIMOUSINE SERVICE INC",
         "3": {
          "Latitude": 40.708035,
          "Location": "(40.708035, -73.8608)",
          "Longitude": -73.8608
         },
         "4": "B02099",
         "5": "No",
         "6": "8009490949",
         "7": "18:03:31",
         "8": "LUXURY/LIMOUSINE"
        },
        {
         "0": {
          "Building": "2400",
          "City": "NEW YORK",
          "Postcode": 10033,
          "State": "NY",
          "Street": "AMSTERDAM AVENUE"
         },
         "1": "08/15/2019",
         "2": "GDS TRANSPORTATION CORP.",
         "3": {
          "Latitude": 40.847055,
          "Location": "(40.847055, -73.93205)",
          "Longitude": -73.93205
         },
         "4": "B02320",
         "5": "No",
         "6": "2129274600",
         "7": "18:03:31",
         "8": "LIVERY BASE"
        },
        {
         "0": {
          "Building": "128 - 11",
          "City": "COLLEGE POINT",
          "Postcode": 11356,
          "State": "NY",
          "Street": "18 AVENUE"
         },
         "1": "08/15/2019",
         "2": "OLS LIMOUSINE SERVICE INC.",
         "3": {
          "Latitude": 40.728959,
          "Location": "(40.728959, -73.700902)",
          "Longitude": -73.700902
         },
         "4": "B02515",
         "5": "No",
         "6": "8886167248",
         "7": "18:03:31",
         "8": "LUXURY/LIMOUSINE"
        },
        {
         "0": {
          "Building": "68-20A",
          "City": "QUEENS",
          "Postcode": 11365,
          "State": "NY",
          "Street": "FRESH MEADOW LANE"
         },
         "1": "08/15/2019",
         "2": "SKYWAY CAR SERVICE EXPRESS INC.",
         "3": {
          "Latitude": 40.733337,
          "Location": "(40.733337, -73.794706)",
          "Longitude": -73.794706
         },
         "4": "B01332",
         "5": "Yes",
         "6": "7183585858",
         "7": "18:03:31",
         "8": "LIVERY BASE"
        },
        {
         "0": {
          "Building": "327",
          "City": "BRONX",
          "Postcode": 10473,
          "State": "NY",
          "Street": "SOUNDVIEW AVENUE"
         },
         "1": "08/15/2019",
         "2": "KESHES INC",
         "3": {
          "Latitude": 40.812145,
          "Location": "(40.812145, -73.85679)",
          "Longitude": -73.85679
         },
         "4": "B02732",
         "5": "No",
         "6": "7188422000",
         "7": "18:03:31",
         "8": "BLACK CAR BASE"
        },
        {
         "0": {
          "Building": "636",
          "City": "NEW YORK",
          "Postcode": 10001,
          "State": "NY",
          "Street": "WEST   28 STREET"
         },
         "1": "08/15/2019",
         "2": "SCHMECKEN LLC",
         "3": {
          "Latitude": 40.74844,
          "Location": "(40.74844, -73.93946)",
          "Longitude": -73.93946
         },
         "4": "B02682",
         "5": "No",
         "6": "7189715639",
         "7": "18:03:31",
         "8": "BLACK CAR BASE"
        },
        {
         "0": {
          "Building": "3055",
          "City": "BRONX",
          "Postcode": 10467,
          "State": "NY",
          "Street": "WEBSTER AVENUE"
         },
         "1": "08/15/2019",
         "2": "STARLIGHT AMBULETTE",
         "3": {
          "Latitude": 40.870406,
          "Location": "(40.870406, -73.879043)",
          "Longitude": -73.879043
         },
         "4": "B90523",
         "5": "No",
         "6": "7185188056",
         "7": "18:03:31",
         "8": "PARATRANSIT BASE"
        },
        {
         "0": {
          "Building": "275",
          "City": "BROOKLYN",
          "Postcode": 11215,
          "State": "NY",
          "Street": "20 STREET"
         },
         "1": "08/15/2019",
         "2": "XYZ TWO WAY RADIO",
         "3": {
          "Latitude": 40.661323,
          "Location": "(40.661323, -73.99142)",
          "Longitude": -73.99142
         },
         "4": "B00254",
         "5": "No",
         "6": "7184993505",
         "7": "18:03:31",
         "8": "BLACK CAR BASE"
        },
        {
         "0": {
          "Building": "1733",
          "City": "BRONX",
          "Postcode": 10461,
          "State": "NY",
          "Street": "EDISON AVENUE"
         },
         "1": "08/15/2019",
         "2": "TREMONT DISPATCHING CORP",
         "3": {
          "Latitude": 40.846504,
          "Location": "(40.846504, -73.832717)",
          "Longitude": -73.832717
         },
         "4": "B00401",
         "5": "No",
         "6": "7188227777",
         "7": "18:03:31",
         "8": "LIVERY BASE"
        },
        {
         "0": {
          "Building": "97-21",
          "City": "EAST ELMHURST",
          "Postcode": 11369,
          "State": "NY",
          "Street": "ASTORIA BOULEVARD"
         },
         "1": "08/15/2019",
         "2": "DT BROOKLYN CAR AND LIMO SVC. INC.",
         "3": {
          "Latitude": 40.687695,
          "Location": "(40.687695, -73.972561)",
          "Longitude": -73.972561
         },
         "4": "B01699",
         "5": "No",
         "6": "7186254444",
         "7": "18:03:31",
         "8": "LIVERY BASE"
        },
        {
         "0": {
          "Building": "24",
          "City": "PARAMUS",
          "Postcode": 7652,
          "State": "NJ",
          "Street": "FARVIEW TERRACE"
         },
         "1": "08/15/2019",
         "2": "EUROPE LIMOUSINE SERVICE, INC.",
         "3": {
          "Latitude": 40.922042,
          "Location": "(40.922042, -74.069773)",
          "Longitude": -74.069773
         },
         "4": "B02256",
         "5": "No",
         "6": "2014773200",
         "7": "18:03:31",
         "8": "BLACK CAR BASE"
        },
        {
         "0": {
          "Building": "1642",
          "City": "NEW YORK",
          "Postcode": 10040,
          "State": "NY",
          "Street": "ST NICHOLAS AVENUE"
         },
         "1": "08/15/2019",
         "2": "RIVERSIDE RADIO DISPATCHER",
         "3": {
          "Latitude": 40.856313,
          "Location": "(40.856313, -73.928389)",
          "Longitude": -73.928389
         },
         "4": "B00937",
         "5": "Yes",
         "6": "2129231111",
         "7": "18:03:31",
         "8": "LIVERY BASE"
        },
        {
         "0": {
          "Building": "52-29",
          "City": "LIC",
          "Postcode": 11101,
          "State": "NY",
          "Street": "35 STREET"
         },
         "1": "08/15/2019",
         "2": "KINGSWAY CAR & LIMO SVC INC",
         "3": {
          "Latitude": 40.603784,
          "Location": "(40.603784, -73.972558)",
          "Longitude": -73.972558
         },
         "4": "B01394",
         "5": "No",
         "6": "7182221222",
         "7": "18:03:31",
         "8": "LIVERY BASE"
        },
        {
         "0": {
          "Building": "6121",
          "City": "BROOKLYN",
          "Postcode": 11204,
          "State": "NY",
          "Street": "17 AVENUE"
         },
         "1": "08/15/2019",
         "2": "THA MAYA CAR SERVICE INC",
         "3": {
          "Latitude": 40.622281,
          "Location": "(40.622281, -73.99041)",
          "Longitude": -73.99041
         },
         "4": "B02838",
         "5": "No",
         "6": "9175645451",
         "7": "18:03:31",
         "8": "BLACK CAR BASE"
        },
        {
         "0": {
          "Building": "71-16",
          "City": "JACKSON HEIGHTS",
          "Postcode": 11372,
          "State": "NY",
          "Street": "35 AVENUE"
         },
         "1": "08/15/2019",
         "2": "NY CAR & LIMO SERVICES INC.",
         "3": {
          "Latitude": 40.750655,
          "Location": "(40.750655, -73.894345)",
          "Longitude": -73.894345
         },
         "4": "B02902",
         "5": "Yes",
         "6": "7184762025",
         "7": "18:03:31",
         "8": "BLACK CAR BASE"
        },
        {
         "0": {
          "Building": "14-21",
          "City": "COLLEGE POINT",
          "Postcode": 11356,
          "State": "NY",
          "Street": "COLLEGE POINT BOULEVARD"
         },
         "1": "08/15/2019",
         "2": "NEW JUBILEE CAR SERVICE, INC.",
         "3": {
          "Latitude": 40.784715,
          "Location": "(40.784715, -73.84563)",
          "Longitude": -73.84563
         },
         "4": "B02553",
         "5": "No",
         "6": "7183592222",
         "7": "18:03:31",
         "8": "LIVERY BASE"
        },
        {
         "0": {
          "Building": "130-34",
          "City": "LAURELTON",
          "Postcode": 11413,
          "State": "NY",
          "Street": "232 STREET"
         },
         "1": "08/15/2019",
         "2": "HAL TRANSPORTATION SERVICE INC",
         "3": {
          "Latitude": 40.679806,
          "Location": "(40.679806, -73.735622)",
          "Longitude": -73.735622
         },
         "4": "B80173",
         "5": "No",
         "6": "7186665062",
         "7": "18:03:31",
         "8": "COMMUTER VAN AUTHORITY BASE"
        },
        {
         "0": {
          "Building": "1092",
          "City": "FAR ROCKAWAY",
          "Postcode": 11691,
          "State": "NY",
          "Street": "BEACH   22 STREET"
         },
         "1": "08/15/2019",
         "2": "SURF CAR SYSTEMS INC",
         "3": {
          "Latitude": 40.60493,
          "Location": "(40.60493, -73.754284)",
          "Longitude": -73.754284
         },
         "4": "B00429",
         "5": "No",
         "6": "7183274444",
         "7": "18:03:31",
         "8": "LIVERY BASE"
        },
        {
         "0": {
          "Building": "31-00",
          "City": "LIC",
          "Postcode": 11101,
          "State": "NY",
          "Street": "47 AVENUE  SUITE 3100"
         },
         "1": "08/15/2019",
         "2": "TAKE ME 2 INC",
         "3": {
          "Latitude": 40.633484,
          "Location": "(40.633484, -74.02124)",
          "Longitude": -74.02124
         },
         "4": "B02788",
         "5": "No",
         "6": "6466534575",
         "7": "18:03:31",
         "8": "BLACK CAR BASE"
        },
        {
         "0": {
          "Building": "5617",
          "City": "BROOKLYN",
          "Postcode": 11203,
          "State": "NY",
          "Street": "BEVERLEY ROAD"
         },
         "1": "08/15/2019",
         "2": "GREATER LIVING TRANSPORTATION LLC",
         "3": {
          "Latitude": 40.646949,
          "Location": "(40.646949, -73.923343)",
          "Longitude": -73.923343
         },
         "4": "B90721",
         "5": "No",
         "6": "7184519700",
         "7": "18:03:31",
         "8": "PARATRANSIT BASE"
        },
        {
         "0": {
          "Building": "636",
          "City": "NEW YORK",
          "Postcode": 10001,
          "State": "NY",
          "Street": "WEST   28 STREET"
         },
         "1": "08/15/2019",
         "2": "NEUN-NY,LLC",
         "3": {
          "Latitude": 40.75273,
          "Location": "(40.75273, -74.00641)",
          "Longitude": -74.00641
         },
         "4": "B02870",
         "5": "No",
         "6": "6466653514",
         "7": "18:03:31",
         "8": "BLACK CAR BASE"
        },
        {
         "0": {
          "Building": "1979",
          "City": "LAKE SUCCESS",
          "Postcode": 11379,
          "State": "NY",
          "Street": "MARCUS AVENUE  STE 210"
         },
         "1": "08/15/2019",
         "2": "UNICAR LUXURY INC.",
         "3": {
          "Latitude": 40.727327,
          "Location": "(40.727327, -73.895678)",
          "Longitude": -73.895678
         },
         "4": "B02369",
         "5": "No",
         "6": "7184245777",
         "7": "18:03:31",
         "8": "BLACK CAR BASE"
        },
        {
         "0": {
          "Building": "33-24",
          "City": "LIC",
          "Postcode": 11101,
          "State": "NY",
          "Street": "NORTHERN BOULEVARD"
         },
         "1": "08/15/2019",
         "2": "ACCESS TRANSPORTATION GROUP, LLC",
         "3": {
          "Latitude": 40.751736,
          "Location": "(40.751736, -73.930223)",
          "Longitude": -73.930223
         },
         "4": "B02937",
         "5": "Yes",
         "6": "9295220450",
         "7": "18:03:31",
         "8": "LIVERY BASE"
        },
        {
         "0": {
          "Building": "1072",
          "City": "BKLYN",
          "Postcode": 11221,
          "State": "NY",
          "Street": "BROADWAY AVE"
         },
         "1": "08/15/2019",
         "2": "PUERTO RICO EXPRESS BLACK LUXURY INC",
         "3": {
          "Latitude": 40.694521,
          "Location": "(40.694521, -73.93158)",
          "Longitude": -73.93158
         },
         "4": "B02909",
         "5": "No",
         "6": "7184439666",
         "7": "18:03:31",
         "8": "BLACK CAR BASE"
        },
        {
         "0": {
          "Building": "640",
          "City": "BROOKLYN",
          "Postcode": 11205,
          "State": "NY",
          "Street": "MYRTLE AVENUE"
         },
         "1": "08/15/2019",
         "2": "NEW BELL LUXURY CORP",
         "3": {
          "Latitude": 40.694109,
          "Location": "(40.694109, -73.958852)",
          "Longitude": -73.958852
         },
         "4": "B02826",
         "5": "No",
         "6": "7182304490",
         "7": "18:03:31",
         "8": "BLACK CAR BASE"
        },
        {
         "0": {
          "Building": "96",
          "City": "BROOKLYN",
          "Postcode": 11221,
          "State": "NY",
          "Street": "RALPH AVENUE"
         },
         "1": "08/15/2019",
         "2": "FREEDOM LIMO & CAR SERVICE",
         "3": {
          "Latitude": 40.686713,
          "Location": "(40.686713, -73.923689)",
          "Longitude": -73.923689
         },
         "4": "B01454",
         "5": "Yes",
         "6": "7184525400",
         "7": "18:03:31",
         "8": "LIVERY BASE"
        },
        {
         "0": {
          "Building": "2078",
          "City": "BRONX",
          "Postcode": 10472,
          "State": "NY",
          "Street": "CROSS BRONX EXPRESSWAY"
         },
         "1": "08/15/2019",
         "2": "JOY LUXURY INC",
         "3": {
          "Latitude": 40.831091,
          "Location": "(40.831091, -73.85419)",
          "Longitude": -73.85419
         },
         "4": "B02847",
         "5": "Yes",
         "6": "7186846000",
         "7": "18:03:31",
         "8": "BLACK CAR BASE"
        },
        {
         "0": {
          "Building": "136-31",
          "City": "FLUSHING",
          "Postcode": 11355,
          "State": "NY",
          "Street": "41 AVENUE  PH"
         },
         "1": "08/15/2019",
         "2": "EIGHT STAR INC.",
         "3": {
          "Latitude": 40.74931,
          "Location": "(40.74931, -73.821321)",
          "Longitude": -73.821321
         },
         "4": "B80182",
         "5": "No",
         "6": "3476446822",
         "7": "18:03:31",
         "8": "COMMUTER VAN AUTHORITY BASE"
        },
        {
         "0": {
          "Building": "863",
          "City": "RIDGEWOOD",
          "Postcode": 11385,
          "State": "NY",
          "Street": "CYPRESS AVENUE"
         },
         "1": "08/15/2019",
         "2": "EXPEDITRANS, LLC",
         "3": {
          "Latitude": 40.699762,
          "Location": "(40.699762, -73.905352)",
          "Longitude": -73.905352
         },
         "4": "B90724",
         "5": "No",
         "6": "7184752193",
         "7": "18:03:31",
         "8": "PARATRANSIT BASE"
        },
        {
         "0": {
          "Building": "206",
          "City": "BRONX",
          "Postcode": 10463,
          "State": "NY",
          "Street": "WEST  231 STREET"
         },
         "1": "08/15/2019",
         "2": "ALLTOWN LIMO CORP.",
         "3": {
          "Latitude": 40.879679,
          "Location": "(40.879679, -73.906345)",
          "Longitude": -73.906345
         },
         "4": "B02537",
         "5": "Yes",
         "6": "7185437777",
         "7": "18:03:31",
         "8": "LIVERY BASE"
        },
        {
         "0": {
          "Building": "6506",
          "City": "BROOKLYN",
          "Postcode": 11219,
          "State": "NY",
          "Street": "11 AVENUE"
         },
         "1": "08/15/2019",
         "2": "NY 88 EXPRESS CORP.",
         "3": {
          "Latitude": 40.628543,
          "Location": "(40.628543, -74.006362)",
          "Longitude": -74.006362
         },
         "4": "B01984",
         "5": "No",
         "6": "7187060033",
         "7": "18:03:31",
         "8": "LIVERY BASE"
        },
        {
         "0": {
          "Building": "650",
          "City": "BRONX",
          "Postcode": 10473,
          "State": "NY",
          "Street": "SOUNDVIEW AVENUE"
         },
         "1": "08/15/2019",
         "2": "DAT RADIO DISP INC",
         "3": {
          "Latitude": 40.818455,
          "Location": "(40.818455, -73.862707)",
          "Longitude": -73.862707
         },
         "4": "B01061",
         "5": "Yes",
         "6": "7183288888",
         "7": "18:03:31",
         "8": "LIVERY BASE"
        },
        {
         "0": {
          "Building": "83-03",
          "City": "EAST ELMHURST",
          "Postcode": 11370,
          "State": "NY",
          "Street": "24 AVENUE  2ND FLR"
         },
         "1": "08/15/2019",
         "2": "V R WORLDWIDE INC",
         "3": {
          "Latitude": 40.765173,
          "Location": "(40.765173, -73.885915)",
          "Longitude": -73.885915
         },
         "4": "B02848",
         "5": "No",
         "6": "7185074000",
         "7": "18:03:31",
         "8": "LUXURY/LIMOUSINE"
        },
        {
         "0": {
          "Building": "6001",
          "City": "BROOKLYN",
          "Postcode": 11219,
          "State": "NY",
          "Street": "15 AVENUE"
         },
         "1": "08/15/2019",
         "2": "DISCOVER LIMO INC",
         "3": {
          "Latitude": 40.62617,
          "Location": "(40.62617, -73.994136)",
          "Longitude": -73.994136
         },
         "4": "B01928",
         "5": "No",
         "6": "7188517777",
         "7": "18:03:31",
         "8": "BLACK CAR BASE"
        },
        {
         "0": {
          "Building": "10-02",
          "City": "LIC",
          "Postcode": 11101,
          "State": "NY",
          "Street": "38 AVENUE"
         },
         "1": "08/15/2019",
         "2": "BANGLA CAR & LIMO. SERVICE INC.",
         "3": {
          "Latitude": 40.75839,
          "Location": "(40.75839, -73.942365)",
          "Longitude": -73.942365
         },
         "4": "B02183",
         "5": "Yes",
         "6": "7182078085",
         "7": "18:03:31",
         "8": "LIVERY BASE"
        },
        {
         "0": {
          "Building": "10",
          "City": "NEW YORK",
          "Postcode": 10023,
          "State": "NY",
          "Street": "WEST   66 STREET"
         },
         "1": "08/15/2019",
         "2": "ABT LIMOUSINE SERVICE INC",
         "3": {
          "Latitude": 40.773111,
          "Location": "(40.773111, -73.951724)",
          "Longitude": -73.951724
         },
         "4": "B01693",
         "5": "No",
         "6": "2128799410",
         "7": "18:03:31",
         "8": "LUXURY/LIMOUSINE"
        },
        {
         "0": {
          "Building": "49",
          "City": "BRONX",
          "Postcode": 10452,
          "State": "NY",
          "Street": "WEST  170 STREET"
         },
         "1": "08/15/2019",
         "2": "LLAMA LIMO C/S CORP",
         "3": {
          "Latitude": 40.840787,
          "Location": "(40.840787, -73.920353)",
          "Longitude": -73.920353
         },
         "4": "B00811",
         "5": "Yes",
         "6": "7185386000",
         "7": "18:03:31",
         "8": "LIVERY BASE"
        },
        {
         "0": {
          "Building": "5030",
          "City": "NEW YORK",
          "Postcode": 10034,
          "State": "NY",
          "Street": "BROADWAY  SUITE 679"
         },
         "1": "08/15/2019",
         "2": "BLESSING TRANSPORTATION GROUP INC",
         "3": {
          "Latitude": 40.830852,
          "Location": "(40.830852, -73.881796)",
          "Longitude": -73.881796
         },
         "4": "B02972",
         "5": "No",
         "6": "9174737373",
         "7": "18:03:31",
         "8": "BLACK CAR BASE"
        },
        {
         "0": {
          "Building": "1226",
          "City": "BROOKLYN",
          "Postcode": 11225,
          "State": "NY",
          "Street": "NOSTRAND AVENUE"
         },
         "1": "08/15/2019",
         "2": "TRANSP UNLIMITED C/S",
         "3": {
          "Latitude": 40.657261,
          "Location": "(40.657261, -73.95051)",
          "Longitude": -73.95051
         },
         "4": "B00037",
         "5": "No",
         "6": "7183631000",
         "7": "18:03:31",
         "8": "LIVERY BASE"
        },
        {
         "0": {
          "Building": "636",
          "City": "NEW YORK",
          "Postcode": 10001,
          "State": "NY",
          "Street": "WEST   28 STREET"
         },
         "1": "08/15/2019",
         "2": "EINUNDZWANZIG-NY, LLC",
         "3": {
          "Latitude": 40.75273,
          "Location": "(40.75273, -74.00641)",
          "Longitude": -74.00641
         },
         "4": "B02887",
         "5": "No",
         "6": "6466657350",
         "7": "18:03:31",
         "8": "BLACK CAR BASE"
        },
        {
         "0": {
          "Building": "507A",
          "City": "BROOKLYN",
          "Postcode": 11209,
          "State": "NY",
          "Street": "77 STREET"
         },
         "1": "08/15/2019",
         "2": "77 EXPRESS CAR & LIMO SERVICE, INC.",
         "3": {
          "Latitude": 40.627893,
          "Location": "(40.627893, -74.022849)",
          "Longitude": -74.022849
         },
         "4": "B02423",
         "5": "No",
         "6": "7184913636",
         "7": "18:03:31",
         "8": "LIVERY BASE"
        },
        {
         "0": {
          "Building": "49-17A",
          "City": "WOODSIDE",
          "Postcode": 11377,
          "State": "NY",
          "Street": "69 STREET"
         },
         "1": "08/15/2019",
         "2": "ECKFORD LITE CAR & LIMO INC.",
         "3": {
          "Latitude": 40.732487,
          "Location": "(40.732487, -73.95427)",
          "Longitude": -73.95427
         },
         "4": "B02475",
         "5": "No",
         "6": "3476129290",
         "7": "18:03:31",
         "8": "BLACK CAR BASE"
        },
        {
         "0": {
          "Building": "912",
          "City": "BRONX",
          "Postcode": 10473,
          "State": "NY",
          "Street": "SOUNDVIEW AVENUE  SUITE 2"
         },
         "1": "08/15/2019",
         "2": "ABEL BLACK CAR INC",
         "3": {
          "Latitude": 40.823432,
          "Location": "(40.823432, -73.867924)",
          "Longitude": -73.867924
         },
         "4": "B02976",
         "5": "No",
         "6": "9739547991",
         "7": "18:03:31",
         "8": "BLACK CAR BASE"
        },
        {
         "0": {
          "Building": "3712",
          "City": "BROOKLYN",
          "Postcode": 11234,
          "State": "NY",
          "Street": "FLATLANDS AVENUE  2F"
         },
         "1": "08/15/2019",
         "2": "ALEXIS VAN LINES INC",
         "3": {
          "Latitude": 40.618436,
          "Location": "(40.618436, -73.939214)",
          "Longitude": -73.939214
         },
         "4": "B80145",
         "5": "No",
         "6": "7183380131",
         "7": "18:03:31",
         "8": "COMMUTER VAN AUTHORITY BASE"
        },
        {
         "0": {
          "Building": "52-29",
          "City": "L.I.C",
          "Postcode": 11101,
          "State": "NY",
          "Street": "35 STREET"
         },
         "1": "08/15/2019",
         "2": "SKYLINE CREDIT RIDE INC",
         "3": {
          "Latitude": 40.735627,
          "Location": "(40.735627, -73.93612)",
          "Longitude": -73.93612
         },
         "4": "B00111",
         "5": "No",
         "6": "7184828585",
         "7": "18:03:31",
         "8": "BLACK CAR BASE"
        },
        {
         "0": {
          "Building": "750",
          "City": "UNIONDALE",
          "Postcode": 11553,
          "State": "NY",
          "Street": "MIDWOOD STREET"
         },
         "1": "08/15/2019",
         "2": "EARLY BIRD TRANSPORTATION INC",
         "3": {
          "Latitude": 40.707873,
          "Location": "(40.707873, -73.589646)",
          "Longitude": -73.589646
         },
         "4": "B80070",
         "5": "No",
         "6": "7182172308",
         "7": "18:03:31",
         "8": "COMMUTER VAN AUTHORITY BASE"
        },
        {
         "0": {
          "Building": "447",
          "City": "BROOKLYN",
          "Postcode": 11205,
          "State": "NY",
          "Street": "DEKALB AVENUE"
         },
         "1": "08/15/2019",
         "2": "KEY AMBULLETTE SERVICE INC.",
         "3": {
          "Latitude": 40.690648,
          "Location": "(40.690648, -73.959591)",
          "Longitude": -73.959591
         },
         "4": "B90722",
         "5": "No",
         "6": "9292452140",
         "7": "18:03:31",
         "8": "PARATRANSIT BASE"
        },
        {
         "0": {
          "Building": "220",
          "City": "NEW YORK",
          "Postcode": 10029,
          "State": "NY",
          "Street": "EAST  116 STREET"
         },
         "1": "08/15/2019",
         "2": "NEW EASY WAY RADIO DISP INC",
         "3": {
          "Latitude": 40.797323,
          "Location": "(40.797323, -73.9393)",
          "Longitude": -73.9393
         },
         "4": "B00196",
         "5": "No",
         "6": "2123606241",
         "7": "18:03:31",
         "8": "LIVERY BASE"
        },
        {
         "0": {
          "Building": "900",
          "City": "FREEHOLD",
          "Postcode": 7728,
          "State": "NJ",
          "Street": "ROUTE 33"
         },
         "1": "08/15/2019",
         "2": "CONCORDE LIMOUSINE INC",
         "3": {
          "Latitude": 40.250959,
          "Location": "(40.250959, -74.181879)",
          "Longitude": -74.181879
         },
         "4": "B02673",
         "5": "No",
         "6": "7325770023",
         "7": "18:03:31",
         "8": "LUXURY/LIMOUSINE"
        },
        {
         "0": {
          "Building": "239",
          "City": "ROCKAWAY PARK",
          "Postcode": 11694,
          "State": "NY",
          "Street": "BEACH  116 STREET"
         },
         "1": "08/15/2019",
         "2": "ROCAPULCO CAR SERVICE INC.",
         "3": {
          "Latitude": 40.580524,
          "Location": "(40.580524, -73.837823)",
          "Longitude": -73.837823
         },
         "4": "B00639",
         "5": "No",
         "6": "7184747100",
         "7": "18:03:31",
         "8": "LIVERY BASE"
        },
        {
         "0": {
          "Building": "97-11",
          "City": "REGO PARK",
          "Postcode": 11374,
          "State": "NY",
          "Street": "64 ROAD  LOWER FLOOR"
         },
         "1": "08/15/2019",
         "2": "HANNAH MEDTRANS INC.",
         "3": {
          "Latitude": 40.725572,
          "Location": "(40.725572, -73.862489)",
          "Longitude": -73.862489
         },
         "4": "B90712",
         "5": "No",
         "6": "9174789757",
         "7": "18:03:31",
         "8": "PARATRANSIT BASE"
        },
        {
         "0": {
          "Building": "31 - 00",
          "City": "LIC",
          "Postcode": 11101,
          "State": "NY",
          "Street": "47TH  AVENUE  2ND FLOOR"
         },
         "1": "08/15/2019",
         "2": "FLATIRON TRANSIT LLC",
         "3": {
          "Latitude": 40.74393,
          "Location": "(40.74393, -73.98819)",
          "Longitude": -73.98819
         },
         "4": "B02800",
         "5": "No",
         "6": "6468446564",
         "7": "18:03:31",
         "8": "BLACK CAR BASE"
        },
        {
         "0": {
          "Building": "70-18",
          "City": "JACKSON HEIGHTS",
          "Postcode": 11372,
          "State": "NY",
          "Street": "35 AVENUE"
         },
         "1": "08/15/2019",
         "2": "MEXICANA CAR SERVICE INC.",
         "3": {
          "Latitude": 40.752792,
          "Location": "(40.752792, -73.88013)",
          "Longitude": -73.88013
         },
         "4": "B00889",
         "5": "No",
         "6": "7184468700",
         "7": "18:03:31",
         "8": "LIVERY BASE"
        },
        {
         "0": {
          "Building": "37-18",
          "City": "QUEENS",
          "Postcode": 11101,
          "State": "NY",
          "Street": "NORTHERN BOULEVARD  SUITE 303"
         },
         "1": "08/15/2019",
         "2": "LIMO VISION, INC.",
         "3": {
          "Latitude": 40.751927,
          "Location": "(40.751927, -73.925057)",
          "Longitude": -73.925057
         },
         "4": "B02277",
         "5": "No",
         "6": "6464200071",
         "7": "18:03:31",
         "8": "LUXURY/LIMOUSINE"
        },
        {
         "0": {
          "Building": "507",
          "City": "BROOKLYN",
          "Postcode": 11232,
          "State": "NY",
          "Street": "40 STREET"
         },
         "1": "08/15/2019",
         "2": "OCHO LUXURY CAR, INC.",
         "3": {
          "Latitude": 40.650685,
          "Location": "(40.650685, -74.004241)",
          "Longitude": -74.004241
         },
         "4": "B02330",
         "5": "No",
         "6": "7184382092",
         "7": "18:03:31",
         "8": "BLACK CAR BASE"
        },
        {
         "0": {
          "Building": "1040-52",
          "City": "BRONX",
          "Postcode": 10459,
          "State": "NY",
          "Street": "FREEMAN STREET"
         },
         "1": "08/15/2019",
         "2": "VISMAR RADIO DISPATCH INC.",
         "3": {
          "Latitude": 40.828466,
          "Location": "(40.828466, -73.88637)",
          "Longitude": -73.88637
         },
         "4": "B02760",
         "5": "No",
         "6": "9174737777",
         "7": "18:03:31",
         "8": "LIVERY BASE"
        },
        {
         "0": {
          "Building": "2421",
          "City": "BROOKLYN",
          "Postcode": 11214,
          "State": "NY",
          "Street": "BATH AVENUE"
         },
         "1": "08/15/2019",
         "2": "ASCONA AMBLT SVC INC",
         "3": {
          "Latitude": 40.595422,
          "Location": "(40.595422, -73.992368)",
          "Longitude": -73.992368
         },
         "4": "B90496",
         "5": "No",
         "6": "7186461611",
         "7": "18:03:31",
         "8": "PARATRANSIT BASE"
        },
        {
         "0": {
          "Building": "1073",
          "City": "FRANKLIN SQ",
          "Postcode": 11010,
          "State": "NY",
          "Street": "ATLANTIC ST"
         },
         "1": "08/15/2019",
         "2": "ON TIME AMBULETTE INC.",
         "3": {
          "Latitude": 40.712551,
          "Location": "(40.712551, -73.679201)",
          "Longitude": -73.679201
         },
         "4": "B90720",
         "5": "No",
         "6": "5162331931",
         "7": "18:03:31",
         "8": "PARATRANSIT BASE"
        },
        {
         "0": {
          "Building": "104-19",
          "City": "OZONE PARK",
          "Postcode": 11417,
          "State": "NY",
          "Street": "99TH STREET"
         },
         "1": "08/15/2019",
         "2": "BLUE LANE CAR SERVICE INC",
         "3": {
          "Latitude": 40.682799,
          "Location": "(40.682799, -73.841307)",
          "Longitude": -73.841307
         },
         "4": "B00991",
         "5": "No",
         "6": "7186411111",
         "7": "18:03:31",
         "8": "LIVERY BASE"
        },
        {
         "0": {
          "Building": "100-02",
          "City": "BROOKLYN",
          "Postcode": 11236,
          "State": "NY",
          "Street": "FARRAGUT ROAD"
         },
         "1": "08/15/2019",
         "2": "APPLE HOME CARE,LTD.",
         "3": {
          "Latitude": 40.651866,
          "Location": "(40.651866, -73.895856)",
          "Longitude": -73.895856
         },
         "4": "B90139",
         "5": "No",
         "6": "7183721717",
         "7": "18:03:31",
         "8": "PARATRANSIT BASE"
        },
        {
         "0": {
          "Building": "133-33",
          "City": "ROSEDALE",
          "Postcode": 11422,
          "State": "NY",
          "Street": "BROOKVILLE BOULEVARD  SUITE 218"
         },
         "1": "08/15/2019",
         "2": "NYG LIMOUSINE LLC",
         "3": {
          "Latitude": 40.619641,
          "Location": "(40.619641, -73.737598)",
          "Longitude": -73.737598
         },
         "4": "B02298",
         "5": "No",
         "6": "8886942008",
         "7": "18:03:31",
         "8": "LUXURY/LIMOUSINE"
        },
        {
         "0": {
          "Building": "31-00",
          "City": "LONG ISLAND CIT",
          "Postcode": 11101,
          "State": "NY",
          "Street": "47 AVENUE"
         },
         "1": "08/15/2019",
         "2": "ABATAR LLC",
         "3": {
          "Latitude": 40.636388,
          "Location": "(40.636388, -74.027106)",
          "Longitude": -74.027106
         },
         "4": "B02395",
         "5": "No",
         "6": "7189715559",
         "7": "18:03:31",
         "8": "LIVERY BASE"
        },
        {
         "0": {
          "Building": "32-72",
          "City": "LIC",
          "Postcode": 11101,
          "State": "NY",
          "Street": "GALE AVENUE"
         },
         "1": "08/15/2019",
         "2": "ROYAL DISPATCH SERVICES, INC.",
         "3": {
          "Latitude": 40.744528,
          "Location": "(40.744528, -73.92606)",
          "Longitude": -73.92606
         },
         "4": "B01367",
         "5": "No",
         "6": "7189376677",
         "7": "18:03:31",
         "8": "BLACK CAR BASE"
        },
        {
         "0": {
          "Building": "4406 A",
          "City": "BROOKLYN",
          "Postcode": 11203,
          "State": "NY",
          "Street": "CHURCH AVENUE"
         },
         "1": "08/15/2019",
         "2": "MURRAY EXPRESS CAR SERVICE INC",
         "3": {
          "Latitude": 40.651359,
          "Location": "(40.651359, -73.935814)",
          "Longitude": -73.935814
         },
         "4": "B02960",
         "5": "No",
         "6": "7186757000",
         "7": "18:03:31",
         "8": "BLACK CAR BASE"
        },
        {
         "0": {
          "Building": "38-20",
          "City": "LONGISLANDCITY",
          "Postcode": 11101,
          "State": "NY",
          "Street": "32 STREET"
         },
         "1": "08/15/2019",
         "2": "BENI'S LIMOUSINE SERVICE INC",
         "3": {
          "Latitude": 40.751597,
          "Location": "(40.751597, -73.938886)",
          "Longitude": -73.938886
         },
         "4": "B02273",
         "5": "No",
         "6": "8884642364",
         "7": "18:03:31",
         "8": "LUXURY/LIMOUSINE"
        },
        {
         "0": {
          "Building": "232",
          "City": "BROOKLYN",
          "Postcode": 11211,
          "State": "NY",
          "Street": "METROPOLITAN AVENUE"
         },
         "1": "08/15/2019",
         "2": "BROOKLYN RAD DISP INC",
         "3": {
          "Latitude": 40.714797,
          "Location": "(40.714797, -73.959738)",
          "Longitude": -73.959738
         },
         "4": "B01312",
         "5": "No",
         "6": "7183844444",
         "7": "18:03:31",
         "8": "LIVERY BASE"
        },
        {
         "0": {
          "Building": "1588",
          "City": "BRONX",
          "Postcode": 10453,
          "State": "NY",
          "Street": "DR M L KING JR BOULEVARD"
         },
         "1": "08/15/2019",
         "2": "NEW COLLEGE CAR SVCE INC",
         "3": {
          "Latitude": 40.846778,
          "Location": "(40.846778, -73.920631)",
          "Longitude": -73.920631
         },
         "4": "B02653",
         "5": "Yes",
         "6": "7187313333",
         "7": "18:03:31",
         "8": "LIVERY BASE"
        },
        {
         "0": {
          "Building": "72-17",
          "City": "WOODSIDE",
          "Postcode": 11377,
          "State": "NY",
          "Street": "QUEENS BOULEVARD"
         },
         "1": "08/15/2019",
         "2": "H & B CAR AND LIMOUSINE, INC",
         "3": {
          "Latitude": 40.739709,
          "Location": "(40.739709, -73.890955)",
          "Longitude": -73.890955
         },
         "4": "B01616",
         "5": "No",
         "6": "7185072600",
         "7": "18:03:31",
         "8": "LIVERY BASE"
        },
        {
         "0": {
          "Building": "43-24",
          "City": "LIC",
          "Postcode": 11101,
          "State": "NY",
          "Street": "37TH STREET"
         },
         "1": "08/15/2019",
         "2": "CAPRICORN LIMO SVC INC",
         "3": {
          "Latitude": 40.745178,
          "Location": "(40.745178, -73.928076)",
          "Longitude": -73.928076
         },
         "4": "B01349",
         "5": "No",
         "6": "7187293000",
         "7": "18:03:31",
         "8": "LUXURY/LIMOUSINE"
        },
        {
         "0": {
          "Building": "586",
          "City": "RIDGEWOOD",
          "Postcode": 11385,
          "State": "NY",
          "Street": "SENECA AVENUE"
         },
         "1": "08/15/2019",
         "2": "FENIX PREMIUM CORP.",
         "3": {
          "Latitude": 40.704206,
          "Location": "(40.704206, -73.91033)",
          "Longitude": -73.91033
         },
         "4": "B01386",
         "5": "No",
         "6": "7188212121",
         "7": "18:03:31",
         "8": "LIVERY BASE"
        },
        {
         "0": {
          "Building": "303",
          "City": "NEW YORK",
          "Postcode": 10016,
          "State": "NY",
          "Street": "5 AVENUE  STE 712/13"
         },
         "1": "08/15/2019",
         "2": "MITA LIMOUSINE, INC.",
         "3": {
          "Latitude": 40.746496,
          "Location": "(40.746496, -73.98547)",
          "Longitude": -73.98547
         },
         "4": "B02147",
         "5": "No",
         "6": "2126793939",
         "7": "18:03:31",
         "8": "BLACK CAR BASE"
        },
        {
         "0": {
          "Building": "25-26",
          "City": "WOODSIDE",
          "Postcode": 11377,
          "State": "NY",
          "Street": "50 STREET  STE 209B"
         },
         "1": "08/15/2019",
         "2": "WOODHAVEN LIMOUSINE INC",
         "3": {
          "Latitude": 40.763637,
          "Location": "(40.763637, -73.904449)",
          "Longitude": -73.904449
         },
         "4": "B02480",
         "5": "No",
         "6": "7183742609",
         "7": "18:03:31",
         "8": "LUXURY/LIMOUSINE"
        },
        {
         "0": {
          "Building": "9425",
          "City": "BROOKLYN",
          "Postcode": 11209,
          "State": "NY",
          "Street": "5 AVENUE"
         },
         "1": "08/15/2019",
         "2": "AYY&M TRANSPORTATION, LLC",
         "3": {
          "Latitude": 40.615867,
          "Location": "(40.615867, -74.030649)",
          "Longitude": -74.030649
         },
         "4": "B00112",
         "5": "No",
         "6": "7186802500",
         "7": "18:03:31",
         "8": "LIVERY BASE"
        },
        {
         "0": {
          "Building": "1021",
          "City": "BROOKLYN",
          "Postcode": 11230,
          "State": "NY",
          "Street": "AVENUE H"
         },
         "1": "08/15/2019",
         "2": "R TRANSPORT INC",
         "3": {
          "Latitude": 40.629493,
          "Location": "(40.629493, -73.96644)",
          "Longitude": -73.96644
         },
         "4": "B01614",
         "5": "Yes",
         "6": "7188593400",
         "7": "18:03:31",
         "8": "LIVERY BASE"
        },
        {
         "0": {
          "Building": "1748",
          "City": "BRONX",
          "Postcode": 10460,
          "State": "NY",
          "Street": "EAST TREMONT AVENUE"
         },
         "1": "08/15/2019",
         "2": "CELEBRITY LUXURY INC.",
         "3": {
          "Latitude": 40.839235,
          "Location": "(40.839235, -73.869701)",
          "Longitude": -73.869701
         },
         "4": "B02924",
         "5": "No",
         "6": "7186180093",
         "7": "18:03:31",
         "8": "BLACK CAR BASE"
        },
        {
         "0": {
          "Building": "4980",
          "City": "NEW YORK",
          "Postcode": 10034,
          "State": "NY",
          "Street": "BROADWAY"
         },
         "1": "08/15/2019",
         "2": "FIRST CLASS LUXURY INC",
         "3": {
          "Latitude": 40.868198,
          "Location": "(40.868198, -73.91923)",
          "Longitude": -73.91923
         },
         "4": "B02912",
         "5": "No",
         "6": "2123040452",
         "7": "18:03:31",
         "8": "BLACK CAR BASE"
        },
        {
         "0": {
          "Building": "4014",
          "City": "BROOKLYN",
          "Postcode": 11234,
          "State": "NY",
          "Street": "AVENUE U"
         },
         "1": "08/15/2019",
         "2": "GTWY INC",
         "3": {
          "Latitude": 40.608694,
          "Location": "(40.608694, -73.924219)",
          "Longitude": -73.924219
         },
         "4": "B01129",
         "5": "No",
         "6": "7182535600",
         "7": "18:03:31",
         "8": "LIVERY BASE"
        },
        {
         "0": {
          "Building": "41-24",
          "City": "L.I.C.",
          "Postcode": 11101,
          "State": "NY",
          "Street": "38TH STREET"
         },
         "1": "08/15/2019",
         "2": "NY ONE CORP CAR INC",
         "3": {
          "Latitude": 40.638477,
          "Location": "(40.638477, -73.983333)",
          "Longitude": -73.983333
         },
         "4": "B00014",
         "5": "No",
         "6": "7184381100",
         "7": "18:03:31",
         "8": "BLACK CAR BASE"
        },
        {
         "0": {
          "Building": "36-01",
          "City": "ASTORIA",
          "Postcode": 11105,
          "State": "NY",
          "Street": "20 AVENUE"
         },
         "1": "08/15/2019",
         "2": "MIRAGE LIMOUSINE SERVICE, INC.",
         "3": {
          "Latitude": 40.777951,
          "Location": "(40.777951, -73.903755)",
          "Longitude": -73.903755
         },
         "4": "B00990",
         "5": "No",
         "6": "7189377500",
         "7": "18:03:31",
         "8": "LIVERY BASE"
        },
        {
         "0": {
          "Building": "1975",
          "City": "BRONX",
          "Postcode": 10457,
          "State": "NY",
          "Street": "LAFONTAINE AVENUE"
         },
         "1": "08/15/2019",
         "2": "OUTSIDE'S CAR SERVICE INC.",
         "3": {
          "Latitude": 40.846957,
          "Location": "(40.846957, -73.894439)",
          "Longitude": -73.894439
         },
         "4": "B02803",
         "5": "No",
         "6": "6463637027",
         "7": "18:03:31",
         "8": "LIVERY BASE"
        },
        {
         "0": {
          "Building": "361",
          "City": "BROOKLYN",
          "Postcode": 11211,
          "State": "NY",
          "Street": "UNION AVENUE"
         },
         "1": "08/15/2019",
         "2": "MOBILE #1 CAR SERVICE INC.",
         "3": {
          "Latitude": 40.711192,
          "Location": "(40.711192, -73.951373)",
          "Longitude": -73.951373
         },
         "4": "B01492",
         "5": "No",
         "6": "7183838300",
         "7": "18:03:31",
         "8": "LIVERY BASE"
        },
        {
         "0": {
          "Building": "3916",
          "City": "BROOKLYN",
          "Postcode": 11232,
          "State": "NY",
          "Street": "9 AVENUE"
         },
         "1": "08/15/2019",
         "2": "PUEBLA LUXURY CORP",
         "3": {
          "Latitude": 40.644255,
          "Location": "(40.644255, -74.0001)",
          "Longitude": -74.0001
         },
         "4": "B02905",
         "5": "No",
         "6": "7186335454",
         "7": "18:03:31",
         "8": "BLACK CAR BASE"
        },
        {
         "0": {
          "Building": "198",
          "City": "BROOKLYN",
          "Postcode": 11203,
          "State": "NY",
          "Street": "EAST   57 STREET"
         },
         "1": "08/15/2019",
         "2": "GAYNOR ENTERPRISES LLC.",
         "3": {
          "Latitude": 40.651113,
          "Location": "(40.651113, -73.923804)",
          "Longitude": -73.923804
         },
         "4": "B90705",
         "5": "No",
         "6": "9175019553",
         "7": "18:03:31",
         "8": "PARATRANSIT BASE"
        },
        {
         "0": {
          "Building": "414",
          "City": "BROOKLYN",
          "Postcode": 11213,
          "State": "NY",
          "Street": "UTICA AVENUE  2ND FLOOR"
         },
         "1": "08/15/2019",
         "2": "ROYALTY TRANSPORTATION,LLC",
         "3": {
          "Latitude": 40.664234,
          "Location": "(40.664234, -73.931867)",
          "Longitude": -73.931867
         },
         "4": "B90710",
         "5": "No",
         "6": "7187715100",
         "7": "18:03:31",
         "8": "PARATRANSIT BASE"
        },
        {
         "0": {
          "Building": "49-29",
          "City": "LIC",
          "Postcode": 11101,
          "State": "NY",
          "Street": "30 PLACE"
         },
         "1": "08/15/2019",
         "2": "COMMONWEALTH WORLDWIDE CHAUFFEURED TRANSP. OF NY,",
         "3": {
          "Latitude": 40.739553,
          "Location": "(40.739553, -73.936994)",
          "Longitude": -73.936994
         },
         "4": "B02095",
         "5": "No",
         "6": "7187065500",
         "7": "18:03:31",
         "8": "LUXURY/LIMOUSINE"
        },
        {
         "0": {
          "Building": "87-30",
          "City": "RICHMOND HILL",
          "Postcode": 11418,
          "State": "NY",
          "Street": "123 STREET"
         },
         "1": "08/15/2019",
         "2": "CENTURY AMBULANCE SERVICE INC",
         "3": {
          "Latitude": 40.699742,
          "Location": "(40.699742, -73.827209)",
          "Longitude": -73.827209
         },
         "4": "B90696",
         "5": "No",
         "6": "7182359000",
         "7": "18:03:31",
         "8": "PARATRANSIT BASE"
        },
        {
         "0": {
          "Building": "36-31",
          "City": "LIC",
          "Postcode": 11106,
          "State": "NY",
          "Street": "10TH STREET"
         },
         "1": "08/15/2019",
         "2": "A RIDE FOR ALL LLC",
         "3": {
          "Latitude": 40.760313,
          "Location": "(40.760313, -73.9412)",
          "Longitude": -73.9412
         },
         "4": "B02026",
         "5": "No",
         "6": "7187067433",
         "7": "18:03:31",
         "8": "LIVERY BASE"
        },
        {
         "0": {
          "Building": "35-28",
          "City": "ASTORIA",
          "Postcode": 11105,
          "State": "NY",
          "Street": "19 AVENUE"
         },
         "1": "08/15/2019",
         "2": "DEBORAH C/L SVC INC",
         "3": {
          "Latitude": 40.779639,
          "Location": "(40.779639, -73.901658)",
          "Longitude": -73.901658
         },
         "4": "B01326",
         "5": "No",
         "6": "7188031920",
         "7": "18:03:31",
         "8": "LIVERY BASE"
        },
        {
         "0": {
          "Building": "116-34",
          "City": "QUEENS",
          "Postcode": 11411,
          "State": "NY",
          "Street": "SPRINGFIELD BOULEVARD"
         },
         "1": "08/15/2019",
         "2": "PERSONAL TOUCH C/S",
         "3": {
          "Latitude": 40.69682,
          "Location": "(40.69682, -73.74364)",
          "Longitude": -73.74364
         },
         "4": "B00941",
         "5": "No",
         "6": "7185286100",
         "7": "18:03:31",
         "8": "LIVERY BASE"
        },
        {
         "0": {
          "Building": "8",
          "City": "STATEN ISLAND",
          "Postcode": 10301,
          "State": "NY",
          "Street": "ST PAULS AVENUE"
         },
         "1": "08/15/2019",
         "2": "LOS PAISANOS LUXURY C/S INC.",
         "3": {
          "Latitude": 40.637596,
          "Location": "(40.637596, -74.078195)",
          "Longitude": -74.078195
         },
         "4": "B02517",
         "5": "No",
         "6": "7184452222",
         "7": "18:03:31",
         "8": "BLACK CAR BASE"
        },
        {
         "0": {
          "Building": "1979",
          "City": "LAKE SUCCESS",
          "Postcode": 11042,
          "State": "NY",
          "Street": "MARCUS AVE  210"
         },
         "1": "08/15/2019",
         "2": "IMMEDIATE LUXURY CAR & LIMO SERVICE INC.",
         "3": {
          "Latitude": 40.755027,
          "Location": "(40.755027, -73.693562)",
          "Longitude": -73.693562
         },
         "4": "B02554",
         "5": "No",
         "6": "3475703748",
         "7": "18:03:31",
         "8": "LUXURY/LIMOUSINE"
        },
        {
         "0": {
          "Building": "177",
          "City": "NEW YORK",
          "Postcode": 10034,
          "State": "NY",
          "Street": "SHERMAN AVENUE"
         },
         "1": "08/15/2019",
         "2": "G.T.N.Y. CAR SERVICE, INC.",
         "3": {
          "Latitude": 40.864581,
          "Location": "(40.864581, -73.92253)",
          "Longitude": -73.92253
         },
         "4": "B01678",
         "5": "Yes",
         "6": "2123042222",
         "7": "18:03:31",
         "8": "LIVERY BASE"
        },
        {
         "0": {
          "Building": "636",
          "City": "NEW YORK",
          "Postcode": 10001,
          "State": "NY",
          "Street": "WEST   28 STREET"
         },
         "1": "08/15/2019",
         "2": "DANACH-NY,LLC",
         "3": {
          "Latitude": 40.74844,
          "Location": "(40.74844, -73.93946)",
          "Longitude": -73.93946
         },
         "4": "B02764",
         "5": "No",
         "6": "7189715635",
         "7": "18:03:31",
         "8": "BLACK CAR BASE"
        },
        {
         "0": {
          "Building": "18-31",
          "City": "COLLEGE POINT",
          "Postcode": 11356,
          "State": "NY",
          "Street": "COLLEGE POINT BOULEVARD"
         },
         "1": "08/15/2019",
         "2": "MADISON LIMOUSINE INC",
         "3": {
          "Latitude": 40.782244,
          "Location": "(40.782244, -73.8456)",
          "Longitude": -73.8456
         },
         "4": "B02167",
         "5": "No",
         "6": "7187679210",
         "7": "18:03:31",
         "8": "BLACK CAR BASE"
        },
        {
         "0": {
          "Building": "2614",
          "City": "BRONX",
          "Postcode": 10461,
          "State": "NY",
          "Street": "EAST TREMONT AVENUE"
         },
         "1": "08/15/2019",
         "2": "AMERICAN BASE #2. INC.",
         "3": {
          "Latitude": 40.843259,
          "Location": "(40.843259, -73.846962)",
          "Longitude": -73.846962
         },
         "4": "B02377",
         "5": "No",
         "6": "7186651444",
         "7": "18:03:31",
         "8": "LIVERY BASE"
        },
        {
         "0": {
          "Building": "222",
          "City": "BROOKLYN",
          "Postcode": 11215,
          "State": "NY",
          "Street": "15 STREET"
         },
         "1": "08/15/2019",
         "2": "EASTERN L.P.B.,INC.",
         "3": {
          "Latitude": 40.665361,
          "Location": "(40.665361, -73.98917)",
          "Longitude": -73.98917
         },
         "4": "B00823",
         "5": "No",
         "6": "7184996227",
         "7": "18:03:31",
         "8": "LIVERY BASE"
        },
        {
         "0": {
          "Building": "107-04",
          "City": "CORONA",
          "Postcode": 11368,
          "State": "NY",
          "Street": "37 AVENUE"
         },
         "1": "08/15/2019",
         "2": "CHAMPION CAR & LIMO SVC. INC.",
         "3": {
          "Latitude": 40.753702,
          "Location": "(40.753702, -73.86129)",
          "Longitude": -73.86129
         },
         "4": "B00350",
         "5": "Yes",
         "6": "7187798080",
         "7": "18:03:31",
         "8": "LIVERY BASE"
        },
        {
         "0": {
          "Building": "45-02",
          "City": "ASTORIA",
          "Postcode": 11105,
          "State": "NY",
          "Street": "DITMARS BOULEVARD  SUITE #19"
         },
         "1": "08/15/2019",
         "2": "GOLDEN TOUCH TRANSPORTATION OF NY, INC.",
         "3": {
          "Latitude": 40.770551,
          "Location": "(40.770551, -73.902827)",
          "Longitude": -73.902827
         },
         "4": "B01964",
         "5": "No",
         "6": "7188868074",
         "7": "18:03:31",
         "8": "LUXURY/LIMOUSINE"
        },
        {
         "0": {
          "Building": "32-72",
          "City": "LIC",
          "Postcode": 11101,
          "State": "NY",
          "Street": "GALE AVENUE"
         },
         "1": "08/15/2019",
         "2": "FRIENDLY RIDE INC",
         "3": {
          "Latitude": 40.619641,
          "Location": "(40.619641, -73.737598)",
          "Longitude": -73.737598
         },
         "4": "B02424",
         "5": "No",
         "6": "7185455466",
         "7": "18:03:31",
         "8": "LUXURY/LIMOUSINE"
        },
        {
         "0": {
          "Building": "41-24",
          "City": "LIC",
          "Postcode": 11101,
          "State": "NY",
          "Street": "38 STREET"
         },
         "1": "08/15/2019",
         "2": "AVALON CORPORATE CAR,INC.",
         "3": {
          "Latitude": 40.638477,
          "Location": "(40.638477, -73.983333)",
          "Longitude": -73.983333
         },
         "4": "B02003",
         "5": "No",
         "6": "7184381100",
         "7": "18:03:31",
         "8": "BLACK CAR BASE"
        },
        {
         "0": {
          "Building": "35-27",
          "City": "FLUSHING",
          "Postcode": 11354,
          "State": "NY",
          "Street": "FARRINGTON STREET"
         },
         "1": "08/15/2019",
         "2": "HUANG HOU CAR SERVICES INC.",
         "3": {
          "Latitude": 40.763587,
          "Location": "(40.763587, -73.831238)",
          "Longitude": -73.831238
         },
         "4": "B02111",
         "5": "No",
         "6": "7189391828",
         "7": "18:03:31",
         "8": "LIVERY BASE"
        },
        {
         "0": {
          "Building": "3106",
          "City": "BRONX",
          "Postcode": 10467,
          "State": "NY",
          "Street": "WEBSTER AVENUE"
         },
         "1": "08/15/2019",
         "2": "C & A BLACK CAR CORP.",
         "3": {
          "Latitude": 40.871095,
          "Location": "(40.871095, -73.876751)",
          "Longitude": -73.876751
         },
         "4": "B02917",
         "5": "No",
         "6": "7184052222",
         "7": "18:03:31",
         "8": "BLACK CAR BASE"
        },
        {
         "0": {
          "Building": "41 - 24",
          "City": "LIC",
          "Postcode": 11101,
          "State": "NY",
          "Street": "38TH STREET"
         },
         "1": "08/15/2019",
         "2": "LOVE CORPORATE CAR INC",
         "3": {
          "Latitude": 40.638477,
          "Location": "(40.638477, -73.983333)",
          "Longitude": -73.983333
         },
         "4": "B00013",
         "5": "No",
         "6": "7184381100",
         "7": "18:03:31",
         "8": "BLACK CAR BASE"
        },
        {
         "0": {
          "Building": "88-19",
          "City": "OZONE PARK",
          "Postcode": 11416,
          "State": "NY",
          "Street": "101 AVENUE"
         },
         "1": "08/15/2019",
         "2": "INTA-BORO ACRES INC",
         "3": {
          "Latitude": 40.682991,
          "Location": "(40.682991, -73.851316)",
          "Longitude": -73.851316
         },
         "4": "B00477",
         "5": "No",
         "6": "7188451705",
         "7": "18:03:31",
         "8": "BLACK CAR BASE"
        },
        {
         "0": {
          "Building": "5030",
          "City": "NEW YORK",
          "Postcode": 10034,
          "State": "NY",
          "Street": "BROADWAY  SUITE 804"
         },
         "1": "08/15/2019",
         "2": "GALLANT LUXURY SERVICE CORP.",
         "3": {
          "Latitude": 40.86885,
          "Location": "(40.86885, -73.91664)",
          "Longitude": -73.91664
         },
         "4": "B02901",
         "5": "No",
         "6": "2123040707",
         "7": "18:03:31",
         "8": "BLACK CAR BASE"
        },
        {
         "0": {
          "Building": "169-08",
          "City": "JAMAICA",
          "Postcode": 11432,
          "State": "NY",
          "Street": "HILLSIDE AVENUE  2ND FLR"
         },
         "1": "08/15/2019",
         "2": "T & S HILLSIDE INC.",
         "3": {
          "Latitude": 40.711551,
          "Location": "(40.711551, -73.79299)",
          "Longitude": -73.79299
         },
         "4": "B00756",
         "5": "No",
         "6": "7186585252",
         "7": "18:03:31",
         "8": "LIVERY BASE"
        },
        {
         "0": {
          "Building": "90",
          "City": "MAHWAH",
          "Postcode": 7430,
          "State": "NJ",
          "Street": "MCKEE DRIVE  SUITE 101"
         },
         "1": "08/15/2019",
         "2": "TRISTAR SERVICES (US) INC.",
         "3": {
          "Latitude": 40.765597,
          "Location": "(40.765597, -73.83262)",
          "Longitude": -73.83262
         },
         "4": "B02426",
         "5": "No",
         "6": "8666860373",
         "7": "18:03:31",
         "8": "LUXURY/LIMOUSINE"
        },
        {
         "0": {
          "Building": "349",
          "City": "BRONX",
          "Postcode": 10451,
          "State": "NY",
          "Street": "GRAND CONCOURSE"
         },
         "1": "08/15/2019",
         "2": "ON LINE LIMOUSINE LLC",
         "3": {
          "Latitude": 40.8153,
          "Location": "(40.8153, -73.929004)",
          "Longitude": -73.929004
         },
         "4": "B01875",
         "5": "No",
         "6": "2129232281",
         "7": "18:03:31",
         "8": "BLACK CAR BASE"
        },
        {
         "0": {
          "Building": "1941",
          "City": "BROOKLYN",
          "Postcode": 11234,
          "State": "NY",
          "Street": "UTICA AVENUE  2FL."
         },
         "1": "08/15/2019",
         "2": "EVE CONSOLIDATED BUS ENT INC",
         "3": {
          "Latitude": 40.600796,
          "Location": "(40.600796, -73.906588)",
          "Longitude": -73.906588
         },
         "4": "B90275",
         "5": "No",
         "6": "7182529797",
         "7": "18:03:31",
         "8": "PARATRANSIT BASE"
        },
        {
         "0": {
          "Building": "1113",
          "City": "STATEN ISLAND",
          "Postcode": 10301,
          "State": "NY",
          "Street": "VICTORY BOULEVARD"
         },
         "1": "08/15/2019",
         "2": "LAKEVIEW CARS INC.",
         "3": {
          "Latitude": 40.617782,
          "Location": "(40.617782, -74.101897)",
          "Longitude": -74.101897
         },
         "4": "B01268",
         "5": "No",
         "6": "7184420022",
         "7": "18:03:31",
         "8": "LIVERY BASE"
        },
        {
         "0": {
          "Building": "232",
          "City": "BROOKLYN",
          "Postcode": 11211,
          "State": "NY",
          "Street": "METROPOLITAN AVENUE"
         },
         "1": "08/15/2019",
         "2": "BROOKLYN RIDES CORP",
         "3": {
          "Latitude": 40.714797,
          "Location": "(40.714797, -73.95974)",
          "Longitude": -73.95974
         },
         "4": "B02849",
         "5": "No",
         "6": "7182188600",
         "7": "18:03:31",
         "8": "BLACK CAR BASE"
        },
        {
         "0": {
          "Building": "1200",
          "City": "BRONX",
          "Postcode": 10462,
          "State": "NY",
          "Street": "ZEREGA AVENUE"
         },
         "1": "08/15/2019",
         "2": "D-J AMBULETTE SERVICE,INC.",
         "3": {
          "Latitude": 40.833354,
          "Location": "(40.833354, -73.843531)",
          "Longitude": -73.843531
         },
         "4": "B90536",
         "5": "No",
         "6": "7188299700",
         "7": "18:03:31",
         "8": "PARATRANSIT BASE"
        },
        {
         "0": {
          "Building": "5",
          "City": "LIC",
          "Postcode": 11101,
          "State": "NY",
          "Street": "COURT SQUARE  #203"
         },
         "1": "08/15/2019",
         "2": "ROAD NEW YORK ENTERPRISES, INC.",
         "3": {
          "Latitude": 40.746232,
          "Location": "(40.746232, -73.942696)",
          "Longitude": -73.942696
         },
         "4": "B02287",
         "5": "No",
         "6": "7183492359",
         "7": "18:03:31",
         "8": "LUXURY/LIMOUSINE"
        },
        {
         "0": {
          "Building": "86-29",
          "City": "RICHMOND HILL",
          "Postcode": 11418,
          "State": "NY",
          "Street": "102 STREET"
         },
         "1": "08/15/2019",
         "2": "BIG Q CAR SVC. INC.",
         "3": {
          "Latitude": 40.695478,
          "Location": "(40.695478, -73.84531)",
          "Longitude": -73.84531
         },
         "4": "B00900",
         "5": "No",
         "6": "7188464500",
         "7": "18:03:31",
         "8": "LIVERY BASE"
        },
        {
         "0": {
          "Building": "480",
          "City": "STATEN ISLAND",
          "Postcode": 10304,
          "State": "NY",
          "Street": "TARGEE STREET"
         },
         "1": "08/15/2019",
         "2": "MIC-LOU CAR SERVICES_LLC",
         "3": {
          "Latitude": 40.615388,
          "Location": "(40.615388, -74.08496)",
          "Longitude": -74.08496
         },
         "4": "B02661",
         "5": "No",
         "6": "7184426444",
         "7": "18:03:31",
         "8": "LIVERY BASE"
        },
        {
         "0": {
          "Building": "718",
          "City": "BROOKLYN",
          "Postcode": 11232,
          "State": "NY",
          "Street": "3 AVENUE"
         },
         "1": "08/15/2019",
         "2": "GROUP AMERICAR TRANSPORTATION,LLC.",
         "3": {
          "Latitude": 40.756839,
          "Location": "(40.756839, -73.999141)",
          "Longitude": -73.999141
         },
         "4": "B02067",
         "5": "No",
         "6": "2126298833",
         "7": "18:03:31",
         "8": "BLACK CAR BASE"
        },
        {
         "0": {
          "Building": "1072",
          "City": "BROOKLYN",
          "Postcode": 11221,
          "State": "NY",
          "Street": "BROADWAY"
         },
         "1": "08/15/2019",
         "2": "PUERTO RICO CAR SERVICE INC.",
         "3": {
          "Latitude": 40.694521,
          "Location": "(40.694521, -73.931575)",
          "Longitude": -73.931575
         },
         "4": "B01273",
         "5": "No",
         "6": "7184435555",
         "7": "18:03:31",
         "8": "LIVERY BASE"
        },
        {
         "0": {
          "Building": "335",
          "City": "BROOKLYN",
          "Postcode": 11231,
          "State": "NY",
          "Street": "BOND STREET"
         },
         "1": "08/15/2019",
         "2": "NYC 2 WAY INTERNATIONAL LTD",
         "3": {
          "Latitude": 40.678782,
          "Location": "(40.678782, -73.98998)",
          "Longitude": -73.98998
         },
         "4": "B00412",
         "5": "No",
         "6": "7186433900",
         "7": "18:03:31",
         "8": "BLACK CAR BASE"
        },
        {
         "0": {
          "Building": "2642",
          "City": "NY",
          "Postcode": 10025,
          "State": "NY",
          "Street": "BROADWAY"
         },
         "1": "08/15/2019",
         "2": "FAST OPERATING CORP",
         "3": {
          "Latitude": 40.760313,
          "Location": "(40.760313, -73.9412)",
          "Longitude": -73.9412
         },
         "4": "B00256",
         "5": "No",
         "6": "2126666666",
         "7": "18:03:31",
         "8": "LIVERY BASE"
        },
        {
         "0": {
          "Building": "636",
          "City": "NY",
          "Postcode": 10001,
          "State": "NY",
          "Street": "WEST   28 STREET"
         },
         "1": "08/15/2019",
         "2": "WEITER LLC",
         "3": {
          "Latitude": 40.75273,
          "Location": "(40.75273, -74.00641)",
          "Longitude": -74.00641
         },
         "4": "B02617",
         "5": "No",
         "6": "7189715638",
         "7": "18:03:31",
         "8": "BLACK CAR BASE"
        },
        {
         "0": {
          "Building": "80-01",
          "City": "EAST ELMHURST",
          "Postcode": 11370,
          "State": "NY",
          "Street": "31ST AVENUE"
         },
         "1": "08/15/2019",
         "2": "LA RAZA CAR SERVICE, INC.",
         "3": {
          "Latitude": 40.759225,
          "Location": "(40.759225, -73.887802)",
          "Longitude": -73.887802
         },
         "4": "B02249",
         "5": "No",
         "6": "7183971111",
         "7": "18:03:31",
         "8": "LIVERY BASE"
        },
        {
         "0": {
          "Building": "118-03",
          "City": "JAMAICA",
          "Postcode": 11434,
          "State": "NY",
          "Street": "SUTPHIN BOULEVARD"
         },
         "1": "08/15/2019",
         "2": "BAMADU CAR SVCE",
         "3": {
          "Latitude": 40.679415,
          "Location": "(40.679415, -73.79201)",
          "Longitude": -73.79201
         },
         "4": "B00746",
         "5": "No",
         "6": "7187232020",
         "7": "18:03:31",
         "8": "LIVERY BASE"
        },
        {
         "0": {
          "Building": "343",
          "City": "BROOKLYN",
          "Postcode": 11211,
          "State": "NY",
          "Street": "ROEBLING STREET"
         },
         "1": "08/15/2019",
         "2": "YERUSHALAYIM CAR&LIMO INC",
         "3": {
          "Latitude": 40.707303,
          "Location": "(40.707303, -73.96101)",
          "Longitude": -73.96101
         },
         "4": "B02839",
         "5": "No",
         "6": "7183874900",
         "7": "18:03:31",
         "8": "LIVERY BASE"
        },
        {
         "0": {
          "Building": "1748",
          "City": "BRONX",
          "Postcode": 10460,
          "State": "NY",
          "Street": "EAST TREMONT AVENUE"
         },
         "1": "08/15/2019",
         "2": "NEW SUPERIOR RADIO GRP CORP",
         "3": {
          "Latitude": 40.808373,
          "Location": "(40.808373, -73.929466)",
          "Longitude": -73.929466
         },
         "4": "B01768",
         "5": "Yes",
         "6": "7186180093",
         "7": "18:03:31",
         "8": "LIVERY BASE"
        },
        {
         "0": {
          "Building": "49",
          "City": "BRONX",
          "Postcode": 10461,
          "State": "NY",
          "Street": "WESTCHESTER SQUARE"
         },
         "1": "08/15/2019",
         "2": "49 WESTCHESTER SQUARE PRESTIGE CAR SERVICE, CORP.",
         "3": {
          "Latitude": 40.841873,
          "Location": "(40.841873, -73.843614)",
          "Longitude": -73.843614
         },
         "4": "B02719",
         "5": "No",
         "6": "7185362800",
         "7": "18:03:31",
         "8": "LIVERY BASE"
        },
        {
         "0": {
          "Building": "330",
          "City": "NEW YORK",
          "Postcode": 10018,
          "State": "NY",
          "Street": "WEST   38 STREET  STE 1408"
         },
         "1": "08/15/2019",
         "2": "QUEST INTERNATIONAL LIMOUSINE, INC.",
         "3": {
          "Latitude": 40.755282,
          "Location": "(40.755282, -73.99349)",
          "Longitude": -73.99349
         },
         "4": "B02342",
         "5": "No",
         "6": "2122650307",
         "7": "18:03:31",
         "8": "BLACK CAR BASE"
        },
        {
         "0": {
          "Building": "361",
          "City": "BROOKLYN",
          "Postcode": 11211,
          "State": "NY",
          "Street": "UNION AVENUE"
         },
         "1": "08/15/2019",
         "2": "AMERICA UNITED MULTIPLEX CAR SERVICE CORP.",
         "3": {
          "Latitude": 40.727344,
          "Location": "(40.727344, -73.952593)",
          "Longitude": -73.952593
         },
         "4": "B02006",
         "5": "No",
         "6": "7183495900",
         "7": "18:03:31",
         "8": "LIVERY BASE"
        },
        {
         "0": {
          "Building": "91-15",
          "City": "ROCKAWAY BEACH",
          "Postcode": 11693,
          "State": "NY",
          "Street": "ROCKAWAY BEACH BOULEVARD"
         },
         "1": "08/15/2019",
         "2": "PICTURE PROPERTIES, INC.",
         "3": {
          "Latitude": 40.586496,
          "Location": "(40.586496, -73.815068)",
          "Longitude": -73.815068
         },
         "4": "B02521",
         "5": "No",
         "6": "7186342222",
         "7": "18:03:31",
         "8": "LIVERY BASE"
        },
        {
         "0": {
          "Building": "40-14",
          "City": "L.I.C",
          "Postcode": 11101,
          "State": "NY",
          "Street": "23 STREET"
         },
         "1": "08/15/2019",
         "2": "LONDON TOWNCARS INC",
         "3": {
          "Latitude": 40.754052,
          "Location": "(40.754052, -73.940055)",
          "Longitude": -73.940055
         },
         "4": "B00001",
         "5": "No",
         "6": "7187869700",
         "7": "18:03:31",
         "8": "LUXURY/LIMOUSINE"
        },
        {
         "0": {
          "Building": "33-70",
          "City": "FLUSHING",
          "Postcode": 11354,
          "State": "NY",
          "Street": "PRINCE STREET  #603"
         },
         "1": "08/15/2019",
         "2": "NEW APPLE TRANS. INC.",
         "3": {
          "Latitude": 40.764583,
          "Location": "(40.764583, -73.833837)",
          "Longitude": -73.833837
         },
         "4": "B02240",
         "5": "No",
         "6": "7187773333",
         "7": "18:03:31",
         "8": "BLACK CAR BASE"
        },
        {
         "0": {
          "Building": "1614",
          "City": "BROOKLYN",
          "Postcode": 11224,
          "State": "NY",
          "Street": "NEPTUNE AVENUE  SUITE 212"
         },
         "1": "08/15/2019",
         "2": "AMBULETTE STAR TRANS INC.",
         "3": {
          "Latitude": 40.583887,
          "Location": "(40.583887, -73.949125)",
          "Longitude": -73.949125
         },
         "4": "B90310",
         "5": "No",
         "6": "7183320320",
         "7": "18:03:31",
         "8": "PARATRANSIT BASE"
        },
        {
         "0": {
          "Building": "1709",
          "City": "BROOKLYN",
          "Postcode": 11214,
          "State": "NY",
          "Street": "79 STREET"
         },
         "1": "08/15/2019",
         "2": "EAGLE CAR & LIMO LTD.",
         "3": {
          "Latitude": 40.612363,
          "Location": "(40.612363, -74.000396)",
          "Longitude": -74.000396
         },
         "4": "B01424",
         "5": "No",
         "6": "7187452000",
         "7": "18:03:31",
         "8": "LIVERY BASE"
        },
        {
         "0": {
          "Building": "162 - 13",
          "City": "FLUSHING",
          "Postcode": 11358,
          "State": "NY",
          "Street": "46TH AVENUE  SUITE #3A"
         },
         "1": "08/15/2019",
         "2": "CHARLIE BLACK CAR INC.",
         "3": {
          "Latitude": 40.7557,
          "Location": "(40.7557, -73.8046)",
          "Longitude": -73.8046
         },
         "4": "B02723",
         "5": "No",
         "6": "2016662222",
         "7": "18:03:31",
         "8": "BLACK CAR BASE"
        },
        {
         "0": {
          "Building": "1598",
          "City": "BRONX",
          "Postcode": 10462,
          "State": "NY",
          "Street": "BRONXDALE AVENUE"
         },
         "1": "08/15/2019",
         "2": "JORA MGT. CORP.",
         "3": {
          "Latitude": 40.843558,
          "Location": "(40.843558, -73.856319)",
          "Longitude": -73.856319
         },
         "4": "B90616",
         "5": "No",
         "6": "7188927625",
         "7": "18:03:31",
         "8": "PARATRANSIT BASE"
        },
        {
         "0": {
          "Building": "521",
          "City": "BROOKLYN",
          "Postcode": 11231,
          "State": "NY",
          "Street": "HENRY STREET"
         },
         "1": "08/15/2019",
         "2": "CAROLL GARDENS",
         "3": {
          "Latitude": 40.683777,
          "Location": "(40.683777, -73.999354)",
          "Longitude": -73.999354
         },
         "4": "B00125",
         "5": "Yes",
         "7": "18:03:31",
         "8": "LIVERY BASE"
        },
        {
         "0": {
          "Building": "202",
          "City": "FLORAL PARK",
          "Postcode": 11001,
          "State": "NY",
          "Street": "JERICHO TURNPIKE"
         },
         "1": "08/15/2019",
         "2": "PLANET LIMOUSINE LLC",
         "3": {
          "Latitude": 40.728618,
          "Location": "(40.728618, -73.703601)",
          "Longitude": -73.703601
         },
         "4": "B02016",
         "5": "No",
         "6": "5163541616",
         "7": "18:03:31",
         "8": "LUXURY/LIMOUSINE"
        },
        {
         "0": {
          "Building": "586",
          "City": "RIDGEWOOD",
          "Postcode": 11385,
          "State": "NY",
          "Street": "SENECA AVENUE"
         },
         "1": "08/15/2019",
         "2": "FENIX XL CAR AND LIMO SERVICE CORP.",
         "3": {
          "Latitude": 40.773186,
          "Location": "(40.773186, -73.03862)",
          "Longitude": -73.03862
         },
         "4": "B02563",
         "5": "Yes",
         "6": "7188212121",
         "7": "18:03:31",
         "8": "BLACK CAR BASE"
        },
        {
         "0": {
          "Building": "53",
          "City": "NEW YORK",
          "Postcode": 10016,
          "State": "NY",
          "Street": "EAST   34 STREET  4 FLOOR"
         },
         "1": "08/15/2019",
         "2": "ICS-NY, INC.",
         "3": {
          "Latitude": 40.747641,
          "Location": "(40.747641, -73.981929)",
          "Longitude": -73.981929
         },
         "4": "B01989",
         "5": "No",
         "6": "2125612600",
         "7": "18:03:31",
         "8": "LUXURY/LIMOUSINE"
        },
        {
         "0": {
          "Building": "38-17",
          "City": "LIC",
          "Postcode": 11101,
          "State": "NY",
          "Street": "CRESCENT STREET"
         },
         "1": "08/15/2019",
         "2": "EXEC TRANSPORT INC",
         "3": {
          "Latitude": 40.755182,
          "Location": "(40.755182, -73.935989)",
          "Longitude": -73.935989
         },
         "4": "B02101",
         "5": "No",
         "6": "9176061735",
         "7": "18:03:31",
         "8": "BLACK CAR BASE"
        },
        {
         "0": {
          "Building": "2732",
          "City": "BROOKLYN",
          "Postcode": 11229,
          "State": "NY",
          "Street": "GERRITSEN AVENUE"
         },
         "1": "08/15/2019",
         "2": "VOLGA TRANSP CORP",
         "3": {
          "Latitude": 40.593221,
          "Location": "(40.593221, -73.946019)",
          "Longitude": -73.946019
         },
         "4": "B90395",
         "5": "No",
         "6": "7187437979",
         "7": "18:03:31",
         "8": "PARATRANSIT BASE"
        },
        {
         "0": {
          "Building": "86-11",
          "City": "RICHMOND HILL",
          "Postcode": 11418,
          "State": "NY",
          "Street": "LEFFERTS BOULEVARD  SUITE 2A"
         },
         "1": "08/15/2019",
         "2": "TAP & RIDE,INC.",
         "3": {
          "Latitude": 40.701122,
          "Location": "(40.701122, -73.83138)",
          "Longitude": -73.83138
         },
         "4": "B02772",
         "5": "Yes",
         "6": "3476666666",
         "7": "18:03:31",
         "8": "BLACK CAR BASE"
        },
        {
         "0": {
          "Building": "650",
          "City": "BRONX",
          "Postcode": 10473,
          "State": "NY",
          "Street": "SOUNDVIEW AVENUE"
         },
         "1": "08/15/2019",
         "2": "DAT TRANSPORTATION INC.",
         "3": {
          "Latitude": 40.818455,
          "Location": "(40.818455, -73.86271)",
          "Longitude": -73.86271
         },
         "4": "B02913",
         "5": "No",
         "6": "7183288889",
         "7": "18:03:31",
         "8": "BLACK CAR BASE"
        },
        {
         "0": {
          "Building": "3945",
          "City": "BRONX",
          "Postcode": 10466,
          "State": "NY",
          "Street": "PROVOST AVENUE"
         },
         "1": "08/15/2019",
         "2": "ADVANCED LUXURY LIMO SVC. INC.",
         "3": {
          "Latitude": 40.833404,
          "Location": "(40.833404, -73.84037)",
          "Longitude": -73.84037
         },
         "4": "B02833",
         "5": "No",
         "6": "7182312188",
         "7": "18:03:31",
         "8": "BLACK CAR BASE"
        },
        {
         "0": {
          "Building": "1684",
          "City": "BRONX",
          "Postcode": 10472,
          "State": "NY",
          "Street": "GLEASON AVENUE"
         },
         "1": "08/15/2019",
         "2": "UNICAR COMPANY INC",
         "3": {
          "Latitude": 40.82923,
          "Location": "(40.82923, -73.871067)",
          "Longitude": -73.871067
         },
         "4": "B01340",
         "5": "Yes",
         "6": "7183284444",
         "7": "18:03:31",
         "8": "LIVERY BASE"
        },
        {
         "0": {
          "Building": "689",
          "City": "RIDGEWOOD",
          "Postcode": 11385,
          "State": "NY",
          "Street": "SENECA AVENUE"
         },
         "1": "08/15/2019",
         "2": "LIBERTY CAR SERVICE INC.",
         "3": {
          "Latitude": 40.70305,
          "Location": "(40.70305, -73.907668)",
          "Longitude": -73.907668
         },
         "4": "B00095",
         "5": "No",
         "6": "7183666666",
         "7": "18:03:31",
         "8": "LIVERY BASE"
        },
        {
         "0": {
          "Building": "162-13",
          "City": "FLUSHING",
          "Postcode": 11358,
          "State": "NY",
          "Street": "46 AVENUE  #2 FLOOR"
         },
         "1": "08/15/2019",
         "2": "MEDROCK CAR SERVICE INC.",
         "3": {
          "Latitude": 40.762492,
          "Location": "(40.762492, -73.803318)",
          "Longitude": -73.803318
         },
         "4": "B02977",
         "5": "No",
         "6": "7188884848",
         "7": "18:03:31",
         "8": "BLACK CAR BASE"
        },
        {
         "0": {
          "Building": "53-38",
          "City": "LIC",
          "Postcode": 11101,
          "State": "NY",
          "Street": "35 STREET"
         },
         "1": "08/15/2019",
         "2": "V.I.P. CONNECTION, INC.",
         "3": {
          "Latitude": 40.735324,
          "Location": "(40.735324, -73.938114)",
          "Longitude": -73.938114
         },
         "4": "B01803",
         "5": "No",
         "6": "7183926100",
         "7": "18:03:31",
         "8": "BLACK CAR BASE"
        },
        {
         "0": {
          "Building": "96-28",
          "City": "CORONA",
          "Postcode": 11368,
          "State": "NY",
          "Street": "ALSTYNE AVENUE"
         },
         "1": "08/15/2019",
         "2": "SANTO DOMINGO CAR LIMO SERVICES INC",
         "3": {
          "Latitude": 40.743032,
          "Location": "(40.743032, -73.866445)",
          "Longitude": -73.866445
         },
         "4": "B01176",
         "5": "No",
         "6": "7186995959",
         "7": "18:03:31",
         "8": "LIVERY BASE"
        },
        {
         "0": {
          "Building": "208-01",
          "City": "BAYSIDE",
          "Postcode": 11361,
          "State": "NY",
          "Street": "NORTHERN BOULEVARD"
         },
         "1": "08/15/2019",
         "2": "NYC FLY WHEELS INC.",
         "3": {
          "Latitude": 40.759035,
          "Location": "(40.759035, -73.775438)",
          "Longitude": -73.775438
         },
         "4": "B02832",
         "5": "No",
         "6": "7184231111",
         "7": "18:03:31",
         "8": "LIVERY BASE"
        },
        {
         "0": {
          "Building": "92-20",
          "City": "QUEEN VILLAGE",
          "Postcode": 11428,
          "State": "NY",
          "Street": "213 STREET"
         },
         "1": "08/15/2019",
         "2": "GUYMACK EXPRESS INC",
         "3": {
          "Latitude": 40.720043,
          "Location": "(40.720043, -73.747082)",
          "Longitude": -73.747082
         },
         "4": "B80197",
         "5": "No",
         "6": "9293127483",
         "7": "18:03:31",
         "8": "COMMUTER VAN AUTHORITY BASE"
        },
        {
         "0": {
          "Building": "27 - 01",
          "City": "QUEENS",
          "Postcode": 11101,
          "State": "NY",
          "Street": "QUEENS PLAZA NORTH"
         },
         "1": "08/15/2019",
         "2": "U.P.S. RADIO DISPATCH CORP.",
         "3": {
          "Latitude": 40.831538,
          "Location": "(40.831538, -73.88181)",
          "Longitude": -73.88181
         },
         "4": "B01651",
         "5": "Yes",
         "6": "3473184444",
         "7": "18:03:31",
         "8": "LIVERY BASE"
        },
        {
         "0": {
          "Building": "354",
          "City": "BROOKLYN",
          "Postcode": 11223,
          "State": "NY",
          "Street": "KINGS HIGHWAY  SECOND FLOOR"
         },
         "1": "08/15/2019",
         "2": "TYMPF CO., INC.",
         "3": {
          "Latitude": 40.600923,
          "Location": "(40.600923, -73.977126)",
          "Longitude": -73.977126
         },
         "4": "B90552",
         "5": "No",
         "6": "7189460606",
         "7": "18:03:31",
         "8": "PARATRANSIT BASE"
        },
        {
         "0": {
          "Building": "47 - 16",
          "City": "WOODSIDE",
          "Postcode": 11377,
          "State": "NY",
          "Street": "48 AVENUE"
         },
         "1": "08/15/2019",
         "2": "ROOSEVELT CAR & LIMO INC.",
         "3": {
          "Latitude": 40.754266,
          "Location": "(40.754266, -73.919855)",
          "Longitude": -73.919855
         },
         "4": "B02637",
         "5": "No",
         "6": "7187868888",
         "7": "18:03:31",
         "8": "BLACK CAR BASE"
        },
        {
         "0": {
          "Building": "72-55",
          "City": "FLUSHING",
          "Postcode": 11367,
          "State": "NY",
          "Street": "KISSENA BOULEVARD"
         },
         "1": "08/15/2019",
         "2": "PAK-EAGLE INC.",
         "3": {
          "Latitude": 40.727695,
          "Location": "(40.727695, -73.8129)",
          "Longitude": -73.8129
         },
         "4": "B01128",
         "5": "Yes",
         "6": "7185751212",
         "7": "18:03:31",
         "8": "LIVERY BASE"
        },
        {
         "0": {
          "Building": "4912",
          "City": "BROOKLYN",
          "Postcode": 11203,
          "State": "NY",
          "Street": "AVENUE D"
         },
         "1": "08/15/2019",
         "2": "T.J.Q. CAR SERVICE, INC.",
         "3": {
          "Latitude": 40.64196,
          "Location": "(40.64196, -73.9298)",
          "Longitude": -73.9298
         },
         "4": "B00975",
         "5": "No",
         "6": "7186292540",
         "7": "18:03:31",
         "8": "LIVERY BASE"
        },
        {
         "0": {
          "Building": "31-00",
          "City": "LIC",
          "Postcode": 11101,
          "State": "NY",
          "Street": "47 AVENUE  SUITE 4123A"
         },
         "1": "08/15/2019",
         "2": "TRI-CITY,LLC",
         "3": {
          "Latitude": 40.743043,
          "Location": "(40.743043, -73.93551)",
          "Longitude": -73.93551
         },
         "4": "B02510",
         "5": "No",
         "6": "4158861718",
         "7": "18:03:31",
         "8": "BLACK CAR BASE"
        },
        {
         "0": {
          "Building": "42-06",
          "City": "ASTORIA",
          "Postcode": 11103,
          "State": "NY",
          "Street": "BROADWAY"
         },
         "1": "08/15/2019",
         "2": "VINCENT'S LIMOUSINE SERVICE OF NEW YORK, INC.",
         "3": {
          "Latitude": 40.757906,
          "Location": "(40.757906, -73.917312)",
          "Longitude": -73.917312
         },
         "4": "B01843",
         "5": "No",
         "6": "7187290900",
         "7": "18:03:31",
         "8": "LUXURY/LIMOUSINE"
        },
        {
         "0": {
          "Building": "1204",
          "City": "BROOKLYN",
          "Postcode": 11230,
          "State": "NY",
          "Street": "CONEY ISLAND AVENUE"
         },
         "1": "08/15/2019",
         "2": "DAG NETWORK TRANSPORTATION,CORP",
         "3": {
          "Latitude": 40.628184,
          "Location": "(40.628184, -73.966085)",
          "Longitude": -73.966085
         },
         "4": "B01944",
         "5": "No",
         "6": "2122791700",
         "7": "18:03:31",
         "8": "LUXURY/LIMOUSINE"
        },
        {
         "0": {
          "Building": "83-03",
          "City": "EAST ELMHURSTS",
          "Postcode": 11370,
          "State": "NY",
          "Street": "24 AVENUE  2ND FLOOR"
         },
         "1": "08/15/2019",
         "2": "VEGA TRANSPORTATION CO INC",
         "3": {
          "Latitude": 40.765173,
          "Location": "(40.765173, -73.885915)",
          "Longitude": -73.885915
         },
         "4": "B90140",
         "5": "No",
         "6": "7185070500",
         "7": "18:03:31",
         "8": "PARATRANSIT BASE"
        },
        {
         "0": {
          "Building": "1518",
          "City": "BROOKLYN",
          "Postcode": 11213,
          "State": "NY",
          "Street": "BERGEN STREET"
         },
         "1": "08/15/2019",
         "2": "FLAMINGO TRANSP. & LIMO. SERVICES INC.",
         "3": {
          "Latitude": 40.675021,
          "Location": "(40.675021, -73.93308)",
          "Longitude": -73.93308
         },
         "4": "B01485",
         "5": "No",
         "6": "7184934306",
         "7": "18:03:31",
         "8": "LIVERY BASE"
        },
        {
         "0": {
          "Building": "700",
          "City": "BRONX",
          "Postcode": 10473,
          "State": "NY",
          "Street": "HAVEMEYER AVENUE"
         },
         "1": "08/15/2019",
         "2": "SENIOR RIDE TRANSPORTATION LLC",
         "3": {
          "Latitude": 40.821906,
          "Location": "(40.821906, -73.845107)",
          "Longitude": -73.845107
         },
         "4": "B90681",
         "5": "No",
         "6": "7187133700",
         "7": "18:03:31",
         "8": "PARATRANSIT BASE"
        },
        {
         "0": {
          "Building": "43 - 23",
          "City": "LIC",
          "Postcode": 11101,
          "State": "NY",
          "Street": "35 STREET"
         },
         "1": "08/15/2019",
         "2": "TRANS CITY TRANSPORTATION INC",
         "3": {
          "Latitude": 40.713758,
          "Location": "(40.713758, -73.75641)",
          "Longitude": -73.75641
         },
         "4": "B02711",
         "5": "No",
         "6": "7187076102",
         "7": "18:03:31",
         "8": "BLACK CAR BASE"
        },
        {
         "0": {
          "Building": "1225",
          "City": "GARDEN CITY",
          "Postcode": 11530,
          "State": "NY",
          "Street": "FRANKLIN AVE  STE 325"
         },
         "1": "08/15/2019",
         "2": "MATTHEW'S LIMO INC",
         "3": {
          "Latitude": 40.733779,
          "Location": "(40.733779, -73.635348)",
          "Longitude": -73.635348
         },
         "4": "B02518",
         "5": "No",
         "6": "7184241250",
         "7": "18:03:31",
         "8": "BLACK CAR BASE"
        },
        {
         "0": {
          "Building": "53-24",
          "City": "CORONA",
          "Postcode": 11368,
          "State": "NY",
          "Street": "98 STREET"
         },
         "1": "08/15/2019",
         "2": "DIRECT CAR & LIMO SERVICE INC.",
         "3": {
          "Latitude": 40.739787,
          "Location": "(40.739787, -73.863455)",
          "Longitude": -73.863455
         },
         "4": "B02681",
         "5": "No",
         "6": "9173196043",
         "7": "18:03:31",
         "8": "LIVERY BASE"
        },
        {
         "0": {
          "Building": "41-24",
          "City": "L.I.C.",
          "Postcode": 11101,
          "State": "NY",
          "Street": "38TH STREET"
         },
         "1": "08/15/2019",
         "2": "ACE C/L SVCE INC",
         "3": {
          "Latitude": 40.638477,
          "Location": "(40.638477, -73.983333)",
          "Longitude": -73.983333
         },
         "4": "B00888",
         "5": "No",
         "6": "7184381100",
         "7": "18:03:31",
         "8": "BLACK CAR BASE"
        },
        {
         "0": {
          "Building": "3440",
          "City": "BROOKLYN",
          "Postcode": 11208,
          "State": "NY",
          "Street": "ATLANTIC AVENUE"
         },
         "1": "08/15/2019",
         "2": "NYC STAR LIMOUSINE & CAR SERVICES CORP.",
         "3": {
          "Latitude": 40.679483,
          "Location": "(40.679483, -73.886635)",
          "Longitude": -73.886635
         },
         "4": "B02613",
         "5": "No",
         "6": "7182777777",
         "7": "18:03:31",
         "8": "LIVERY BASE"
        },
        {
         "0": {
          "Building": "86",
          "City": "NEW YORK",
          "Postcode": 10013,
          "State": "NY",
          "Street": "BOWERY  2B"
         },
         "1": "08/15/2019",
         "2": "FLUSHING VAN SERVICE INC",
         "3": {
          "Latitude": 40.717173,
          "Location": "(40.717173, -73.995852)",
          "Longitude": -73.995852
         },
         "4": "B80107",
         "5": "No",
         "6": "7182362082",
         "7": "18:03:31",
         "8": "COMMUTER VAN AUTHORITY BASE"
        },
        {
         "0": {
          "Building": "18-20",
          "City": "ASTORIA",
          "Postcode": 11105,
          "State": "NY",
          "Street": "STEINWAY STREET"
         },
         "1": "08/15/2019",
         "2": "BLS LIMO SVC OF NY INC",
         "3": {
          "Latitude": 40.779966,
          "Location": "(40.779966, -73.898038)",
          "Longitude": -73.898038
         },
         "4": "B01236",
         "5": "No",
         "6": "7182675426",
         "7": "18:03:31",
         "8": "LUXURY/LIMOUSINE"
        },
        {
         "0": {
          "Building": "6809",
          "City": "BROOKLYN",
          "Postcode": 11220,
          "State": "NY",
          "Street": "3 AVENUE"
         },
         "1": "08/15/2019",
         "2": "EXPLORER CAR SERVICE INC.",
         "3": {
          "Latitude": 40.636094,
          "Location": "(40.636094, -74.02563)",
          "Longitude": -74.02563
         },
         "4": "B02738",
         "5": "No",
         "6": "7182380404",
         "7": "18:03:31",
         "8": "LIVERY BASE"
        },
        {
         "0": {
          "Building": "33-24",
          "City": "LIC",
          "Postcode": 11101,
          "State": "NY",
          "Street": "NORTHERN BOULEVARD"
         },
         "1": "08/15/2019",
         "2": "SIGNATURE BLACK CAR LLC",
         "3": {
          "Latitude": 40.751736,
          "Location": "(40.751736, -73.930223)",
          "Longitude": -73.930223
         },
         "4": "B02925",
         "5": "No",
         "6": "9295220461",
         "7": "18:03:31",
         "8": "BLACK CAR BASE"
        },
        {
         "0": {
          "Building": "36-36",
          "City": "LIC",
          "Postcode": 11106,
          "State": "NY",
          "Street": "33 STREET  #308"
         },
         "1": "08/15/2019",
         "2": "PARK WEST EXEC. SERVICES, INC.",
         "3": {
          "Latitude": 40.754855,
          "Location": "(40.754855, -73.929205)",
          "Longitude": -73.929205
         },
         "4": "B00227",
         "5": "No",
         "6": "2127277800",
         "7": "18:03:31",
         "8": "LUXURY/LIMOUSINE"
        },
        {
         "0": {
          "Building": "143-55",
          "City": "ROSEDALE",
          "Postcode": 11422,
          "State": "NY",
          "Street": "243 STREET"
         },
         "1": "08/15/2019",
         "2": "ROSE 'N' DALE C/S INC",
         "3": {
          "Latitude": 40.660823,
          "Location": "(40.660823, -73.738945)",
          "Longitude": -73.738945
         },
         "4": "B01391",
         "5": "No",
         "6": "7189491655",
         "7": "18:03:31",
         "8": "LIVERY BASE"
        },
        {
         "0": {
          "Building": "4980",
          "City": "NEW YORK",
          "Postcode": 10034,
          "State": "NY",
          "Street": "BROADWAY"
         },
         "1": "08/15/2019",
         "2": "FIRST CLASS C/L SVC CORP",
         "3": {
          "Latitude": 40.868198,
          "Location": "(40.868198, -73.91923)",
          "Longitude": -73.91923
         },
         "4": "B01536",
         "5": "Yes",
         "6": "2123041111",
         "7": "18:03:31",
         "8": "LIVERY BASE"
        },
        {
         "0": {
          "Building": "31-00",
          "City": "LIC",
          "Postcode": 11101,
          "State": "NY",
          "Street": "47 AVENUE  3RD, SUITE 3100"
         },
         "1": "08/15/2019",
         "2": "ALFRED HOLDINGS INC.",
         "3": {
          "Latitude": 40.67239,
          "Location": "(40.67239, -73.82997)",
          "Longitude": -73.82997
         },
         "4": "B02774",
         "5": "No",
         "6": "7185291111",
         "7": "18:03:31",
         "8": "BLACK CAR BASE"
        },
        {
         "0": {
          "Building": "1440",
          "City": "BROOKLYN",
          "Postcode": 11218,
          "State": "NY",
          "Street": "39 STREET"
         },
         "1": "08/15/2019",
         "2": "PRIME TIME TRANS. INC",
         "3": {
          "Latitude": 40.745789,
          "Location": "(40.745789, -73.94498)",
          "Longitude": -73.94498
         },
         "4": "B00296",
         "5": "No",
         "6": "7184381100",
         "7": "18:03:31",
         "8": "BLACK CAR BASE"
        },
        {
         "0": {
          "Building": "498",
          "City": "NEW ROCHELLE",
          "Postcode": 10801,
          "State": "NY",
          "Street": "MAIN STREET  SUITE 4"
         },
         "1": "08/15/2019",
         "2": "MAYOOR TRANSPORTATION INC.",
         "3": {
          "Latitude": 40.908868,
          "Location": "(40.908868, -73.781264)",
          "Longitude": -73.781264
         },
         "4": "B90662",
         "5": "No",
         "6": "9142354700",
         "7": "18:03:31",
         "8": "PARATRANSIT BASE"
        },
        {
         "0": {
          "Building": "507",
          "City": "BROOKLYN",
          "Postcode": 11232,
          "State": "NY",
          "Street": "40 STREET"
         },
         "1": "08/15/2019",
         "2": "NEW MEXICANA CAR SERVICE II INC.",
         "3": {
          "Latitude": 40.650545,
          "Location": "(40.650545, -74.0042)",
          "Longitude": -74.0042
         },
         "4": "B00131",
         "5": "Yes",
         "6": "7184361111",
         "7": "18:03:31",
         "8": "LIVERY BASE"
        },
        {
         "0": {
          "Building": "44-10",
          "City": "ASTORIA",
          "Postcode": 11103,
          "State": "NY",
          "Street": "30 AVENUE"
         },
         "1": "08/15/2019",
         "2": "ECUADOOR CORP",
         "3": {
          "Latitude": 40.762272,
          "Location": "(40.762272, -73.911591)",
          "Longitude": -73.911591
         },
         "4": "B01215",
         "5": "No",
         "6": "7182048412",
         "7": "18:03:31",
         "8": "LIVERY BASE"
        },
        {
         "0": {
          "Building": "2395",
          "City": "BROOKLYN",
          "Postcode": 11223,
          "State": "NY",
          "Street": "CONEY ISLAND AVENUE"
         },
         "1": "08/15/2019",
         "2": "OCEANA CAR AND LIMO",
         "3": {
          "Latitude": 40.598608,
          "Location": "(40.598608, -73.96108)",
          "Longitude": -73.96108
         },
         "4": "B02245",
         "5": "No",
         "6": "7183751001",
         "7": "18:03:31",
         "8": "LIVERY BASE"
        },
        {
         "0": {
          "Building": "207",
          "City": "BROOKLYN",
          "Postcode": 11211,
          "State": "NY",
          "Street": "BEDFORD AVENUE"
         },
         "1": "08/15/2019",
         "2": "NORTHSIDE BK LLC",
         "3": {
          "Latitude": 40.716862,
          "Location": "(40.716862, -73.958563)",
          "Longitude": -73.958563
         },
         "4": "B02401",
         "5": "No",
         "6": "7189634444",
         "7": "18:03:31",
         "8": "BLACK CAR BASE"
        },
        {
         "0": {
          "Building": "690",
          "City": "BRONX",
          "Postcode": 10466,
          "State": "NY",
          "Street": "EAST  233 STREET"
         },
         "1": "08/15/2019",
         "2": "TRELAWNY CAR SERVICE INC",
         "3": {
          "Latitude": 40.893346,
          "Location": "(40.893346, -73.8578)",
          "Longitude": -73.8578
         },
         "4": "B02505",
         "5": "No",
         "6": "7188811200",
         "7": "18:03:31",
         "8": "LIVERY BASE"
        },
        {
         "0": {
          "Building": "115-54",
          "City": "ELMONT",
          "Postcode": 11003,
          "State": "NY",
          "Street": "238 STREET"
         },
         "1": "08/15/2019",
         "2": "CONFIDENCE TRANSPORTATION",
         "3": {
          "Latitude": 40.693473,
          "Location": "(40.693473, -73.724446)",
          "Longitude": -73.724446
         },
         "4": "B80140",
         "5": "No",
         "6": "5162850750",
         "7": "18:03:31",
         "8": "COMMUTER VAN AUTHORITY BASE"
        },
        {
         "0": {
          "Building": "43-33",
          "City": "LIC",
          "Postcode": 11101,
          "State": "NY",
          "Street": "35 STREET"
         },
         "1": "08/15/2019",
         "2": "BEN'S LUXURY CAR & LIMOUSINE SERVICE INC",
         "3": {
          "Latitude": 40.751982,
          "Location": "(40.751982, -73.947523)",
          "Longitude": -73.947523
         },
         "4": "B01907",
         "5": "No",
         "6": "7184331212",
         "7": "18:03:31",
         "8": "LUXURY/LIMOUSINE"
        },
        {
         "0": {
          "Building": "40-29",
          "City": "FLUSHING",
          "Postcode": 11354,
          "State": "NY",
          "Street": "149 STREET"
         },
         "1": "08/15/2019",
         "2": "WORLD AMBULETTE TRANSPORTATION, INC.",
         "3": {
          "Latitude": 40.762448,
          "Location": "(40.762448, -73.815763)",
          "Longitude": -73.815763
         },
         "4": "B90687",
         "5": "No",
         "6": "7184453070",
         "7": "18:03:31",
         "8": "PARATRANSIT BASE"
        },
        {
         "0": {
          "Building": "3934",
          "City": "BRONX",
          "Postcode": 10466,
          "State": "NY",
          "Street": "LACONIA AVENUE"
         },
         "1": "08/15/2019",
         "2": "NEW LACONIA RAD DISP INC",
         "3": {
          "Latitude": 40.883201,
          "Location": "(40.883201, -73.849761)",
          "Longitude": -73.849761
         },
         "4": "B01233",
         "5": "No",
         "6": "7187982222",
         "7": "18:03:31",
         "8": "LIVERY BASE"
        },
        {
         "0": {
          "Building": "23-57",
          "City": "EAST ELMHURST",
          "Postcode": 11370,
          "State": "NY",
          "Street": "83 STREET  2ND FLOOR"
         },
         "1": "08/15/2019",
         "2": "STRIDE TRANSPORTATION INC.",
         "3": {
          "Latitude": 40.765428,
          "Location": "(40.765428, -73.886184)",
          "Longitude": -73.886184
         },
         "4": "B02670",
         "5": "No",
         "6": "8452015407",
         "7": "18:03:31",
         "8": "LUXURY/LIMOUSINE"
        },
        {
         "0": {
          "Building": "90",
          "City": "MAHWAH",
          "Postcode": 7430,
          "State": "NJ",
          "Street": "MCKEE DRIVE"
         },
         "1": "08/15/2019",
         "2": "AMERICAN LIMOUSINE LLC",
         "3": {
          "Latitude": 41.083191,
          "Location": "(41.083191, -74.149513)",
          "Longitude": -74.149513
         },
         "4": "B02060",
         "5": "No",
         "6": "2015293610",
         "7": "18:03:31",
         "8": "LUXURY/LIMOUSINE"
        },
        {
         "0": {
          "Building": "636",
          "City": "NEW YORK",
          "Postcode": 10001,
          "State": "NY",
          "Street": "WEST   28 STREET"
         },
         "1": "08/15/2019",
         "2": "UNTER LLC",
         "3": {
          "Latitude": 40.74844,
          "Location": "(40.74844, -73.93946)",
          "Longitude": -73.93946
         },
         "4": "B02512",
         "5": "No",
         "6": "7189715559",
         "7": "18:03:31",
         "8": "LUXURY/LIMOUSINE"
        },
        {
         "0": {
          "Building": "113-50",
          "City": "QUEENS VILLAGE",
          "Postcode": 11429,
          "State": "NY",
          "Street": "SPRINGFIELD BOULEVARD"
         },
         "1": "08/15/2019",
         "2": "VITAL TRANSIT, INC.",
         "3": {
          "Latitude": 40.702577,
          "Location": "(40.702577, -73.741234)",
          "Longitude": -73.741234
         },
         "4": "B90577",
         "5": "No",
         "6": "7184643020",
         "7": "18:03:31",
         "8": "PARATRANSIT BASE"
        },
        {
         "0": {
          "Building": "1796",
          "City": "BROOKLYN",
          "Postcode": 11204,
          "State": "NY",
          "Street": "45 STREET"
         },
         "1": "08/15/2019",
         "2": "HADERECH CAR SERVICE INC",
         "3": {
          "Latitude": 40.629082,
          "Location": "(40.629082, -73.98057)",
          "Longitude": -73.98057
         },
         "4": "B01351",
         "5": "No",
         "6": "7184385400",
         "7": "18:03:31",
         "8": "LIVERY BASE"
        },
        {
         "0": {
          "Building": "663",
          "City": "BROOKLYN",
          "Postcode": 11207,
          "State": "NY",
          "Street": "BLAKE AVENUE"
         },
         "1": "08/15/2019",
         "2": "BEE-BEE CAR SERVICE INC.",
         "3": {
          "Latitude": 40.668117,
          "Location": "(40.668117, -73.894177)",
          "Longitude": -73.894177
         },
         "4": "B00856",
         "5": "No",
         "6": "7184982525",
         "7": "18:03:31",
         "8": "LIVERY BASE"
        },
        {
         "0": {
          "Building": "38-13",
          "City": "LIC",
          "Postcode": 11101,
          "State": "NY",
          "Street": "10 STREET"
         },
         "1": "08/15/2019",
         "2": "BOOK SPRINTERS, INC.",
         "3": {
          "Latitude": 40.75818,
          "Location": "(40.75818, -73.942556)",
          "Longitude": -73.942556
         },
         "4": "B02263",
         "5": "No",
         "6": "7182853973",
         "7": "18:03:31",
         "8": "LUXURY/LIMOUSINE"
        },
        {
         "0": {
          "Building": "49-17A",
          "City": "WOODSIDE",
          "Postcode": 11377,
          "State": "NY",
          "Street": "69 STREET"
         },
         "1": "08/15/2019",
         "2": "J.I.G. TRANSPORT CORP.",
         "3": {
          "Latitude": 40.711698,
          "Location": "(40.711698, -73.94077)",
          "Longitude": -73.94077
         },
         "4": "B01529",
         "5": "No",
         "6": "7185993232",
         "7": "18:03:31",
         "8": "LIVERY BASE"
        },
        {
         "0": {
          "Building": "2130",
          "City": "BROOKLYN",
          "Postcode": 11226,
          "State": "NY",
          "Street": "CATON AVENUE"
         },
         "1": "08/15/2019",
         "2": "WMC SERVICE INC",
         "3": {
          "Latitude": 40.735543,
          "Location": "(40.735543, -73.934785)",
          "Longitude": -73.934785
         },
         "4": "B02950",
         "5": "No",
         "6": "5169435140",
         "7": "18:03:31",
         "8": "BLACK CAR BASE"
        },
        {
         "0": {
          "Building": "700",
          "City": "BROOKLYN",
          "Postcode": 11203,
          "State": "NY",
          "Street": "LINDEN BOULEVARD"
         },
         "1": "08/15/2019",
         "2": "LEFRA TRANSP INC",
         "3": {
          "Latitude": 40.653435,
          "Location": "(40.653435, -73.932373)",
          "Longitude": -73.932373
         },
         "4": "B90413",
         "5": "No",
         "6": "7189403990",
         "7": "18:03:31",
         "8": "PARATRANSIT BASE"
        },
        {
         "0": {
          "Building": "711",
          "City": "BRONX",
          "Postcode": 10470,
          "State": "NY",
          "Street": "EAST  241 STREET"
         },
         "1": "08/15/2019",
         "2": "WAKEFIELD LSG MAINT CORP",
         "3": {
          "Latitude": 40.903259,
          "Location": "(40.903259, -73.849586)",
          "Longitude": -73.849586
         },
         "4": "B00597",
         "5": "No",
         "6": "7183258663",
         "7": "18:03:31",
         "8": "LIVERY BASE"
        },
        {
         "0": {
          "Building": "2982",
          "City": "BROOKLYN",
          "Postcode": 11229,
          "State": "NY",
          "Street": "NOSTRAND AVENUE"
         },
         "1": "08/15/2019",
         "2": "BRUNWISH ENTERPRISES,LTD.",
         "3": {
          "Latitude": 40.611528,
          "Location": "(40.611528, -73.944318)",
          "Longitude": -73.944318
         },
         "4": "B01509",
         "5": "No",
         "6": "7183826868",
         "7": "18:03:31",
         "8": "LIVERY BASE"
        },
        {
         "0": {
          "Building": "2041-D",
          "City": "STATEN ISLAND",
          "Postcode": 10306,
          "State": "NY",
          "Street": "HYLAN BOULEVARD"
         },
         "1": "08/15/2019",
         "2": "N & T DOUBLE DIAMOND LIMOUSINES, INC.",
         "3": {
          "Latitude": 40.580669,
          "Location": "(40.580669, -74.09968)",
          "Longitude": -74.09968
         },
         "4": "B02196",
         "5": "No",
         "6": "7182326565",
         "7": "18:03:31",
         "8": "LUXURY/LIMOUSINE"
        },
        {
         "0": {
          "Building": "148-09",
          "City": "JAMAICA",
          "Postcode": 11435,
          "State": "NY",
          "Street": "LIBERTY AVENUE"
         },
         "1": "08/15/2019",
         "2": "RELIANCE GROUP INC",
         "3": {
          "Latitude": 40.728434,
          "Location": "(40.728434, -73.78331)",
          "Longitude": -73.78331
         },
         "4": "B02751",
         "5": "No",
         "6": "5164391666",
         "7": "18:03:31",
         "8": "LUXURY/LIMOUSINE"
        },
        {
         "0": {
          "Building": "33-24",
          "City": "LONG ISLAND CIT",
          "Postcode": 11101,
          "State": "NY",
          "Street": "NORTHERN BOULEVARD  5TH FLOOR"
         },
         "1": "08/15/2019",
         "2": "LAPUMA GO GREEN LLC",
         "3": {
          "Latitude": 40.751777,
          "Location": "(40.751777, -73.930235)",
          "Longitude": -73.930235
         },
         "4": "B02569",
         "5": "No",
         "6": "2123642000",
         "7": "18:03:31",
         "8": "LIVERY BASE"
        },
        {
         "0": {
          "Building": "72",
          "City": "NEW YORK",
          "Postcode": 10025,
          "State": "NY",
          "Street": "WEST  109 STREET"
         },
         "1": "08/15/2019",
         "2": "SPECIAL RADIO DISP.CORP.",
         "3": {
          "Latitude": 40.800928,
          "Location": "(40.800928, -73.961258)",
          "Longitude": -73.961258
         },
         "4": "B02228",
         "5": "No",
         "6": "2126663939",
         "7": "18:03:31",
         "8": "LIVERY BASE"
        },
        {
         "0": {
          "Building": "787",
          "City": "BROOKLYN",
          "Postcode": 11218,
          "State": "NY",
          "Street": "CONEY ISLAND AVENUE"
         },
         "1": "08/15/2019",
         "2": "FIVE STAR",
         "3": {
          "Latitude": 40.638265,
          "Location": "(40.638265, -73.96821)",
          "Longitude": -73.96821
         },
         "4": "B01466",
         "5": "No",
         "6": "7189400044",
         "7": "18:03:31",
         "8": "LIVERY BASE"
        },
        {
         "0": {
          "Building": "200-10",
          "City": "ST. ALBANS",
          "Postcode": 11412,
          "State": "NY",
          "Street": "HOLLIS AVENUE"
         },
         "1": "08/15/2019",
         "2": "ST.ALBANS-HOLLIS CAR SERVICE INC.",
         "3": {
          "Latitude": 40.705938,
          "Location": "(40.705938, -73.75715)",
          "Longitude": -73.75715
         },
         "4": "B01958",
         "5": "No",
         "6": "7187402196",
         "7": "18:03:31",
         "8": "LIVERY BASE"
        },
        {
         "0": {
          "Building": "405",
          "City": "BROOKLYN",
          "Postcode": 11220,
          "State": "NY",
          "Street": "51 STREET"
         },
         "1": "08/15/2019",
         "2": "BELL LX INC",
         "3": {
          "Latitude": 40.645794,
          "Location": "(40.645794, -74.012777)",
          "Longitude": -74.012777
         },
         "4": "B02814",
         "5": "No",
         "6": "7185931683",
         "7": "18:03:31",
         "8": "BLACK CAR BASE"
        },
        {
         "0": {
          "Building": "11",
          "City": "CENTRAL VALLEY",
          "Postcode": 10917,
          "State": "NY",
          "Street": "BOND STREET"
         },
         "1": "08/15/2019",
         "2": "VAHANA INC.",
         "3": {
          "Latitude": 40.982526,
          "Location": "(40.982526, -73.978549)",
          "Longitude": -73.978549
         },
         "4": "B02470",
         "5": "No",
         "6": "2017557545",
         "7": "18:03:31",
         "8": "LUXURY/LIMOUSINE"
        },
        {
         "0": {
          "Building": "153",
          "City": "BRONX",
          "Postcode": 10454,
          "State": "NY",
          "Street": "LINCOLN AVENUE"
         },
         "1": "08/15/2019",
         "2": "IVOIRE LIMO INC.",
         "3": {
          "Latitude": 40.805268,
          "Location": "(40.805268, -73.94131)",
          "Longitude": -73.94131
         },
         "4": "B01811",
         "5": "Yes",
         "6": "2122891600",
         "7": "18:03:31",
         "8": "LIVERY BASE"
        },
        {
         "0": {
          "Building": "1313",
          "City": "BRONX",
          "Postcode": 10459,
          "State": "NY",
          "Street": "PROSPECT AVENUE"
         },
         "1": "08/15/2019",
         "2": "DV LUXURY TRANSPORTATION CORPORATION",
         "3": {
          "Latitude": 40.828071,
          "Location": "(40.828071, -73.898435)",
          "Longitude": -73.898435
         },
         "4": "B02534",
         "5": "No",
         "6": "7186198970",
         "7": "18:03:31",
         "8": "BLACK CAR BASE"
        },
        {
         "0": {
          "Building": "5230",
          "City": "STATEN ISLAND",
          "Postcode": 10307,
          "State": "NY",
          "Street": "ARTHUR KILL ROAD"
         },
         "1": "08/15/2019",
         "2": "N.J.M.INC.",
         "3": {
          "Latitude": 40.546918,
          "Location": "(40.546918, -74.23034)",
          "Longitude": -74.23034
         },
         "4": "B00972",
         "5": "No",
         "6": "7189672500",
         "7": "18:03:31",
         "8": "LIVERY BASE"
        },
        {
         "0": {
          "Building": "63-51",
          "City": "REGO PARK",
          "Postcode": 11375,
          "State": "NY",
          "Street": "AUSTIN STREET"
         },
         "1": "08/15/2019",
         "2": "MASADA II C/L SVC INC",
         "3": {
          "Latitude": 40.727542,
          "Location": "(40.727542, -73.86449)",
          "Longitude": -73.86449
         },
         "4": "B01244",
         "5": "No",
         "6": "7188059090",
         "7": "18:03:31",
         "8": "LIVERY BASE"
        },
        {
         "0": {
          "Building": "5511",
          "City": "BROOKLYN",
          "Postcode": 11204,
          "State": "NY",
          "Street": "16 AVENUE"
         },
         "1": "08/15/2019",
         "2": "TOVAR TRANSPORTATION INC",
         "3": {
          "Latitude": 40.627342,
          "Location": "(40.627342, -73.98909)",
          "Longitude": -73.98909
         },
         "4": "B01432",
         "5": "No",
         "6": "7189728877",
         "7": "18:03:31",
         "8": "LIVERY BASE"
        },
        {
         "0": {
          "Building": "210",
          "City": "NEW YORK",
          "Postcode": 10027,
          "State": "NY",
          "Street": "ST NICHOLAS AVENUE"
         },
         "1": "08/15/2019",
         "2": "HARLEM CARS INC.",
         "3": {
          "Latitude": 40.807098,
          "Location": "(40.807098, -73.952675)",
          "Longitude": -73.952675
         },
         "4": "B00919",
         "5": "Yes",
         "6": "2126638080",
         "7": "18:03:31",
         "8": "LIVERY BASE"
        },
        {
         "0": {
          "Building": "1601",
          "City": "BROOKLYN",
          "Postcode": 11235,
          "State": "NY",
          "Street": "VOORHIES AVENUE"
         },
         "1": "08/15/2019",
         "2": "EILAT TRANSPORTATION CORP",
         "3": {
          "Latitude": 40.604462,
          "Location": "(40.604462, -73.97275)",
          "Longitude": -73.97275
         },
         "4": "B01243",
         "5": "Yes",
         "6": "7183761122",
         "7": "18:03:31",
         "8": "LIVERY BASE"
        },
        {
         "0": {
          "Building": "69-38",
          "City": "MID. VILLAGE",
          "Postcode": 11379,
          "State": "NY",
          "Street": "76 STREET"
         },
         "1": "08/15/2019",
         "2": "A.M.N. MANAGEMENT INC.",
         "3": {
          "Latitude": 40.707629,
          "Location": "(40.707629, -73.875081)",
          "Longitude": -73.875081
         },
         "4": "B01420",
         "5": "No",
         "6": "7184160723",
         "7": "18:03:31",
         "8": "LIVERY BASE"
        },
        {
         "0": {
          "Building": "18-33",
          "City": "LIC",
          "Postcode": 11102,
          "State": "NY",
          "Street": "27 AVENUE"
         },
         "1": "08/15/2019",
         "2": "CAIRO LIMO SERVICE INC.",
         "3": {
          "Latitude": 40.758356,
          "Location": "(40.758356, -73.936101)",
          "Longitude": -73.936101
         },
         "4": "B02414",
         "5": "Yes",
         "6": "7186514222",
         "7": "18:03:31",
         "8": "LIVERY BASE"
        },
        {
         "0": {
          "Building": "2300",
          "City": "BROOKLYN",
          "Postcode": 11223,
          "State": "NY",
          "Street": "WEST    7 STREET  2ND FL"
         },
         "1": "08/15/2019",
         "2": "79 MASADA III, INC.",
         "3": {
          "Latitude": 40.617982,
          "Location": "(40.617982, -73.958074)",
          "Longitude": -73.958074
         },
         "4": "B01710",
         "5": "No",
         "6": "7183361515",
         "7": "18:03:31",
         "8": "LIVERY BASE"
        },
        {
         "0": {
          "Building": "1-15",
          "City": "FAIR LAWN",
          "Postcode": 7410,
          "State": "NJ",
          "Street": "BERDAN AVE"
         },
         "1": "08/15/2019",
         "2": "PASHA ENTERPRISES CORP",
         "3": {
          "Latitude": 40.830027,
          "Location": "(40.830027, -73.9723)",
          "Longitude": -73.9723
         },
         "4": "B02662",
         "5": "No",
         "6": "9179030829",
         "7": "18:03:31",
         "8": "LUXURY/LIMOUSINE"
        },
        {
         "0": {
          "Building": "405",
          "City": "UNIONDALE",
          "Postcode": 11556,
          "State": "NY",
          "Street": "RXR PLAZA"
         },
         "1": "08/15/2019",
         "2": "SEDANZ INC.",
         "3": {
          "Latitude": 40.776091,
          "Location": "(40.776091, -73.89722)",
          "Longitude": -73.89722
         },
         "4": "B02339",
         "5": "No",
         "6": "2123006083",
         "7": "18:03:31",
         "8": "LUXURY/LIMOUSINE"
        },
        {
         "0": {
          "Building": "69",
          "City": "BRONX",
          "Postcode": 10452,
          "State": "NY",
          "Street": "FEATHERBED LANE"
         },
         "1": "08/15/2019",
         "2": "UNION RADIO DISPATCH INC",
         "3": {
          "Latitude": 40.846629,
          "Location": "(40.846629, -73.91736)",
          "Longitude": -73.91736
         },
         "4": "B01285",
         "5": "Yes",
         "6": "7182992001",
         "7": "18:03:31",
         "8": "LIVERY BASE"
        },
        {
         "0": {
          "Building": "1659",
          "City": "BROOKLYN",
          "Postcode": 11214,
          "State": "NY",
          "Street": "BATH AVENUE"
         },
         "1": "08/15/2019",
         "2": "AMAZING CAR AND LIMO SERVICE INC",
         "3": {
          "Latitude": 40.605623,
          "Location": "(40.605623, -74.008705)",
          "Longitude": -74.008705
         },
         "4": "B02920",
         "5": "No",
         "6": "7189425959",
         "7": "18:03:31",
         "8": "LIVERY BASE"
        },
        {
         "0": {
          "Building": "3411",
          "City": "BROOKLYN",
          "Postcode": 11218,
          "State": "NY",
          "Street": "14 AVENUE"
         },
         "1": "08/15/2019",
         "2": "CHURCH AVE C/S INC",
         "3": {
          "Latitude": 40.64171,
          "Location": "(40.64171, -73.981345)",
          "Longitude": -73.981345
         },
         "4": "B01146",
         "5": "No",
         "6": "7186334444",
         "7": "18:03:31",
         "8": "LIVERY BASE"
        },
        {
         "0": {
          "Building": "390",
          "City": "BROOKLYN",
          "Postcode": 11211,
          "State": "NY",
          "Street": "METROPOLITAN AVENUE"
         },
         "1": "08/15/2019",
         "2": "M.L TRIPS CORP.",
         "3": {
          "Latitude": 40.713899,
          "Location": "(40.713899, -73.95531)",
          "Longitude": -73.95531
         },
         "4": "B02811",
         "5": "No",
         "6": "7183882222",
         "7": "18:03:31",
         "8": "BLACK CAR BASE"
        },
        {
         "0": {
          "Building": "1161",
          "City": "BRONX",
          "Postcode": 10459,
          "State": "NY",
          "Street": "SOUTHERN BOULEVARD"
         },
         "1": "08/15/2019",
         "2": "X RADIO DISPATCHER INC.",
         "3": {
          "Latitude": 40.828016,
          "Location": "(40.828016, -73.892244)",
          "Longitude": -73.892244
         },
         "4": "B02546",
         "5": "Yes",
         "6": "7183283434",
         "7": "18:03:31",
         "8": "LIVERY BASE"
        },
        {
         "0": {
          "Building": "89-08",
          "City": "JACKSON HTS",
          "Postcode": 11372,
          "State": "NY",
          "Street": "ROOSEVELT AVENUE"
         },
         "1": "08/15/2019",
         "2": "B.Q.E  BUS SERVICE INC",
         "3": {
          "Latitude": 40.748075,
          "Location": "(40.748075, -73.877522)",
          "Longitude": -73.877522
         },
         "4": "B80196",
         "5": "No",
         "6": "7186903318",
         "7": "18:03:31",
         "8": "COMMUTER VAN AUTHORITY BASE"
        },
        {
         "0": {
          "Building": "4020",
          "City": "NEW YORK",
          "Postcode": 10034,
          "State": "NY",
          "Street": "10 AVENUE"
         },
         "1": "08/15/2019",
         "2": "SEAMAN EXPRESS CORP.",
         "3": {
          "Latitude": 40.869265,
          "Location": "(40.869265, -73.91584)",
          "Longitude": -73.91584
         },
         "4": "B02892",
         "5": "No",
         "6": "6469644686",
         "7": "18:03:31",
         "8": "BLACK CAR BASE"
        },
        {
         "0": {
          "Building": "50-21",
          "City": "WOODSIDE",
          "Postcode": 11377,
          "State": "NY",
          "Street": "49 STREET"
         },
         "1": "08/15/2019",
         "2": "UNLS CORP",
         "3": {
          "Latitude": 40.736268,
          "Location": "(40.736268, -73.916901)",
          "Longitude": -73.916901
         },
         "4": "B02992",
         "5": "No",
         "6": "2122048589",
         "7": "18:03:31",
         "8": "LUXURY/LIMOUSINE"
        },
        {
         "0": {
          "Building": "114-04",
          "City": "ROCKAWAY PARK",
          "Postcode": 11694,
          "State": "NY",
          "Street": "BEACH CHANNEL DRIVE"
         },
         "1": "08/15/2019",
         "2": "BELLE-ROCK OF BEACH CHANNEL INC.",
         "3": {
          "Latitude": 40.580875,
          "Location": "(40.580875, -73.828193)",
          "Longitude": -73.828193
         },
         "4": "B01546",
         "5": "No",
         "6": "7186348282",
         "7": "18:03:31",
         "8": "LIVERY BASE"
        },
        {
         "0": {
          "Building": "35-58",
          "City": "LONG ISLAND CIT",
          "Postcode": 11106,
          "State": "NY",
          "Street": "12 STREET"
         },
         "1": "08/15/2019",
         "2": "CITY LIMOUSINE TRANSPORTATION INC.",
         "3": {
          "Latitude": 40.761054,
          "Location": "(40.761054, -73.93929)",
          "Longitude": -73.93929
         },
         "4": "B02694",
         "5": "No",
         "6": "7189472500",
         "7": "18:03:31",
         "8": "LIVERY BASE"
        },
        {
         "0": {
          "Building": "1304",
          "City": "BROOKLYN",
          "Postcode": 11203,
          "State": "NY",
          "Street": "UTICA AVENUE"
         },
         "1": "08/15/2019",
         "2": "RAINBOW RAD DISP INC",
         "3": {
          "Latitude": 40.640752,
          "Location": "(40.640752, -73.929535)",
          "Longitude": -73.929535
         },
         "4": "B00149",
         "5": "No",
         "6": "7184984444",
         "7": "18:03:31",
         "8": "LIVERY BASE"
        },
        {
         "0": {
          "Building": "253-20",
          "City": "ROSEDALE",
          "Postcode": 11422,
          "State": "NY",
          "Street": "147 ROAD"
         },
         "1": "08/15/2019",
         "2": "HUMMER TRANSPORTATION INC",
         "3": {
          "Latitude": 40.656351,
          "Location": "(40.656351, -73.73584)",
          "Longitude": -73.73584
         },
         "4": "B80111",
         "5": "No",
         "6": "7187233430",
         "7": "18:03:31",
         "8": "COMMUTER VAN AUTHORITY BASE"
        },
        {
         "0": {
          "Building": "30A",
          "City": "FREEPORT",
          "Postcode": 11520,
          "State": "NY",
          "Street": "COMMERCIAL STREET"
         },
         "1": "08/15/2019",
         "2": "AMG TRANSPORTATION INC.",
         "3": {
          "Latitude": 40.658652,
          "Location": "(40.658652, -73.580098)",
          "Longitude": -73.580098
         },
         "4": "B90568",
         "5": "Yes",
         "6": "7186460550",
         "7": "18:03:31",
         "8": "PARATRANSIT BASE"
        },
        {
         "0": {
          "Building": "102-20",
          "City": "CORONA",
          "Postcode": 11368,
          "State": "NY",
          "Street": "35 AVENUE"
         },
         "1": "08/15/2019",
         "2": "NY ATLIXCO CAR SERVICE INC",
         "3": {
          "Latitude": 40.75458,
          "Location": "(40.75458, -73.86581)",
          "Longitude": -73.86581
         },
         "4": "B01364",
         "5": "Yes",
         "6": "7184245800",
         "7": "18:03:31",
         "8": "LIVERY BASE"
        },
        {
         "0": {
          "Building": "5915",
          "City": "BROOKLYN",
          "Postcode": 11220,
          "State": "NY",
          "Street": "4 AVENUE"
         },
         "1": "08/15/2019",
         "2": "PRINCE LUXURY CORP.",
         "3": {
          "Latitude": 40.640935,
          "Location": "(40.640935, -74.01791)",
          "Longitude": -74.01791
         },
         "4": "B02886",
         "5": "No",
         "6": "7184396000",
         "7": "18:03:31",
         "8": "BLACK CAR BASE"
        },
        {
         "0": {
          "Building": "184",
          "City": "BROOKLYN",
          "Postcode": 11237,
          "State": "NY",
          "Street": "KNICKERBOCKER AVENUE"
         },
         "1": "08/15/2019",
         "2": "NEW BUSHWICK LUXURY INC.",
         "3": {
          "Latitude": 40.703715,
          "Location": "(40.703715, -73.927365)",
          "Longitude": -73.927365
         },
         "4": "B02472",
         "5": "No",
         "6": "7188217777",
         "7": "18:03:31",
         "8": "BLACK CAR BASE"
        },
        {
         "0": {
          "Building": "1681",
          "City": "BRONX",
          "Postcode": 10472,
          "State": "NY",
          "Street": "BRUCKNER BOULEVARD"
         },
         "1": "08/15/2019",
         "2": "WATSON CAR SERVICE INC.",
         "3": {
          "Latitude": 40.825135,
          "Location": "(40.825135, -73.87033)",
          "Longitude": -73.87033
         },
         "4": "B00310",
         "5": "Yes",
         "6": "7189918484",
         "7": "18:03:31",
         "8": "LIVERY BASE"
        },
        {
         "0": {
          "Building": "77-35",
          "City": "FLUSHING",
          "Postcode": 11366,
          "State": "NY",
          "Street": "164 STREET"
         },
         "1": "08/15/2019",
         "2": "NOVAK GLOBAL, INC.",
         "3": {
          "Latitude": 40.723592,
          "Location": "(40.723592, -73.804641)",
          "Longitude": -73.804641
         },
         "4": "B01593",
         "5": "Yes",
         "6": "7185917000",
         "7": "18:03:31",
         "8": "LIVERY BASE"
        },
        {
         "0": {
          "Building": "2421",
          "City": "UNION",
          "Postcode": 7083,
          "State": "NJ",
          "Street": "IORIO COURT  STE B"
         },
         "1": "08/15/2019",
         "2": "ADMIRE LLP LLC",
         "3": {
          "Latitude": 40.694913,
          "Location": "(40.694913, -74.2986)",
          "Longitude": -74.2986
         },
         "4": "B02173",
         "5": "No",
         "6": "9086885777",
         "7": "18:03:31",
         "8": "LUXURY/LIMOUSINE"
        },
        {
         "0": {
          "Building": "87-62",
          "City": "JAMAICA",
          "Postcode": 11432,
          "State": "NY",
          "Street": "PARSONS BOULEVARD"
         },
         "1": "08/15/2019",
         "2": "UNITY CAR & LIMO INC.",
         "3": {
          "Latitude": 40.707766,
          "Location": "(40.707766, -73.80283)",
          "Longitude": -73.80283
         },
         "4": "B01056",
         "5": "No",
         "6": "7182972222",
         "7": "18:03:31",
         "8": "LIVERY BASE"
        },
        {
         "0": {
          "Building": "636",
          "City": "NEW YORK",
          "Postcode": 10001,
          "State": "NY",
          "Street": "WEST   28 STREET"
         },
         "1": "08/15/2019",
         "2": "SECHZEHN-NY, LLC",
         "3": {
          "Latitude": 40.75273,
          "Location": "(40.75273, -74.006408)",
          "Longitude": -74.006408
         },
         "4": "B02883",
         "5": "No",
         "6": "7189715559",
         "7": "18:03:31",
         "8": "BLACK CAR BASE"
        },
        {
         "0": {
          "Building": "109-20",
          "City": "CORONA",
          "Postcode": 11368,
          "State": "NY",
          "Street": "CORONA AVENUE"
         },
         "1": "08/15/2019",
         "2": "COOPERATIVA CLBNA DE CON INC",
         "3": {
          "Latitude": 40.741837,
          "Location": "(40.741837, -73.85361)",
          "Longitude": -73.85361
         },
         "4": "B01124",
         "5": "Yes",
         "6": "7186990960",
         "7": "18:03:31",
         "8": "LIVERY BASE"
        },
        {
         "0": {
          "Building": "335",
          "City": "BROOKLYN",
          "Postcode": 11231,
          "State": "NY",
          "Street": "BOND STREET"
         },
         "1": "08/15/2019",
         "2": "EXCELSIOR CAR & LIMO, INC.",
         "3": {
          "Latitude": 40.678782,
          "Location": "(40.678782, -73.989979)",
          "Longitude": -73.989979
         },
         "4": "B00202",
         "5": "No",
         "6": "7186433900",
         "7": "18:03:31",
         "8": "BLACK CAR BASE"
        },
        {
         "0": {
          "Building": "66-20",
          "City": "FOREST HILLS",
          "Postcode": 11374,
          "State": "NY",
          "Street": "99 STREET"
         },
         "1": "08/15/2019",
         "2": "REGO PARK EXPRESS INC.",
         "3": {
          "Latitude": 40.72785,
          "Location": "(40.72785, -73.854874)",
          "Longitude": -73.854874
         },
         "4": "B01444",
         "5": "No",
         "6": "7189979700",
         "7": "18:03:31",
         "8": "LIVERY BASE"
        },
        {
         "0": {
          "Building": "24",
          "City": "PATCHOGUE",
          "Postcode": 11772,
          "State": "NY",
          "Street": "TUTHILL CREEK DRIVE"
         },
         "1": "08/15/2019",
         "2": "LFS LIMO CORP.",
         "3": {
          "Latitude": 40.773186,
          "Location": "(40.773186, -73.038617)",
          "Longitude": -73.038617
         },
         "4": "B02535",
         "5": "No",
         "6": "6317767786",
         "7": "18:03:31",
         "8": "LUXURY/LIMOUSINE"
        },
        {
         "0": {
          "Building": "24-70",
          "City": "ASTORIA",
          "Postcode": 11103,
          "State": "NY",
          "Street": "49 STREET  #01"
         },
         "1": "08/15/2019",
         "2": "SS LIMOUSINE SERVICE INC",
         "3": {
          "Latitude": 40.76451,
          "Location": "(40.76451, -73.90507)",
          "Longitude": -73.90507
         },
         "4": "B02611",
         "5": "No",
         "6": "8004202215",
         "7": "18:03:31",
         "8": "LUXURY/LIMOUSINE"
        },
        {
         "0": {
          "Building": "355",
          "City": "BROOKLYN",
          "Postcode": 11211,
          "State": "NY",
          "Street": "UNION AVENUE"
         },
         "1": "08/15/2019",
         "2": "MCW CAR & LIMO INC.",
         "3": {
          "Latitude": 40.710955,
          "Location": "(40.710955, -73.951135)",
          "Longitude": -73.951135
         },
         "4": "B02453",
         "5": "No",
         "6": "7183899666",
         "7": "18:03:31",
         "8": "BLACK CAR BASE"
        },
        {
         "0": {
          "Building": "150-18",
          "City": "WHITESTONE",
          "Postcode": 11357,
          "State": "NY",
          "Street": "12 ROAD"
         },
         "1": "08/15/2019",
         "2": "JOE M LEASING CORP",
         "3": {
          "Latitude": 40.789522,
          "Location": "(40.789522, -73.813228)",
          "Longitude": -73.813228
         },
         "4": "B00445",
         "5": "No",
         "6": "7187462222",
         "7": "18:03:31",
         "8": "LIVERY BASE"
        },
        {
         "0": {
          "Building": "33-03",
          "City": "FLUSHING",
          "Postcode": 11354,
          "State": "NY",
          "Street": "PRINCE STREET"
         },
         "1": "08/15/2019",
         "2": "TIFFANY'S CAR SERVICE INC.",
         "3": {
          "Latitude": 40.766346,
          "Location": "(40.766346, -73.833181)",
          "Longitude": -73.833181
         },
         "4": "B02462",
         "5": "No",
         "6": "7189617070",
         "7": "18:03:31",
         "8": "LIVERY BASE"
        },
        {
         "0": {
          "Building": "5030",
          "City": "NEW YORK",
          "Postcode": 10034,
          "State": "NY",
          "Street": "BROADWAY  STE 609"
         },
         "1": "08/15/2019",
         "2": "ORION LUXURY CORP",
         "3": {
          "Latitude": 40.86885,
          "Location": "(40.86885, -73.916637)",
          "Longitude": -73.916637
         },
         "4": "B02965",
         "5": "No",
         "6": "2125673879",
         "7": "18:03:31",
         "8": "BLACK CAR BASE"
        },
        {
         "0": {
          "Building": "132-08",
          "City": "FLUSHING",
          "Postcode": 11355,
          "State": "NY",
          "Street": "SANFORD AVE"
         },
         "1": "08/15/2019",
         "2": "BWJ GROUP INC",
         "3": {
          "Latitude": 40.754681,
          "Location": "(40.754681, -73.832786)",
          "Longitude": -73.832786
         },
         "4": "B02355",
         "5": "No",
         "6": "9292643319",
         "7": "18:03:31",
         "8": "LUXURY/LIMOUSINE"
        },
        {
         "0": {
          "Building": "297",
          "City": "NEW YORK",
          "Postcode": 10029,
          "State": "NY",
          "Street": "PLEASANT AVENUE"
         },
         "1": "08/15/2019",
         "2": "AMERICAN DREAM CAR SERVICE INC.",
         "3": {
          "Latitude": 40.794972,
          "Location": "(40.794972, -73.93357)",
          "Longitude": -73.93357
         },
         "4": "B01734",
         "5": "Yes",
         "6": "2124261010",
         "7": "18:03:31",
         "8": "LIVERY BASE"
        },
        {
         "0": {
          "Building": "636",
          "City": "NEW YORK",
          "Postcode": 10001,
          "State": "NY",
          "Street": "WEST   28 STREET"
         },
         "1": "08/15/2019",
         "2": "FUNFZEHN-NY, LLC",
         "3": {
          "Latitude": 40.75273,
          "Location": "(40.75273, -74.006408)",
          "Longitude": -74.006408
         },
         "4": "B02879",
         "5": "No",
         "6": "7189715559",
         "7": "18:03:31",
         "8": "BLACK CAR BASE"
        },
        {
         "0": {
          "Building": "908",
          "City": "NEW YORK",
          "Postcode": 10025,
          "State": "NY",
          "Street": "AMSTERDAM AVENUE"
         },
         "1": "08/15/2019",
         "2": "NEW APP CAR & LIMO INC",
         "3": {
          "Latitude": 40.79961,
          "Location": "(40.79961, -73.96671)",
          "Longitude": -73.96671
         },
         "4": "B02782",
         "5": "No",
         "6": "2122227999",
         "7": "18:03:31",
         "8": "LIVERY BASE"
        },
        {
         "0": {
          "Building": "47-01",
          "City": "LIC",
          "Postcode": 11101,
          "State": "NY",
          "Street": "VAN DAM STREET"
         },
         "1": "08/15/2019",
         "2": "GRAND LIMO & CAR SERVICE INC.",
         "3": {
          "Latitude": 40.755937,
          "Location": "(40.755937, -73.92898)",
          "Longitude": -73.92898
         },
         "4": "B01848",
         "5": "Yes",
         "6": "7184334255",
         "7": "18:03:31",
         "8": "LIVERY BASE"
        },
        {
         "0": {
          "Building": "253",
          "City": "NEW HYDE PARK",
          "Postcode": 11040,
          "State": "NY",
          "Street": "JERICHO TKPE."
         },
         "1": "08/15/2019",
         "2": "SALMA TRANSPORTATION LLC",
         "3": {
          "Latitude": 40.732829,
          "Location": "(40.732829, -73.682281)",
          "Longitude": -73.682281
         },
         "4": "B90664",
         "5": "No",
         "6": "5165022018",
         "7": "18:03:31",
         "8": "PARATRANSIT BASE"
        },
        {
         "0": {
          "Building": "48-50",
          "City": "LIC",
          "Postcode": 11101,
          "State": "NY",
          "Street": "34 STREET"
         },
         "1": "08/15/2019",
         "2": "SFL INC",
         "3": {
          "Latitude": 40.739253,
          "Location": "(40.739253, -73.931942)",
          "Longitude": -73.931942
         },
         "4": "B01413",
         "5": "No",
         "6": "2123970004",
         "7": "18:03:31",
         "8": "LUXURY/LIMOUSINE"
        },
        {
         "0": {
          "Building": "117-28",
          "City": "JAMAICA",
          "Postcode": 11434,
          "State": "NY",
          "Street": "165 STREET"
         },
         "1": "08/15/2019",
         "2": "CALLAVAN TRANSPORTATION LLC",
         "3": {
          "Latitude": 40.684032,
          "Location": "(40.684032, -73.781135)",
          "Longitude": -73.781135
         },
         "4": "B80256",
         "5": "No",
         "6": "7187097131",
         "7": "18:03:31",
         "8": "COMMUTER VAN AUTHORITY BASE"
        },
        {
         "0": {
          "Building": "636",
          "City": "NEW YORK",
          "Postcode": 10001,
          "State": "NY",
          "Street": "WEST   28 STREET"
         },
         "1": "08/15/2019",
         "2": "DREIZEHN-NY, LLC",
         "3": {
          "Latitude": 40.75273,
          "Location": "(40.75273, -74.006408)",
          "Longitude": -74.006408
         },
         "4": "B02884",
         "5": "No",
         "6": "6466657562",
         "7": "18:03:31",
         "8": "BLACK CAR BASE"
        },
        {
         "0": {
          "Building": "141-36",
          "City": "SOUTH OZONE PK",
          "Postcode": 11436,
          "State": "NY",
          "Street": "ROCKAWAY BOULEVARD"
         },
         "1": "08/15/2019",
         "2": "A B C SHUTTLE SERVICES CORPORATION",
         "3": {
          "Latitude": 40.67387,
          "Location": "(40.67387, -73.79852)",
          "Longitude": -73.79852
         },
         "4": "B02162",
         "5": "No",
         "6": "7183227777",
         "7": "18:03:31",
         "8": "LIVERY BASE"
        },
        {
         "0": {
          "Building": "146-28",
          "City": "JAMAICA",
          "Postcode": 11434,
          "State": "NY",
          "Street": "GUY R BREWER BOULEVARD"
         },
         "1": "08/15/2019",
         "2": "YOURS 'N MINE TRANSPORTATION SERVICE, INC.",
         "3": {
          "Latitude": 40.662412,
          "Location": "(40.662412, -73.768312)",
          "Longitude": -73.768312
         },
         "4": "B80157",
         "5": "No",
         "6": "7185275519",
         "7": "18:03:31",
         "8": "COMMUTER VAN AUTHORITY BASE"
        },
        {
         "0": {
          "Building": "475",
          "City": "ELMWOOD PARK",
          "Postcode": 7407,
          "State": "NJ",
          "Street": "BOULEVARD"
         },
         "1": "08/15/2019",
         "2": "MUSIC EXPRESS/N.Y. INC",
         "3": {
          "Latitude": 40.901484,
          "Location": "(40.901484, -74.115919)",
          "Longitude": -74.115919
         },
         "4": "B01644",
         "5": "No",
         "6": "2127365405",
         "7": "18:03:31",
         "8": "LUXURY/LIMOUSINE"
        },
        {
         "0": {
          "Building": "1266",
          "City": "BROOKLYN",
          "Postcode": 11221,
          "State": "NY",
          "Street": "MYRTLE AVENUE"
         },
         "1": "08/15/2019",
         "2": "440 CAR SERVICE INC.",
         "3": {
          "Latitude": 40.697777,
          "Location": "(40.697777, -73.926688)",
          "Longitude": -73.926688
         },
         "4": "B01194",
         "5": "No",
         "6": "7189194040",
         "7": "18:03:31",
         "8": "LIVERY BASE"
        },
        {
         "0": {
          "Building": "2104",
          "City": "BROOKLYN",
          "Postcode": 11235,
          "State": "NY",
          "Street": "AVENUE X"
         },
         "1": "08/15/2019",
         "2": "DIAL CAR INC.",
         "3": {
          "Latitude": 40.592698,
          "Location": "(40.592698, -73.948855)",
          "Longitude": -73.948855
         },
         "4": "B00448",
         "5": "No",
         "6": "7187438042",
         "7": "18:03:31",
         "8": "BLACK CAR BASE"
        },
        {
         "0": {
          "Building": "80-06",
          "City": "OZONE PARK",
          "Postcode": 11416,
          "State": "NY",
          "Street": "101 AVENUE"
         },
         "1": "08/15/2019",
         "2": "CITY LINE CAR SERVICE INC",
         "3": {
          "Latitude": 40.680573,
          "Location": "(40.680573, -73.858435)",
          "Longitude": -73.858435
         },
         "4": "B01553",
         "5": "No",
         "6": "7188485585",
         "7": "18:03:31",
         "8": "LIVERY BASE"
        },
        {
         "0": {
          "Building": "112-47",
          "City": "CORONA",
          "Postcode": 11368,
          "State": "NY",
          "Street": "ROOSEVELT AVENUE"
         },
         "1": "08/15/2019",
         "2": "ZPI CORPORATION",
         "3": {
          "Latitude": 40.752235,
          "Location": "(40.752235, -73.85365)",
          "Longitude": -73.85365
         },
         "4": "B00290",
         "5": "Yes",
         "6": "7185076363",
         "7": "18:03:31",
         "8": "LIVERY BASE"
        },
        {
         "0": {
          "Building": "932",
          "City": "BROOKLYN",
          "Postcode": 11203,
          "State": "NY",
          "Street": "UTICA AVENUE"
         },
         "1": "08/15/2019",
         "2": "ALL PEOPLE CAR SERVICE INC.",
         "3": {
          "Latitude": 40.650332,
          "Location": "(40.650332, -73.930492)",
          "Longitude": -73.930492
         },
         "4": "B01343",
         "5": "No",
         "6": "7182823700",
         "7": "18:03:31",
         "8": "LIVERY BASE"
        },
        {
         "0": {
          "Building": "37-08",
          "City": "JACKSON HEIGHTS",
          "Postcode": 11368,
          "State": "NY",
          "Street": "100 STREET"
         },
         "1": "08/15/2019",
         "2": "LORY CAR SERVICE CORP.",
         "3": {
          "Latitude": 40.752237,
          "Location": "(40.752237, -73.86731)",
          "Longitude": -73.86731
         },
         "4": "B02643",
         "5": "No",
         "6": "7185651222",
         "7": "18:03:31",
         "8": "LIVERY BASE"
        },
        {
         "0": {
          "Building": "33-38",
          "City": "FLUSHING",
          "Postcode": 11354,
          "State": "NY",
          "Street": "FARRINGTON STREET  #4A"
         },
         "1": "08/15/2019",
         "2": "MLL LIMOUSINE SERVICES INC.",
         "3": {
          "Latitude": 40.765597,
          "Location": "(40.765597, -73.83262)",
          "Longitude": -73.83262
         },
         "4": "B02440",
         "5": "No",
         "6": "7188865466",
         "7": "18:03:31",
         "8": "LUXURY/LIMOUSINE"
        },
        {
         "0": {
          "Building": "144",
          "City": "BRONX",
          "Postcode": 10457,
          "State": "NY",
          "Street": "EAST  174 STREET"
         },
         "1": "08/15/2019",
         "2": "THE EXCELLENT C/S INC",
         "3": {
          "Latitude": 40.844708,
          "Location": "(40.844708, -73.90983)",
          "Longitude": -73.90983
         },
         "4": "B00375",
         "5": "Yes",
         "6": "7187319110",
         "7": "18:03:31",
         "8": "LIVERY BASE"
        },
        {
         "0": {
          "Building": "623",
          "City": "BRONX",
          "Postcode": 10474,
          "State": "NY",
          "Street": "BARRETTO STREET"
         },
         "1": "08/15/2019",
         "2": "U & ME TRANSPORT INC.",
         "3": {
          "Latitude": 40.812662,
          "Location": "(40.812662, -73.889152)",
          "Longitude": -73.889152
         },
         "4": "B90680",
         "5": "No",
         "6": "6462287101",
         "7": "18:03:31",
         "8": "PARATRANSIT BASE"
        },
        {
         "0": {
          "Building": "6002",
          "City": "BROOKLYN",
          "Postcode": 11236,
          "State": "NY",
          "Street": "FOSTER AVENUE"
         },
         "1": "08/15/2019",
         "2": "GEORGE TOWN MANAGEMENT INC",
         "3": {
          "Latitude": 40.648318,
          "Location": "(40.648318, -73.89232)",
          "Longitude": -73.89232
         },
         "4": "B01081",
         "5": "Yes",
         "6": "7186422222",
         "7": "18:03:31",
         "8": "LIVERY BASE"
        },
        {
         "0": {
          "Building": "110-18",
          "City": "CORONA",
          "Postcode": 11368,
          "State": "NY",
          "Street": "CORONA AVENUE"
         },
         "1": "08/15/2019",
         "2": "NORTH SHORE AMBU & OXY SVC INC",
         "3": {
          "Latitude": 40.741034,
          "Location": "(40.741034, -73.852125)",
          "Longitude": -73.852125
         },
         "4": "B90162",
         "5": "No",
         "6": "7184589300",
         "7": "18:03:31",
         "8": "PARATRANSIT BASE"
        },
        {
         "0": {
          "Building": "463",
          "City": "CARLSTADT",
          "Postcode": 7072,
          "State": "NJ",
          "Street": "BARELL AVENUE"
         },
         "1": "08/15/2019",
         "2": "PEGASUS TRANSPORT SERVICE INC.",
         "3": {
          "Latitude": 40.823619,
          "Location": "(40.823619, -74.056919)",
          "Longitude": -74.056919
         },
         "4": "B02180",
         "5": "No",
         "6": "2018671677",
         "7": "18:03:31",
         "8": "LUXURY/LIMOUSINE"
        },
        {
         "0": {
          "Building": "2112",
          "City": "BRONX",
          "Postcode": 10462,
          "State": "NY",
          "Street": "WESTCHESTER AVENUE"
         },
         "1": "08/15/2019",
         "2": "NEW GENERATION BLACK CAR TRANSPORTATION CORP.",
         "3": {
          "Latitude": 40.82923,
          "Location": "(40.82923, -73.871067)",
          "Longitude": -73.871067
         },
         "4": "B02968",
         "5": "No",
         "6": "3479916111",
         "7": "18:03:31",
         "8": "BLACK CAR BASE"
        },
        {
         "0": {
          "Building": "2201",
          "City": "BROOKLYN",
          "Postcode": 11235,
          "State": "NY",
          "Street": "AVENUE X"
         },
         "1": "08/15/2019",
         "2": "MAJOR AMBULETTE CORP",
         "3": {
          "Latitude": 40.593214,
          "Location": "(40.593214, -73.948115)",
          "Longitude": -73.948115
         },
         "4": "B90288",
         "5": "No",
         "6": "7182653333",
         "7": "18:03:31",
         "8": "PARATRANSIT BASE"
        },
        {
         "0": {
          "Building": "1702",
          "City": "BROOKLYN",
          "Postcode": 11235,
          "State": "NY",
          "Street": "AVENUE Z  SUITE 105"
         },
         "1": "08/15/2019",
         "2": "NYC WHEELS CAR SERVICE INC.",
         "3": {
          "Latitude": 40.588063,
          "Location": "(40.588063, -73.95214)",
          "Longitude": -73.95214
         },
         "4": "B01039",
         "5": "No",
         "6": "3475540100",
         "7": "18:03:31",
         "8": "LIVERY BASE"
        },
        {
         "0": {
          "Building": "37-21",
          "City": "LIC",
          "Postcode": 11101,
          "State": "NY",
          "Street": "VERNON BOULEVARD"
         },
         "1": "08/15/2019",
         "2": "PARIS LIMOUSINE SERVICE, CORP",
         "3": {
          "Latitude": 40.759847,
          "Location": "(40.759847, -73.943275)",
          "Longitude": -73.943275
         },
         "4": "B02027",
         "5": "No",
         "6": "7183961100",
         "7": "18:03:31",
         "8": "LUXURY/LIMOUSINE"
        },
        {
         "0": {
          "Building": "2569",
          "City": "BROOKLYN",
          "Postcode": 11223,
          "State": "NY",
          "Street": "MCDONALD AVENUE"
         },
         "1": "08/15/2019",
         "2": "GLIDE LUXURY TRANSPORTATION, INC",
         "3": {
          "Latitude": 40.59013,
          "Location": "(40.59013, -73.97402)",
          "Longitude": -73.97402
         },
         "4": "B02891",
         "5": "No",
         "6": "2124706017",
         "7": "18:03:31",
         "8": "LUXURY/LIMOUSINE"
        },
        {
         "0": {
          "Building": "127-01",
          "City": "KEW GARDENS",
          "Postcode": 11415,
          "State": "NY",
          "Street": "METROPOLITAN AVENUE"
         },
         "1": "08/15/2019",
         "2": "T-D MAINTENANCE",
         "3": {
          "Latitude": 40.70681,
          "Location": "(40.70681, -73.877681)",
          "Longitude": -73.877681
         },
         "4": "B00009",
         "5": "No",
         "6": "7184561111",
         "7": "18:03:31",
         "8": "LIVERY BASE"
        },
        {
         "0": {
          "Building": "2901",
          "City": "OCEANSIDE",
          "Postcode": 11572,
          "State": "NY",
          "Street": "LONG BEACH RD  SUITE 7"
         },
         "1": "08/15/2019",
         "2": "MURRAY'S LIMOUSINE SERVICE INC.",
         "3": {
          "Latitude": 40.640548,
          "Location": "(40.640548, -73.639555)",
          "Longitude": -73.639555
         },
         "4": "B02175",
         "5": "No",
         "6": "5165369600",
         "7": "18:03:31",
         "8": "LUXURY/LIMOUSINE"
        },
        {
         "0": {
          "Building": "155-06",
          "City": "JAMAICA",
          "Postcode": 11434,
          "State": "NY",
          "Street": "SOUTH CONDUIT AVE"
         },
         "1": "08/15/2019",
         "2": "ROCHDALE CAR SERVICE INC.",
         "3": {
          "Latitude": 40.674537,
          "Location": "(40.674537, -73.76337)",
          "Longitude": -73.76337
         },
         "4": "B02335",
         "5": "No",
         "6": "7189498294",
         "7": "18:03:31",
         "8": "LIVERY BASE"
        },
        {
         "0": {
          "Building": "100-01",
          "City": "OZONE PARK",
          "Postcode": 11416,
          "State": "NY",
          "Street": "97 AVENUE"
         },
         "1": "08/15/2019",
         "2": "NYC MIDDTOWN LIMO CORP",
         "3": {
          "Latitude": 40.687993,
          "Location": "(40.687993, -73.83363)",
          "Longitude": -73.83363
         },
         "4": "B02863",
         "5": "No",
         "6": "3474944349",
         "7": "18:03:31",
         "8": "BLACK CAR BASE"
        },
        {
         "0": {
          "Building": "173",
          "City": "ROCKAWAY PARK",
          "Postcode": 11694,
          "State": "NY",
          "Street": "BEACH 116TH STREET"
         },
         "1": "08/15/2019",
         "2": "MARTIN'S BELLE HARBOR CAR SERVICE",
         "3": {
          "Latitude": 40.57911,
          "Location": "(40.57911, -73.837141)",
          "Longitude": -73.837141
         },
         "4": "B00345",
         "5": "No",
         "6": "7186341200",
         "7": "18:03:31",
         "8": "LIVERY BASE"
        },
        {
         "0": {
          "Building": "277",
          "City": "BRONX",
          "Postcode": 10456,
          "State": "NY",
          "Street": "EAST  165 STREET"
         },
         "1": "08/15/2019",
         "2": "ULTRA RADIO DISP INC",
         "3": {
          "Latitude": 40.82939,
          "Location": "(40.82939, -73.91607)",
          "Longitude": -73.91607
         },
         "4": "B01145",
         "5": "Yes",
         "6": "7189928000",
         "7": "18:03:31",
         "8": "LIVERY BASE"
        },
        {
         "0": {
          "Building": "112-44",
          "City": "CORONA",
          "Postcode": 11368,
          "State": "NY",
          "Street": "ROOSEVELT AVENUE"
         },
         "1": "08/15/2019",
         "2": "CIBAO RADIO DISPATCH",
         "3": {
          "Latitude": 40.752202,
          "Location": "(40.752202, -73.85365)",
          "Longitude": -73.85365
         },
         "4": "B01663",
         "5": "Yes",
         "6": "7184782300",
         "7": "18:03:31",
         "8": "LIVERY BASE"
        },
        {
         "0": {
          "Building": "740",
          "City": "BRONX",
          "Postcode": 10462,
          "State": "NY",
          "Street": "MORRIS PARK AVENUE"
         },
         "1": "08/15/2019",
         "2": "THE OPTION TRANSPORTATION CORP.",
         "3": {
          "Latitude": 40.838215,
          "Location": "(40.838215, -73.92609)",
          "Longitude": -73.92609
         },
         "4": "B02379",
         "5": "No",
         "6": "7185371212",
         "7": "18:03:31",
         "8": "LIVERY BASE"
        },
        {
         "0": {
          "Building": "712",
          "City": "BROOKLYN",
          "Postcode": 11232,
          "State": "NY",
          "Street": "THIRD AVENUE"
         },
         "1": "08/15/2019",
         "2": "EZCAR.COM, LLC",
         "3": {
          "Latitude": 40.663353,
          "Location": "(40.663353, -73.998939)",
          "Longitude": -73.998939
         },
         "4": "B02492",
         "5": "No",
         "6": "7189656150",
         "7": "18:03:31",
         "8": "BLACK CAR BASE"
        },
        {
         "0": {
          "Building": "132-08",
          "City": "FLUSHING",
          "Postcode": 11355,
          "State": "NY",
          "Street": "SANFORD AVENUE"
         },
         "1": "08/15/2019",
         "2": "BWJ GROUP INC",
         "3": {
          "Latitude": 40.754681,
          "Location": "(40.754681, -73.83279)",
          "Longitude": -73.83279
         },
         "4": "B02737",
         "5": "No",
         "6": "7183530188",
         "7": "18:03:31",
         "8": "BLACK CAR BASE"
        },
        {
         "0": {
          "Building": "439",
          "City": "NEW YORK",
          "Postcode": 10075,
          "State": "NY",
          "Street": "EAST 77TH STREET"
         },
         "1": "08/15/2019",
         "2": "SURREY CADILLAC LIMO SVC INC",
         "3": {
          "Latitude": 40.770569,
          "Location": "(40.770569, -73.95198)",
          "Longitude": -73.95198
         },
         "4": "B00556",
         "5": "No",
         "6": "2123551727",
         "7": "18:03:31",
         "8": "LUXURY/LIMOUSINE"
        },
        {
         "0": {
          "Building": "1805",
          "City": "BROOKLYN",
          "Postcode": 11229,
          "State": "NY",
          "Street": "GRAVESEND NECK ROAD  2ND FLR"
         },
         "1": "08/15/2019",
         "2": "UNIVERSAL CARRIER INC.",
         "3": {
          "Latitude": 40.59599,
          "Location": "(40.59599, -73.952765)",
          "Longitude": -73.952765
         },
         "4": "B90522",
         "5": "No",
         "6": "7186464444",
         "7": "18:03:31",
         "8": "PARATRANSIT BASE"
        },
        {
         "0": {
          "Building": "2692",
          "City": "BROOKLYN",
          "Postcode": 11235,
          "State": "NY",
          "Street": "CONEY ISLAND AVENUE"
         },
         "1": "08/15/2019",
         "2": "SEAGULL RIDE CORP",
         "3": {
          "Latitude": 40.59092,
          "Location": "(40.59092, -73.961)",
          "Longitude": -73.961
         },
         "4": "B02536",
         "5": "No",
         "6": "7187033333",
         "7": "18:03:31",
         "8": "LIVERY BASE"
        },
        {
         "0": {
          "Building": "424",
          "City": "BROOKLYN",
          "Postcode": 11235,
          "State": "NY",
          "Street": "BRIGHTON BEACH AVENUE"
         },
         "1": "08/15/2019",
         "2": "BBA MANAGEMENT INC.",
         "3": {
          "Latitude": 40.577118,
          "Location": "(40.577118, -73.96247)",
          "Longitude": -73.96247
         },
         "4": "B01629",
         "5": "No",
         "6": "7189344444",
         "7": "18:03:31",
         "8": "LIVERY BASE"
        },
        {
         "0": {
          "Building": "34-39",
          "City": "ASTORIA",
          "Postcode": 11106,
          "State": "NY",
          "Street": "31 STREET"
         },
         "1": "08/15/2019",
         "2": "PETER EXECUTIVE LIMOUSINE, CORP",
         "3": {
          "Latitude": 40.758334,
          "Location": "(40.758334, -73.92795)",
          "Longitude": -73.92795
         },
         "4": "B02408",
         "5": "No",
         "6": "7187847900",
         "7": "18:03:31",
         "8": "BLACK CAR BASE"
        },
        {
         "0": {
          "Building": "2134",
          "City": "BROOKLYN",
          "Postcode": 11214,
          "State": "NY",
          "Street": "86 STREET"
         },
         "1": "08/15/2019",
         "2": "BAY EXPRESS CORP.",
         "3": {
          "Latitude": 40.602225,
          "Location": "(40.602225, -73.99315)",
          "Longitude": -73.99315
         },
         "4": "B01336",
         "5": "No",
         "6": "7182323434",
         "7": "18:03:31",
         "8": "LIVERY BASE"
        },
        {
         "0": {
          "Building": "127-19",
          "City": "SOUTH OZONE PAR",
          "Postcode": 11420,
          "State": "NY",
          "Street": "ROCKAWAY BOULEVARD"
         },
         "1": "08/15/2019",
         "2": "SCORPIO FIVE STAR CAR & LIMO SERVICE INC",
         "3": {
          "Latitude": 40.675409,
          "Location": "(40.675409, -73.810012)",
          "Longitude": -73.810012
         },
         "4": "B02944",
         "5": "No",
         "6": "9176839470",
         "7": "18:03:31",
         "8": "BLACK CAR BASE"
        },
        {
         "0": {
          "Building": "560",
          "City": "BRONX",
          "Postcode": 10455,
          "State": "NY",
          "Street": "SOUTHERN BOULEVARD"
         },
         "1": "08/15/2019",
         "2": "AGAPE LUXURY CORP.",
         "3": {
          "Latitude": 40.812094,
          "Location": "(40.812094, -73.90301)",
          "Longitude": -73.90301
         },
         "4": "B02550",
         "5": "No",
         "6": "9173090202",
         "7": "18:03:31",
         "8": "BLACK CAR BASE"
        },
        {
         "0": {
          "Building": "8908",
          "City": "JACKSON HTS",
          "Postcode": 11372,
          "State": "NY",
          "Street": "ROOSEVELT AVENUE  1F"
         },
         "1": "08/15/2019",
         "2": "L & H (NY) TRANSPORTATION, INC.",
         "3": {
          "Latitude": 40.747395,
          "Location": "(40.747395, -73.887382)",
          "Longitude": -73.887382
         },
         "4": "B80201",
         "5": "No",
         "6": "7187853624",
         "7": "18:03:31",
         "8": "COMMUTER VAN AUTHORITY BASE"
        },
        {
         "0": {
          "Building": "24-59",
          "City": "ASTORIA",
          "Postcode": 11103,
          "State": "NY",
          "Street": "47 STREET"
         },
         "1": "08/15/2019",
         "2": "CAREY LIMO N Y INC",
         "3": {
          "Latitude": 40.740878,
          "Location": "(40.740878, -73.942043)",
          "Longitude": -73.942043
         },
         "4": "B00837",
         "5": "No",
         "6": "7188981000",
         "7": "18:03:31",
         "8": "LUXURY/LIMOUSINE"
        },
        {
         "0": {
          "Building": "133-56",
          "City": "FLUSHING",
          "Postcode": 11355,
          "State": "NY",
          "Street": "41 AVENUE  #101"
         },
         "1": "08/15/2019",
         "2": "HENG TONG TRANSPORTATION INC.",
         "3": {
          "Latitude": 40.758114,
          "Location": "(40.758114, -73.829623)",
          "Longitude": -73.829623
         },
         "4": "B80220",
         "5": "No",
         "6": "7184391111",
         "7": "18:03:31",
         "8": "COMMUTER VAN AUTHORITY BASE"
        },
        {
         "0": {
          "Building": "1611",
          "City": "BROOKLYN",
          "Postcode": 11229,
          "State": "NY",
          "Street": "EAST   19 STREET"
         },
         "1": "08/15/2019",
         "2": "CONCORDE EXP OF N.Y. INC",
         "3": {
          "Latitude": 40.610532,
          "Location": "(40.610532, -73.954634)",
          "Longitude": -73.954634
         },
         "4": "B01751",
         "5": "No",
         "6": "7186455555",
         "7": "18:03:31",
         "8": "LIVERY BASE"
        },
        {
         "0": {
          "Building": "1017",
          "City": "STATEN ISLAND",
          "Postcode": 10302,
          "State": "NY",
          "Street": "POST AVENUE"
         },
         "1": "08/15/2019",
         "2": "MATAMOROS CAR SERVICE INC.",
         "3": {
          "Latitude": 40.633003,
          "Location": "(40.633003, -74.134202)",
          "Longitude": -74.134202
         },
         "4": "B02279",
         "5": "Yes",
         "6": "7183900035",
         "7": "18:03:31",
         "8": "LIVERY BASE"
        },
        {
         "0": {
          "Building": "425",
          "City": "NEW YORK",
          "Postcode": 10032,
          "State": "NY",
          "Street": "EDGECOMBE AVENUE"
         },
         "1": "08/15/2019",
         "2": "PREMIUM RADIO DISP & MULTI SVC",
         "3": {
          "Latitude": 40.82983,
          "Location": "(40.82983, -73.94008)",
          "Longitude": -73.94008
         },
         "4": "B01777",
         "5": "Yes",
         "6": "2126942222",
         "7": "18:03:31",
         "8": "LIVERY BASE"
        },
        {
         "0": {
          "Building": "6318",
          "City": "BROOKLYN",
          "Postcode": 11219,
          "State": "NY",
          "Street": "14 AVENUE"
         },
         "1": "08/15/2019",
         "2": "CHICO EXPRESS,INC.",
         "3": {
          "Latitude": 40.625609,
          "Location": "(40.625609, -73.99868)",
          "Longitude": -73.99868
         },
         "4": "B02397",
         "5": "Yes",
         "6": "7182367777",
         "7": "18:03:31",
         "8": "LIVERY BASE"
        },
        {
         "0": {
          "Building": "94-44",
          "City": "QUEENS VILLAGE",
          "Postcode": 11428,
          "State": "NY",
          "Street": "213 STREET"
         },
         "1": "08/15/2019",
         "2": "DISCOUNT CAR SVCE",
         "3": {
          "Latitude": 40.71643,
          "Location": "(40.71643, -73.74506)",
          "Longitude": -73.74506
         },
         "4": "B01311",
         "5": "No",
         "6": "7187400101",
         "7": "18:03:31",
         "8": "LIVERY BASE"
        },
        {
         "0": {
          "Building": "29-10",
          "City": "LIC",
          "Postcode": 11106,
          "State": "NY",
          "Street": "36 AVENUE"
         },
         "1": "08/15/2019",
         "2": "EXIT CAR SERVICE INC.",
         "3": {
          "Latitude": 40.758143,
          "Location": "(40.758143, -73.93305)",
          "Longitude": -73.93305
         },
         "4": "B02660",
         "5": "Yes",
         "6": "7184729800",
         "7": "18:03:31",
         "8": "LIVERY BASE"
        },
        {
         "0": {
          "Building": "ONE",
          "City": "NEW YORK",
          "Postcode": 10007,
          "State": "NY",
          "Street": "WORLD TRADE CENTER  84 FLOOR, SUITE A"
         },
         "1": "08/15/2019",
         "2": "VULCAN CARS LLC",
         "3": {
          "Latitude": 40.712133,
          "Location": "(40.712133, -74.0133)",
          "Longitude": -74.0133
         },
         "4": "B02914",
         "5": "No",
         "6": "8555866872",
         "7": "18:03:31",
         "8": "BLACK CAR BASE"
        },
        {
         "0": {
          "Building": "6",
          "City": "HOWARD BEACH",
          "Postcode": 11414,
          "State": "NY",
          "Street": "COLEMAN SQUARE"
         },
         "1": "08/15/2019",
         "2": "HOWARD CAR SERVICE,INC.",
         "3": {
          "Latitude": 40.660308,
          "Location": "(40.660308, -73.83054)",
          "Longitude": -73.83054
         },
         "4": "B00210",
         "5": "No",
         "6": "7188353500",
         "7": "18:03:31",
         "8": "LIVERY BASE"
        },
        {
         "0": {
          "Building": "90",
          "City": "MAHWAH",
          "Postcode": 7430,
          "State": "NJ",
          "Street": "MCKEE DRIVE"
         },
         "1": "08/15/2019",
         "2": "FLYTE LINE TRANSPORTATION LLC",
         "3": {
          "Latitude": 41.083191,
          "Location": "(41.083191, -74.149513)",
          "Longitude": -74.149513
         },
         "4": "B02970",
         "5": "No",
         "6": "8888885466",
         "7": "18:03:31",
         "8": "BLACK CAR BASE"
        },
        {
         "0": {
          "Building": "390",
          "City": "BROOKLYN",
          "Postcode": 11211,
          "State": "NY",
          "Street": "BROADWAY"
         },
         "1": "08/15/2019",
         "2": "NEW BLACK LUXURY CARS CORP",
         "3": {
          "Latitude": 40.707063,
          "Location": "(40.707063, -73.95449)",
          "Longitude": -73.95449
         },
         "4": "B02899",
         "5": "No",
         "6": "7183887777",
         "7": "18:03:31",
         "8": "BLACK CAR BASE"
        },
        {
         "0": {
          "Building": "185-08",
          "City": "FRESH MEADOWS",
          "Postcode": 11366,
          "State": "NY",
          "Street": "UNION TURNPIKE  SUITE 108"
         },
         "1": "08/15/2019",
         "2": "CRESTWOOD CAR & LIMO SVC,LTD",
         "3": {
          "Latitude": 40.728365,
          "Location": "(40.728365, -73.783282)",
          "Longitude": -73.783282
         },
         "4": "B02253",
         "5": "No",
         "6": "7184542900",
         "7": "18:03:31",
         "8": "LUXURY/LIMOUSINE"
        },
        {
         "0": {
          "Building": "578",
          "City": "BROOKLYN",
          "Postcode": 11220,
          "State": "NY",
          "Street": "58 STREET"
         },
         "1": "08/15/2019",
         "2": "LI YANG LIMOUSINE INC",
         "3": {
          "Latitude": 40.639423,
          "Location": "(40.639423, -74.013137)",
          "Longitude": -74.013137
         },
         "4": "B02975",
         "5": "No",
         "6": "9293379394",
         "7": "18:03:31",
         "8": "BLACK CAR BASE"
        },
        {
         "0": {
          "Building": "872",
          "City": "BRONX",
          "Postcode": 10466,
          "State": "NY",
          "Street": "EAST  233 STREET"
         },
         "1": "08/15/2019",
         "2": "INTERSTATE LUXURY LIMOUSINES INC.",
         "3": {
          "Latitude": 40.830331,
          "Location": "(40.830331, -73.918318)",
          "Longitude": -73.918318
         },
         "4": "B02552",
         "5": "No",
         "6": "7185888959",
         "7": "18:03:31",
         "8": "BLACK CAR BASE"
        },
        {
         "0": {
          "Building": "1708",
          "City": "BROOKLYN",
          "Postcode": 11229,
          "State": "NY",
          "Street": "EAST   16 STREET"
         },
         "1": "08/15/2019",
         "2": "JAFFA CAR & LIMO SVC INC",
         "3": {
          "Latitude": 40.608102,
          "Location": "(40.608102, -73.95738)",
          "Longitude": -73.95738
         },
         "4": "B00160",
         "5": "No",
         "6": "7183766400",
         "7": "18:03:31",
         "8": "LIVERY BASE"
        },
        {
         "0": {
          "Building": "140",
          "City": "BROOKLYN",
          "Postcode": 11201,
          "State": "NY",
          "Street": "REMSEN STREET  _SUT 1"
         },
         "1": "08/15/2019",
         "2": "GRAND PARADISE TRAVEL SERVICE INC.",
         "3": {
          "Latitude": 40.759501,
          "Location": "(40.759501, -73.83038)",
          "Longitude": -73.83038
         },
         "4": "B80259",
         "5": "No",
         "6": "7187098383",
         "7": "18:03:31",
         "8": "COMMUTER VAN AUTHORITY BASE"
        },
        {
         "0": {
          "Building": "23B",
          "City": "NEW YORK",
          "Postcode": 10002,
          "State": "NY",
          "Street": "CLINTON STREET"
         },
         "1": "08/15/2019",
         "2": "GRAVITAS PRIMO,LLC",
         "3": {
          "Latitude": 40.720613,
          "Location": "(40.720613, -73.984519)",
          "Longitude": -73.984519
         },
         "4": "B02921",
         "5": "No",
         "6": "9176057800",
         "7": "18:03:31",
         "8": "BLACK CAR BASE"
        },
        {
         "0": {
          "Building": "376",
          "City": "NEW YORK",
          "Postcode": 10033,
          "State": "NY",
          "Street": "AUDUBON AVENUE"
         },
         "1": "08/15/2019",
         "2": "PROFESSIONAL CAR SERVICE INC",
         "3": {
          "Latitude": 40.850482,
          "Location": "(40.850482, -73.93131)",
          "Longitude": -73.93131
         },
         "4": "B00221",
         "5": "Yes",
         "6": "2129236565",
         "7": "18:03:31",
         "8": "LIVERY BASE"
        },
        {
         "0": {
          "Building": "335",
          "City": "BROOKLYN",
          "Postcode": 11231,
          "State": "NY",
          "Street": "BOND STREET"
         },
         "1": "08/15/2019",
         "2": "TWR CAR & LIMO, INC.",
         "3": {
          "Latitude": 40.678782,
          "Location": "(40.678782, -73.989979)",
          "Longitude": -73.989979
         },
         "4": "B02133",
         "5": "No",
         "6": "7186432200",
         "7": "18:03:31",
         "8": "BLACK CAR BASE"
        },
        {
         "0": {
          "Building": "7310",
          "City": "GLENDALE",
          "Postcode": 11385,
          "State": "NY",
          "Street": "88 STREET"
         },
         "1": "08/15/2019",
         "2": "CORPORATE CAR LTD.",
         "3": {
          "Latitude": 40.70868,
          "Location": "(40.70868, -73.863547)",
          "Longitude": -73.863547
         },
         "4": "B02664",
         "5": "No",
         "6": "7184181100",
         "7": "18:03:31",
         "8": "BLACK CAR BASE"
        },
        {
         "0": {
          "Building": "5582",
          "City": "BRONX",
          "Postcode": 10463,
          "State": "NY",
          "Street": "BROADWAY"
         },
         "1": "08/15/2019",
         "2": "SHIVA AMBLT SVC INC",
         "3": {
          "Latitude": 40.879021,
          "Location": "(40.879021, -73.904426)",
          "Longitude": -73.904426
         },
         "4": "B90333",
         "5": "No",
         "6": "7185490391",
         "7": "18:03:31",
         "8": "PARATRANSIT BASE"
        },
        {
         "0": {
          "Building": "307A",
          "City": "BROOKLYN",
          "Postcode": 11215,
          "State": "NY",
          "Street": "7 AVENUE"
         },
         "1": "08/15/2019",
         "2": "CHEERS DISPATCH,INC.",
         "3": {
          "Latitude": 40.667552,
          "Location": "(40.667552, -73.98081)",
          "Longitude": -73.98081
         },
         "4": "B00692",
         "5": "No",
         "6": "7189651616",
         "7": "18:03:31",
         "8": "LIVERY BASE"
        },
        {
         "0": {
          "Building": "125-01",
          "City": "RICHMOND HILL",
          "Postcode": 11419,
          "State": "NY",
          "Street": "LIBERTY AVENUE"
         },
         "1": "08/15/2019",
         "2": "MAZIN  CAR & LIMO SVC., LLC",
         "3": {
          "Latitude": 40.688403,
          "Location": "(40.688403, -73.819306)",
          "Longitude": -73.819306
         },
         "4": "B02050",
         "5": "No",
         "6": "7188450577",
         "7": "18:03:31",
         "8": "LIVERY BASE"
        },
        {
         "0": {
          "Building": "6506",
          "City": "BROOKLYN",
          "Postcode": 11204,
          "State": "NY",
          "Street": "20 AVE"
         },
         "1": "08/15/2019",
         "2": "GUADALUPANA II CAR & LIMO INC",
         "3": {
          "Latitude": 40.616294,
          "Location": "(40.616294, -73.98612)",
          "Longitude": -73.98612
         },
         "4": "B02825",
         "5": "No",
         "6": "7186210404",
         "7": "18:03:31",
         "8": "BLACK CAR BASE"
        },
        {
         "0": {
          "Building": "72",
          "City": "NEW YORK",
          "Postcode": 10025,
          "State": "NY",
          "Street": "WEST  106 STREET"
         },
         "1": "08/15/2019",
         "2": "NEW FAMILY RAD DISP INC",
         "3": {
          "Latitude": 40.799069,
          "Location": "(40.799069, -73.962505)",
          "Longitude": -73.962505
         },
         "4": "B01527",
         "5": "No",
         "6": "2127497777",
         "7": "18:03:31",
         "8": "LIVERY BASE"
        },
        {
         "0": {
          "Building": "780",
          "City": "ELIZABETH",
          "Postcode": 7201,
          "State": "NJ",
          "Street": "DOWD AVENUE"
         },
         "1": "08/15/2019",
         "2": "HARRISON GLOBAL LLC",
         "3": {
          "Latitude": 40.672805,
          "Location": "(40.672805, -74.191579)",
          "Longitude": -74.191579
         },
         "4": "B02120",
         "5": "No",
         "6": "7188917220",
         "7": "18:03:31",
         "8": "LUXURY/LIMOUSINE"
        },
        {
         "0": {
          "Building": "7",
          "City": "BROOKLYN",
          "Postcode": 11206,
          "State": "NY",
          "Street": "MARCUS GARVEY BLVD  SUITE 212"
         },
         "1": "08/15/2019",
         "2": "TRAXLINE CAR SERVICE INC.",
         "3": {
          "Latitude": 40.693704,
          "Location": "(40.693704, -73.962047)",
          "Longitude": -73.962047
         },
         "4": "B02739",
         "5": "No",
         "6": "7187894901",
         "7": "18:03:31",
         "8": "BLACK CAR BASE"
        },
        {
         "0": {
          "Building": "111-05",
          "City": "OZONE PARK",
          "Postcode": 11420,
          "State": "NY",
          "Street": "128 STREET"
         },
         "1": "08/15/2019",
         "2": "128 BLUE BIRD TRANSPORT INC.",
         "3": {
          "Latitude": 40.683921,
          "Location": "(40.683921, -73.813971)",
          "Longitude": -73.813971
         },
         "4": "B00054",
         "5": "No",
         "6": "7185297748",
         "7": "18:03:31",
         "8": "LIVERY BASE"
        },
        {
         "0": {
          "Building": "1702",
          "City": "BROOKLYN",
          "Postcode": 11235,
          "State": "NY",
          "Street": "AVENUE Z  106"
         },
         "1": "08/15/2019",
         "2": "MARLBORO CAR SERVICE INC.",
         "3": {
          "Latitude": 40.63575,
          "Location": "(40.63575, -73.962804)",
          "Longitude": -73.962804
         },
         "4": "B00987",
         "5": "No",
         "6": "3472290000",
         "7": "18:03:31",
         "8": "LIVERY BASE"
        },
        {
         "0": {
          "Building": "766",
          "City": "BROOKLYN",
          "Postcode": 11236,
          "State": "NY",
          "Street": "ROCKAWAY PARKWAY"
         },
         "1": "08/15/2019",
         "2": "MEDSTAR AMBULETTE INC",
         "3": {
          "Latitude": 40.650782,
          "Location": "(40.650782, -73.909111)",
          "Longitude": -73.909111
         },
         "4": "B90623",
         "5": "No",
         "6": "7187884200",
         "7": "18:03:31",
         "8": "PARATRANSIT BASE"
        },
        {
         "0": {
          "Building": "2077",
          "City": "BROOKLYN",
          "Postcode": 11229,
          "State": "NY",
          "Street": "EAST   16 STREET"
         },
         "1": "08/15/2019",
         "2": "ART'S PLACE INC.",
         "3": {
          "Latitude": 40.599389,
          "Location": "(40.599389, -73.95554)",
          "Longitude": -73.95554
         },
         "4": "B01653",
         "5": "No",
         "6": "7189342222",
         "7": "18:03:31",
         "8": "LIVERY BASE"
        },
        {
         "0": {
          "Building": "36-31",
          "City": "LIC",
          "Postcode": 11106,
          "State": "NY",
          "Street": "10TH STREET"
         },
         "1": "08/15/2019",
         "2": "LIMO 4 LLC",
         "3": {
          "Latitude": 40.760313,
          "Location": "(40.760313, -73.9412)",
          "Longitude": -73.9412
         },
         "4": "B01868",
         "5": "No",
         "6": "7183919130",
         "7": "18:03:31",
         "8": "LIVERY BASE"
        },
        {
         "0": {
          "Building": "134-15",
          "City": "SOUTH OZONE PK",
          "Postcode": 11420,
          "State": "NY",
          "Street": "ROCKAWAY BOULEVARD"
         },
         "1": "08/15/2019",
         "2": "TRINITY CAR SERVICE INC",
         "3": {
          "Latitude": 40.674804,
          "Location": "(40.674804, -73.80358)",
          "Longitude": -73.80358
         },
         "4": "B02736",
         "5": "No",
         "6": "7183228700",
         "7": "18:03:31",
         "8": "LIVERY BASE"
        },
        {
         "0": {
          "Building": "4405",
          "City": "BROOKLYN",
          "Postcode": 11220,
          "State": "NY",
          "Street": "5 AVENUE"
         },
         "1": "08/15/2019",
         "2": "SUNSET PARK CAR SERVICE INC",
         "3": {
          "Latitude": 40.64816,
          "Location": "(40.64816, -74.00679)",
          "Longitude": -74.00679
         },
         "4": "B02573",
         "5": "No",
         "6": "7184362027",
         "7": "18:03:31",
         "8": "LIVERY BASE"
        },
        {
         "0": {
          "Building": "11 - 11",
          "City": "LIC",
          "Postcode": 11106,
          "State": "NY",
          "Street": "34 AVENUE"
         },
         "1": "08/15/2019",
         "2": "CURB TRANSPORTATION SERVICES LLC.",
         "3": {
          "Latitude": 40.762829,
          "Location": "(40.762829, -73.7718)",
          "Longitude": -73.7718
         },
         "4": "B00171",
         "5": "No",
         "6": "7182220600",
         "7": "18:03:31",
         "8": "LIVERY BASE"
        },
        {
         "0": {
          "Building": "640",
          "City": "BROOKLYN",
          "Postcode": 11205,
          "State": "NY",
          "Street": "MYRTLE AVENUE"
         },
         "1": "08/15/2019",
         "2": "NEW BELL CAR SERVICE CORP",
         "3": {
          "Latitude": 40.694109,
          "Location": "(40.694109, -73.95885)",
          "Longitude": -73.95885
         },
         "4": "B01190",
         "5": "No",
         "6": "7182304499",
         "7": "18:03:31",
         "8": "LIVERY BASE"
        },
        {
         "0": {
          "Building": "2410",
          "City": "BROOKLYN",
          "Postcode": 11204,
          "State": "NY",
          "Street": "65 STREET"
         },
         "1": "08/15/2019",
         "2": "ACA TRANSPORTATION INC.",
         "3": {
          "Latitude": 40.610789,
          "Location": "(40.610789, -73.976696)",
          "Longitude": -73.976696
         },
         "4": "B90639",
         "5": "No",
         "6": "7187870410",
         "7": "18:03:31",
         "8": "PARATRANSIT BASE"
        },
        {
         "0": {
          "Building": "247-34",
          "City": "BELLEROSE",
          "Postcode": 11001,
          "State": "NY",
          "Street": "JERICHO TURNPIKE"
         },
         "1": "08/15/2019",
         "2": "MAVRIK TRANS INC.",
         "3": {
          "Latitude": 40.728467,
          "Location": "(40.728467, -73.703462)",
          "Longitude": -73.703462
         },
         "4": "B02148",
         "5": "No",
         "6": "5164884600",
         "7": "18:03:31",
         "8": "LUXURY/LIMOUSINE"
        },
        {
         "0": {
          "Building": "33-70",
          "City": "FLUSHING",
          "Postcode": 11354,
          "State": "NY",
          "Street": "PRINCE STREET  CA22"
         },
         "1": "08/15/2019",
         "2": "LAN TIAN CAR SERVICE, INC",
         "3": {
          "Latitude": 40.666272,
          "Location": "(40.666272, -73.73581)",
          "Longitude": -73.73581
         },
         "4": "B02790",
         "5": "No",
         "6": "7186612666",
         "7": "18:03:31",
         "8": "LIVERY BASE"
        },
        {
         "0": {
          "Building": "145",
          "City": "HICKSVILLE",
          "Postcode": 11801,
          "State": "NY",
          "Street": "WEST JOHN STREET"
         },
         "1": "08/15/2019",
         "2": "SILVER STAR LIMOUSINES, INC.",
         "3": {
          "Latitude": 40.767439,
          "Location": "(40.767439, -73.532154)",
          "Longitude": -73.532154
         },
         "4": "B02144",
         "5": "No",
         "6": "5165400040",
         "7": "18:03:31",
         "8": "LUXURY/LIMOUSINE"
        },
        {
         "0": {
          "Building": "2304",
          "City": "BRONX",
          "Postcode": 10468,
          "State": "NY",
          "Street": "SEDGWICK AVENUE  TORE 1"
         },
         "1": "08/15/2019",
         "2": "DIPLO RAD DISP INC",
         "3": {
          "Latitude": 40.868789,
          "Location": "(40.868789, -73.89777)",
          "Longitude": -73.89777
         },
         "4": "B01196",
         "5": "Yes",
         "6": "7183658580",
         "7": "18:03:31",
         "8": "LIVERY BASE"
        },
        {
         "0": {
          "Building": "275",
          "City": "BROOKLYN",
          "Postcode": 11215,
          "State": "NY",
          "Street": "20 STREET"
         },
         "1": "08/15/2019",
         "2": "XYZ LIMOUSINE, INC.",
         "3": {
          "Latitude": 40.661323,
          "Location": "(40.661323, -73.991415)",
          "Longitude": -73.991415
         },
         "4": "B02356",
         "5": "No",
         "6": "7184992007",
         "7": "18:03:31",
         "8": "BLACK CAR BASE"
        },
        {
         "0": {
          "Building": "1605",
          "City": "FORT LEE",
          "Postcode": 7024,
          "State": "NJ",
          "Street": "JOHN STREET  SUITE 201"
         },
         "1": "08/15/2019",
         "2": "CJ LIMOUSINE LLC",
         "3": {
          "Latitude": 40.854042,
          "Location": "(40.854042, -73.979192)",
          "Longitude": -73.979192
         },
         "4": "B02797",
         "5": "No",
         "6": "7187553263",
         "7": "18:03:31",
         "8": "BLACK CAR BASE"
        },
        {
         "0": {
          "Building": "800",
          "City": "TEANECK",
          "Postcode": 7666,
          "State": "NJ",
          "Street": "CEDAR LANE"
         },
         "1": "08/15/2019",
         "2": "KISMET INTERNATIONAL INC.",
         "3": {
          "Latitude": 40.891525,
          "Location": "(40.891525, -74.03396)",
          "Longitude": -74.03396
         },
         "4": "B02767",
         "5": "No",
         "6": "2019070044",
         "7": "18:03:31",
         "8": "LUXURY/LIMOUSINE"
        },
        {
         "0": {
          "Building": "601",
          "City": "BROOKLYN",
          "Postcode": 11235,
          "State": "NY",
          "Street": "BRIGHTON BEACH_AVE"
         },
         "1": "08/15/2019",
         "2": "TAMAR TRANSP CORP",
         "3": {
          "Latitude": 40.577898,
          "Location": "(40.577898, -73.961479)",
          "Longitude": -73.961479
         },
         "4": "B90334",
         "5": "No",
         "6": "7183681111",
         "7": "18:03:31",
         "8": "PARATRANSIT BASE"
        },
        {
         "0": {
          "Building": "469",
          "City": "BROOKLYN",
          "Postcode": 11220,
          "State": "NY",
          "Street": "53 STREET"
         },
         "1": "08/15/2019",
         "2": "MORENITA EXPRESS CAR SERVICE INC.",
         "3": {
          "Latitude": 40.643837,
          "Location": "(40.643837, -74.01247)",
          "Longitude": -74.01247
         },
         "4": "B02463",
         "5": "No",
         "6": "6464795686",
         "7": "18:03:31",
         "8": "LIVERY BASE"
        },
        {
         "0": {
          "Building": "75-19",
          "City": "FRESH MEADOWS",
          "Postcode": 11366,
          "State": "NY",
          "Street": "PARSONS BOULEVARD"
         },
         "1": "08/15/2019",
         "2": "MILKY WAY LIMO CORP",
         "3": {
          "Latitude": 40.72595,
          "Location": "(40.72595, -73.810672)",
          "Longitude": -73.810672
         },
         "4": "B02822",
         "5": "Yes",
         "6": "7183802398",
         "7": "18:03:31",
         "8": "BLACK CAR BASE"
        },
        {
         "0": {
          "Building": "38-33B",
          "City": "LIC",
          "Postcode": 11101,
          "State": "NY",
          "Street": "29 STREET"
         },
         "1": "08/15/2019",
         "2": "NEW EXPERIENCE #1 INC",
         "3": {
          "Latitude": 40.753642,
          "Location": "(40.753642, -73.93421)",
          "Longitude": -73.93421
         },
         "4": "B01467",
         "5": "Yes",
         "6": "7187295756",
         "7": "18:03:31",
         "8": "LIVERY BASE"
        },
        {
         "0": {
          "Building": "135-30",
          "City": "FLUSHING",
          "Postcode": 11354,
          "State": "NY",
          "Street": "ROOSEVELT AVENUE  3 FLR"
         },
         "1": "08/15/2019",
         "2": "MECAR EXPRESS,INC",
         "3": {
          "Latitude": 40.759124,
          "Location": "(40.759124, -73.830901)",
          "Longitude": -73.830901
         },
         "4": "B02959",
         "5": "No",
         "6": "7186667080",
         "7": "18:03:31",
         "8": "BLACK CAR BASE"
        },
        {
         "0": {
          "Building": "4920",
          "City": "BROOKLYN",
          "Postcode": 11219,
          "State": "NY",
          "Street": "NEW UTRECHT AVENUE"
         },
         "1": "08/15/2019",
         "2": "ZION CAR SERVICE INC.",
         "3": {
          "Latitude": 40.636171,
          "Location": "(40.636171, -73.995073)",
          "Longitude": -73.995073
         },
         "4": "B01029",
         "5": "No",
         "6": "7188714000",
         "7": "18:03:31",
         "8": "LIVERY BASE"
        },
        {
         "0": {
          "Building": "310",
          "City": "BROOKLYN",
          "Postcode": 11226,
          "State": "NY",
          "Street": "LENOX ROAD  APT 4H"
         },
         "1": "08/15/2019",
         "2": "BLACKSTREET VAN LINES INC",
         "3": {
          "Latitude": 40.653808,
          "Location": "(40.653808, -73.948842)",
          "Longitude": -73.948842
         },
         "4": "B80150",
         "5": "No",
         "6": "6462960388",
         "7": "18:03:31",
         "8": "COMMUTER VAN AUTHORITY BASE"
        },
        {
         "0": {
          "Building": "81-36",
          "City": "FLUSHING",
          "Postcode": 11373,
          "State": "NY",
          "Street": "BAXTER AVENUE"
         },
         "1": "08/15/2019",
         "2": "NEW AMERICAN CLASS L/C SERVICE CORP.",
         "3": {
          "Latitude": 40.775987,
          "Location": "(40.775987, -73.9018)",
          "Longitude": -73.9018
         },
         "4": "B01392",
         "5": "No",
         "6": "7184262929",
         "7": "18:03:31",
         "8": "LIVERY BASE"
        },
        {
         "0": {
          "Building": "2326",
          "City": "NEW YORK",
          "Postcode": 10033,
          "State": "NY",
          "Street": "AMSTERDAM AVENUE"
         },
         "1": "08/15/2019",
         "2": "XPRESS TRANSPORT & MULTI SERVICE INC.",
         "3": {
          "Latitude": 40.844865,
          "Location": "(40.844865, -73.93368)",
          "Longitude": -73.93368
         },
         "4": "B02293",
         "5": "Yes",
         "6": "2122811111",
         "7": "18:03:31",
         "8": "LIVERY BASE"
        },
        {
         "0": {
          "Building": "6002",
          "City": "BROOKLYN",
          "Postcode": 11236,
          "State": "NY",
          "Street": "FOSTER AVENUE"
         },
         "1": "08/15/2019",
         "2": "AHAVA ACCESS INC",
         "3": {
          "Latitude": 40.640231,
          "Location": "(40.640231, -73.918947)",
          "Longitude": -73.918947
         },
         "4": "B90058",
         "5": "No",
         "6": "7182521111",
         "7": "18:03:31",
         "8": "PARATRANSIT BASE"
        },
        {
         "0": {
          "Building": "134",
          "City": "NEW YORK",
          "Postcode": 10018,
          "State": "NY",
          "Street": "WEST   37 STREET"
         },
         "1": "08/15/2019",
         "2": "GROUNDANYWHERE LLC",
         "3": {
          "Latitude": 40.752365,
          "Location": "(40.752365, -73.9885)",
          "Longitude": -73.9885
         },
         "4": "B02715",
         "5": "No",
         "6": "8556931300",
         "7": "18:03:31",
         "8": "BLACK CAR BASE"
        },
        {
         "0": {
          "Building": "454B",
          "City": "YONKERS",
          "Postcode": 10705,
          "State": "NY",
          "Street": "RIVERDALE AVENUE  GROUND FLOOR"
         },
         "1": "08/15/2019",
         "2": "HEALTH BLACK CAR SERVICES, CORP",
         "3": {
          "Latitude": 40.829281,
          "Location": "(40.829281, -73.876669)",
          "Longitude": -73.876669
         },
         "4": "B02962",
         "5": "No",
         "6": "7186761132",
         "7": "18:03:31",
         "8": "BLACK CAR BASE"
        },
        {
         "0": {
          "Building": "69",
          "City": "BRONX",
          "Postcode": 10452,
          "State": "NY",
          "Street": "FEATHERBED LANE"
         },
         "1": "08/15/2019",
         "2": "NEW TECHNOLOGY TRANSPORTATION INC.",
         "3": {
          "Latitude": 40.846629,
          "Location": "(40.846629, -73.917362)",
          "Longitude": -73.917362
         },
         "4": "B02931",
         "5": "No",
         "6": "3473900666",
         "7": "18:03:31",
         "8": "BLACK CAR BASE"
        },
        {
         "0": {
          "Building": "43-39",
          "City": "LIC",
          "Postcode": 11101,
          "State": "NY",
          "Street": "21 STREET  STE 207"
         },
         "1": "08/15/2019",
         "2": "ACME LIMOUSINE LLC",
         "3": {
          "Latitude": 40.751808,
          "Location": "(40.751808, -73.9473)",
          "Longitude": -73.9473
         },
         "4": "B01309",
         "5": "No",
         "6": "2124311900",
         "7": "18:03:31",
         "8": "BLACK CAR BASE"
        },
        {
         "0": {
          "Building": "112-06",
          "City": "RICHMOND HILL",
          "Postcode": 11419,
          "State": "NY",
          "Street": "101 AVENUE"
         },
         "1": "08/15/2019",
         "2": "GLOBE CAR SERVICE INC",
         "3": {
          "Latitude": 40.68813,
          "Location": "(40.68813, -73.831491)",
          "Longitude": -73.831491
         },
         "4": "B01625",
         "5": "No",
         "6": "7188473500",
         "7": "18:03:31",
         "8": "LIVERY BASE"
        },
        {
         "0": {
          "Building": "205-25",
          "City": "HOLLIS",
          "Postcode": 11423,
          "State": "NY",
          "Street": "HILLSIDE AVENUE"
         },
         "1": "08/15/2019",
         "2": "P J CAR SVCE",
         "3": {
          "Latitude": 40.715516,
          "Location": "(40.715516, -73.772583)",
          "Longitude": -73.772583
         },
         "4": "B00984",
         "5": "No",
         "6": "7184797676",
         "7": "18:03:31",
         "8": "LIVERY BASE"
        },
        {
         "0": {
          "Building": "1430",
          "City": "NEW YORK",
          "Postcode": 10018,
          "State": "NY",
          "Street": "BROADWAY  STE #507"
         },
         "1": "08/15/2019",
         "2": "MY SEDAN LLC",
         "3": {
          "Latitude": 40.753913,
          "Location": "(40.753913, -73.986417)",
          "Longitude": -73.986417
         },
         "4": "B02406",
         "5": "No",
         "6": "2124340400",
         "7": "18:03:31",
         "8": "LUXURY/LIMOUSINE"
        },
        {
         "0": {
          "Building": "2143",
          "City": "BROOKLYN",
          "Postcode": 11226,
          "State": "NY",
          "Street": "CORTELYOU ROAD"
         },
         "1": "08/15/2019",
         "2": "MAVROS TRANSPORTATION INC",
         "3": {
          "Latitude": 40.639749,
          "Location": "(40.639749, -73.929511)",
          "Longitude": -73.929511
         },
         "4": "B02769",
         "5": "No",
         "6": "6462668282",
         "7": "18:03:31",
         "8": "BLACK CAR BASE"
        },
        {
         "0": {
          "Building": "33-24",
          "City": "LIC",
          "Postcode": 11101,
          "State": "NY",
          "Street": "NORTHERN BOULEVARD  1ST FLR"
         },
         "1": "08/15/2019",
         "2": "LAPUMA TRANSPORTATION GROUP,LLC",
         "3": {
          "Latitude": 40.751777,
          "Location": "(40.751777, -73.930235)",
          "Longitude": -73.930235
         },
         "4": "B02759",
         "5": "Yes",
         "6": "6463416588",
         "7": "18:03:31",
         "8": "LIVERY BASE"
        },
        {
         "0": {
          "Building": "1",
          "City": "STATEN ISLAND",
          "Postcode": 10301,
          "State": "NY",
          "Street": "FERRY TERMINAL DRIVE"
         },
         "1": "08/15/2019",
         "2": "DOUBLE A CAR SERVICE INC.",
         "3": {
          "Latitude": 40.64309,
          "Location": "(40.64309, -74.075357)",
          "Longitude": -74.075357
         },
         "4": "B02301",
         "5": "Yes",
         "6": "7187206666",
         "7": "18:03:31",
         "8": "LIVERY BASE"
        },
        {
         "0": {
          "Building": "865",
          "City": "BRONX",
          "Postcode": 10454,
          "State": "NY",
          "Street": "EAST  138 STREET"
         },
         "1": "08/15/2019",
         "2": "R & R ROAD LIMO SVCE INC",
         "3": {
          "Latitude": 40.803251,
          "Location": "(40.803251, -73.90843)",
          "Longitude": -73.90843
         },
         "4": "B00078",
         "5": "No",
         "6": "7185858500",
         "7": "18:03:31",
         "8": "LUXURY/LIMOUSINE"
        },
        {
         "0": {
          "Building": "390",
          "City": "BROOKLYN",
          "Postcode": 11211,
          "State": "NY",
          "Street": "METROPOLITAN AVENUE"
         },
         "1": "08/15/2019",
         "2": "METRO CAR SERVICE CORP.",
         "3": {
          "Latitude": 40.713899,
          "Location": "(40.713899, -73.95531)",
          "Longitude": -73.95531
         },
         "4": "B01534",
         "5": "Yes",
         "6": "7183881800",
         "7": "18:03:31",
         "8": "LIVERY BASE"
        },
        {
         "0": {
          "Building": "2642",
          "City": "NEW YORK",
          "Postcode": 10025,
          "State": "NY",
          "Street": "BROADWAY  3 FL"
         },
         "1": "08/15/2019",
         "2": "TWO WAY BLACK CARS & RAD GRP",
         "3": {
          "Latitude": 40.797215,
          "Location": "(40.797215, -73.96941)",
          "Longitude": -73.96941
         },
         "4": "B01743",
         "5": "No",
         "6": "2126633333",
         "7": "18:03:31",
         "8": "LIVERY BASE"
        },
        {
         "0": {
          "Building": "4002",
          "City": "BROOKLYN",
          "Postcode": 11218,
          "State": "NY",
          "Street": "14 AVENUE"
         },
         "1": "08/15/2019",
         "2": "MUNKACS CAR SVC LTD",
         "3": {
          "Latitude": 40.638787,
          "Location": "(40.638787, -73.984991)",
          "Longitude": -73.984991
         },
         "4": "B01559",
         "5": "No",
         "6": "7188541267",
         "7": "18:03:31",
         "8": "LIVERY BASE"
        },
        {
         "0": {
          "Building": "616",
          "City": "BROOKLYN",
          "Postcode": 11211,
          "State": "NY",
          "Street": "GRAND STREET"
         },
         "1": "08/15/2019",
         "2": "LEOPARD INC",
         "3": {
          "Latitude": 40.711065,
          "Location": "(40.711065, -73.94753)",
          "Longitude": -73.94753
         },
         "4": "B02918",
         "5": "No",
         "6": "7183884488",
         "7": "18:03:31",
         "8": "BLACK CAR BASE"
        },
        {
         "0": {
          "Building": "775",
          "City": "BROOKLYN",
          "Postcode": 11220,
          "State": "NY",
          "Street": "60 STREET"
         },
         "1": "08/15/2019",
         "2": "J T TRANS CO INC",
         "3": {
          "Latitude": 40.63578,
          "Location": "(40.63578, -74.009774)",
          "Longitude": -74.009774
         },
         "4": "B01445",
         "5": "No",
         "6": "7184398899",
         "7": "18:03:31",
         "8": "LIVERY BASE"
        },
        {
         "0": {
          "Building": "38-12",
          "City": "ASTORIA",
          "Postcode": 11103,
          "State": "NY",
          "Street": "ASTORIA BOULEVARD"
         },
         "1": "08/15/2019",
         "2": "CLASSIC CAR SERVICE CORP.",
         "3": {
          "Latitude": 40.768741,
          "Location": "(40.768741, -73.911531)",
          "Longitude": -73.911531
         },
         "4": "B01381",
         "5": "Yes",
         "6": "7187281200",
         "7": "18:03:31",
         "8": "LIVERY BASE"
        },
        {
         "0": {
          "Building": "30",
          "City": "STAMFORD",
          "Postcode": 6902,
          "State": "CT",
          "Street": "COMMERCE ROAD"
         },
         "1": "08/15/2019",
         "2": "PRIME TIME LIMOUSINE INC.",
         "3": {
          "Latitude": 41.046382,
          "Location": "(41.046382, -73.56163)",
          "Longitude": -73.56163
         },
         "4": "B02724",
         "5": "No",
         "6": "2033483199",
         "7": "18:03:31",
         "8": "LUXURY/LIMOUSINE"
        },
        {
         "0": {
          "Building": "40-28",
          "City": "LIC",
          "Postcode": 11101,
          "State": "NY",
          "Street": "23 STREET"
         },
         "1": "08/15/2019",
         "2": "GSL LIMOUSINES CORP.",
         "3": {
          "Latitude": 40.742391,
          "Location": "(40.742391, -73.957749)",
          "Longitude": -73.957749
         },
         "4": "B02566",
         "5": "No",
         "6": "7184724200",
         "7": "18:03:31",
         "8": "LUXURY/LIMOUSINE"
        },
        {
         "0": {
          "Building": "8908",
          "City": "JACKSON HEIGHTS",
          "Postcode": 11372,
          "State": "NY",
          "Street": "ROOSEVELT AVENUE  1ST FL"
         },
         "1": "08/15/2019",
         "2": "HCWC INC.",
         "3": {
          "Latitude": 40.748075,
          "Location": "(40.748075, -73.877522)",
          "Longitude": -73.877522
         },
         "4": "B80224",
         "5": "No",
         "6": "7184258388",
         "7": "18:03:31",
         "8": "COMMUTER VAN AUTHORITY BASE"
        },
        {
         "0": {
          "Building": "32-72",
          "City": "LIC",
          "Postcode": 11101,
          "State": "NY",
          "Street": "GALE AVENUE"
         },
         "1": "08/15/2019",
         "2": "ODYSSEY GLOBAL TRANSPORTATION & LIMO LLC.",
         "3": {
          "Latitude": 40.749486,
          "Location": "(40.749486, -73.94651)",
          "Longitude": -73.94651
         },
         "4": "B01183",
         "5": "No",
         "6": "9174409997",
         "7": "18:03:31",
         "8": "BLACK CAR BASE"
        },
        {
         "0": {
          "Building": "49-06",
          "City": "ELMHURST",
          "Postcode": 11373,
          "State": "NY",
          "Street": "JUNCTION BOULEVARD"
         },
         "1": "08/15/2019",
         "2": "N.Y. MEXICANA CAR & LIMO SVC CRP.",
         "3": {
          "Latitude": 40.741807,
          "Location": "(40.741807, -73.86755)",
          "Longitude": -73.86755
         },
         "4": "B01568",
         "5": "No",
         "6": "7185921300",
         "7": "18:03:31",
         "8": "LIVERY BASE"
        },
        {
         "0": {
          "Building": "587",
          "City": "BROOKLYN",
          "Postcode": 11238,
          "State": "NY",
          "Street": "VANDERBILT AVENUE"
         },
         "1": "08/15/2019",
         "2": "EVELYN CAR SERVICE INC",
         "3": {
          "Latitude": 40.67995,
          "Location": "(40.67995, -73.96778)",
          "Longitude": -73.96778
         },
         "4": "B01148",
         "5": "No",
         "6": "7182308244",
         "7": "18:03:31",
         "8": "LIVERY BASE"
        },
        {
         "0": {
          "Building": "18-54",
          "City": "ASTORIA",
          "Postcode": 11105,
          "State": "NY",
          "Street": "42 STREET"
         },
         "1": "08/15/2019",
         "2": "APPLE TRANSPORTATION OF N.Y. INC.",
         "3": {
          "Latitude": 40.774993,
          "Location": "(40.774993, -73.934217)",
          "Longitude": -73.934217
         },
         "4": "B90540",
         "5": "No",
         "6": "7182677200",
         "7": "18:03:31",
         "8": "PARATRANSIT BASE"
        },
        {
         "0": {
          "Building": "325",
          "City": "NEW YORK",
          "Postcode": 10128,
          "State": "NY",
          "Street": "EAST   88 STREET"
         },
         "1": "08/15/2019",
         "2": "POLO LIMOUSINE, CORP.",
         "3": {
          "Latitude": 40.778792,
          "Location": "(40.778792, -73.949371)",
          "Longitude": -73.949371
         },
         "4": "B02410",
         "5": "No",
         "6": "2122060029",
         "7": "18:03:31",
         "8": "LUXURY/LIMOUSINE"
        },
        {
         "0": {
          "Building": "109-14",
          "City": "JAMAICA",
          "Postcode": 11412,
          "State": "NY",
          "Street": "FARMERS BOULEVARD"
         },
         "1": "08/15/2019",
         "2": "FELLOWSHIP COMMUTERS INC.",
         "3": {
          "Latitude": 40.703554,
          "Location": "(40.703554, -73.766955)",
          "Longitude": -73.766955
         },
         "4": "B80258",
         "5": "No",
         "6": "9178687032",
         "7": "18:03:31",
         "8": "COMMUTER VAN AUTHORITY BASE"
        },
        {
         "0": {
          "Building": "135",
          "City": "BROOKLYN",
          "Postcode": 11222,
          "State": "NY",
          "Street": "GREENPOINT AVENUE"
         },
         "1": "08/15/2019",
         "2": "R N D TRANSPORTATION, INC.",
         "3": {
          "Latitude": 40.730181,
          "Location": "(40.730181, -73.954586)",
          "Longitude": -73.954586
         },
         "4": "B01306",
         "5": "No",
         "6": "7183831500",
         "7": "18:03:31",
         "8": "LIVERY BASE"
        },
        {
         "0": {
          "Building": "335",
          "City": "BROOKLYN",
          "Postcode": 11231,
          "State": "NY",
          "Street": "BOND STREET"
         },
         "1": "08/15/2019",
         "2": "CALL THREES LLC",
         "3": {
          "Latitude": 40.678782,
          "Location": "(40.678782, -73.989979)",
          "Longitude": -73.989979
         },
         "4": "B02491",
         "5": "No",
         "6": "2123333333",
         "7": "18:03:31",
         "8": "LIVERY BASE"
        },
        {
         "0": {
          "Building": "90-03",
          "City": "EAST ELMHURST",
          "Postcode": 11369,
          "State": "NY",
          "Street": "31 AVENUE"
         },
         "1": "08/15/2019",
         "2": "NYMEX UNO EXECUTIVE SEDAN'S INC",
         "3": {
          "Latitude": 40.760249,
          "Location": "(40.760249, -73.878437)",
          "Longitude": -73.878437
         },
         "4": "B01995",
         "5": "No",
         "6": "7187861000",
         "7": "18:03:31",
         "8": "LIVERY BASE"
        },
        {
         "0": {
          "Building": "125",
          "City": "BROOKLYN",
          "Postcode": 11232,
          "State": "NY",
          "Street": "42 STREET"
         },
         "1": "08/15/2019",
         "2": "PARADA LUXURY INC.",
         "3": {
          "Latitude": 40.65464,
          "Location": "(40.65464, -74.013585)",
          "Longitude": -74.013585
         },
         "4": "B02608",
         "5": "No",
         "6": "9176564676",
         "7": "18:03:31",
         "8": "BLACK CAR BASE"
        },
        {
         "0": {
          "Building": "2313",
          "City": "BROOKLYN",
          "Postcode": 11235,
          "State": "NY",
          "Street": "AVENUE X"
         },
         "1": "08/15/2019",
         "2": "ALMAZ TRANSPORTATION INC.",
         "3": {
          "Latitude": 40.593239,
          "Location": "(40.593239, -73.946783)",
          "Longitude": -73.946783
         },
         "4": "B90537",
         "5": "No",
         "6": "7187695600",
         "7": "18:03:31",
         "8": "PARATRANSIT BASE"
        },
        {
         "0": {
          "Building": "1267",
          "City": "BROOKLYN",
          "Postcode": 11216,
          "State": "NY",
          "Street": "ATLANTIC AVENUE"
         },
         "1": "08/15/2019",
         "2": "MINEOLA TRANSPORTATION INC.",
         "3": {
          "Latitude": 40.678709,
          "Location": "(40.678709, -73.948652)",
          "Longitude": -73.948652
         },
         "4": "B02303",
         "5": "No",
         "6": "9178595195",
         "7": "18:03:31",
         "8": "BLACK CAR BASE"
        },
        {
         "0": {
          "Building": "47 - 01",
          "City": "LIC",
          "Postcode": 11101,
          "State": "NY",
          "Street": "VAN DAM STREET"
         },
         "1": "08/15/2019",
         "2": "GRAND TRANSPORTATION SERVICES INC",
         "3": {
          "Latitude": 40.755937,
          "Location": "(40.755937, -73.928979)",
          "Longitude": -73.928979
         },
         "4": "B02932",
         "5": "Yes",
         "6": "7184334255",
         "7": "18:03:31",
         "8": "BLACK CAR BASE"
        },
        {
         "0": {
          "Building": "20-02",
          "City": "ASTORIA",
          "Postcode": 11105,
          "State": "NY",
          "Street": "31 STREET"
         },
         "1": "08/15/2019",
         "2": "FORTUNE LIMOUSINES INC",
         "3": {
          "Latitude": 40.779561,
          "Location": "(40.779561, -73.906776)",
          "Longitude": -73.906776
         },
         "4": "B00387",
         "5": "No",
         "6": "7186263700",
         "7": "18:03:31",
         "8": "LUXURY/LIMOUSINE"
        },
        {
         "0": {
          "Building": "136-31",
          "City": "FLUSHING",
          "Postcode": 11355,
          "State": "NY",
          "Street": "41ST AVENUE  4C"
         },
         "1": "08/15/2019",
         "2": "L & W EXPRESS VAN SERVICE CORP",
         "3": {
          "Latitude": 40.759009,
          "Location": "(40.759009, -73.828513)",
          "Longitude": -73.828513
         },
         "4": "B80108",
         "5": "No",
         "6": "9175436410",
         "7": "18:03:31",
         "8": "COMMUTER VAN AUTHORITY BASE"
        },
        {
         "0": {
          "Building": "700",
          "City": "STATEN ISLAND",
          "Postcode": 10310,
          "State": "NY",
          "Street": "POST AVENUE"
         },
         "1": "08/15/2019",
         "2": "NEW STORM CAR SERVICE, INC.",
         "3": {
          "Latitude": 40.631416,
          "Location": "(40.631416, -74.125069)",
          "Longitude": -74.125069
         },
         "4": "B02416",
         "5": "No",
         "6": "7187276464",
         "7": "18:03:31",
         "8": "LIVERY BASE"
        },
        {
         "0": {
          "Building": "7923",
          "City": "BROOKLYN",
          "Postcode": 11228,
          "State": "NY",
          "Street": "7 AVENUE"
         },
         "1": "08/15/2019",
         "2": "FUTURE LIMO VIP CORP",
         "3": {
          "Latitude": 40.623076,
          "Location": "(40.623076, -74.0193)",
          "Longitude": -74.0193
         },
         "4": "B02469",
         "5": "No",
         "6": "7184395551",
         "7": "18:03:31",
         "8": "BLACK CAR BASE"
        },
        {
         "0": {
          "Building": "625",
          "City": "BRONX",
          "Postcode": 10454,
          "State": "NY",
          "Street": "EAST  137 STREET"
         },
         "1": "08/15/2019",
         "2": "METRO LUXURY INC",
         "3": {
          "Latitude": 40.805521,
          "Location": "(40.805521, -73.9159)",
          "Longitude": -73.9159
         },
         "4": "B01389",
         "5": "No",
         "6": "7186654900",
         "7": "18:03:31",
         "8": "LIVERY BASE"
        },
        {
         "0": {
          "Building": "209",
          "City": "GREENWICH",
          "Postcode": 6830,
          "State": "CT",
          "Street": "BRUCE PARK AVE"
         },
         "1": "08/15/2019",
         "2": "RUDY'S LIMOUSINE SERVICE, INC.",
         "3": {
          "Latitude": 41.022593,
          "Location": "(41.022593, -73.619392)",
          "Longitude": -73.619392
         },
         "4": "B02597",
         "5": "No",
         "6": "2036220973",
         "7": "18:03:31",
         "8": "LUXURY/LIMOUSINE"
        },
        {
         "0": {
          "Building": "32-60",
          "City": "EAST ELMHURST",
          "Postcode": 11370,
          "State": "NT",
          "Street": "81 STREET"
         },
         "1": "08/15/2019",
         "2": "GOLDEN-TOWN CAR & LIMOUSINE SERVICE INC.",
         "3": {
          "Latitude": 40.755791,
          "Location": "(40.755791, -73.88638)",
          "Longitude": -73.88638
         },
         "4": "B00955",
         "5": "Yes",
         "6": "7184297071",
         "7": "18:03:31",
         "8": "LIVERY BASE"
        },
        {
         "0": {
          "Building": "5401",
          "City": "BROOKLYN",
          "Postcode": 11219,
          "State": "NY",
          "Street": "13 AVENUE"
         },
         "1": "08/15/2019",
         "2": "EMES OF BOROPARK CAR SERVICE INC",
         "3": {
          "Latitude": 40.631994,
          "Location": "(40.631994, -73.99489)",
          "Longitude": -73.99489
         },
         "4": "B02731",
         "5": "No",
         "6": "7188715400",
         "7": "18:03:31",
         "8": "LIVERY BASE"
        },
        {
         "0": {
          "Building": "5924",
          "City": "BROOKLYN",
          "Postcode": 11234,
          "State": "NY",
          "Street": "GLENWOOD ROAD"
         },
         "1": "08/15/2019",
         "2": "WINTHROP HOLDING OF NEW YORK, INC",
         "3": {
          "Latitude": 40.634075,
          "Location": "(40.634075, -73.919437)",
          "Longitude": -73.919437
         },
         "4": "B00536",
         "5": "No",
         "6": "7182091616",
         "7": "18:03:31",
         "8": "LIVERY BASE"
        },
        {
         "0": {
          "Building": "41 - 24",
          "City": "LIC",
          "Postcode": 11101,
          "State": "NY",
          "Street": "38 STREET"
         },
         "1": "08/15/2019",
         "2": "U.S.A. LIMO. INC.",
         "3": {
          "Latitude": 40.638477,
          "Location": "(40.638477, -73.983333)",
          "Longitude": -73.983333
         },
         "4": "B01877",
         "5": "No",
         "6": "7184381100",
         "7": "18:03:31",
         "8": "LUXURY/LIMOUSINE"
        },
        {
         "0": {
          "Building": "245",
          "City": "BROOKLYN",
          "Postcode": 11223,
          "State": "NY",
          "Street": "AVENUE X"
         },
         "1": "08/15/2019",
         "2": "AVENUE X CAR SERVICE INC.",
         "3": {
          "Latitude": 40.590312,
          "Location": "(40.590312, -73.97371)",
          "Longitude": -73.97371
         },
         "4": "B02641",
         "5": "No",
         "6": "7183365200",
         "7": "18:03:31",
         "8": "LIVERY BASE"
        },
        {
         "0": {
          "Building": "37-53",
          "City": "JACKSON HEIGHTS",
          "Postcode": 11372,
          "State": "NY",
          "Street": "90 STREET  ROOM 6"
         },
         "1": "08/15/2019",
         "2": "NY PREMIER LIMOUSINE INC",
         "3": {
          "Latitude": 40.74901,
          "Location": "(40.74901, -73.876567)",
          "Longitude": -73.876567
         },
         "4": "B02398",
         "5": "No",
         "6": "7183592013",
         "7": "18:03:31",
         "8": "LUXURY/LIMOUSINE"
        },
        {
         "0": {
          "Building": "100-110",
          "City": "BROOKLYN",
          "Postcode": 11231,
          "State": "NY",
          "Street": "HUNTINGTON STREET"
         },
         "1": "08/15/2019",
         "2": "LUXOR LIMO INC",
         "3": {
          "Latitude": 40.680577,
          "Location": "(40.680577, -74.00932)",
          "Longitude": -74.00932
         },
         "4": "B02590",
         "5": "No",
         "6": "7189984111",
         "7": "18:03:31",
         "8": "LUXURY/LIMOUSINE"
        },
        {
         "0": {
          "Building": "1264 A",
          "City": "STATEN ISLAND",
          "Postcode": 10310,
          "State": "NY",
          "Street": "CASTLETON AVENUE"
         },
         "1": "08/15/2019",
         "2": "MARIACHI CAR SERVICE INC",
         "3": {
          "Latitude": 40.63375,
          "Location": "(40.63375, -74.12479)",
          "Longitude": -74.12479
         },
         "4": "B02856",
         "5": "No",
         "6": "7185247323",
         "7": "18:03:31",
         "8": "BLACK CAR BASE"
        },
        {
         "0": {
          "Building": "636",
          "City": "NEW YORK",
          "Postcode": 10001,
          "State": "NY",
          "Street": "WEST   28 STREET"
         },
         "1": "08/15/2019",
         "2": "FUNF-NY, LLC",
         "3": {
          "Latitude": 40.752729,
          "Location": "(40.752729, -74.006411)",
          "Longitude": -74.006411
         },
         "4": "B02867",
         "5": "No",
         "6": "7189715559",
         "7": "18:03:31",
         "8": "BLACK CAR BASE"
        },
        {
         "0": {
          "Building": "3038",
          "City": "EAST ELMHURST",
          "Postcode": 11369,
          "State": "NY",
          "Street": "92 STREET  FL1"
         },
         "1": "08/15/2019",
         "2": "811 TRANSIT CORP",
         "3": {
          "Latitude": 40.761071,
          "Location": "(40.761071, -73.876906)",
          "Longitude": -73.876906
         },
         "4": "B02834",
         "5": "No",
         "6": "9176887993",
         "7": "18:03:31",
         "8": "BLACK CAR BASE"
        },
        {
         "0": {
          "Building": "9",
          "City": "MAYWOOD",
          "Postcode": 7607,
          "State": "NJ",
          "Street": "BROOK AVENUE"
         },
         "1": "08/15/2019",
         "2": "ALPINE LIMOUSINE SERVICE, INC.",
         "3": {
          "Latitude": 40.901645,
          "Location": "(40.901645, -74.070797)",
          "Longitude": -74.070797
         },
         "4": "B01871",
         "5": "No",
         "6": "2013739599",
         "7": "18:03:31",
         "8": "LUXURY/LIMOUSINE"
        },
        {
         "0": {
          "Building": "169",
          "City": "NEW YORK",
          "Postcode": 10009,
          "State": "NY",
          "Street": "AVENUE C"
         },
         "1": "08/15/2019",
         "2": "LOWER EAST SIDE C/S CORP",
         "3": {
          "Latitude": 40.726235,
          "Location": "(40.726235, -73.977574)",
          "Longitude": -73.977574
         },
         "4": "B01318",
         "5": "No",
         "6": "2124777777",
         "7": "18:03:31",
         "8": "LIVERY BASE"
        },
        {
         "0": {
          "Building": "43-23",
          "City": "LIC",
          "Postcode": 11101,
          "State": "NY",
          "Street": "35 STREET"
         },
         "1": "08/15/2019",
         "2": "TEL AVIV CAR & LIMOUSINE SERVICE INC.",
         "3": {
          "Latitude": 40.745471,
          "Location": "(40.745471, -73.929332)",
          "Longitude": -73.929332
         },
         "4": "B02390",
         "5": "No",
         "6": "2125050555",
         "7": "18:03:31",
         "8": "LIVERY BASE"
        },
        {
         "0": {
          "Building": "636",
          "City": "NEW YORK",
          "Postcode": 10001,
          "State": "NY",
          "Street": "WEST   28 STREET"
         },
         "1": "08/15/2019",
         "2": "EINS-NY,LLC",
         "3": {
          "Latitude": 40.75273,
          "Location": "(40.75273, -74.00641)",
          "Longitude": -74.00641
         },
         "4": "B02872",
         "5": "No",
         "6": "6466657304",
         "7": "18:03:31",
         "8": "BLACK CAR BASE"
        },
        {
         "0": {
          "Building": "122-11",
          "City": "RICHMOND HILL",
          "Postcode": 11418,
          "State": "NY",
          "Street": "HILLSIDE AVENUE"
         },
         "1": "08/15/2019",
         "2": "KEW GARDENS ENTERPRISES INC.",
         "3": {
          "Latitude": 40.70212,
          "Location": "(40.70212, -73.82873)",
          "Longitude": -73.82873
         },
         "4": "B00337",
         "5": "No",
         "6": "7188466666",
         "7": "18:03:31",
         "8": "LIVERY BASE"
        },
        {
         "0": {
          "Building": "62",
          "City": "PT WASHINGTON",
          "Postcode": 11050,
          "State": "NY",
          "Street": "MAIN STREET"
         },
         "1": "08/15/2019",
         "2": "REAGAN CONVEYANCE  CORP.",
         "3": {
          "Latitude": 40.836412,
          "Location": "(40.836412, -73.70666)",
          "Longitude": -73.70666
         },
         "4": "B02157",
         "5": "No",
         "6": "5168612019",
         "7": "18:03:31",
         "8": "LUXURY/LIMOUSINE"
        },
        {
         "0": {
          "Building": "111",
          "City": "DUMONT",
          "Postcode": 7628,
          "State": "NJ",
          "Street": "WASHINGTON AVENUE"
         },
         "1": "08/15/2019",
         "2": "CONTINENTAL RIDE, INC.",
         "3": {
          "Latitude": 40.940024,
          "Location": "(40.940024, -73.993747)",
          "Longitude": -73.993747
         },
         "4": "B02127",
         "5": "No",
         "6": "8007063495",
         "7": "18:03:31",
         "8": "LUXURY/LIMOUSINE"
        },
        {
         "0": {
          "Building": "23-57",
          "City": "ELMHURST",
          "Postcode": 11370,
          "State": "NY",
          "Street": "83 STREET  2 FLR"
         },
         "1": "08/15/2019",
         "2": "GULF LUXURY INC",
         "3": {
          "Latitude": 40.729697,
          "Location": "(40.729697, -73.887721)",
          "Longitude": -73.887721
         },
         "4": "B02963",
         "5": "No",
         "6": "7182859995",
         "7": "18:03:31",
         "8": "LUXURY/LIMOUSINE"
        },
        {
         "0": {
          "Building": "PO BOX",
          "City": "MALVERNE",
          "Postcode": 11565,
          "State": "NY",
          "Street": "220"
         },
         "1": "08/15/2019",
         "2": "EXECUTIVE TOWN CAR & LIMO CORP.",
         "3": {
          "Latitude": 40.678992,
          "Location": "(40.678992, -73.674019)",
          "Longitude": -73.674019
         },
         "4": "B02011",
         "5": "No",
         "6": "5167921735",
         "7": "18:03:31",
         "8": "LUXURY/LIMOUSINE"
        },
        {
         "0": {
          "Building": "152-32",
          "City": "JAMAICA",
          "Postcode": 11434,
          "State": "NY",
          "Street": "ROCKAWAY BLVD  #205"
         },
         "1": "08/15/2019",
         "2": "CITY EXPRESS CORP",
         "3": {
          "Latitude": 40.671623,
          "Location": "(40.671623, -73.785164)",
          "Longitude": -73.785164
         },
         "4": "B80028",
         "5": "No",
         "6": "8886468666",
         "7": "18:03:31",
         "8": "COMMUTER VAN AUTHORITY BASE"
        },
        {
         "0": {
          "Building": "896",
          "City": "BROOKLYN",
          "Postcode": 11237,
          "State": "NY",
          "Street": "WYCKOFF AVENUE  2R"
         },
         "1": "08/15/2019",
         "2": "COMMUNITY CAR SERVICE PRISCILLA CORP",
         "3": {
          "Latitude": 40.696906,
          "Location": "(40.696906, -73.906739)",
          "Longitude": -73.906739
         },
         "4": "B02671",
         "5": "No",
         "6": "7183668800",
         "7": "18:03:31",
         "8": "LIVERY BASE"
        },
        {
         "0": {
          "Building": "2078",
          "City": "BRONX",
          "Postcode": 10472,
          "State": "NY",
          "Street": "CROSS BRONX EXPRESSWAY"
         },
         "1": "08/15/2019",
         "2": "JOY CAR SERVICES INC.",
         "3": {
          "Latitude": 40.831091,
          "Location": "(40.831091, -73.85419)",
          "Longitude": -73.85419
         },
         "4": "B01313",
         "5": "Yes",
         "6": "7184023333",
         "7": "18:03:31",
         "8": "LIVERY BASE"
        },
        {
         "0": {
          "Building": "282",
          "City": "BROOKLYN",
          "Postcode": 11223,
          "State": "NY",
          "Street": "AVENUE U"
         },
         "1": "08/15/2019",
         "2": "GRAFE STREET SERVICE CORP.",
         "3": {
          "Latitude": 40.596741,
          "Location": "(40.596741, -73.973733)",
          "Longitude": -73.973733
         },
         "4": "B01970",
         "5": "No",
         "6": "2123430300",
         "7": "18:03:31",
         "8": "LUXURY/LIMOUSINE"
        },
        {
         "0": {
          "Building": "126-06",
          "City": "SOUTH OZONE",
          "Postcode": 11420,
          "State": "NY",
          "Street": "111 AVENUE"
         },
         "1": "08/15/2019",
         "2": "EARLY BIRD CAR SERVICE INC",
         "3": {
          "Latitude": 40.682109,
          "Location": "(40.682109, -73.81474)",
          "Longitude": -73.81474
         },
         "4": "B00485",
         "5": "Yes",
         "6": "7188451545",
         "7": "18:03:31",
         "8": "LIVERY BASE"
        },
        {
         "0": {
          "Building": "97-24",
          "City": "CORONA",
          "Postcode": 11368,
          "State": "NY",
          "Street": "CHRISTIE AVENUE"
         },
         "1": "08/15/2019",
         "2": "PATRON CAR SERVICE INC.",
         "3": {
          "Latitude": 40.740154,
          "Location": "(40.740154, -73.8646)",
          "Longitude": -73.8646
         },
         "4": "B02652",
         "5": "No",
         "6": "7184247070",
         "7": "18:03:31",
         "8": "LIVERY BASE"
        },
        {
         "0": {
          "Building": "2",
          "City": "STATEN ISLAND",
          "Postcode": 10304,
          "State": "NY",
          "Street": "TOMPKINS AVENUE"
         },
         "1": "08/15/2019",
         "2": "BEN JEVO MGT. INC.",
         "3": {
          "Latitude": 40.624172,
          "Location": "(40.624172, -74.07967)",
          "Longitude": -74.07967
         },
         "4": "B00965",
         "5": "No",
         "6": "7187204444",
         "7": "18:03:31",
         "8": "LIVERY BASE"
        },
        {
         "0": {
          "Building": "49-07",
          "City": "CORONA",
          "Postcode": 11368,
          "State": "NY",
          "Street": "103 STREET"
         },
         "1": "08/15/2019",
         "2": "MEXICANA HIGH CLASS INC.",
         "3": {
          "Latitude": 40.743837,
          "Location": "(40.743837, -73.859877)",
          "Longitude": -73.859877
         },
         "4": "B00021",
         "5": "No",
         "6": "7185921200",
         "7": "18:03:31",
         "8": "LIVERY BASE"
        },
        {
         "0": {
          "Building": "636",
          "City": "NEW YORK",
          "Postcode": 10001,
          "State": "NY",
          "Street": "WEST   28 STREET"
         },
         "1": "08/15/2019",
         "2": "GRUN LLC",
         "3": {
          "Latitude": 40.74844,
          "Location": "(40.74844, -73.93946)",
          "Longitude": -73.93946
         },
         "4": "B02765",
         "5": "Yes",
         "6": "7189715628",
         "7": "18:03:31",
         "8": "BLACK CAR BASE"
        },
        {
         "0": {
          "Building": "145",
          "City": "MOUNT VERNON",
          "Postcode": 10553,
          "State": "NY",
          "Street": "BROOKSIDE AVENUE"
         },
         "1": "08/15/2019",
         "2": "MASSIVE TRANSPORTATION INC",
         "3": {
          "Latitude": 40.910101,
          "Location": "(40.910101, -73.816897)",
          "Longitude": -73.816897
         },
         "4": "B90579",
         "5": "No",
         "6": "9146643124",
         "7": "18:03:31",
         "8": "PARATRANSIT BASE"
        },
        {
         "0": {
          "Building": "550",
          "City": "NEW YORK",
          "Postcode": 10036,
          "State": "NY",
          "Street": "WEST   45 STREET"
         },
         "1": "08/15/2019",
         "2": "CHAUFFEUR SERVICES, INC.",
         "3": {
          "Latitude": 40.762229,
          "Location": "(40.762229, -73.995709)",
          "Longitude": -73.995709
         },
         "4": "B01727",
         "5": "No",
         "6": "2127577788",
         "7": "18:03:31",
         "8": "LUXURY/LIMOUSINE"
        },
        {
         "0": {
          "Building": "160",
          "City": "STATEN ISLAND",
          "Postcode": 10303,
          "State": "NY",
          "Street": "MORNINGSTAR ROAD"
         },
         "1": "08/15/2019",
         "2": "OLD TOWN CARS CORP",
         "3": {
          "Latitude": 40.634079,
          "Location": "(40.634079, -74.146169)",
          "Longitude": -74.146169
         },
         "4": "B01808",
         "5": "No",
         "6": "7187209198",
         "7": "18:03:31",
         "8": "LIVERY BASE"
        },
        {
         "0": {
          "Building": "372",
          "City": "BROOKLYN",
          "Postcode": 11221,
          "State": "NY",
          "Street": "WILSON AVENUE"
         },
         "1": "08/15/2019",
         "2": "NEW YORK APPLE V.I.P. CORP",
         "3": {
          "Latitude": 40.694835,
          "Location": "(40.694835, -73.915817)",
          "Longitude": -73.915817
         },
         "4": "B02292",
         "5": "No",
         "6": "7184521000",
         "7": "18:03:31",
         "8": "BLACK CAR BASE"
        },
        {
         "0": {
          "Building": "1304",
          "City": "BROOKLYN",
          "Postcode": 11203,
          "State": "NY",
          "Street": "UTICA AVENUE"
         },
         "1": "08/15/2019",
         "2": "ASAP LUXE INC",
         "3": {
          "Latitude": 40.640752,
          "Location": "(40.640752, -73.92954)",
          "Longitude": -73.92954
         },
         "4": "B02794",
         "5": "No",
         "6": "7183630046",
         "7": "18:03:31",
         "8": "BLACK CAR BASE"
        },
        {
         "0": {
          "Building": "3287B",
          "City": "BRONX",
          "Postcode": 10461,
          "State": "NY",
          "Street": "WESTCHESTER AVENUE"
         },
         "1": "08/15/2019",
         "2": "KOOP DISPATCHING INC.",
         "3": {
          "Latitude": 40.853011,
          "Location": "(40.853011, -73.827527)",
          "Longitude": -73.827527
         },
         "4": "B00419",
         "5": "Yes",
         "6": "7187922222",
         "7": "18:03:31",
         "8": "LIVERY BASE"
        },
        {
         "0": {
          "Building": "145",
          "City": "PLAINVIEW",
          "Postcode": 11801,
          "State": "NY",
          "Street": "WEST JOHN STREET"
         },
         "1": "08/15/2019",
         "2": "GOLDCREST TRANSPORT LTD",
         "3": {
          "Latitude": 40.767439,
          "Location": "(40.767439, -73.532154)",
          "Longitude": -73.532154
         },
         "4": "B01804",
         "5": "No",
         "6": "5168225555",
         "7": "18:03:31",
         "8": "LUXURY/LIMOUSINE"
        },
        {
         "0": {
          "Building": "133-56",
          "City": "FLUSHING",
          "Postcode": 11355,
          "State": "NY",
          "Street": "41 AVENUE  101"
         },
         "1": "08/15/2019",
         "2": "GRAND APPLE TRANSPORTATION CORP.",
         "3": {
          "Latitude": 40.758114,
          "Location": "(40.758114, -73.829623)",
          "Longitude": -73.829623
         },
         "4": "B80101",
         "5": "No",
         "6": "7184928888",
         "7": "18:03:31",
         "8": "COMMUTER VAN AUTHORITY BASE"
        },
        {
         "0": {
          "Building": "1206",
          "City": "BROOKLYN",
          "Postcode": 11219,
          "State": "NY",
          "Street": "60 STREET"
         },
         "1": "08/15/2019",
         "2": "W.K.EXPRESS LIMO SERVICE INC",
         "3": {
          "Latitude": 40.712007,
          "Location": "(40.712007, -73.99515)",
          "Longitude": -73.99515
         },
         "4": "B02956",
         "5": "No",
         "6": "7182747888",
         "7": "18:03:31",
         "8": "BLACK CAR BASE"
        },
        {
         "0": {
          "Building": "73",
          "City": "BROOKLYN",
          "Postcode": 11212,
          "State": "NY",
          "Street": "HEGEMAN AVENUE"
         },
         "1": "08/15/2019",
         "2": "AFRO CAR SERVICE CORP",
         "3": {
          "Latitude": 40.65609,
          "Location": "(40.65609, -73.90948)",
          "Longitude": -73.90948
         },
         "4": "B01963",
         "5": "Yes",
         "6": "7183424200",
         "7": "18:03:31",
         "8": "LIVERY BASE"
        },
        {
         "0": {
          "Building": "2319",
          "City": "NEW YORK",
          "Postcode": 10035,
          "State": "NY",
          "Street": "1ST AVENUE"
         },
         "1": "08/15/2019",
         "2": "U N C CAR & LIMO SERVICE",
         "3": {
          "Latitude": 40.797865,
          "Location": "(40.797865, -73.93448)",
          "Longitude": -73.93448
         },
         "4": "B00882",
         "5": "Yes",
         "6": "2124272727",
         "7": "18:03:31",
         "8": "LIVERY BASE"
        },
        {
         "0": {
          "Building": "47",
          "City": "NEW YORK",
          "Postcode": 10002,
          "State": "NY",
          "Street": "LUDLOW STREET"
         },
         "1": "08/15/2019",
         "2": "LUCKY EXPRESS CORPORATION",
         "3": {
          "Latitude": 40.71642,
          "Location": "(40.71642, -73.99046)",
          "Longitude": -73.99046
         },
         "4": "B01730",
         "5": "No",
         "6": "2122198886",
         "7": "18:03:31",
         "8": "LIVERY BASE"
        },
        {
         "0": {
          "Building": "133-56",
          "City": "FLUSHING",
          "Postcode": 11355,
          "State": "NY",
          "Street": "41 AVENUE"
         },
         "1": "08/15/2019",
         "2": "RED COLOR VAN SERVICE INC",
         "3": {
          "Latitude": 40.758114,
          "Location": "(40.758114, -73.829623)",
          "Longitude": -73.829623
         },
         "4": "B80211",
         "5": "No",
         "6": "2125296060",
         "7": "18:03:31",
         "8": "COMMUTER VAN AUTHORITY BASE"
        },
        {
         "0": {
          "Building": "61-43",
          "City": "FRESH MEADOWS",
          "Postcode": 11365,
          "State": "NY",
          "Street": "186 STREET  SUITE 408"
         },
         "1": "08/15/2019",
         "2": "HANA TRANSPORTATION CORP",
         "3": {
          "Latitude": 40.739077,
          "Location": "(40.739077, -73.787622)",
          "Longitude": -73.787622
         },
         "4": "B02955",
         "5": "No",
         "6": "6467254995",
         "7": "18:03:31",
         "8": "BLACK CAR BASE"
        },
        {
         "0": {
          "Building": "101-09",
          "City": "CORONA",
          "Postcode": 11368,
          "State": "NY",
          "Street": "NORTHERN BOULEVARD"
         },
         "1": "08/15/2019",
         "2": "DOMINICANA RAD DISP INC",
         "3": {
          "Latitude": 40.757541,
          "Location": "(40.757541, -73.867041)",
          "Longitude": -73.867041
         },
         "4": "B01066",
         "5": "No",
         "6": "7185071700",
         "7": "18:03:31",
         "8": "LIVERY BASE"
        },
        {
         "0": {
          "Building": "1200",
          "City": "BRONX",
          "Postcode": 10462,
          "State": "NY",
          "Street": "ZEREGA AVENUE"
         },
         "1": "08/15/2019",
         "2": "D & J SERVICES INC",
         "3": {
          "Latitude": 40.833354,
          "Location": "(40.833354, -73.843531)",
          "Longitude": -73.843531
         },
         "4": "B90419",
         "5": "No",
         "6": "7188288888",
         "7": "18:03:31",
         "8": "PARATRANSIT BASE"
        },
        {
         "0": {
          "Building": "636",
          "City": "NEW YORK",
          "Postcode": 10001,
          "State": "NY",
          "Street": "WEST   28 STREET"
         },
         "1": "08/15/2019",
         "2": "SIEBZEHN-NY,LLC",
         "3": {
          "Latitude": 40.75273,
          "Location": "(40.75273, -74.00641)",
          "Longitude": -74.00641
         },
         "4": "B02888",
         "5": "No",
         "6": "7189715559",
         "7": "18:03:31",
         "8": "BLACK CAR BASE"
        },
        {
         "0": {
          "Building": "677",
          "City": "BROOKLYN",
          "Postcode": 11220,
          "State": "NY",
          "Street": "56 STREET"
         },
         "1": "08/15/2019",
         "2": "GOLDEN AGE TRANSIT,LLC",
         "3": {
          "Latitude": 40.65464,
          "Location": "(40.65464, -74.01359)",
          "Longitude": -74.01359
         },
         "4": "B02710",
         "5": "No",
         "6": "6462349911",
         "7": "18:03:31",
         "8": "LIVERY BASE"
        },
        {
         "0": {
          "Building": "6809",
          "City": "BROOKLYN",
          "Postcode": 11220,
          "State": "NY",
          "Street": "3 AVENUE"
         },
         "1": "08/15/2019",
         "2": "JUNIORS LUXURY INC",
         "3": {
          "Latitude": 40.641619,
          "Location": "(40.641619, -73.96416)",
          "Longitude": -73.96416
         },
         "4": "B02855",
         "5": "No",
         "6": "7189401919",
         "7": "18:03:31",
         "8": "BLACK CAR BASE"
        },
        {
         "0": {
          "Building": "636",
          "City": "NEW YORK",
          "Postcode": 10001,
          "State": "NY",
          "Street": "WEST   28 STREET"
         },
         "1": "08/15/2019",
         "2": "VIERZEHN-NY, LLC",
         "3": {
          "Latitude": 40.75273,
          "Location": "(40.75273, -74.00641)",
          "Longitude": -74.00641
         },
         "4": "B02876",
         "5": "No",
         "6": "6466657584",
         "7": "18:03:31",
         "8": "BLACK CAR BASE"
        },
        {
         "0": {
          "Building": "282",
          "City": "BROOKLYN",
          "Postcode": 11223,
          "State": "NY",
          "Street": "AVENUE U"
         },
         "1": "08/15/2019",
         "2": "AMERICANA TRANSPORTATION LLC",
         "3": {
          "Latitude": 40.596741,
          "Location": "(40.596741, -73.97373)",
          "Longitude": -73.97373
         },
         "4": "B01013",
         "5": "No",
         "6": "7184491111",
         "7": "18:03:31",
         "8": "LIVERY BASE"
        },
        {
         "0": {
          "Building": "582",
          "City": "BROOKLYN",
          "Postcode": 11236,
          "State": "NY",
          "Street": "EAST   88 STREET"
         },
         "1": "08/15/2019",
         "2": "JAH LOVE",
         "3": {
          "Latitude": 40.642512,
          "Location": "(40.642512, -73.911386)",
          "Longitude": -73.911386
         },
         "4": "B80191",
         "5": "No",
         "6": "3473874263",
         "7": "18:03:31",
         "8": "COMMUTER VAN AUTHORITY BASE"
        },
        {
         "0": {
          "Building": "37-19",
          "City": "FLUSHING",
          "Postcode": 11354,
          "State": "NY",
          "Street": "MAIN STREET  SUITE 2C"
         },
         "1": "08/15/2019",
         "2": "ASIANA LIMOUSINE INC.",
         "3": {
          "Latitude": 40.761168,
          "Location": "(40.761168, -73.830606)",
          "Longitude": -73.830606
         },
         "4": "B02252",
         "5": "No",
         "6": "2125710080",
         "7": "18:03:31",
         "8": "LUXURY/LIMOUSINE"
        },
        {
         "0": {
          "Building": "10002",
          "City": "BROOKLYN",
          "Postcode": 11236,
          "State": "NY",
          "Street": "FARRAGUT ROAD"
         },
         "1": "08/15/2019",
         "2": "YORK TRANSIT LLC",
         "3": {
          "Latitude": 40.596741,
          "Location": "(40.596741, -73.973733)",
          "Longitude": -73.973733
         },
         "4": "B01608",
         "5": "No",
         "6": "7183721717",
         "7": "18:03:31",
         "8": "LIVERY BASE"
        },
        {
         "0": {
          "Building": "86-11",
          "City": "RICHMOND HILL",
          "Postcode": 11418,
          "State": "NY",
          "Street": "LEFFERTS BOULEVARD  CELLAR FLOOR"
         },
         "1": "08/15/2019",
         "2": "CHAUFFEURED EXECUTIVE TRANSPORTATION LLC",
         "3": {
          "Latitude": 40.695811,
          "Location": "(40.695811, -73.827203)",
          "Longitude": -73.827203
         },
         "4": "B02522",
         "5": "No",
         "6": "7188464455",
         "7": "18:03:31",
         "8": "LUXURY/LIMOUSINE"
        },
        {
         "0": {
          "Building": "390",
          "City": "BROOKLYN",
          "Postcode": 11211,
          "State": "NY",
          "Street": "METROPOLITAN AVENUE"
         },
         "1": "08/15/2019",
         "2": "METROPOLITAN MULTIPLEX CAR SERVICE CORP.",
         "3": {
          "Latitude": 40.713899,
          "Location": "(40.713899, -73.95531)",
          "Longitude": -73.95531
         },
         "4": "B02004",
         "5": "No",
         "6": "7183881800",
         "7": "18:03:31",
         "8": "LIVERY BASE"
        },
        {
         "0": {
          "Building": "261",
          "City": "BRONX",
          "Postcode": 10458,
          "State": "NY",
          "Street": "EAST KINGSBRIDGE ROAD  N-46"
         },
         "1": "08/15/2019",
         "2": "ABIEL TRANSPORTATION CORP",
         "3": {
          "Latitude": 40.863983,
          "Location": "(40.863983, -73.89383)",
          "Longitude": -73.89383
         },
         "4": "B02967",
         "5": "No",
         "6": "7187336000",
         "7": "18:03:31",
         "8": "BLACK CAR BASE"
        },
        {
         "0": {
          "Building": "89-08",
          "City": "JACKSON HGTS",
          "Postcode": 11372,
          "State": "NY",
          "Street": "ROOSEVELT AVE"
         },
         "1": "08/15/2019",
         "2": "J & HE TRANSPORTATION INC",
         "3": {
          "Latitude": 40.748075,
          "Location": "(40.748075, -73.877522)",
          "Longitude": -73.877522
         },
         "4": "B80104",
         "5": "No",
         "6": "7187098004",
         "7": "18:03:31",
         "8": "COMMUTER VAN AUTHORITY BASE"
        },
        {
         "0": {
          "Building": "235",
          "City": "EAST HANOVER",
          "Postcode": 7936,
          "State": "NJ",
          "Street": "ROUTE 10"
         },
         "1": "08/15/2019",
         "2": "EAST HANOVER AUTO SALES, INC.",
         "3": {
          "Latitude": 40.806649,
          "Location": "(40.806649, -74.373535)",
          "Longitude": -74.373535
         },
         "4": "B02501",
         "5": "No",
         "6": "9738871122",
         "7": "18:03:31",
         "8": "LUXURY/LIMOUSINE"
        },
        {
         "0": {
          "Building": "264",
          "City": "BROOKLYN",
          "Postcode": 11213,
          "State": "NY",
          "Street": "TROY AVENUE  1FL"
         },
         "1": "08/15/2019",
         "2": "RESCUE C/S INC",
         "3": {
          "Latitude": 40.672213,
          "Location": "(40.672213, -73.93892)",
          "Longitude": -73.93892
         },
         "4": "B00652",
         "5": "No",
         "6": "7183630200",
         "7": "18:03:31",
         "8": "LIVERY BASE"
        },
        {
         "0": {
          "Building": "117-28",
          "City": "JAMAICA",
          "Postcode": 11434,
          "State": "NY",
          "Street": "165 STREET"
         },
         "1": "08/15/2019",
         "2": "CITIVAN LINES, CORP.",
         "3": {
          "Latitude": 40.684032,
          "Location": "(40.684032, -73.781135)",
          "Longitude": -73.781135
         },
         "4": "B80179",
         "5": "No",
         "6": "7187727885",
         "7": "18:03:31",
         "8": "COMMUTER VAN AUTHORITY BASE"
        },
        {
         "0": {
          "Building": "277",
          "City": "BRONX",
          "Postcode": 10456,
          "State": "NY",
          "Street": "EAST  165 STREET"
         },
         "1": "08/15/2019",
         "2": "ULTRA BLACK CAR TRANSPORTATION, CORP.",
         "3": {
          "Latitude": 40.82939,
          "Location": "(40.82939, -73.916073)",
          "Longitude": -73.916073
         },
         "4": "B02971",
         "5": "No",
         "6": "7189929162",
         "7": "18:03:31",
         "8": "BLACK CAR BASE"
        },
        {
         "0": {
          "Building": "85 - 56",
          "City": "KEW GARDENS",
          "Postcode": 11415,
          "State": "NY",
          "Street": "118 STREET"
         },
         "1": "08/15/2019",
         "2": "FC LIMOUSINE INC",
         "3": {
          "Latitude": 40.764583,
          "Location": "(40.764583, -73.83384)",
          "Longitude": -73.83384
         },
         "4": "B02897",
         "5": "No",
         "6": "2126530087",
         "7": "18:03:31",
         "8": "LUXURY/LIMOUSINE"
        },
        {
         "0": {
          "Building": "130-30",
          "City": "FLUSHING",
          "Postcode": 11354,
          "State": "NY",
          "Street": "31 AVENUE  SUITE 801"
         },
         "1": "08/15/2019",
         "2": "CLEAN AIR CAR SERVICE AND PARKING CORP.",
         "3": {
          "Latitude": 40.76995,
          "Location": "(40.76995, -73.83898)",
          "Longitude": -73.83898
         },
         "4": "B02531",
         "5": "Yes",
         "6": "7184600888",
         "7": "18:03:31",
         "8": "LIVERY BASE"
        },
        {
         "0": {
          "Building": "225",
          "City": "BROOKLYN",
          "Postcode": 11220,
          "State": "NY",
          "Street": "60TH STREET"
         },
         "1": "08/15/2019",
         "2": "MARIO'S TRANSPORTATION INC.",
         "3": {
          "Latitude": 40.643229,
          "Location": "(40.643229, -74.02186)",
          "Longitude": -74.02186
         },
         "4": "B80039",
         "5": "No",
         "6": "7187484100",
         "7": "18:03:31",
         "8": "COMMUTER VAN AUTHORITY BASE"
        },
        {
         "0": {
          "Building": "3077",
          "City": "BRONX",
          "Postcode": 10451,
          "State": "NY",
          "Street": "3RD AVENUE"
         },
         "1": "08/15/2019",
         "2": "AMERICAN BASE NO.1 INC.",
         "3": {
          "Latitude": 40.814476,
          "Location": "(40.814476, -73.914387)",
          "Longitude": -73.914387
         },
         "4": "B01362",
         "5": "No",
         "6": "7186656664",
         "7": "18:03:31",
         "8": "LIVERY BASE"
        },
        {
         "0": {
          "Building": "2300",
          "City": "BROOKLYN",
          "Postcode": 11223,
          "State": "NY",
          "Street": "WEST 7 STREET  2ND FL."
         },
         "1": "08/15/2019",
         "2": "NESHER EXPRESS CAR SERVICE 2 INC.",
         "3": {
          "Latitude": 40.634321,
          "Location": "(40.634321, -73.992234)",
          "Longitude": -73.992234
         },
         "4": "B01417",
         "5": "No",
         "6": "7188716800",
         "7": "18:03:31",
         "8": "LIVERY BASE"
        },
        {
         "0": {
          "Building": "50-19",
          "City": "WOODSIDE",
          "Postcode": 11377,
          "State": "NY",
          "Street": "49 STREET"
         },
         "1": "08/15/2019",
         "2": "PRESIDENTIAL LUXURY LIMO INC.",
         "3": {
          "Latitude": 40.736437,
          "Location": "(40.736437, -73.917154)",
          "Longitude": -73.917154
         },
         "4": "B02699",
         "5": "No",
         "6": "7187079999",
         "7": "18:03:31",
         "8": "BLACK CAR BASE"
        },
        {
         "0": {
          "Building": "204",
          "City": "BROOKLYN",
          "Postcode": 11232,
          "State": "NY",
          "Street": "25 STREET"
         },
         "1": "08/15/2019",
         "2": "ANIMO, INC",
         "3": {
          "Latitude": 40.654543,
          "Location": "(40.654543, -74.00594)",
          "Longitude": -74.00594
         },
         "4": "B01957",
         "5": "No",
         "6": "7184424636",
         "7": "18:03:31",
         "8": "BLACK CAR BASE"
        },
        {
         "0": {
          "Building": "502 A",
          "City": "BRONX",
          "Postcode": 10455,
          "State": "NY",
          "Street": "SOUTHERN BOULEVARD"
         },
         "1": "08/15/2019",
         "2": "QUALITY EXECUTIVE LIMOUSINE L.L.C",
         "3": {
          "Latitude": 40.811237,
          "Location": "(40.811237, -73.90542)",
          "Longitude": -73.90542
         },
         "4": "B01876",
         "5": "No",
         "6": "7184026200",
         "7": "18:03:31",
         "8": "LUXURY/LIMOUSINE"
        },
        {
         "0": {
          "Building": "60-60",
          "City": "MASPETH",
          "Postcode": 11378,
          "State": "NY",
          "Street": "FRESH POND ROAD"
         },
         "1": "08/15/2019",
         "2": "PCS LIMOUSINE INC.",
         "3": {
          "Latitude": 40.715345,
          "Location": "(40.715345, -73.90172)",
          "Longitude": -73.90172
         },
         "4": "B02217",
         "5": "No",
         "6": "7188219400",
         "7": "18:03:31",
         "8": "LUXURY/LIMOUSINE"
        },
        {
         "0": {
          "Building": "203",
          "City": "NEW YORK",
          "Postcode": 10040,
          "State": "NY",
          "Street": "DYCKMAN STREET"
         },
         "1": "08/15/2019",
         "2": "BROAD DYCKMAN C/S INC",
         "3": {
          "Latitude": 40.864833,
          "Location": "(40.864833, -73.92718)",
          "Longitude": -73.92718
         },
         "4": "B01083",
         "5": "Yes",
         "6": "2123048080",
         "7": "18:03:31",
         "8": "LIVERY BASE"
        },
        {
         "0": {
          "Building": "127-05",
          "City": "JAMAICA",
          "Postcode": 11434,
          "State": "NY",
          "Street": "MERRICK BOULEVARD"
         },
         "1": "08/15/2019",
         "2": "MERRICK C/S INC",
         "3": {
          "Latitude": 40.681602,
          "Location": "(40.681602, -73.765385)",
          "Longitude": -73.765385
         },
         "4": "B00346",
         "5": "No",
         "6": "7185288400",
         "7": "18:03:31",
         "8": "LIVERY BASE"
        },
        {
         "0": {
          "Building": "335",
          "City": "BROOKLYN",
          "Postcode": 11231,
          "State": "NY",
          "Street": "BOND STREET"
         },
         "1": "08/15/2019",
         "2": "ARISTACAR & LIMOUSINE, LTD.",
         "3": {
          "Latitude": 40.678782,
          "Location": "(40.678782, -73.989979)",
          "Longitude": -73.989979
         },
         "4": "B00235",
         "5": "No",
         "6": "7186433900",
         "7": "18:03:31",
         "8": "BLACK CAR BASE"
        },
        {
         "0": {
          "Building": "96-04",
          "City": "QUEENS",
          "Postcode": 11417,
          "State": "NY",
          "Street": "LIBERTY AVE"
         },
         "1": "08/15/2019",
         "2": "AZUAY CORPORATION",
         "3": {
          "Latitude": 40.68254,
          "Location": "(40.68254, -73.8359)",
          "Longitude": -73.8359
         },
         "4": "B01745",
         "5": "Yes",
         "6": "7187384994",
         "7": "18:03:31",
         "8": "LIVERY BASE"
        },
        {
         "0": {
          "Building": "550",
          "City": "BRONX",
          "Postcode": 10458,
          "State": "NY",
          "Street": "EAST  187 STREET"
         },
         "1": "08/15/2019",
         "2": "RIVERSIDE PLUS RADIO DISPATCH, INC.",
         "3": {
          "Latitude": 40.856193,
          "Location": "(40.856193, -73.889072)",
          "Longitude": -73.889072
         },
         "4": "B00911",
         "5": "Yes",
         "6": "7185622222",
         "7": "18:03:31",
         "8": "LIVERY BASE"
        },
        {
         "0": {
          "Building": "135-10",
          "City": "RICHMOND HILL",
          "Postcode": 11418,
          "State": "NY",
          "Street": "JAMAICA AVENUE"
         },
         "1": "08/15/2019",
         "2": "MERENGUE LIMO & C/S INC",
         "3": {
          "Latitude": 40.70241,
          "Location": "(40.70241, -73.817189)",
          "Longitude": -73.817189
         },
         "4": "B01437",
         "5": "No",
         "6": "7186585700",
         "7": "18:03:31",
         "8": "LIVERY BASE"
        },
        {
         "0": {
          "Building": "507",
          "City": "BROOKLYN",
          "Postcode": 11218,
          "State": "NY",
          "Street": "CONEY ISLAND AVENUE"
         },
         "1": "08/15/2019",
         "2": "NORTENA EXPRESS CAR SERVICE INC.",
         "3": {
          "Latitude": 40.645542,
          "Location": "(40.645542, -73.97025)",
          "Longitude": -73.97025
         },
         "4": "B01930",
         "5": "No",
         "6": "7188569400",
         "7": "18:03:31",
         "8": "LIVERY BASE"
        },
        {
         "0": {
          "Building": "2704",
          "City": "BRONX",
          "Postcode": 10469,
          "State": "NY",
          "Street": "WILLIAMSBRIDGE ROAD"
         },
         "1": "08/15/2019",
         "2": "APPROACH QUALITY TRANSPORTATION, LLC",
         "3": {
          "Latitude": 40.866034,
          "Location": "(40.866034, -73.859787)",
          "Longitude": -73.859787
         },
         "4": "B02951",
         "5": "No",
         "6": "6466613333",
         "7": "18:03:31",
         "8": "BLACK CAR BASE"
        },
        {
         "0": {
          "Building": "23 - 90",
          "City": "ASTORIA",
          "Postcode": 11102,
          "State": "NY",
          "Street": "23 STREET"
         },
         "1": "08/15/2019",
         "2": "OLYMPIA OPERATING CAR SERVICE OF NY CORP.",
         "3": {
          "Latitude": 40.775146,
          "Location": "(40.775146, -73.91981)",
          "Longitude": -73.91981
         },
         "4": "B00906",
         "5": "No",
         "6": "7186268000",
         "7": "18:03:31",
         "8": "LIVERY BASE"
        },
        {
         "0": {
          "Building": "94-12",
          "City": "EAST ELMHURST",
          "Postcode": 11369,
          "State": "NY",
          "Street": "ASTORIA BOULEVARD"
         },
         "1": "08/15/2019",
         "2": "CENTRAL CAR SERVICES,INC.",
         "3": {
          "Latitude": 40.762639,
          "Location": "(40.762639, -73.874743)",
          "Longitude": -73.874743
         },
         "4": "B00625",
         "5": "No",
         "6": "7183354141",
         "7": "18:03:31",
         "8": "LIVERY BASE"
        },
        {
         "0": {
          "Building": "179-36",
          "City": "JAMAICA",
          "Postcode": 11432,
          "State": "NY",
          "Street": "HILLSIDE AVENUE"
         },
         "1": "08/15/2019",
         "2": "R & N CAR SERVICE INC.",
         "3": {
          "Latitude": 40.712662,
          "Location": "(40.712662, -73.78303)",
          "Longitude": -73.78303
         },
         "4": "B01600",
         "5": "Yes",
         "6": "7186582233",
         "7": "18:03:31",
         "8": "LIVERY BASE"
        },
        {
         "0": {
          "Building": "636",
          "City": "NEW YORK",
          "Postcode": 10001,
          "State": "NY",
          "Street": "WEST   28 STREET"
         },
         "1": "08/15/2019",
         "2": "ACHTZEHN-NY, LLC",
         "3": {
          "Latitude": 40.75273,
          "Location": "(40.75273, -74.00641)",
          "Longitude": -74.00641
         },
         "4": "B02889",
         "5": "No",
         "6": "6466657489",
         "7": "18:03:31",
         "8": "BLACK CAR BASE"
        },
        {
         "0": {
          "Building": "49-17 A",
          "City": "WOODSIDE",
          "Postcode": 11377,
          "State": "NY",
          "Street": "69TH STREET"
         },
         "1": "08/15/2019",
         "2": "NEW NEIGHBOR LUXURY INC.",
         "3": {
          "Latitude": 40.737289,
          "Location": "(40.737289, -73.89592)",
          "Longitude": -73.89592
         },
         "4": "B02457",
         "5": "No",
         "6": "7186511166",
         "7": "18:03:31",
         "8": "BLACK CAR BASE"
        },
        {
         "0": {
          "Building": "32",
          "City": "STATEN ISLAND",
          "Postcode": 10306,
          "State": "NY",
          "Street": "4 STREET"
         },
         "1": "08/15/2019",
         "2": "D & M EXPRESS INC",
         "3": {
          "Latitude": 40.624117,
          "Location": "(40.624117, -73.993096)",
          "Longitude": -73.993096
         },
         "4": "B02761",
         "5": "No",
         "6": "7186142249",
         "7": "18:03:31",
         "8": "BLACK CAR BASE"
        },
        {
         "0": {
          "Building": "1804",
          "City": "BRONX",
          "Postcode": 10473,
          "State": "NY",
          "Street": "RANDALL AVENUE"
         },
         "1": "08/15/2019",
         "2": "NEW ELEGANTE CAR SVC INC",
         "3": {
          "Latitude": 40.816803,
          "Location": "(40.816803, -73.862557)",
          "Longitude": -73.862557
         },
         "4": "B01288",
         "5": "No",
         "6": "7183283333",
         "7": "18:03:31",
         "8": "LIVERY BASE"
        },
        {
         "0": {
          "Building": "151-17",
          "City": "JAMAICA",
          "Postcode": 11434,
          "State": "NY",
          "Street": "134 AVENUE"
         },
         "1": "08/15/2019",
         "2": "EASY TRANSPORTATION CORP",
         "3": {
          "Latitude": 40.668487,
          "Location": "(40.668487, -73.786263)",
          "Longitude": -73.786263
         },
         "4": "B80132",
         "5": "No",
         "6": "7187127390",
         "7": "18:03:31",
         "8": "COMMUTER VAN AUTHORITY BASE"
        },
        {
         "0": {
          "Building": "590A",
          "City": "BROOKLYN",
          "Postcode": 11203,
          "State": "NY",
          "Street": "NEW YORK AVENUE"
         },
         "1": "08/15/2019",
         "2": "NORWOOD CAR & LIMO INC.",
         "3": {
          "Latitude": 40.660052,
          "Location": "(40.660052, -73.94769)",
          "Longitude": -73.94769
         },
         "4": "B02308",
         "5": "No",
         "6": "7184847252",
         "7": "18:03:31",
         "8": "LIVERY BASE"
        },
        {
         "0": {
          "Building": "47-16",
          "City": "QUEENS",
          "Postcode": 11377,
          "State": "NY",
          "Street": "48 AVENUE"
         },
         "1": "08/15/2019",
         "2": "CHIEF LIMO INC.",
         "3": {
          "Latitude": 40.738362,
          "Location": "(40.738362, -73.895646)",
          "Longitude": -73.895646
         },
         "4": "B02551",
         "5": "No",
         "6": "7185051919",
         "7": "18:03:31",
         "8": "BLACK CAR BASE"
        },
        {
         "0": {
          "Building": "25-26",
          "City": "WOODSIDE",
          "Postcode": 11377,
          "State": "NY",
          "Street": "50 STREET  SUITE 206D"
         },
         "1": "08/15/2019",
         "2": "ELAL CAR LIMO SERVICE LLC",
         "3": {
          "Latitude": 40.76364,
          "Location": "(40.76364, -73.904205)",
          "Longitude": -73.904205
         },
         "4": "B02674",
         "5": "No",
         "6": "7183409340",
         "7": "18:03:31",
         "8": "LIVERY BASE"
        },
        {
         "0": {
          "Building": "64-32",
          "City": "RIDGEWOOD",
          "Postcode": 11385,
          "State": "NY",
          "Street": "SHALER AVENUE"
         },
         "1": "08/15/2019",
         "2": "GROUND TRAVEL SERVICES II, LTD.",
         "3": {
          "Latitude": 40.703281,
          "Location": "(40.703281, -73.892304)",
          "Longitude": -73.892304
         },
         "4": "B02334",
         "5": "No",
         "6": "7183666856",
         "7": "18:03:31",
         "8": "BLACK CAR BASE"
        },
        {
         "0": {
          "Building": "6002",
          "City": "BROOKLYN",
          "Postcode": 11236,
          "State": "NY",
          "Street": "FOSTER AVENUE"
         },
         "1": "08/15/2019",
         "2": "ECO RIDE INC.",
         "3": {
          "Latitude": 40.640231,
          "Location": "(40.640231, -73.918947)",
          "Longitude": -73.918947
         },
         "4": "B02687",
         "5": "No",
         "6": "7182525555",
         "7": "18:03:31",
         "8": "LIVERY BASE"
        },
        {
         "0": {
          "Building": "184",
          "City": "BROOKLYN",
          "Postcode": 11237,
          "State": "NY",
          "Street": "KNICKERBOCKER AVENUE"
         },
         "1": "08/15/2019",
         "2": "BUSHWICK CAR SVCE INC",
         "3": {
          "Latitude": 40.703715,
          "Location": "(40.703715, -73.92737)",
          "Longitude": -73.92737
         },
         "4": "B00693",
         "5": "No",
         "6": "7183865002",
         "7": "18:03:31",
         "8": "LIVERY BASE"
        },
        {
         "0": {
          "Building": "84",
          "City": "NEW YORK",
          "Postcode": 10002,
          "State": "NY",
          "Street": "CLINTON STREET"
         },
         "1": "08/15/2019",
         "2": "ND LINE INC.",
         "3": {
          "Latitude": 40.718549,
          "Location": "(40.718549, -73.98515)",
          "Longitude": -73.98515
         },
         "4": "B02588",
         "5": "No",
         "6": "2124200101",
         "7": "18:03:31",
         "8": "BLACK CAR BASE"
        },
        {
         "0": {
          "Building": "69-35",
          "City": "WOODSIDE",
          "Postcode": 11377,
          "State": "NY",
          "Street": "51 AVENUE"
         },
         "1": "08/15/2019",
         "2": "NEW PUEBLA CAR & LIMOUSINE SERVICE INC.",
         "3": {
          "Latitude": 40.735543,
          "Location": "(40.735543, -73.894946)",
          "Longitude": -73.894946
         },
         "4": "B01674",
         "5": "No",
         "6": "7184586464",
         "7": "18:03:31",
         "8": "LIVERY BASE"
        },
        {
         "0": {
          "Building": "3455",
          "City": "BRONX",
          "Postcode": 10469,
          "State": "NY",
          "Street": "A BAYCHESTER AVENUE"
         },
         "1": "08/15/2019",
         "2": "NEWTOWN PRIVATE CAR SERVICE INC.",
         "3": {
          "Latitude": 40.880322,
          "Location": "(40.880322, -73.83821)",
          "Longitude": -73.83821
         },
         "4": "B02728",
         "5": "No",
         "6": "7187987802",
         "7": "18:03:31",
         "8": "LIVERY BASE"
        },
        {
         "0": {
          "Building": "36-01",
          "City": "ASTORIA",
          "Postcode": 11105,
          "State": "NY",
          "Street": "20 AVENUE"
         },
         "1": "08/15/2019",
         "2": "MIRAGE LIMOUSINE SERVICE INC",
         "3": {
          "Latitude": 40.777951,
          "Location": "(40.777951, -73.90376)",
          "Longitude": -73.90376
         },
         "4": "B01913",
         "5": "No",
         "6": "7189377500",
         "7": "18:03:31",
         "8": "LUXURY/LIMOUSINE"
        },
        {
         "0": {
          "Building": "1963",
          "City": "BRONX",
          "Postcode": 10460,
          "State": "NY",
          "Street": "SOUTHERN BOULEVARD"
         },
         "1": "08/15/2019",
         "2": "PREMIUM BRONX CORP",
         "3": {
          "Latitude": 40.841813,
          "Location": "(40.841813, -73.884211)",
          "Longitude": -73.884211
         },
         "4": "B00457",
         "5": "Yes",
         "6": "7183288080",
         "7": "18:03:31",
         "8": "LIVERY BASE"
        },
        {
         "0": {
          "Building": "3712",
          "City": "BROOKLYN",
          "Postcode": 11234,
          "State": "NY",
          "Street": "FLATLANDS AVENUE  2F"
         },
         "1": "08/15/2019",
         "2": "PEBBLES TRANSPORTATION INC.",
         "3": {
          "Latitude": 40.618436,
          "Location": "(40.618436, -73.939214)",
          "Longitude": -73.939214
         },
         "4": "B80080",
         "5": "No",
         "6": "5163543337",
         "7": "18:03:31",
         "8": "COMMUTER VAN AUTHORITY BASE"
        },
        {
         "0": {
          "Building": "1656",
          "City": "BROOKLYN",
          "Postcode": 11229,
          "State": "NY",
          "Street": "EAST   15 STREET"
         },
         "1": "08/15/2019",
         "2": "A KINGS HWY C/S INC.",
         "3": {
          "Latitude": 40.608951,
          "Location": "(40.608951, -73.958486)",
          "Longitude": -73.958486
         },
         "4": "B00449",
         "5": "No",
         "6": "7186274024",
         "7": "18:03:31",
         "8": "LIVERY BASE"
        },
        {
         "0": {
          "Building": "9104",
          "City": "BROOKLYN",
          "Postcode": 11236,
          "State": "NY",
          "Street": "AVENUE L  UNIT B"
         },
         "1": "08/15/2019",
         "2": "185 MALTA CAR SERVICE LLC",
         "3": {
          "Latitude": 40.63578,
          "Location": "(40.63578, -73.8995)",
          "Longitude": -73.8995
         },
         "4": "B02557",
         "5": "No",
         "6": "7187596777",
         "7": "18:03:31",
         "8": "LIVERY BASE"
        },
        {
         "0": {
          "Building": "115-13",
          "City": "RICHMOND HILL",
          "Postcode": 11418,
          "State": "NY",
          "Street": "JAMAICA AVENUE"
         },
         "1": "08/15/2019",
         "2": "JFK LUXURY LIMOUSINE INC",
         "3": {
          "Latitude": 40.680573,
          "Location": "(40.680573, -73.85844)",
          "Longitude": -73.85844
         },
         "4": "B02903",
         "5": "No",
         "6": "7186595501",
         "7": "18:03:31",
         "8": "BLACK CAR BASE"
        },
        {
         "0": {
          "Building": "47-16",
          "City": "WOODSIDE",
          "Postcode": 11377,
          "State": "NY",
          "Street": "48 AVENUE"
         },
         "1": "08/15/2019",
         "2": "PAISA 2 CAR  AND LIMOUSINE SERVICE INC",
         "3": {
          "Latitude": 40.738362,
          "Location": "(40.738362, -73.895646)",
          "Longitude": -73.895646
         },
         "4": "B01088",
         "5": "No",
         "6": "7183355050",
         "7": "18:03:31",
         "8": "LIVERY BASE"
        },
        {
         "0": {
          "Building": "111-05",
          "City": "SOUTH OZONE PK",
          "Postcode": 11420,
          "State": "NY",
          "Street": "ROCKAWAY BOULEVARD"
         },
         "1": "08/15/2019",
         "2": "JAMAICA EXPRESS CAR SERVICE INC.",
         "3": {
          "Latitude": 40.677677,
          "Location": "(40.677677, -73.827348)",
          "Longitude": -73.827348
         },
         "4": "B01623",
         "5": "No",
         "6": "7183221800",
         "7": "18:03:31",
         "8": "LIVERY BASE"
        },
        {
         "0": {
          "Building": "15",
          "City": "MANHASSET HILLS",
          "Postcode": 11040,
          "State": "NY",
          "Street": "SUTTON HILL LANE"
         },
         "1": "08/15/2019",
         "2": "SUNLIGHT AMBULETTE SERVICE INC",
         "3": {
          "Latitude": 40.758589,
          "Location": "(40.758589, -73.6838)",
          "Longitude": -73.6838
         },
         "4": "B90699",
         "5": "No",
         "6": "5164621717",
         "7": "18:03:31",
         "8": "PARATRANSIT BASE"
        },
        {
         "0": {
          "Building": "43-10",
          "City": "FLUSHING",
          "Postcode": 11355,
          "State": "NY",
          "Street": "MAIN STREET  2ND FLR"
         },
         "1": "08/15/2019",
         "2": "EAGER LIMO SERVICE INC.",
         "3": {
          "Latitude": 40.752286,
          "Location": "(40.752286, -73.826739)",
          "Longitude": -73.826739
         },
         "4": "B02638",
         "5": "Yes",
         "6": "7183587252",
         "7": "18:03:31",
         "8": "BLACK CAR BASE"
        },
        {
         "0": {
          "Building": "32-72",
          "City": "LIC",
          "Postcode": 11101,
          "State": "NY",
          "Street": "GALE AVENUE"
         },
         "1": "08/15/2019",
         "2": "ELITE LIMO PLUS INC",
         "3": {
          "Latitude": 40.737893,
          "Location": "(40.737893, -73.933857)",
          "Longitude": -73.933857
         },
         "4": "B01087",
         "5": "No",
         "6": "7184722300",
         "7": "18:03:31",
         "8": "BLACK CAR BASE"
        },
        {
         "0": {
          "Building": "4",
          "City": "HICKSVILLE",
          "Postcode": 11801,
          "State": "NY",
          "Street": "DORIS RD"
         },
         "1": "08/15/2019",
         "2": "SAI EXECUTIVE LIMO CORP",
         "3": {
          "Latitude": 40.754119,
          "Location": "(40.754119, -73.526293)",
          "Longitude": -73.526293
         },
         "4": "B02926",
         "5": "No",
         "6": "6469200000",
         "7": "18:03:31",
         "8": "LUXURY/LIMOUSINE"
        },
        {
         "0": {
          "Building": "71",
          "City": "BROOKLYN",
          "Postcode": 11214,
          "State": "NY",
          "Street": "BAY 14 STREET"
         },
         "1": "08/15/2019",
         "2": "ESTHER TRANSPORTATION INC.",
         "3": {
          "Latitude": 40.607591,
          "Location": "(40.607591, -74.007126)",
          "Longitude": -74.007126
         },
         "4": "B90612",
         "5": "No",
         "6": "7189871555",
         "7": "18:03:31",
         "8": "PARATRANSIT BASE"
        },
        {
         "0": {
          "Building": "656",
          "City": "BRONX",
          "Postcode": 10454,
          "State": "NY",
          "Street": "EAST  133 STREET"
         },
         "1": "08/15/2019",
         "2": "BERMUDA LIMOUSINE SERVICE INC.",
         "3": {
          "Latitude": 40.802297,
          "Location": "(40.802297, -73.917355)",
          "Longitude": -73.917355
         },
         "4": "B00039",
         "5": "No",
         "6": "2126478401",
         "7": "18:03:31",
         "8": "LUXURY/LIMOUSINE"
        },
        {
         "0": {
          "Building": "97-21",
          "City": "EAST ELMHURST",
          "Postcode": 11369,
          "State": "NY",
          "Street": "ASTORIA BOULEVARD"
         },
         "1": "08/15/2019",
         "2": "CONTINENTAL RADIO DISPATCH CORP.",
         "3": {
          "Latitude": 40.762236,
          "Location": "(40.762236, -73.87128)",
          "Longitude": -73.87128
         },
         "4": "B00325",
         "5": "No",
         "6": "7185078006",
         "7": "18:03:31",
         "8": "LIVERY BASE"
        },
        {
         "0": {
          "Building": "43-23",
          "City": "LIC",
          "Postcode": 11101,
          "State": "NY",
          "Street": "35 STREET"
         },
         "1": "08/15/2019",
         "2": "DIAL 7 CAR & LIMOUSINE SERVICE INC.",
         "3": {
          "Latitude": 40.745471,
          "Location": "(40.745471, -73.929332)",
          "Longitude": -73.929332
         },
         "4": "B00887",
         "5": "No",
         "6": "2127777777",
         "7": "18:03:31",
         "8": "LIVERY BASE"
        },
        {
         "0": {
          "Building": "11-35",
          "City": "LONG ISLAND CIT",
          "Postcode": 11106,
          "State": "NY",
          "Street": "31 DRIVE"
         },
         "1": "08/15/2019",
         "2": "TSU GLOBAL SERVICES INC",
         "3": {
          "Latitude": 40.768272,
          "Location": "(40.768272, -73.934598)",
          "Longitude": -73.934598
         },
         "4": "B02471",
         "5": "No",
         "6": "2124315555",
         "7": "18:03:31",
         "8": "LUXURY/LIMOUSINE"
        },
        {
         "0": {
          "Building": "335",
          "City": "BROOKLYN",
          "Postcode": 11231,
          "State": "NY",
          "Street": "BOND STREET"
         },
         "1": "08/15/2019",
         "2": "FIRST CLASS OF NEW YORK INC.",
         "3": {
          "Latitude": 40.678782,
          "Location": "(40.678782, -73.989979)",
          "Longitude": -73.989979
         },
         "4": "B01949",
         "5": "No",
         "6": "7186436053",
         "7": "18:03:31",
         "8": "BLACK CAR BASE"
        },
        {
         "0": {
          "Building": "24 - 59",
          "City": "ASTORIA",
          "Postcode": 11103,
          "State": "NY",
          "Street": "47TH STREET"
         },
         "1": "08/15/2019",
         "2": "EMBARQUE N.Y., INC.",
         "3": {
          "Latitude": 40.741147,
          "Location": "(40.741147, -73.942306)",
          "Longitude": -73.942306
         },
         "4": "B02389",
         "5": "No",
         "6": "7183922825",
         "7": "18:03:31",
         "8": "LUXURY/LIMOUSINE"
        },
        {
         "0": {
          "Building": "1478",
          "City": "BRONX",
          "Postcode": 10462,
          "State": "NY",
          "Street": "WHITE PLAINS ROAD"
         },
         "1": "08/15/2019",
         "2": "V.I.T. CAR SERVICE, INC.",
         "3": {
          "Latitude": 40.837752,
          "Location": "(40.837752, -73.86334)",
          "Longitude": -73.86334
         },
         "4": "B01315",
         "5": "Yes",
         "6": "7189048057",
         "7": "18:03:31",
         "8": "LIVERY BASE"
        },
        {
         "0": {
          "Building": "147-13",
          "City": "FLUSHING",
          "Postcode": 11367,
          "State": "NY",
          "Street": "UNION TURNPIKE"
         },
         "1": "08/15/2019",
         "2": "WIZ LIMO TRANSIT INC.",
         "3": {
          "Latitude": 40.718909,
          "Location": "(40.718909, -73.813241)",
          "Longitude": -73.813241
         },
         "4": "B02806",
         "5": "Yes",
         "6": "7186965555",
         "7": "18:03:31",
         "8": "BLACK CAR BASE"
        },
        {
         "0": {
          "Building": "45-16",
          "City": "CORONA",
          "Postcode": 11368,
          "State": "NY",
          "Street": "NATIONAL STREET"
         },
         "1": "08/15/2019",
         "2": "AGUILA CAR & LIMO CORPORATION",
         "3": {
          "Latitude": 40.745662,
          "Location": "(40.745662, -73.86428)",
          "Longitude": -73.86428
         },
         "4": "B01470",
         "5": "No",
         "6": "7186998100",
         "7": "18:03:31",
         "8": "LIVERY BASE"
        },
        {
         "0": {
          "Building": "636",
          "City": "NEW YORK",
          "Postcode": 10001,
          "State": "NY",
          "Street": "WEST 28 STREET"
         },
         "1": "08/15/2019",
         "2": "DRINNEN-NY LLC",
         "3": {
          "Latitude": 40.74844,
          "Location": "(40.74844, -73.93946)",
          "Longitude": -73.93946
         },
         "4": "B02836",
         "5": "No",
         "6": "7189715559",
         "7": "18:03:31",
         "8": "BLACK CAR BASE"
        },
        {
         "0": {
          "Building": "144-15",
          "City": "JAMAICA",
          "Postcode": 11435,
          "State": "NY",
          "Street": "101 AVENUE"
         },
         "1": "08/15/2019",
         "2": "ABRAHAM'S TRANSPORTATION SERVICE INC",
         "3": {
          "Latitude": 40.695824,
          "Location": "(40.695824, -73.806178)",
          "Longitude": -73.806178
         },
         "4": "B80152",
         "5": "No",
         "6": "7187393994",
         "7": "18:03:31",
         "8": "COMMUTER VAN AUTHORITY BASE"
        },
        {
         "0": {
          "Building": "1311",
          "City": "BROOKLYN",
          "Postcode": 11219,
          "State": "NY",
          "Street": "51 STREET"
         },
         "1": "08/15/2019",
         "2": "EMUNAH CAR SERVICE INC",
         "3": {
          "Latitude": 40.633811,
          "Location": "(40.633811, -73.992805)",
          "Longitude": -73.992805
         },
         "4": "B00170",
         "5": "No",
         "6": "7189750909",
         "7": "18:03:31",
         "8": "LIVERY BASE"
        },
        {
         "0": {
          "Building": "1313",
          "City": "BRONX",
          "Postcode": 10459,
          "State": "NY",
          "Street": "PROSPECT AVENUE"
         },
         "1": "08/15/2019",
         "2": "DV LUXURY CAR SERVICE INC",
         "3": {
          "Latitude": 40.828071,
          "Location": "(40.828071, -73.89844)",
          "Longitude": -73.89844
         },
         "4": "B01328",
         "5": "No",
         "6": "7189620999",
         "7": "18:03:31",
         "8": "LIVERY BASE"
        },
        {
         "0": {
          "Building": "583",
          "City": "STATEN ISLAND",
          "Postcode": 10306,
          "State": "NY",
          "Street": "MIDLAND AVENUE"
         },
         "1": "08/15/2019",
         "2": "SEAVIEW ISLAND CAR SERVICE",
         "3": {
          "Latitude": 40.572441,
          "Location": "(40.572441, -74.09279)",
          "Longitude": -74.09279
         },
         "4": "B02793",
         "5": "No",
         "6": "7189790113",
         "7": "18:03:31",
         "8": "LIVERY BASE"
        },
        {
         "0": {
          "Building": "1700",
          "City": "BRONX",
          "Postcode": 10468,
          "State": "NY",
          "Street": "JEROME AVE"
         },
         "1": "08/15/2019",
         "2": "HIGH CLASS LIMO CAR SVCE CORP",
         "3": {
          "Latitude": 40.834828,
          "Location": "(40.834828, -73.945041)",
          "Longitude": -73.945041
         },
         "4": "B01639",
         "5": "No",
         "6": "2129261021",
         "7": "18:03:31",
         "8": "LIVERY BASE"
        },
        {
         "0": {
          "Building": "46-17",
          "City": "LIC",
          "Postcode": 11101,
          "State": "NY",
          "Street": "VERNON BOULEVARD"
         },
         "1": "08/15/2019",
         "2": "ALL QUEENS CAR & LIMOUSINE INC.",
         "3": {
          "Latitude": 40.74628,
          "Location": "(40.74628, -73.95263)",
          "Longitude": -73.95263
         },
         "4": "B02219",
         "5": "Yes",
         "6": "7183612060",
         "7": "18:03:31",
         "8": "LIVERY BASE"
        },
        {
         "0": {
          "Building": "175",
          "City": "BROOKLYN",
          "Postcode": 11206,
          "State": "NY",
          "Street": "TOMPKINS AVENUE"
         },
         "1": "08/15/2019",
         "2": "PRATT CAR SERVICE INC",
         "3": {
          "Latitude": 40.693241,
          "Location": "(40.693241, -73.945613)",
          "Longitude": -73.945613
         },
         "4": "B01479",
         "5": "No",
         "6": "7187894900",
         "7": "18:03:31",
         "8": "LIVERY BASE"
        },
        {
         "0": {
          "Building": "15",
          "City": "HICKSVILLE",
          "Postcode": 11801,
          "State": "NY",
          "Street": "CHAIN LANE"
         },
         "1": "08/15/2019",
         "2": "ERNEST SCHWARZ INC",
         "3": {
          "Latitude": 40.745993,
          "Location": "(40.745993, -73.515605)",
          "Longitude": -73.515605
         },
         "4": "B00208",
         "5": "No",
         "6": "8778114846",
         "7": "18:03:31",
         "8": "LUXURY/LIMOUSINE"
        },
        {
         "0": {
          "Building": "241",
          "City": "BROOKLYN",
          "Postcode": 11208,
          "State": "NY",
          "Street": "CRESCENT STREET"
         },
         "1": "08/15/2019",
         "2": "BROTHERS CAR SERVICE, INC.",
         "3": {
          "Latitude": 40.68342,
          "Location": "(40.68342, -73.871853)",
          "Longitude": -73.871853
         },
         "4": "B01469",
         "5": "No",
         "6": "7182351100",
         "7": "18:03:31",
         "8": "LIVERY BASE"
        },
        {
         "0": {
          "Building": "603",
          "City": "BROOKLYN",
          "Postcode": 11207,
          "State": "NY",
          "Street": "NEW LOTS AVENUE"
         },
         "1": "08/15/2019",
         "2": "NEW LOTS C/S INC",
         "3": {
          "Latitude": 40.664829,
          "Location": "(40.664829, -73.886868)",
          "Longitude": -73.886868
         },
         "4": "B01282",
         "5": "No",
         "6": "7182722222",
         "7": "18:03:31",
         "8": "LIVERY BASE"
        },
        {
         "0": {
          "Building": "134",
          "City": "NEW YORK",
          "Postcode": 10018,
          "State": "NY",
          "Street": "WEST   37 STREET  2FL."
         },
         "1": "08/15/2019",
         "2": "GROUNDLINK HOLDINGS LLC",
         "3": {
          "Latitude": 40.760951,
          "Location": "(40.760951, -73.931034)",
          "Longitude": -73.931034
         },
         "4": "B02468",
         "5": "No",
         "6": "2127877777",
         "7": "18:03:31",
         "8": "LUXURY/LIMOUSINE"
        },
        {
         "0": {
          "Building": "3207",
          "City": "BROOKLYN",
          "Postcode": 11208,
          "State": "NY",
          "Street": "FULTON STREET"
         },
         "1": "08/15/2019",
         "2": "ATLANTIC CAR SVCE",
         "3": {
          "Latitude": 40.682549,
          "Location": "(40.682549, -73.87676)",
          "Longitude": -73.87676
         },
         "4": "B00821",
         "5": "Yes",
         "6": "7182771111",
         "7": "18:03:31",
         "8": "LIVERY BASE"
        },
        {
         "0": {
          "Building": "424",
          "City": "BROOKLYN",
          "Postcode": 11235,
          "State": "NY",
          "Street": "BRIGHTON BEACH AVENUE"
         },
         "1": "08/15/2019",
         "2": "FINESSE GROUP LIMOUSINE,INC.",
         "3": {
          "Latitude": 40.684202,
          "Location": "(40.684202, -73.978792)",
          "Longitude": -73.978792
         },
         "4": "B02254",
         "5": "No",
         "6": "7182229999",
         "7": "18:03:31",
         "8": "BLACK CAR BASE"
        },
        {
         "0": {
          "Building": "275",
          "City": "BROOKLYN",
          "Postcode": 11223,
          "State": "NY",
          "Street": "KINGS HIGHWAY"
         },
         "1": "08/15/2019",
         "2": "ALEX EXP C/L INC",
         "3": {
          "Latitude": 40.605508,
          "Location": "(40.605508, -73.98043)",
          "Longitude": -73.98043
         },
         "4": "B01398",
         "5": "No",
         "6": "7189989800",
         "7": "18:03:31",
         "8": "LIVERY BASE"
        },
        {
         "0": {
          "Building": "71-19",
          "City": "GLENDALE",
          "Postcode": 11385,
          "State": "NY",
          "Street": "80TH STREET  SUITE# 8310"
         },
         "1": "08/15/2019",
         "2": "DIANE CAR AND LIMO SERVICE LLC",
         "3": {
          "Latitude": 40.717248,
          "Location": "(40.717248, -73.857586)",
          "Longitude": -73.857586
         },
         "4": "B02881",
         "5": "No",
         "6": "7185444444",
         "7": "18:03:31",
         "8": "BLACK CAR BASE"
        },
        {
         "0": {
          "Building": "1417",
          "City": "BROOKLYN",
          "Postcode": 11229,
          "State": "NY",
          "Street": "GRAVESEND NECK ROAD"
         },
         "1": "08/15/2019",
         "2": "EMPIRE TRANSPORTATION SERVICE INC.",
         "3": {
          "Latitude": 40.594949,
          "Location": "(40.594949, -73.956043)",
          "Longitude": -73.956043
         },
         "4": "B01821",
         "5": "No",
         "6": "7183765050",
         "7": "18:03:31",
         "8": "LIVERY BASE"
        },
        {
         "0": {
          "Building": "1430",
          "City": "NEW YORK",
          "Postcode": 10018,
          "State": "NY",
          "Street": "BROADWAY  RM507"
         },
         "1": "08/15/2019",
         "2": "GO MY SEDAN LLC",
         "3": {
          "Latitude": 40.753913,
          "Location": "(40.753913, -73.986417)",
          "Longitude": -73.986417
         },
         "4": "B02990",
         "5": "No",
         "6": "2124340400",
         "7": "18:03:31",
         "8": "BLACK CAR BASE"
        },
        {
         "0": {
          "Building": "111-15A",
          "City": "CORONA",
          "Postcode": 11368,
          "State": "NY",
          "Street": "ROOSEVELT AVENUE  1FL"
         },
         "1": "08/15/2019",
         "2": "FACE LIMO INC",
         "3": {
          "Latitude": 40.744986,
          "Location": "(40.744986, -73.86426)",
          "Longitude": -73.86426
         },
         "4": "B02749",
         "5": "No",
         "6": "9176764239",
         "7": "18:03:31",
         "8": "BLACK CAR BASE"
        },
        {
         "0": {
          "Building": "405",
          "City": "BROOKLYN",
          "Postcode": 11220,
          "State": "NY",
          "Street": "51 STREET"
         },
         "1": "08/15/2019",
         "2": "BELL CAR SVC INC",
         "3": {
          "Latitude": 40.645794,
          "Location": "(40.645794, -74.012777)",
          "Longitude": -74.012777
         },
         "4": "B00802",
         "5": "No",
         "6": "7188332929",
         "7": "18:03:31",
         "8": "LIVERY BASE"
        },
        {
         "0": {
          "Building": "80-01",
          "City": "EAST ELMHURST",
          "Postcode": 11370,
          "State": "NY",
          "Street": "31 AVENUE"
         },
         "1": "08/15/2019",
         "2": "SAETA CAR SERVICE INC.",
         "3": {
          "Latitude": 40.759078,
          "Location": "(40.759078, -73.88774)",
          "Longitude": -73.88774
         },
         "4": "B01738",
         "5": "Yes",
         "6": "7184248282",
         "7": "18:03:31",
         "8": "LIVERY BASE"
        },
        {
         "0": {
          "Building": "38-17",
          "City": "LIC",
          "Postcode": 11101,
          "State": "NY",
          "Street": "CRESCENT STREET"
         },
         "1": "08/15/2019",
         "2": "SHUTTLEUP LLC",
         "3": {
          "Latitude": 40.751982,
          "Location": "(40.751982, -73.947523)",
          "Longitude": -73.947523
         },
         "4": "B01801",
         "5": "No",
         "6": "7184334333",
         "7": "18:03:31",
         "8": "LUXURY/LIMOUSINE"
        },
        {
         "0": {
          "Building": "200",
          "City": "STATEN ISLAND",
          "Postcode": 10301,
          "State": "NY",
          "Street": "BAY STREET"
         },
         "1": "08/15/2019",
         "2": "VIC & BAY CAR SERVICE, INC",
         "3": {
          "Latitude": 40.637194,
          "Location": "(40.637194, -74.076872)",
          "Longitude": -74.076872
         },
         "4": "B00706",
         "5": "No",
         "6": "7184472500",
         "7": "18:03:31",
         "8": "LIVERY BASE"
        },
        {
         "0": {
          "Building": "263-18",
          "City": "FLORAL PARK",
          "Postcode": 11004,
          "State": "NY",
          "Street": "HILLSIDE AVENUE"
         },
         "1": "08/15/2019",
         "2": "ATLAS AMBULETTE INC",
         "3": {
          "Latitude": 40.73776,
          "Location": "(40.73776, -73.704729)",
          "Longitude": -73.704729
         },
         "4": "B90627",
         "5": "No",
         "6": "7187763314",
         "7": "18:03:31",
         "8": "PARATRANSIT BASE"
        },
        {
         "0": {
          "Building": "865",
          "City": "BRONX",
          "Postcode": 10454,
          "State": "NY",
          "Street": "EAST 138TH STREET"
         },
         "1": "08/15/2019",
         "2": "READY TO ROLL TRANSPORTATION, INC.",
         "3": {
          "Latitude": 40.829521,
          "Location": "(40.829521, -73.94488)",
          "Longitude": -73.94488
         },
         "4": "B01980",
         "5": "No",
         "6": "2127141900",
         "7": "18:03:31",
         "8": "LUXURY/LIMOUSINE"
        },
        {
         "0": {
          "Building": "335",
          "City": "BROOKLYN",
          "Postcode": 11231,
          "State": "NY",
          "Street": "BOND STREET"
         },
         "1": "08/15/2019",
         "2": "ALLSTATE PRIVATE CAR & LIMO,INC",
         "3": {
          "Latitude": 40.678782,
          "Location": "(40.678782, -73.98998)",
          "Longitude": -73.98998
         },
         "4": "B01899",
         "5": "No",
         "6": "2127411562",
         "7": "18:03:31",
         "8": "BLACK CAR BASE"
        },
        {
         "0": {
          "Building": "65-06",
          "City": "BROOKLYN",
          "Postcode": 11204,
          "State": "NY",
          "Street": "20 AVENUE"
         },
         "1": "08/15/2019",
         "2": "GUADALUPANA CAR LIMO, INC",
         "3": {
          "Latitude": 40.598144,
          "Location": "(40.598144, -74.005)",
          "Longitude": -74.005
         },
         "4": "B02138",
         "5": "No",
         "6": "7186210404",
         "7": "18:03:31",
         "8": "LIVERY BASE"
        },
        {
         "0": {
          "Building": "1831",
          "City": "BRONX",
          "Postcode": 10453,
          "State": "NY",
          "Street": "GRAND CONCOURSE"
         },
         "1": "08/15/2019",
         "2": "SUPER CLASS RADIO DISP INC",
         "3": {
          "Latitude": 40.847759,
          "Location": "(40.847759, -73.907886)",
          "Longitude": -73.907886
         },
         "4": "B01726",
         "5": "Yes",
         "6": "7183672222",
         "7": "18:03:31",
         "8": "LIVERY BASE"
        },
        {
         "0": {
          "Building": "311",
          "City": "BROOKLYN",
          "Postcode": 11213,
          "State": "NY",
          "Street": "KINGSTON AVENUE"
         },
         "1": "08/15/2019",
         "2": "MICHAELS CAR SERVICE INC.",
         "3": {
          "Latitude": 40.668591,
          "Location": "(40.668591, -73.942117)",
          "Longitude": -73.942117
         },
         "4": "B01020",
         "5": "No",
         "6": "7187713000",
         "7": "18:03:31",
         "8": "LIVERY BASE"
        },
        {
         "0": {
          "Building": "579",
          "City": "BROOKLYN",
          "Postcode": 11231,
          "State": "NY",
          "Street": "SMITH STREET"
         },
         "1": "08/15/2019",
         "2": "APEX CAR & LIMO SVCE INC",
         "3": {
          "Latitude": 40.672025,
          "Location": "(40.672025, -73.999451)",
          "Longitude": -73.999451
         },
         "4": "B01779",
         "5": "No",
         "6": "7185221313",
         "7": "18:03:31",
         "8": "BLACK CAR BASE"
        },
        {
         "0": {
          "Building": "83-03",
          "City": "EAST ELMHURST",
          "Postcode": 11370,
          "State": "NY",
          "Street": "24 AVENUE"
         },
         "1": "08/15/2019",
         "2": "CMS LIMO INC.",
         "3": {
          "Latitude": 40.765173,
          "Location": "(40.765173, -73.88592)",
          "Longitude": -73.88592
         },
         "4": "B02599",
         "5": "No",
         "6": "7182055085",
         "7": "18:03:31",
         "8": "LUXURY/LIMOUSINE"
        },
        {
         "0": {
          "Building": "3123",
          "City": "BROOKLYN",
          "Postcode": 11224,
          "State": "NY",
          "Street": "CROPSEY AVENUE"
         },
         "1": "08/15/2019",
         "2": "SOVEREIGN TRANSPORTATION INC",
         "3": {
          "Latitude": 40.579351,
          "Location": "(40.579351, -73.984993)",
          "Longitude": -73.984993
         },
         "4": "B90635",
         "5": "No",
         "6": "7184350700",
         "7": "18:03:31",
         "8": "PARATRANSIT BASE"
        },
        {
         "0": {
          "Building": "914",
          "City": "BRONX",
          "Postcode": 10473,
          "State": "NY",
          "Street": "SOUNDVIEW AVENUE  2ND FL."
         },
         "1": "08/15/2019",
         "2": "DLS TRANSPORTATION CORP.",
         "3": {
          "Latitude": 40.823574,
          "Location": "(40.823574, -73.867859)",
          "Longitude": -73.867859
         },
         "4": "B02846",
         "5": "No",
         "6": "7182850357",
         "7": "18:03:31",
         "8": "BLACK CAR BASE"
        },
        {
         "0": {
          "Building": "4613",
          "City": "FLUSHING",
          "Postcode": 11358,
          "State": "NY",
          "Street": "188TH STREET  #B"
         },
         "1": "08/15/2019",
         "2": "GOOD FRIENDS CAR SERVICE INC",
         "3": {
          "Latitude": 40.63186,
          "Location": "(40.63186, -73.984917)",
          "Longitude": -73.984917
         },
         "4": "B02989",
         "5": "No",
         "6": "7183539400",
         "7": "18:03:31",
         "8": "BLACK CAR BASE"
        },
        {
         "0": {
          "Building": "76-19",
          "City": "WOODHAVEN",
          "Postcode": 11421,
          "State": "NY",
          "Street": "ROCKAWAY BOULEVARD"
         },
         "1": "08/15/2019",
         "2": "CAUTIOUS CARS INC.",
         "3": {
          "Latitude": 40.685534,
          "Location": "(40.685534, -73.86372)",
          "Longitude": -73.86372
         },
         "4": "B00255",
         "5": "No",
         "6": "7182963333",
         "7": "18:03:31",
         "8": "LIVERY BASE"
        },
        {
         "0": {
          "Building": "47-01",
          "City": "L.I.C",
          "Postcode": 11101,
          "State": "NY",
          "Street": "VERNON BOULEVARD"
         },
         "1": "08/15/2019",
         "2": "CHARGE AND RIDE INC",
         "3": {
          "Latitude": 40.745304,
          "Location": "(40.745304, -73.95305)",
          "Longitude": -73.95305
         },
         "4": "B00053",
         "5": "Yes",
         "6": "7183925200",
         "7": "18:03:31",
         "8": "BLACK CAR BASE"
        },
        {
         "0": {
          "Building": "1224",
          "City": "FAR ROCKAWAY",
          "Postcode": 11691,
          "State": "NY",
          "Street": "BRUNSWICK AVENUE"
         },
         "1": "08/15/2019",
         "2": "SINAI I INC",
         "3": {
          "Latitude": 40.610014,
          "Location": "(40.610014, -73.748686)",
          "Longitude": -73.748686
         },
         "4": "B90122",
         "5": "No",
         "6": "7188680099",
         "7": "18:03:31",
         "8": "PARATRANSIT BASE"
        },
        {
         "0": {
          "Building": "296",
          "City": "BEDFORD HILLS",
          "Postcode": 10507,
          "State": "NY",
          "Street": "ADAMS STREET"
         },
         "1": "08/15/2019",
         "2": "MTC LIMOUSINE & CORPORATE COACH,INC.",
         "3": {
          "Latitude": 41.239825,
          "Location": "(41.239825, -73.692715)",
          "Longitude": -73.692715
         },
         "4": "B02574",
         "5": "No",
         "6": "9142419211",
         "7": "18:03:31",
         "8": "LUXURY/LIMOUSINE"
        },
        {
         "0": {
          "Building": "440",
          "City": "BROOKLYN",
          "Postcode": 11215,
          "State": "NY",
          "Street": "4 AVENUE"
         },
         "1": "08/15/2019",
         "2": "CASTLE CAR SERVICE, INC",
         "3": {
          "Latitude": 40.670603,
          "Location": "(40.670603, -73.988814)",
          "Longitude": -73.988814
         },
         "4": "B00827",
         "5": "No",
         "6": "7184999333",
         "7": "18:03:31",
         "8": "LIVERY BASE"
        },
        {
         "0": {
          "Building": "122-11",
          "City": "RICHMOND HILL",
          "Postcode": 11418,
          "State": "NY",
          "Street": "HILLSIDE AVENUE"
         },
         "1": "08/15/2019",
         "2": "BOULEVARD OPERATING INC.",
         "3": {
          "Latitude": 40.70212,
          "Location": "(40.70212, -73.82873)",
          "Longitude": -73.82873
         },
         "4": "B00369",
         "5": "No",
         "6": "7185911111",
         "7": "18:03:31",
         "8": "LIVERY BASE"
        },
        {
         "0": {
          "Building": "209",
          "City": "BROOKLYN",
          "Postcode": 11232,
          "State": "NY",
          "Street": "25TH STREET  2ND FLOOR"
         },
         "1": "08/15/2019",
         "2": "GOTHAM CAR SERVICE INC.",
         "3": {
          "Latitude": 40.681771,
          "Location": "(40.681771, -73.98047)",
          "Longitude": -73.98047
         },
         "4": "B01406",
         "5": "No",
         "6": "9177281154",
         "7": "18:03:31",
         "8": "LIVERY BASE"
        },
        {
         "0": {
          "Building": "5802",
          "City": "BROOKLYN",
          "Postcode": 11219,
          "State": "NY",
          "Street": "13 AVENUE"
         },
         "1": "08/15/2019",
         "2": "A & R GOLDEN EXP INC",
         "3": {
          "Latitude": 40.629944,
          "Location": "(40.629944, -73.99765)",
          "Longitude": -73.99765
         },
         "4": "B01091",
         "5": "No",
         "6": "7189726666",
         "7": "18:03:31",
         "8": "LIVERY BASE"
        },
        {
         "0": {
          "Building": "1025",
          "City": "BROOKLYN",
          "Postcode": 11238,
          "State": "NY",
          "Street": "ATLANTIC AVENUE  1 FLOOR"
         },
         "1": "08/15/2019",
         "2": "UNITED EXP C/L SVCE",
         "3": {
          "Latitude": 40.680038,
          "Location": "(40.680038, -73.95798)",
          "Longitude": -73.95798
         },
         "4": "B01109",
         "5": "No",
         "6": "7184524000",
         "7": "18:03:31",
         "8": "LIVERY BASE"
        },
        {
         "0": {
          "Building": "103",
          "City": "STATEN ISLAND",
          "Postcode": 10302,
          "State": "NY",
          "Street": "PORT RICHMOND AVE"
         },
         "1": "08/15/2019",
         "2": "TEST BASE",
         "3": {
          "Latitude": 40.74209,
          "Location": "(40.74209, -73.935516)",
          "Longitude": -73.935516
         },
         "4": "B02999",
         "5": "No",
         "6": "7189415200",
         "7": "18:03:31",
         "8": "LIVERY BASE"
        },
        {
         "0": {
          "Building": "29",
          "City": "NEW YORK",
          "Postcode": 10002,
          "State": "NY",
          "Street": "ESSEX STREET  NORTH STORE"
         },
         "1": "08/15/2019",
         "2": "DELANCEY TRANSPORTATION INC.",
         "3": {
          "Latitude": 44.049572,
          "Location": "(44.049572, -73.459721)",
          "Longitude": -73.459721
         },
         "4": "B00225",
         "5": "No",
         "6": "2122283301",
         "7": "18:03:31",
         "8": "LIVERY BASE"
        },
        {
         "0": {
          "Building": "39",
          "City": "LITTLE NECK",
          "Postcode": 11363,
          "State": "NY",
          "Street": "ROAD LITTLE NECK PARKWAY"
         },
         "1": "08/15/2019",
         "2": "OLLIE'S TRANSPORTATION SERVICE",
         "3": {
          "Latitude": 40.773679,
          "Location": "(40.773679, -73.742098)",
          "Longitude": -73.742098
         },
         "4": "B01679",
         "5": "No",
         "6": "7187406600",
         "7": "18:03:31",
         "8": "LIVERY BASE"
        },
        {
         "0": {
          "Building": "5030",
          "City": "NEW YORK",
          "Postcode": 10034,
          "State": "NY",
          "Street": "BROADWAY  SUITE 677"
         },
         "1": "08/15/2019",
         "2": "GALLANT CAR SERVICE CORP.",
         "3": {
          "Latitude": 40.86885,
          "Location": "(40.86885, -73.916637)",
          "Longitude": -73.916637
         },
         "4": "B02851",
         "5": "No",
         "6": "3474651844",
         "7": "18:03:31",
         "8": "LIVERY BASE"
        },
        {
         "0": {
          "Building": "1074",
          "City": "BRONX",
          "Postcode": 10459,
          "State": "NY",
          "Street": "PROSPECT AVENUE"
         },
         "1": "08/15/2019",
         "2": "APOLLO RADIO DISPATCH INC.",
         "3": {
          "Latitude": 40.830356,
          "Location": "(40.830356, -73.89832)",
          "Longitude": -73.89832
         },
         "4": "B02107",
         "5": "Yes",
         "6": "7185181111",
         "7": "18:03:31",
         "8": "LIVERY BASE"
        },
        {
         "0": {
          "Building": "3616",
          "City": "BROOKLYN",
          "Postcode": 11203,
          "State": "NY",
          "Street": "CHURCH AVENUE"
         },
         "1": "08/15/2019",
         "2": "FAST CITY CAR & LIMO SVC INC.",
         "3": {
          "Latitude": 40.650862,
          "Location": "(40.650862, -73.943113)",
          "Longitude": -73.943113
         },
         "4": "B02311",
         "5": "No",
         "6": "7182820973",
         "7": "18:03:31",
         "8": "LIVERY BASE"
        },
        {
         "0": {
          "Building": "110-00",
          "City": "JAMAICA",
          "Postcode": 11420,
          "State": "NY",
          "Street": "ROCKAWAY BOULEVARD"
         },
         "1": "08/15/2019",
         "2": "EVERY WHERE LIMO SERVICE INC.",
         "3": {
          "Latitude": 40.67239,
          "Location": "(40.67239, -73.82997)",
          "Longitude": -73.82997
         },
         "4": "B02860",
         "5": "No",
         "6": "7186586008",
         "7": "18:03:31",
         "8": "BLACK CAR BASE"
        },
        {
         "0": {
          "Building": "4371",
          "City": "BRONX",
          "Postcode": 10457,
          "State": "NY",
          "Street": "3 AVENUE"
         },
         "1": "08/15/2019",
         "2": "HOLA CAR SERVICE,INC.",
         "3": {
          "Latitude": 40.850716,
          "Location": "(40.850716, -73.894416)",
          "Longitude": -73.894416
         },
         "4": "B00619",
         "5": "No",
         "6": "7183646666",
         "7": "18:03:31",
         "8": "LIVERY BASE"
        },
        {
         "0": {
          "Building": "912",
          "City": "BRONX",
          "Postcode": 10473,
          "State": "NY",
          "Street": "SOUNDVIEW AVENUE  SUITE 6"
         },
         "1": "08/15/2019",
         "2": "SAFA AMBULETTE LLC",
         "3": {
          "Latitude": 40.823432,
          "Location": "(40.823432, -73.867924)",
          "Longitude": -73.867924
         },
         "4": "B90544",
         "5": "No",
         "6": "7182842654",
         "7": "18:03:31",
         "8": "PARATRANSIT BASE"
        },
        {
         "0": {
          "Building": "307",
          "City": "PORT CHESTER",
          "Postcode": 10573,
          "State": "NY",
          "Street": "BOSTON POST ROAD"
         },
         "1": "08/15/2019",
         "2": "SCARSDALE TRIP SERVICE, INC.",
         "3": {
          "Latitude": 40.995225,
          "Location": "(40.995225, -73.672196)",
          "Longitude": -73.672196
         },
         "4": "B02008",
         "5": "No",
         "6": "9146942222",
         "7": "18:03:31",
         "8": "LUXURY/LIMOUSINE"
        },
        {
         "0": {
          "Building": "636",
          "City": "NEW YORK",
          "Postcode": 10001,
          "State": "NY",
          "Street": "WEST   28 STREET"
         },
         "1": "08/15/2019",
         "2": "DREIST NY LLC",
         "3": {
          "Latitude": 40.74844,
          "Location": "(40.74844, -73.93946)",
          "Longitude": -73.93946
         },
         "4": "B02835",
         "5": "No",
         "6": "7189715581",
         "7": "18:03:31",
         "8": "BLACK CAR BASE"
        },
        {
         "0": {
          "Building": "3552",
          "City": "BRONX",
          "Postcode": 10465,
          "State": "NY",
          "Street": "EAST TREMONT AVENUE"
         },
         "1": "08/15/2019",
         "2": "TREMONT DISPATCHING CORP",
         "3": {
          "Latitude": 40.829845,
          "Location": "(40.829845, -73.825866)",
          "Longitude": -73.825866
         },
         "4": "B00030",
         "5": "No",
         "6": "7188227777",
         "7": "18:03:31",
         "8": "LIVERY BASE"
        },
        {
         "0": {
          "Building": "983",
          "City": "BRONX",
          "Postcode": 10469,
          "State": "NY",
          "Street": "ALLERTON AVENUE"
         },
         "1": "08/15/2019",
         "2": "DASH CAR SERVICE CORP",
         "3": {
          "Latitude": 40.853661,
          "Location": "(40.853661, -73.84232)",
          "Longitude": -73.84232
         },
         "4": "B02709",
         "5": "No",
         "6": "7182805322",
         "7": "18:03:31",
         "8": "LIVERY BASE"
        },
        {
         "0": {
          "Building": "5488",
          "City": "STATEN ISLAND",
          "Postcode": 10312,
          "State": "NY",
          "Street": "AMBOY ROAD  SUITE 3"
         },
         "1": "08/15/2019",
         "2": "SAFE RIDES CAR & LIMO SERVICES INC",
         "3": {
          "Latitude": 40.511457,
          "Location": "(40.511457, -74.241468)",
          "Longitude": -74.241468
         },
         "4": "B02853",
         "5": "No",
         "6": "3479832800",
         "7": "18:03:31",
         "8": "BLACK CAR BASE"
        },
        {
         "0": {
          "Building": "208",
          "City": "BROOKLYN",
          "Postcode": 11211,
          "State": "NY",
          "Street": "ROSS STREET"
         },
         "1": "08/15/2019",
         "2": "UNITED LIMO C/M SVC CORP",
         "3": {
          "Latitude": 40.706479,
          "Location": "(40.706479, -73.958924)",
          "Longitude": -73.958924
         },
         "4": "B01009",
         "5": "No",
         "6": "7183876175",
         "7": "18:03:31",
         "8": "LIVERY BASE"
        },
        {
         "0": {
          "Building": "131-10",
          "City": "FLUSHING",
          "Postcode": 11354,
          "State": "NY",
          "Street": "40TH RD  2 FL"
         },
         "1": "08/15/2019",
         "2": "KIRIN TRANSPORTATION INC",
         "3": {
          "Latitude": 40.755756,
          "Location": "(40.755756, -73.836021)",
          "Longitude": -73.836021
         },
         "4": "B02725",
         "5": "No",
         "6": "7185268888",
         "7": "18:03:31",
         "8": "BLACK CAR BASE"
        },
        {
         "0": {
          "Building": "636",
          "City": "NEW YORK",
          "Postcode": 10001,
          "State": "NY",
          "Street": "WEST   28 STREET"
         },
         "1": "08/15/2019",
         "2": "ACHT-NY,LLC",
         "3": {
          "Latitude": 40.75242,
          "Location": "(40.75242, -74.00622)",
          "Longitude": -74.00622
         },
         "4": "B02871",
         "5": "No",
         "6": "6466657268",
         "7": "18:03:31",
         "8": "BLACK CAR BASE"
        },
        {
         "0": {
          "Building": "221",
          "City": "BROOKLYN",
          "Postcode": 11218,
          "State": "NY",
          "Street": "DITMAS AVENUE"
         },
         "1": "08/15/2019",
         "2": "NEW AMERICAN C/L SVC",
         "3": {
          "Latitude": 40.635927,
          "Location": "(40.635927, -73.976186)",
          "Longitude": -73.976186
         },
         "4": "B01057",
         "5": "No",
         "6": "7189727979",
         "7": "18:03:31",
         "8": "LIVERY BASE"
        },
        {
         "0": {
          "Building": "1804",
          "City": "BRONX",
          "Postcode": 10473,
          "State": "NY",
          "Street": "RANDALL AVENUE"
         },
         "1": "08/15/2019",
         "2": "ELEGANTE SERVICES, INC.",
         "3": {
          "Latitude": 40.816803,
          "Location": "(40.816803, -73.862557)",
          "Longitude": -73.862557
         },
         "4": "B90713",
         "5": "No",
         "6": "7184927680",
         "7": "18:03:31",
         "8": "PARATRANSIT BASE"
        },
        {
         "0": {
          "Building": "LITT.NECK RR",
          "City": "LITT.NECK PKWY",
          "Postcode": 11363,
          "State": "NY",
          "Street": "39TH ROAD"
         },
         "1": "08/15/2019",
         "2": "BELLE MANAGEMENT CORP.",
         "3": {
          "Latitude": 40.772864,
          "Location": "(40.772864, -73.74484)",
          "Longitude": -73.74484
         },
         "4": "B01250",
         "5": "No",
         "6": "7183473222",
         "7": "18:03:31",
         "8": "LIVERY BASE"
        },
        {
         "0": {
          "Building": "159",
          "City": "BROOKLYN",
          "Postcode": 11232,
          "State": "NY",
          "Street": "20 STREET"
         },
         "1": "08/15/2019",
         "2": "CT RIDERS CORP.",
         "3": {
          "Latitude": 40.722192,
          "Location": "(40.722192, -73.85037)",
          "Longitude": -73.85037
         },
         "4": "B02434",
         "5": "No",
         "6": "2123601111",
         "7": "18:03:31",
         "8": "LUXURY/LIMOUSINE"
        },
        {
         "0": {
          "Building": "33-03",
          "City": "FLUSHING",
          "Postcode": 11354,
          "State": "NY",
          "Street": "PRINCE STREET  MEZZ 2"
         },
         "1": "08/15/2019",
         "2": "OTTOMAN TRANSPORTATION INC.",
         "3": {
          "Latitude": 40.764356,
          "Location": "(40.764356, -73.884555)",
          "Longitude": -73.884555
         },
         "4": "B02929",
         "5": "No",
         "6": "7185357272",
         "7": "18:03:31",
         "8": "BLACK CAR BASE"
        },
        {
         "0": {
          "Building": "43-39",
          "City": "LIC",
          "Postcode": 11101,
          "State": "NY",
          "Street": "21 STREET  2 FLOOR"
         },
         "1": "08/15/2019",
         "2": "CAR LINE TRANSPORTATION CORP.",
         "3": {
          "Latitude": 40.749703,
          "Location": "(40.749703, -73.945981)",
          "Longitude": -73.945981
         },
         "4": "B02005",
         "5": "No",
         "6": "7187292222",
         "7": "18:03:31",
         "8": "BLACK CAR BASE"
        },
        {
         "0": {
          "Building": "50-21",
          "City": "WOODSIDE",
          "Postcode": 11377,
          "State": "NY",
          "Street": "49 STREET"
         },
         "1": "08/15/2019",
         "2": "AUTOMOTIVE SVC SYSTEM INC",
         "3": {
          "Latitude": 40.736268,
          "Location": "(40.736268, -73.916901)",
          "Longitude": -73.916901
         },
         "4": "B00084",
         "5": "No",
         "6": "2129666400",
         "7": "18:03:31",
         "8": "LUXURY/LIMOUSINE"
        },
        {
         "0": {
          "Building": "377",
          "City": "BROOKLYN",
          "Postcode": 11220,
          "State": "NY",
          "Street": "BAYRIDGE AVENUE"
         },
         "1": "08/15/2019",
         "2": "BAYRIDGE EXPRESS, INC",
         "3": {
          "Latitude": 40.634907,
          "Location": "(40.634907, -74.023845)",
          "Longitude": -74.023845
         },
         "4": "B02391",
         "5": "No",
         "6": "7186807000",
         "7": "18:03:31",
         "8": "LIVERY BASE"
        },
        {
         "0": {
          "Building": "24506",
          "City": "FLORAL PARK",
          "Postcode": 11001,
          "State": "NY",
          "Street": "JERICHO TKPE.  SUITE#LL111"
         },
         "1": "08/15/2019",
         "2": "MEEM SERVICES INC",
         "3": {
          "Latitude": 40.724491,
          "Location": "(40.724491, -73.723094)",
          "Longitude": -73.723094
         },
         "4": "B02949",
         "5": "No",
         "6": "9174827281",
         "7": "18:03:31",
         "8": "LUXURY/LIMOUSINE"
        },
        {
         "0": {
          "Building": "757A",
          "City": "BRONX",
          "Postcode": 10467,
          "State": "NY",
          "Street": "BURKE AVENUE"
         },
         "1": "08/15/2019",
         "2": "BEST DEAL PVT C/S INC",
         "3": {
          "Latitude": 40.871551,
          "Location": "(40.871551, -73.86485)",
          "Longitude": -73.86485
         },
         "4": "B01239",
         "5": "No",
         "6": "7187985555",
         "7": "18:03:31",
         "8": "LIVERY BASE"
        },
        {
         "0": {
          "Building": "4405",
          "City": "BROOKLYN",
          "Postcode": 11220,
          "State": "NY",
          "Street": "5 AVENUE"
         },
         "1": "08/15/2019",
         "2": "SUPER FAST LIMOUSINE SERVICE, INC.",
         "3": {
          "Latitude": 40.64816,
          "Location": "(40.64816, -74.00679)",
          "Longitude": -74.00679
         },
         "4": "B02352",
         "5": "No",
         "6": "7184386262",
         "7": "18:03:31",
         "8": "BLACK CAR BASE"
        },
        {
         "0": {
          "Building": "127-01",
          "City": "KEW GARDENS",
          "Postcode": 11415,
          "State": "NY",
          "Street": "METROPOLITAN AVENUE"
         },
         "1": "08/15/2019",
         "2": "T-D MAINTENANCE CORP",
         "3": {
          "Latitude": 40.70681,
          "Location": "(40.70681, -73.87768)",
          "Longitude": -73.87768
         },
         "4": "B00008",
         "5": "No",
         "6": "7184561111",
         "7": "18:03:31",
         "8": "LIVERY BASE"
        },
        {
         "0": {
          "Building": "1890",
          "City": "BRONX",
          "Postcode": 10473,
          "State": "NY",
          "Street": "RANDALL AVENUE"
         },
         "1": "08/15/2019",
         "2": "NBT TRANSPORTATION INC",
         "3": {
          "Latitude": 40.817407,
          "Location": "(40.817407, -73.85858)",
          "Longitude": -73.85858
         },
         "4": "B02809",
         "5": "No",
         "6": "7183950297",
         "7": "18:03:31",
         "8": "BLACK CAR BASE"
        },
        {
         "0": {
          "Building": "1804",
          "City": "BRONX",
          "Postcode": 10473,
          "State": "NY",
          "Street": "RANDALL AVENUE"
         },
         "1": "08/15/2019",
         "2": "BARONAS LUXURY II INC",
         "3": {
          "Latitude": 40.816803,
          "Location": "(40.816803, -73.862557)",
          "Longitude": -73.862557
         },
         "4": "B02243",
         "5": "No",
         "6": "7184244141",
         "7": "18:03:31",
         "8": "BLACK CAR BASE"
        },
        {
         "0": {
          "Building": "636",
          "City": "NEW YORK",
          "Postcode": 10001,
          "State": "NY",
          "Street": "WEST   28 STREET"
         },
         "1": "08/15/2019",
         "2": "ZWANZIG-NY,LLC",
         "3": {
          "Latitude": 40.75273,
          "Location": "(40.75273, -74.00641)",
          "Longitude": -74.00641
         },
         "4": "B02882",
         "5": "No",
         "6": "7189715559",
         "7": "18:03:31",
         "8": "BLACK CAR BASE"
        },
        {
         "0": {
          "Building": "88",
          "City": "NEW YORK",
          "Postcode": 10002,
          "State": "NY",
          "Street": "HESTER STREET"
         },
         "1": "08/15/2019",
         "2": "QUICK RIDE CORP.",
         "3": {
          "Latitude": 40.716178,
          "Location": "(40.716178, -73.992475)",
          "Longitude": -73.992475
         },
         "4": "B01764",
         "5": "No",
         "6": "2122330005",
         "7": "18:03:31",
         "8": "LIVERY BASE"
        },
        {
         "0": {
          "Building": "2692",
          "City": "BROOKLYN",
          "Postcode": 11235,
          "State": "NY",
          "Street": "CONEY ISLAND AVENUE"
         },
         "1": "08/15/2019",
         "2": "SEAGULL RIDE CORP",
         "3": {
          "Latitude": 40.59092,
          "Location": "(40.59092, -73.961)",
          "Longitude": -73.961
         },
         "4": "B02429",
         "5": "No",
         "6": "7187033333",
         "7": "18:03:31",
         "8": "BLACK CAR BASE"
        },
        {
         "0": {
          "Building": "914",
          "City": "BRONX",
          "Postcode": 10473,
          "State": "NY",
          "Street": "SOUNDVIEW AVENUE"
         },
         "1": "08/15/2019",
         "2": "PREFERRED CARE TRANSPORTATION SERVICE,INC",
         "3": {
          "Latitude": 40.823574,
          "Location": "(40.823574, -73.86786)",
          "Longitude": -73.86786
         },
         "4": "B02783",
         "5": "No",
         "6": "3472348431",
         "7": "18:03:31",
         "8": "BLACK CAR BASE"
        },
        {
         "0": {
          "Building": "59-01",
          "City": "WOODSIDE",
          "Postcode": 11377,
          "State": "NY",
          "Street": "37 AVENUE"
         },
         "1": "08/15/2019",
         "2": "FLEET RADIO DISPATCH CORP.",
         "3": {
          "Latitude": 40.749922,
          "Location": "(40.749922, -73.903309)",
          "Longitude": -73.903309
         },
         "4": "B00280",
         "5": "No",
         "6": "7186517300",
         "7": "18:03:31",
         "8": "BLACK CAR BASE"
        },
        {
         "0": {
          "Building": "208-01",
          "City": "BAYSIDE",
          "Postcode": 11361,
          "State": "NY",
          "Street": "NORTHERN BOULEVARD  #4B"
         },
         "1": "08/15/2019",
         "2": "APOLLO NY-CITY AMBULETTE INC.",
         "3": {
          "Latitude": 40.759033,
          "Location": "(40.759033, -73.775428)",
          "Longitude": -73.775428
         },
         "4": "B90647",
         "5": "No",
         "6": "7182243331",
         "7": "18:03:31",
         "8": "PARATRANSIT BASE"
        },
        {
         "0": {
          "Building": "586",
          "City": "RIDGEWOOD",
          "Postcode": 11385,
          "State": "NY",
          "Street": "SENECA AVE  1"
         },
         "1": "08/15/2019",
         "2": "FENIX MOBILE DISPATCHERS LTD",
         "3": {
          "Latitude": 40.704224,
          "Location": "(40.704224, -73.9103)",
          "Longitude": -73.9103
         },
         "4": "B02594",
         "5": "No",
         "6": "7188212900",
         "7": "18:03:31",
         "8": "LIVERY BASE"
        },
        {
         "0": {
          "Building": "712",
          "City": "BROOKLYN",
          "Postcode": 11232,
          "State": "NY",
          "Street": "THIRD AVENUE"
         },
         "1": "08/15/2019",
         "2": "TRI-STATE GROUND TRANSPORTATION LLC",
         "3": {
          "Latitude": 40.663353,
          "Location": "(40.663353, -73.998939)",
          "Longitude": -73.998939
         },
         "4": "B02280",
         "5": "No",
         "6": "7189656150",
         "7": "18:03:31",
         "8": "LUXURY/LIMOUSINE"
        },
        {
         "0": {
          "Building": "35 - 30",
          "City": "FLUSHING",
          "Postcode": 11354,
          "State": "NY",
          "Street": "154 STREET  2ND FLOOR"
         },
         "1": "08/15/2019",
         "2": "CHA CHA TRANSPORTATION CORP",
         "3": {
          "Latitude": 40.739075,
          "Location": "(40.739075, -73.787622)",
          "Longitude": -73.787622
         },
         "4": "B02868",
         "5": "No",
         "6": "7186830246",
         "7": "18:03:31",
         "8": "BLACK CAR BASE"
        },
        {
         "0": {
          "Building": "1788",
          "City": "BROOKLYN",
          "Postcode": 11223,
          "State": "NY",
          "Street": "STILLWELL AVENUE"
         },
         "1": "08/15/2019",
         "2": "M.J. TRANS CORP.",
         "3": {
          "Latitude": 40.602774,
          "Location": "(40.602774, -73.986703)",
          "Longitude": -73.986703
         },
         "4": "B90545",
         "5": "No",
         "6": "7183330400",
         "7": "18:03:31",
         "8": "PARATRANSIT BASE"
        },
        {
         "0": {
          "Building": "2225",
          "City": "BROOKLYN",
          "Postcode": 11207,
          "State": "NY",
          "Street": "PITKIN AVENUE"
         },
         "1": "08/15/2019",
         "2": "510 CAR SERVICE CORP",
         "3": {
          "Latitude": 40.672911,
          "Location": "(40.672911, -73.890252)",
          "Longitude": -73.890252
         },
         "4": "B00948",
         "5": "No",
         "6": "7184857575",
         "7": "18:03:31",
         "8": "LIVERY BASE"
        },
        {
         "0": {
          "Building": "390",
          "City": "BROOKLYN",
          "Postcode": 11211,
          "State": "NY",
          "Street": "BROADWAY  1FL"
         },
         "1": "08/15/2019",
         "2": "THE NEW BROOKLYN C/S INC",
         "3": {
          "Latitude": 40.709336,
          "Location": "(40.709336, -73.95656)",
          "Longitude": -73.95656
         },
         "4": "B01259",
         "5": "Yes",
         "6": "7183882828",
         "7": "18:03:31",
         "8": "LIVERY BASE"
        },
        {
         "0": {
          "Building": "222",
          "City": "BROOKLYN",
          "Postcode": 11215,
          "State": "NY",
          "Street": "15 STREET"
         },
         "1": "08/15/2019",
         "2": "EASTERN LUXURY, INC.",
         "3": {
          "Latitude": 40.665361,
          "Location": "(40.665361, -73.989169)",
          "Longitude": -73.989169
         },
         "4": "B02207",
         "5": "No",
         "6": "7184993355",
         "7": "18:03:31",
         "8": "BLACK CAR BASE"
        },
        {
         "0": {
          "Building": "157-11",
          "City": "JAMAICA",
          "Postcode": 11434,
          "State": "NY",
          "Street": "ROCKAWAY BOULEVARD"
         },
         "1": "08/15/2019",
         "2": "COMMUNITY TRANSPORTATION SYSTEMS, CORP",
         "3": {
          "Latitude": 40.666206,
          "Location": "(40.666206, -73.778903)",
          "Longitude": -73.778903
         },
         "4": "B80087",
         "5": "No",
         "6": "7185275500",
         "7": "18:03:31",
         "8": "COMMUTER VAN AUTHORITY BASE"
        },
        {
         "0": {
          "Building": "1355",
          "City": "STATEN ISLAND",
          "Postcode": 10310,
          "State": "NY",
          "Street": "CASTLETON AVENUE"
         },
         "1": "08/15/2019",
         "2": "RICHMOND COUNTY AMBLNC SVC INC",
         "3": {
          "Latitude": 40.634011,
          "Location": "(40.634011, -74.128061)",
          "Longitude": -74.128061
         },
         "4": "B90032",
         "5": "Yes",
         "6": "7182733555",
         "7": "18:03:31",
         "8": "PARATRANSIT BASE"
        },
        {
         "0": {
          "Building": "3626",
          "City": "BROOKLYN",
          "Postcode": 11234,
          "State": "NY",
          "Street": "KINGS HIGHWAY  5D"
         },
         "1": "08/15/2019",
         "2": "E Z AMERICAN VAN LINES INC.",
         "3": {
          "Latitude": 40.621047,
          "Location": "(40.621047, -73.939488)",
          "Longitude": -73.939488
         },
         "4": "B80266",
         "5": "No",
         "6": "3474892632",
         "7": "18:03:31",
         "8": "COMMUTER VAN AUTHORITY BASE"
        },
        {
         "0": {
          "Building": "380",
          "City": "LINDENHURST",
          "Postcode": 11757,
          "State": "NY",
          "Street": "NEW HWAY"
         },
         "1": "08/15/2019",
         "2": "ALL STAR LIMOUSINE SERVICE, LTD.",
         "3": {
          "Latitude": 40.717012,
          "Location": "(40.717012, -73.406118)",
          "Longitude": -73.406118
         },
         "4": "B01938",
         "5": "No",
         "6": "6317531234",
         "7": "18:03:31",
         "8": "LUXURY/LIMOUSINE"
        },
        {
         "0": {
          "Building": "147-15",
          "City": "FLUSHING",
          "Postcode": 11355,
          "State": "NY",
          "Street": "45 AVENUE"
         },
         "1": "08/15/2019",
         "2": "CAPRICE CAR SERVICE NO.2 INC.",
         "3": {
          "Latitude": 40.755545,
          "Location": "(40.755545, -73.814929)",
          "Longitude": -73.814929
         },
         "4": "B01045",
         "5": "No",
         "6": "7184603434",
         "7": "18:03:31",
         "8": "LIVERY BASE"
        },
        {
         "0": {
          "Building": "41-24",
          "City": "L.I.C.",
          "Postcode": 11101,
          "State": "NY",
          "Street": "38TH STREET"
         },
         "1": "08/15/2019",
         "2": "SUMMIT CORPORATE CAR INC.",
         "3": {
          "Latitude": 40.638477,
          "Location": "(40.638477, -73.983333)",
          "Longitude": -73.983333
         },
         "4": "B00608",
         "5": "No",
         "6": "7184381100",
         "7": "18:03:31",
         "8": "BLACK CAR BASE"
        },
        {
         "0": {
          "Building": "2982",
          "City": "BROOKLYN",
          "Postcode": 11229,
          "State": "NY",
          "Street": "NOSTRAND AVENUE"
         },
         "1": "08/15/2019",
         "2": "EASYRIDE CAR SERVICE INC.",
         "3": {
          "Latitude": 40.611528,
          "Location": "(40.611528, -73.944318)",
          "Longitude": -73.944318
         },
         "4": "B02021",
         "5": "No",
         "6": "7184445557",
         "7": "18:03:31",
         "8": "LIVERY BASE"
        },
        {
         "0": {
          "Building": "185-08",
          "City": "FRESH MEADOWS",
          "Postcode": 11366,
          "State": "NY",
          "Street": "UNION TURNPIKE"
         },
         "1": "08/15/2019",
         "2": "CAVALIER CAR & LIMOUSINE, INC.",
         "3": {
          "Latitude": 40.728365,
          "Location": "(40.728365, -73.78328)",
          "Longitude": -73.78328
         },
         "4": "B02770",
         "5": "No",
         "6": "7184542200",
         "7": "18:03:31",
         "8": "BLACK CAR BASE"
        },
        {
         "0": {
          "Building": "90-19",
          "City": "OZONE PARK",
          "Postcode": 11417,
          "State": "NY",
          "Street": "LIBERTY AVENUE"
         },
         "1": "08/15/2019",
         "2": "OP CAR SERVICE INC.",
         "3": {
          "Latitude": 40.680275,
          "Location": "(40.680275, -73.848047)",
          "Longitude": -73.848047
         },
         "4": "B02852",
         "5": "No",
         "6": "7186598888",
         "7": "18:03:31",
         "8": "BLACK CAR BASE"
        },
        {
         "0": {
          "Building": "226-12",
          "City": "LAURELTON",
          "Postcode": 11413,
          "State": "NY",
          "Street": "144 AVENUE"
         },
         "1": "08/15/2019",
         "2": "BANNER INTERNATIONAL CORP.",
         "3": {
          "Latitude": 40.663994,
          "Location": "(40.663994, -73.751771)",
          "Longitude": -73.751771
         },
         "4": "B90570",
         "5": "No",
         "6": "7185253497",
         "7": "18:03:31",
         "8": "PARATRANSIT BASE"
        },
        {
         "0": {
          "Building": "480",
          "City": "WEST HAVEN",
          "Postcode": 6516,
          "State": "CT",
          "Street": "ISLAND LANE"
         },
         "1": "08/15/2019",
         "2": "HY'S LIVERY SERVICE,INC.",
         "3": {
          "Latitude": 41.262921,
          "Location": "(41.262921, -72.976896)",
          "Longitude": -72.976896
         },
         "4": "B02922",
         "5": "No",
         "6": "2039346331",
         "7": "18:03:31",
         "8": "LUXURY/LIMOUSINE"
        },
        {
         "0": {
          "Building": "66-14",
          "City": "GLENDALE",
          "Postcode": 11385,
          "State": "NY",
          "Street": "MYRTLE AVENUE"
         },
         "1": "08/15/2019",
         "2": "NEW 2020 CAR SERVICE INC",
         "3": {
          "Latitude": 40.701178,
          "Location": "(40.701178, -73.887797)",
          "Longitude": -73.887797
         },
         "4": "B02145",
         "5": "No",
         "6": "7183455555",
         "7": "18:03:31",
         "8": "LIVERY BASE"
        },
        {
         "0": {
          "Building": "34-52",
          "City": "WOODSIDE",
          "Postcode": 11377,
          "State": "NY",
          "Street": "60TH STREET"
         },
         "1": "08/15/2019",
         "2": "TRANSXPRESS SERVICES,INC",
         "3": {
          "Latitude": 40.750472,
          "Location": "(40.750472, -73.902523)",
          "Longitude": -73.902523
         },
         "4": "B80164",
         "5": "No",
         "6": "7188999348",
         "7": "18:03:31",
         "8": "COMMUTER VAN AUTHORITY BASE"
        },
        {
         "0": {
          "Building": "1624",
          "City": "BRONX",
          "Postcode": 10461,
          "State": "NY",
          "Street": "STILLWELL AVENUE"
         },
         "1": "08/15/2019",
         "2": "CITYWIDE MOBILE RESPONSE CORP",
         "3": {
          "Latitude": 40.855619,
          "Location": "(40.855619, -73.839821)",
          "Longitude": -73.839821
         },
         "4": "B90097",
         "5": "No",
         "6": "7185976100",
         "7": "18:03:31",
         "8": "PARATRANSIT BASE"
        },
        {
         "0": {
          "Building": "144-50",
          "City": "SPRINGFD GRND",
          "Postcode": 11434,
          "State": "NY",
          "Street": "177 STREET"
         },
         "1": "08/15/2019",
         "2": "CITY LINK CORPORATION",
         "3": {
          "Latitude": 40.666208,
          "Location": "(40.666208, -73.772534)",
          "Longitude": -73.772534
         },
         "4": "B80100",
         "5": "No",
         "6": "7187237262",
         "7": "18:03:31",
         "8": "COMMUTER VAN AUTHORITY BASE"
        },
        {
         "0": {
          "Building": "3034",
          "City": "BROOKLYN",
          "Postcode": 11229,
          "State": "NY",
          "Street": "NOSTRAND AVENUE"
         },
         "1": "08/15/2019",
         "2": "HEART AMBULETTE CORP",
         "3": {
          "Latitude": 40.608368,
          "Location": "(40.608368, -73.972943)",
          "Longitude": -73.972943
         },
         "4": "B90125",
         "5": "No",
         "6": "7183762800",
         "7": "18:03:31",
         "8": "PARATRANSIT BASE"
        },
        {
         "0": {
          "Building": "742",
          "City": "BROOKLYN",
          "Postcode": 11238,
          "State": "NY",
          "Street": "WASHINGTON AVENUE"
         },
         "1": "08/15/2019",
         "2": "MONACO LIMO & CAR SERVICES INC.",
         "3": {
          "Latitude": 40.675852,
          "Location": "(40.675852, -73.96356)",
          "Longitude": -73.96356
         },
         "4": "B01741",
         "5": "No",
         "6": "7182300202",
         "7": "18:03:31",
         "8": "LIVERY BASE"
        },
        {
         "0": {
          "Building": "623",
          "City": "BROOKLYN",
          "Postcode": 11238,
          "State": "NY",
          "Street": "WASHINGTON AVENUE"
         },
         "1": "08/15/2019",
         "2": "INTERNATIONAL CAR SERVICE INC.",
         "3": {
          "Latitude": 40.678872,
          "Location": "(40.678872, -73.96373)",
          "Longitude": -73.96373
         },
         "4": "B01118",
         "5": "No",
         "6": "7182300808",
         "7": "18:03:31",
         "8": "LIVERY BASE"
        },
        {
         "0": {
          "Building": "31-35",
          "City": "WOODSIDE",
          "Postcode": 11377,
          "State": "NY",
          "Street": "61 STREET"
         },
         "1": "08/15/2019",
         "2": "QUIET SERVICES INC",
         "3": {
          "Latitude": 40.76451,
          "Location": "(40.76451, -73.905073)",
          "Longitude": -73.905073
         },
         "4": "B02373",
         "5": "No",
         "6": "7183609383",
         "7": "18:03:31",
         "8": "BLACK CAR BASE"
        },
        {
         "0": {
          "Building": "708",
          "City": "BRONX",
          "Postcode": 10466,
          "State": "NY",
          "Street": "NEREID AVENUE"
         },
         "1": "08/15/2019",
         "2": "BLU-WHITE ASSOCIATED TRANSPORTATION SERVICE INC",
         "3": {
          "Latitude": 40.898142,
          "Location": "(40.898142, -73.854019)",
          "Longitude": -73.854019
         },
         "4": "B00492",
         "5": "No",
         "6": "7183242222",
         "7": "18:03:31",
         "8": "LIVERY BASE"
        },
        {
         "0": {
          "Building": "224-21",
          "City": "LAURELTON",
          "Postcode": 11413,
          "State": "NY",
          "Street": "MERRICK BOULEVARD  1013"
         },
         "1": "08/15/2019",
         "2": "FLEXIBLE LINE INC.",
         "3": {
          "Latitude": 40.672948,
          "Location": "(40.672948, -73.738423)",
          "Longitude": -73.738423
         },
         "4": "B80215",
         "5": "No",
         "6": "3475510593",
         "7": "18:03:31",
         "8": "COMMUTER VAN AUTHORITY BASE"
        },
        {
         "0": {
          "Building": "3108",
          "City": "BRONX",
          "Postcode": 10467,
          "State": "NY",
          "Street": "WEBSTER AVENUE"
         },
         "1": "08/15/2019",
         "2": "3210 WEBSTER AV PRESTIGE C/S",
         "3": {
          "Latitude": 40.871011,
          "Location": "(40.871011, -73.87645)",
          "Longitude": -73.87645
         },
         "4": "B01338",
         "5": "Yes",
         "6": "7187987700",
         "7": "18:03:31",
         "8": "LIVERY BASE"
        },
        {
         "0": {
          "Building": "271-11",
          "City": "NEW HYDE PARK",
          "Postcode": 11040,
          "State": "NY",
          "Street": "76 AVENUE"
         },
         "1": "08/15/2019",
         "2": "LAKEVILLE AMBULETTE TRANSPORTATION LLC",
         "3": {
          "Latitude": 40.755518,
          "Location": "(40.755518, -73.707367)",
          "Longitude": -73.707367
         },
         "4": "B90653",
         "5": "No",
         "6": "7182892235",
         "7": "18:03:31",
         "8": "PARATRANSIT BASE"
        },
        {
         "0": {
          "Building": "116-27",
          "City": "ELMONT",
          "Postcode": 11003,
          "State": "NY",
          "Street": "237 STREET"
         },
         "1": "08/15/2019",
         "2": "PRESTIGE CHOICE TOURS INC.",
         "3": {
          "Latitude": 40.692836,
          "Location": "(40.692836, -73.725339)",
          "Longitude": -73.725339
         },
         "4": "B80253",
         "5": "No",
         "6": "9175868842",
         "7": "18:03:31",
         "8": "COMMUTER VAN AUTHORITY BASE"
        },
        {
         "0": {
          "Building": "133-21",
          "City": "JAMAICA",
          "Postcode": 11436,
          "State": "NY",
          "Street": "148 STREET"
         },
         "1": "08/15/2019",
         "2": "KOLANJI TRANSPORTATION INC",
         "3": {
          "Latitude": 40.667821,
          "Location": "(40.667821, -73.790873)",
          "Longitude": -73.790873
         },
         "4": "B80267",
         "5": "No",
         "6": "5162441544",
         "7": "18:03:31",
         "8": "COMMUTER VAN AUTHORITY BASE"
        },
        {
         "0": {
          "Building": "1421",
          "City": "BROOKLYN",
          "Postcode": 11228,
          "State": "NY",
          "Street": "86 STREET"
         },
         "1": "08/15/2019",
         "2": "ROMANTIQUE LIMOUSINE INC.",
         "3": {
          "Latitude": 40.612483,
          "Location": "(40.612483, -74.010847)",
          "Longitude": -74.010847
         },
         "4": "B01846",
         "5": "No",
         "6": "7182327273",
         "7": "18:03:31",
         "8": "LUXURY/LIMOUSINE"
        },
        {
         "0": {
          "Building": "30",
          "City": "CORTLANDT MANOR",
          "Postcode": 10567,
          "State": "NY",
          "Street": "FAWN RIDGE DR"
         },
         "1": "08/15/2019",
         "2": "ANNSUNCHO CONSULTANTS LTD",
         "3": {
          "Latitude": 41.31664,
          "Location": "(41.31664, -73.878666)",
          "Longitude": -73.878666
         },
         "4": "B90717",
         "5": "No",
         "6": "9149301790",
         "7": "18:03:31",
         "8": "PARATRANSIT BASE"
        },
        {
         "0": {
          "Building": "207",
          "City": "BROOKLYN",
          "Postcode": 11211,
          "State": "NY",
          "Street": "BEDFORD AVENUE"
         },
         "1": "08/15/2019",
         "2": "NORTHSIDE BK LLC",
         "3": {
          "Latitude": 40.716862,
          "Location": "(40.716862, -73.95856)",
          "Longitude": -73.95856
         },
         "4": "B01525",
         "5": "No",
         "6": "7183872222",
         "7": "18:03:31",
         "8": "LIVERY BASE"
        },
        {
         "0": {
          "Building": "601",
          "City": "BROOKLYN",
          "Postcode": 11235,
          "State": "NY",
          "Street": "BRIGHTON BEACH AVENUE  UNIT #2"
         },
         "1": "08/15/2019",
         "2": "NEW YORK CITY AMBULETTE, LLC",
         "3": {
          "Latitude": 40.577898,
          "Location": "(40.577898, -73.961479)",
          "Longitude": -73.961479
         },
         "4": "B90034",
         "5": "No",
         "6": "7188052500",
         "7": "18:03:31",
         "8": "PARATRANSIT BASE"
        },
        {
         "0": {
          "Building": "636",
          "City": "NEW YORK",
          "Postcode": 10001,
          "State": "NY",
          "Street": "WEST   28 STREET"
         },
         "1": "08/15/2019",
         "2": "ZWOLF-NY, LLC",
         "3": {
          "Latitude": 40.75273,
          "Location": "(40.75273, -74.00641)",
          "Longitude": -74.00641
         },
         "4": "B02877",
         "5": "No",
         "6": "7189715559",
         "7": "18:03:31",
         "8": "BLACK CAR BASE"
        },
        {
         "0": {
          "Building": "35-58",
          "City": "LIC",
          "Postcode": 11106,
          "State": "NY",
          "Street": "12 STREET"
         },
         "1": "08/15/2019",
         "2": "12TH STREET LUXURY CARS, INC.",
         "3": {
          "Latitude": 40.761054,
          "Location": "(40.761054, -73.93929)",
          "Longitude": -73.93929
         },
         "4": "B02160",
         "5": "No",
         "6": "7189472500",
         "7": "18:03:31",
         "8": "BLACK CAR BASE"
        },
        {
         "0": {
          "Building": "161",
          "City": "BROOKLYN",
          "Postcode": 11235,
          "State": "NY",
          "Street": "BRIGHTON   11 STREET"
         },
         "1": "08/15/2019",
         "2": "SHOWTIME TRANSPORTATION CORP.",
         "3": {
          "Latitude": 40.578441,
          "Location": "(40.578441, -73.958514)",
          "Longitude": -73.958514
         },
         "4": "B02762",
         "5": "No",
         "6": "7182606666",
         "7": "18:03:31",
         "8": "BLACK CAR BASE"
        },
        {
         "0": {
          "Building": "1267",
          "City": "BROOKLYN",
          "Postcode": 11216,
          "State": "NY",
          "Street": "ATLANTIC AVENUE"
         },
         "1": "08/15/2019",
         "2": "SAFARI TRANSPORTATION INC.",
         "3": {
          "Latitude": 40.671975,
          "Location": "(40.671975, -74.01146)",
          "Longitude": -74.01146
         },
         "4": "B02288",
         "5": "No",
         "6": "7186233333",
         "7": "18:03:31",
         "8": "LIVERY BASE"
        },
        {
         "0": {
          "Building": "165",
          "City": "BROOKLYN",
          "Postcode": 11205,
          "State": "NY",
          "Street": "FRANKLIN AVENUE  APT 8"
         },
         "1": "08/15/2019",
         "2": "ALLMEDICAL AMBULETTE INC",
         "3": {
          "Latitude": 40.69391,
          "Location": "(40.69391, -73.957786)",
          "Longitude": -73.957786
         },
         "4": "B90714",
         "5": "No",
         "6": "7184074151",
         "7": "18:03:31",
         "8": "PARATRANSIT BASE"
        },
        {
         "0": {
          "Building": "5230",
          "City": "STATEN ISLAND",
          "Postcode": 10307,
          "State": "NY",
          "Street": "ARTHUR KILL ROAD"
         },
         "1": "08/15/2019",
         "2": "AREAS TRANSP INC",
         "3": {
          "Latitude": 40.515342,
          "Location": "(40.515342, -74.244236)",
          "Longitude": -74.244236
         },
         "4": "B01452",
         "5": "No",
         "6": "7189673232",
         "7": "18:03:31",
         "8": "LIVERY BASE"
        },
        {
         "0": {
          "Building": "231-32",
          "City": "LAURELTON",
          "Postcode": 11413,
          "State": "NY",
          "Street": "MERRICK BOULEVARD"
         },
         "1": "08/15/2019",
         "2": "OMEGA CAR SERVICE INC.",
         "3": {
          "Latitude": 40.675213,
          "Location": "(40.675213, -73.73848)",
          "Longitude": -73.73848
         },
         "4": "B00833",
         "5": "No",
         "6": "7183411777",
         "7": "18:03:31",
         "8": "LIVERY BASE"
        },
        {
         "0": {
          "Building": "1509",
          "City": "BROOKLYN",
          "Postcode": 11226,
          "State": "NY",
          "Street": "CORTELYOU ROAD"
         },
         "1": "08/15/2019",
         "2": "JUNIORS EXPRESS CAR SERVICE INC.",
         "3": {
          "Latitude": 40.641619,
          "Location": "(40.641619, -73.96416)",
          "Longitude": -73.96416
         },
         "4": "B02163",
         "5": "No",
         "6": "7188591155",
         "7": "18:03:31",
         "8": "LIVERY BASE"
        },
        {
         "0": {
          "Building": "16",
          "City": "STATEN ISLAND",
          "Postcode": 10308,
          "State": "NY",
          "Street": "GIFFORDS LANE"
         },
         "1": "08/15/2019",
         "2": "S.I. SPEED INC.",
         "3": {
          "Latitude": 40.551208,
          "Location": "(40.551208, -74.150337)",
          "Longitude": -74.150337
         },
         "4": "B01537",
         "5": "Yes",
         "6": "7182276666",
         "7": "18:03:31",
         "8": "LIVERY BASE"
        },
        {
         "0": {
          "Building": "122-01",
          "City": "RICHIMOND HILL",
          "Postcode": 11419,
          "State": "NY",
          "Street": "LIBERTY AVENUE"
         },
         "1": "08/15/2019",
         "2": "RPO CAR AND LIMOUSINE SERVICE INC.",
         "3": {
          "Latitude": 40.688842,
          "Location": "(40.688842, -73.81686)",
          "Longitude": -73.81686
         },
         "4": "B01069",
         "5": "No",
         "6": "7186418956",
         "7": "18:03:31",
         "8": "LIVERY BASE"
        },
        {
         "0": {
          "Building": "199",
          "City": "NEW YORK",
          "Postcode": 10033,
          "State": "NY",
          "Street": "AUDUBON AVENUE"
         },
         "1": "08/15/2019",
         "2": "REYNO CAR SVC, INC.",
         "3": {
          "Latitude": 40.844996,
          "Location": "(40.844996, -73.9348)",
          "Longitude": -73.9348
         },
         "4": "B00222",
         "5": "Yes",
         "6": "2129236800",
         "7": "18:03:31",
         "8": "LIVERY BASE"
        },
        {
         "0": {
          "Building": "548",
          "City": "BROOKLYN",
          "Postcode": 11218,
          "State": "NY",
          "Street": "EAST    2 STREET"
         },
         "1": "08/15/2019",
         "2": "RACHEL'S CAR SERVICE,INC.",
         "3": {
          "Latitude": 40.637716,
          "Location": "(40.637716, -73.977401)",
          "Longitude": -73.977401
         },
         "4": "B01263",
         "5": "No",
         "6": "7189722223",
         "7": "18:03:31",
         "8": "LIVERY BASE"
        },
        {
         "0": {
          "Building": "47",
          "City": "NEW YORK",
          "Postcode": 10002,
          "State": "NY",
          "Street": "LUDLOW STREET"
         },
         "1": "08/15/2019",
         "2": "CET GROUP, INC",
         "3": {
          "Latitude": 40.71642,
          "Location": "(40.71642, -73.99046)",
          "Longitude": -73.99046
         },
         "4": "B02096",
         "5": "No",
         "6": "2129650889",
         "7": "18:03:31",
         "8": "BLACK CAR BASE"
        },
        {
         "0": {
          "Building": "43-23",
          "City": "LONG ISLAND CIT",
          "Postcode": 11101,
          "State": "NY",
          "Street": "35 STREET"
         },
         "1": "08/15/2019",
         "2": "7 STAR CAR & LIMOUSINE INC.",
         "3": {
          "Latitude": 40.745471,
          "Location": "(40.745471, -73.92933)",
          "Longitude": -73.92933
         },
         "4": "B02465",
         "5": "No",
         "6": "7187076166",
         "7": "18:03:31",
         "8": "LIVERY BASE"
        },
        {
         "0": {
          "Building": "1266",
          "City": "BROOKLYN",
          "Postcode": 11221,
          "State": "NY",
          "Street": "MYRTLE AVENUE"
         },
         "1": "08/15/2019",
         "2": "ZOOM CAR SERVICE INC.",
         "3": {
          "Latitude": 40.697777,
          "Location": "(40.697777, -73.926688)",
          "Longitude": -73.926688
         },
         "4": "B02717",
         "5": "No",
         "6": "7186022020",
         "7": "18:03:31",
         "8": "LIVERY BASE"
        },
        {
         "0": {
          "Building": "41-24",
          "City": "LIC",
          "Postcode": 11101,
          "State": "NY",
          "Street": "38 STREET"
         },
         "1": "08/15/2019",
         "2": "VITAL TRANSPORTATION INC.",
         "3": {
          "Latitude": 40.746697,
          "Location": "(40.746697, -73.926818)",
          "Longitude": -73.926818
         },
         "4": "B00789",
         "5": "No",
         "6": "7184722500",
         "7": "18:03:31",
         "8": "BLACK CAR BASE"
        },
        {
         "0": {
          "Building": "41-24",
          "City": "LIC",
          "Postcode": 11101,
          "State": "NY",
          "Street": "38 STREET"
         },
         "1": "08/15/2019",
         "2": "TEL-A-CAR OF NEW YORK, LLC",
         "3": {
          "Latitude": 40.638477,
          "Location": "(40.638477, -73.98333)",
          "Longitude": -73.98333
         },
         "4": "B01197",
         "5": "No",
         "6": "7189569111",
         "7": "18:03:31",
         "8": "BLACK CAR BASE"
        },
        {
         "0": {
          "Building": "201-09",
          "City": "ST. ALBANS",
          "Postcode": 11412,
          "State": "NY",
          "Street": "LINDEN BOULEVARD"
         },
         "1": "08/15/2019",
         "2": "LINDEN EXPRESS CAR SERVICES INC.",
         "3": {
          "Latitude": 40.695014,
          "Location": "(40.695014, -73.75095)",
          "Longitude": -73.75095
         },
         "4": "B01700",
         "5": "No",
         "6": "7184818393",
         "7": "18:03:31",
         "8": "LIVERY BASE"
        },
        {
         "0": {
          "Building": "133-56",
          "City": "FLUSHING",
          "Postcode": 11355,
          "State": "NY",
          "Street": "41ST AVENUE  1FL"
         },
         "1": "08/15/2019",
         "2": "MILLENNIUM TRANSPORTATION INC.",
         "3": {
          "Latitude": 40.74931,
          "Location": "(40.74931, -73.821321)",
          "Longitude": -73.821321
         },
         "4": "B80195",
         "5": "No",
         "6": "7185395193",
         "7": "18:03:31",
         "8": "COMMUTER VAN AUTHORITY BASE"
        },
        {
         "0": {
          "Building": "2774",
          "City": "BRONX",
          "Postcode": 10458,
          "State": "NY",
          "Street": "WEBSTER AVENUE"
         },
         "1": "08/15/2019",
         "2": "KISS CAR SERVICE INC",
         "3": {
          "Latitude": 40.865895,
          "Location": "(40.865895, -73.88565)",
          "Longitude": -73.88565
         },
         "4": "B00647",
         "5": "Yes",
         "6": "7187331111",
         "7": "18:03:31",
         "8": "LIVERY BASE"
        },
        {
         "0": {
          "Building": "5",
          "City": "NEW YORK",
          "Postcode": 10038,
          "State": "NY",
          "Street": "EAST BROADWAY  4TH FLR"
         },
         "1": "08/15/2019",
         "2": "STANDARD LIMOUSINE & CAR SERVICE GROUP LLC.",
         "3": {
          "Latitude": 40.713231,
          "Location": "(40.713231, -73.99772)",
          "Longitude": -73.99772
         },
         "4": "B02686",
         "5": "No",
         "6": "2129665678",
         "7": "18:03:31",
         "8": "BLACK CAR BASE"
        },
        {
         "0": {
          "Building": "636",
          "City": "NEW YORK",
          "Postcode": 10001,
          "State": "NY",
          "Street": "WEST   28 STREET"
         },
         "1": "08/15/2019",
         "2": "NEUNZEHN-NY, LLC",
         "3": {
          "Latitude": 40.75273,
          "Location": "(40.75273, -74.006408)",
          "Longitude": -74.006408
         },
         "4": "B02880",
         "5": "No",
         "6": "6466657406",
         "7": "18:03:31",
         "8": "BLACK CAR BASE"
        },
        {
         "0": {
          "Building": "122-21",
          "City": "SO. OZONE PARK",
          "Postcode": 11420,
          "State": "NY",
          "Street": "ROCKAWAY BOULEVARD"
         },
         "1": "08/15/2019",
         "2": "ROCKAWAY VIP SERVICE INC.",
         "3": {
          "Latitude": 40.675938,
          "Location": "(40.675938, -73.815393)",
          "Longitude": -73.815393
         },
         "4": "B01540",
         "5": "No",
         "6": "7188452545",
         "7": "18:03:31",
         "8": "LIVERY BASE"
        },
        {
         "0": {
          "Building": "2402",
          "City": "BROOKLYN",
          "Postcode": 11229,
          "State": "NY",
          "Street": "GERRITSEN AVENUE"
         },
         "1": "08/15/2019",
         "2": "LSLAT,INC",
         "3": {
          "Latitude": 40.598149,
          "Location": "(40.598149, -73.931408)",
          "Longitude": -73.931408
         },
         "4": "B90625",
         "5": "No",
         "6": "7182651584",
         "7": "18:03:31",
         "8": "PARATRANSIT BASE"
        },
        {
         "0": {
          "Building": "24",
          "City": "PARAMUS",
          "Postcode": 7652,
          "State": "NJ",
          "Street": "FARVIEW TERRACE"
         },
         "1": "08/15/2019",
         "2": "EUROPE LIMOUSINE SERVICE INC",
         "3": {
          "Latitude": 40.922042,
          "Location": "(40.922042, -74.069773)",
          "Longitude": -74.069773
         },
         "4": "B01854",
         "5": "No",
         "6": "2014773200",
         "7": "18:03:31",
         "8": "LUXURY/LIMOUSINE"
        },
        {
         "0": {
          "Building": "616",
          "City": "BROOKLYN",
          "Postcode": 11211,
          "State": "NY",
          "Street": "GRAND STREET"
         },
         "1": "08/15/2019",
         "2": "GO CAR CORP.",
         "3": {
          "Latitude": 40.711065,
          "Location": "(40.711065, -73.94753)",
          "Longitude": -73.94753
         },
         "4": "B01231",
         "5": "Yes",
         "6": "7183877777",
         "7": "18:03:31",
         "8": "LIVERY BASE"
        },
        {
         "0": {
          "Building": "33 - 20",
          "City": "WOODSIDE",
          "Postcode": 11377,
          "State": "NY",
          "Street": "55 STREET  SUITE #227"
         },
         "1": "08/15/2019",
         "2": "PLUSH SERVICES CORP",
         "3": {
          "Latitude": 40.704842,
          "Location": "(40.704842, -73.651686)",
          "Longitude": -73.651686
         },
         "4": "B02418",
         "5": "No",
         "6": "5164183303",
         "7": "18:03:31",
         "8": "BLACK CAR BASE"
        },
        {
         "0": {
          "Building": "636",
          "City": "NEW YORK",
          "Postcode": 10001,
          "State": "NY",
          "Street": "WEST   28 STREET"
         },
         "1": "08/15/2019",
         "2": "SECHS-NY, LLC",
         "3": {
          "Latitude": 40.75273,
          "Location": "(40.75273, -74.00641)",
          "Longitude": -74.00641
         },
         "4": "B02875",
         "5": "No",
         "6": "6466657402",
         "7": "18:03:31",
         "8": "BLACK CAR BASE"
        },
        {
         "0": {
          "Building": "10-85",
          "City": "FAR ROCKAWAY",
          "Postcode": 11691,
          "State": "NY",
          "Street": "BEACH   21 STREET"
         },
         "1": "08/15/2019",
         "2": "MAGNIFICENT 7'S ENTP INC",
         "3": {
          "Latitude": 40.603497,
          "Location": "(40.603497, -73.75385)",
          "Longitude": -73.75385
         },
         "4": "B00855",
         "5": "No",
         "6": "7183277777",
         "7": "18:03:31",
         "8": "LIVERY BASE"
        },
        {
         "0": {
          "Building": "2672",
          "City": "BROOKLYN",
          "Postcode": 11208,
          "State": "NY",
          "Street": "PITKIN AVENUE"
         },
         "1": "08/15/2019",
         "2": "810 CAR SVCE CORP",
         "3": {
          "Latitude": 40.674932,
          "Location": "(40.674932, -73.87351)",
          "Longitude": -73.87351
         },
         "4": "B01016",
         "5": "No",
         "6": "7182353480",
         "7": "18:03:31",
         "8": "LIVERY BASE"
        },
        {
         "0": {
          "Building": "41-24",
          "City": "LIC",
          "Postcode": 11101,
          "State": "NY",
          "Street": "38 STREET"
         },
         "1": "08/15/2019",
         "2": "BELL RADIO INC",
         "3": {
          "Latitude": 40.638477,
          "Location": "(40.638477, -73.983333)",
          "Longitude": -73.983333
         },
         "4": "B00381",
         "5": "No",
         "6": "7184381100",
         "7": "18:03:31",
         "8": "BLACK CAR BASE"
        },
        {
         "0": {
          "Building": "492",
          "City": "NUTLEY",
          "Postcode": 7110,
          "State": "NJ",
          "Street": "FRANKLYN AVENUE"
         },
         "1": "08/15/2019",
         "2": "BER LIMOUSINE INC.",
         "3": {
          "Latitude": 40.823087,
          "Location": "(40.823087, -74.155516)",
          "Longitude": -74.155516
         },
         "4": "B02113",
         "5": "No",
         "6": "2126478400",
         "7": "18:03:31",
         "8": "LUXURY/LIMOUSINE"
        },
        {
         "0": {
          "Building": "9425",
          "City": "BROOKLYN",
          "Postcode": 11209,
          "State": "NY",
          "Street": "5 AVENUE"
         },
         "1": "08/15/2019",
         "2": "THE METRO MARINE CAR SERVICE INC",
         "3": {
          "Latitude": 40.618621,
          "Location": "(40.618621, -74.030267)",
          "Longitude": -74.030267
         },
         "4": "B01079",
         "5": "No",
         "6": "7187455555",
         "7": "18:03:31",
         "8": "LIVERY BASE"
        },
        {
         "0": {
          "Building": "405",
          "City": "UNIONDALE",
          "Postcode": 11556,
          "State": "NY",
          "Street": "RXR PLAZA  SUITE 405"
         },
         "1": "08/15/2019",
         "2": "US LIMO SYSTEM INC",
         "3": {
          "Latitude": 40.619641,
          "Location": "(40.619641, -73.737598)",
          "Longitude": -73.737598
         },
         "4": "B02191",
         "5": "No",
         "6": "5163275466",
         "7": "18:03:31",
         "8": "LUXURY/LIMOUSINE"
        },
        {
         "0": {
          "Building": "3645",
          "City": "BRONX",
          "Postcode": 10461,
          "State": "NY",
          "Street": "BRUCKNER BOULEVARD"
         },
         "1": "08/15/2019",
         "2": "ONIX TRANSPORTATION, INC",
         "3": {
          "Latitude": 40.851497,
          "Location": "(40.851497, -73.827653)",
          "Longitude": -73.827653
         },
         "4": "B02947",
         "5": "No",
         "6": "7189181888",
         "7": "18:03:31",
         "8": "BLACK CAR BASE"
        },
        {
         "0": {
          "Building": "36-09",
          "City": "FLUSHING",
          "Postcode": 11358,
          "State": "NY",
          "Street": "164 STREET"
         },
         "1": "08/15/2019",
         "2": "FLUSHING LIMO TRANSP CORP",
         "3": {
          "Latitude": 40.76236,
          "Location": "(40.76236, -73.801615)",
          "Longitude": -73.801615
         },
         "4": "B01711",
         "5": "No",
         "6": "7183581111",
         "7": "18:03:31",
         "8": "LIVERY BASE"
        },
        {
         "0": {
          "Building": "1440",
          "City": "BROOKLYN",
          "Postcode": 11218,
          "State": "NY",
          "Street": "39 STREET"
         },
         "1": "08/15/2019",
         "2": "FONE-A-CAR INC",
         "3": {
          "Latitude": 40.638477,
          "Location": "(40.638477, -73.98333)",
          "Longitude": -73.98333
         },
         "4": "B00411",
         "5": "No",
         "6": "7184381100",
         "7": "18:03:31",
         "8": "BLACK CAR BASE"
        },
        {
         "0": {
          "Building": "115",
          "City": "BROOKLYN",
          "Postcode": 11235,
          "State": "NY",
          "Street": "BRIGHTON   11 STREET"
         },
         "1": "08/15/2019",
         "2": "LA MORENITA CAR LIMO SERVICE INC",
         "3": {
          "Latitude": 40.579811,
          "Location": "(40.579811, -73.95744)",
          "Longitude": -73.95744
         },
         "4": "B02315",
         "5": "No",
         "6": "7186150039",
         "7": "18:03:31",
         "8": "LIVERY BASE"
        },
        {
         "0": {
          "Building": "333",
          "City": "FAR ROCKAWAY",
          "Postcode": 11691,
          "State": "NY",
          "Street": "BEACH   32 STREET  #15K"
         },
         "1": "08/15/2019",
         "2": "DESTA TRANSPORTATION",
         "3": {
          "Latitude": 40.596428,
          "Location": "(40.596428, -73.764775)",
          "Longitude": -73.764775
         },
         "4": "B80025",
         "5": "No",
         "6": "7187052935",
         "7": "18:03:31",
         "8": "COMMUTER VAN AUTHORITY BASE"
        },
        {
         "0": {
          "Building": "25-20",
          "City": "LONGISLANDCITY",
          "Postcode": 11101,
          "State": "NY",
          "Street": "39 AVENUE"
         },
         "1": "08/15/2019",
         "2": "UTOG 2-WAY RADIO INC",
         "3": {
          "Latitude": 40.754227,
          "Location": "(40.754227, -73.93631)",
          "Longitude": -73.93631
         },
         "4": "B00271",
         "5": "No",
         "6": "7183617290",
         "7": "18:03:31",
         "8": "BLACK CAR BASE"
        },
        {
         "0": {
          "Building": "2111",
          "City": "BROOKLYN",
          "Postcode": 11235,
          "State": "NY",
          "Street": "AVENUE Z"
         },
         "1": "08/15/2019",
         "2": "7 OCEAN EXPRESS INC.",
         "3": {
          "Latitude": 40.588885,
          "Location": "(40.588885, -73.947936)",
          "Longitude": -73.947936
         },
         "4": "B00559",
         "5": "No",
         "6": "7182663333",
         "7": "18:03:31",
         "8": "LIVERY BASE"
        },
        {
         "0": {
          "Building": "1400",
          "City": "BROOKLYN",
          "Postcode": 11235,
          "State": "NY",
          "Street": "AVENUE Z  SUITE#403"
         },
         "1": "08/15/2019",
         "2": "TRANSCARE SOLUTIONS INC.",
         "3": {
          "Latitude": 40.587767,
          "Location": "(40.587767, -73.954925)",
          "Longitude": -73.954925
         },
         "4": "B90684",
         "5": "No",
         "6": "7186766757",
         "7": "18:03:31",
         "8": "PARATRANSIT BASE"
        },
        {
         "0": {
          "Building": "712",
          "City": "BROOKLYN",
          "Postcode": 11232,
          "State": "NY",
          "Street": "3 AVENUE"
         },
         "1": "08/15/2019",
         "2": "CONCORD LIMOUSINE 1, LLC",
         "3": {
          "Latitude": 40.663353,
          "Location": "(40.663353, -73.99894)",
          "Longitude": -73.99894
         },
         "4": "B00628",
         "5": "No",
         "6": "7189656100",
         "7": "18:03:31",
         "8": "BLACK CAR BASE"
        },
        {
         "0": {
          "Building": "335",
          "City": "BROOKLYN",
          "Postcode": 11231,
          "State": "NY",
          "Street": "BOND STREET"
         },
         "1": "08/15/2019",
         "2": "HYBRID LIMO EXPRESS INC.",
         "3": {
          "Latitude": 40.678782,
          "Location": "(40.678782, -73.989979)",
          "Longitude": -73.989979
         },
         "4": "B02248",
         "5": "No",
         "6": "7186434600",
         "7": "18:03:31",
         "8": "BLACK CAR BASE"
        },
        {
         "0": {
          "Building": "204",
          "City": "BROOKLYN",
          "Postcode": 11211,
          "State": "NY",
          "Street": "DIVISION AVENUE"
         },
         "1": "08/15/2019",
         "2": "DIVISION CAR & LIMO INC.",
         "3": {
          "Latitude": 40.707198,
          "Location": "(40.707198, -73.959392)",
          "Longitude": -73.959392
         },
         "4": "B01269",
         "5": "No",
         "6": "7185995555",
         "7": "18:03:31",
         "8": "LIVERY BASE"
        },
        {
         "0": {
          "Building": "1440",
          "City": "BROOKLYN",
          "Postcode": 11218,
          "State": "NY",
          "Street": "39 STREET"
         },
         "1": "08/15/2019",
         "2": "ALL CITY CORP TRANS INC",
         "3": {
          "Latitude": 40.638477,
          "Location": "(40.638477, -73.983333)",
          "Longitude": -73.983333
         },
         "4": "B00277",
         "5": "No",
         "6": "7184020195",
         "7": "18:03:31",
         "8": "BLACK CAR BASE"
        },
        {
         "0": {
          "Building": "152-80",
          "City": "JAMAICA",
          "Postcode": 11434,
          "State": "NY",
          "Street": "ROCKAWAY BOULEVARD"
         },
         "1": "08/15/2019",
         "2": "SEE USA TOURS INC.",
         "3": {
          "Latitude": 40.67053,
          "Location": "(40.67053, -73.784057)",
          "Longitude": -73.784057
         },
         "4": "B02695",
         "5": "No",
         "6": "2129440906",
         "7": "18:03:31",
         "8": "LUXURY/LIMOUSINE"
        },
        {
         "0": {
          "Building": "310",
          "City": "BROOKLYN",
          "Postcode": 11226,
          "State": "NY",
          "Street": "LENOX ROAD  4H"
         },
         "1": "08/15/2019",
         "2": "ACE-VIP TRANSPORTATION INC.",
         "3": {
          "Latitude": 40.653808,
          "Location": "(40.653808, -73.948842)",
          "Longitude": -73.948842
         },
         "4": "B80255",
         "5": "No",
         "6": "6462960388",
         "7": "18:03:31",
         "8": "COMMUTER VAN AUTHORITY BASE"
        },
        {
         "0": {
          "Building": "239-06",
          "City": "BELLEROSE",
          "Postcode": 11426,
          "State": "NY",
          "Street": "87 AVENUE  2ND FL."
         },
         "1": "08/15/2019",
         "2": "UNIVERSAL AMBULETTE SERVICES, INC.",
         "3": {
          "Latitude": 40.730869,
          "Location": "(40.730869, -73.726908)",
          "Longitude": -73.726908
         },
         "4": "B90703",
         "5": "No",
         "6": "7188504989",
         "7": "18:03:31",
         "8": "PARATRANSIT BASE"
        },
        {
         "0": {
          "Building": "89",
          "City": "NORTH ARLINGTON",
          "Postcode": 7031,
          "State": "NJ",
          "Street": "RIDGE RD"
         },
         "1": "08/15/2019",
         "2": "AVALON TRANSPORTATION, LLC",
         "3": {
          "Latitude": 40.7846,
          "Location": "(40.7846, -74.13671)",
          "Longitude": -74.13671
         },
         "4": "B01742",
         "5": "No",
         "6": "7183611555",
         "7": "18:03:31",
         "8": "LUXURY/LIMOUSINE"
        },
        {
         "0": {
          "Building": "85",
          "City": "NEW YORK",
          "Postcode": 10004,
          "State": "NY",
          "Street": "BROAD STREET  27TH FLOOR"
         },
         "1": "08/15/2019",
         "2": "SEMPERIDE LLC",
         "3": {
          "Latitude": 40.7042,
          "Location": "(40.7042, -74.00824)",
          "Longitude": -74.00824
         },
         "4": "B02787",
         "5": "No",
         "6": "7183509591",
         "7": "18:03:31",
         "8": "BLACK CAR BASE"
        },
        {
         "0": {
          "Building": "20-11",
          "City": "LIC",
          "Postcode": 11105,
          "State": "NY",
          "Street": "STEINWAY STREET"
         },
         "1": "08/15/2019",
         "2": "LUIGI MEMO INC.",
         "3": {
          "Latitude": 40.741864,
          "Location": "(40.741864, -73.858603)",
          "Longitude": -73.858603
         },
         "4": "B02447",
         "5": "No",
         "6": "9172008803",
         "7": "18:03:31",
         "8": "BLACK CAR BASE"
        },
        {
         "0": {
          "Building": "24-59",
          "City": "ASTORIA",
          "Postcode": 11103,
          "State": "NY",
          "Street": "47 STREET"
         },
         "1": "08/15/2019",
         "2": "MANHATTAN INT'L LIMO NETWORK LLC",
         "3": {
          "Latitude": 40.741147,
          "Location": "(40.741147, -73.942306)",
          "Longitude": -73.942306
         },
         "4": "B00623",
         "5": "No",
         "6": "7188981000",
         "7": "18:03:31",
         "8": "LUXURY/LIMOUSINE"
        },
        {
         "0": {
          "Building": "5030",
          "City": "NEW YORK",
          "Postcode": 10034,
          "State": "NY",
          "Street": "BROADWAY AVENUE  SUITE 622"
         },
         "1": "08/15/2019",
         "2": "LOW TOUCH LUXURY INC.",
         "3": {
          "Latitude": 40.86885,
          "Location": "(40.86885, -73.91664)",
          "Longitude": -73.91664
         },
         "4": "B02729",
         "5": "No",
         "6": "3479322498",
         "7": "18:03:31",
         "8": "BLACK CAR BASE"
        },
        {
         "0": {
          "Building": "133-56",
          "City": "BROOKLYN",
          "Postcode": 11355,
          "State": "NY",
          "Street": "41ST AVENUE  101"
         },
         "1": "08/15/2019",
         "2": "G & E EXPRESS INC",
         "3": {
          "Latitude": 40.749453,
          "Location": "(40.749453, -73.93551)",
          "Longitude": -73.93551
         },
         "4": "B80102",
         "5": "No",
         "6": "7185397777",
         "7": "18:03:31",
         "8": "COMMUTER VAN AUTHORITY BASE"
        },
        {
         "0": {
          "Building": "258-27",
          "City": "ROSEDALE",
          "Postcode": 11422,
          "State": "NY",
          "Street": "147 AVENUE"
         },
         "1": "08/15/2019",
         "2": "SCARLET GIRL VAN LINES INC",
         "3": {
          "Latitude": 40.657683,
          "Location": "(40.657683, -73.729753)",
          "Longitude": -73.729753
         },
         "4": "B80139",
         "5": "No",
         "6": "7184817715",
         "7": "18:03:31",
         "8": "COMMUTER VAN AUTHORITY BASE"
        },
        {
         "0": {
          "Building": "73-10",
          "City": "GLENDALE",
          "Postcode": 11385,
          "State": "NY",
          "Street": "88 STREET"
         },
         "1": "08/15/2019",
         "2": "COMMUNICAR INCORPORATED",
         "3": {
          "Latitude": 40.70868,
          "Location": "(40.70868, -73.863547)",
          "Longitude": -73.863547
         },
         "4": "B00446",
         "5": "No",
         "6": "7184181100",
         "7": "18:03:31",
         "8": "BLACK CAR BASE"
        },
        {
         "0": {
          "Building": "161-36",
          "City": "JAMAICA",
          "Postcode": 11434,
          "State": "NY",
          "Street": "118 AVENUE"
         },
         "1": "08/15/2019",
         "2": "CEDI TRANSPORTATION INC",
         "3": {
          "Latitude": 40.683336,
          "Location": "(40.683336, -73.782901)",
          "Longitude": -73.782901
         },
         "4": "B80148",
         "5": "No",
         "6": "7185230705",
         "7": "18:03:31",
         "8": "COMMUTER VAN AUTHORITY BASE"
        },
        {
         "0": {
          "Building": "839",
          "City": "BROOKLYN",
          "Postcode": 11203,
          "State": "NY",
          "Street": "TROY AVENUE"
         },
         "1": "08/15/2019",
         "2": "ROYAL ROSE TRANSPORTATION LLC",
         "3": {
          "Latitude": 40.652592,
          "Location": "(40.652592, -73.935959)",
          "Longitude": -73.935959
         },
         "4": "B80169",
         "5": "No",
         "6": "7185939290",
         "7": "18:03:31",
         "8": "COMMUTER VAN AUTHORITY BASE"
        },
        {
         "0": {
          "Building": "30-50",
          "City": "FLUSHING",
          "Postcode": 11357,
          "State": "NY",
          "Street": "WHITESTONE EXPRESSWAY  101A"
         },
         "1": "08/15/2019",
         "2": "NEW GOLDEN HORSE C/L SVC,INC.",
         "3": {
          "Latitude": 40.770532,
          "Location": "(40.770532, -73.836442)",
          "Longitude": -73.836442
         },
         "4": "B01667",
         "5": "No",
         "6": "7183589898",
         "7": "18:03:31",
         "8": "LIVERY BASE"
        },
        {
         "0": {
          "Building": "1804",
          "City": "BRONX",
          "Postcode": 10473,
          "State": "NY",
          "Street": "RANDALL AVENUE"
         },
         "1": "08/15/2019",
         "2": "NEW FAT INC.",
         "3": {
          "Latitude": 40.816803,
          "Location": "(40.816803, -73.862557)",
          "Longitude": -73.862557
         },
         "4": "B02229",
         "5": "No",
         "6": "7183283333",
         "7": "18:03:31",
         "8": "LIVERY BASE"
        },
        {
         "0": {
          "Building": "45-35",
          "City": "SUNNYSIDE",
          "Postcode": 11104,
          "State": "NY",
          "Street": "39 STREET"
         },
         "1": "08/15/2019",
         "2": "ABA LUXURY CAR INC.",
         "3": {
          "Latitude": 40.74272,
          "Location": "(40.74272, -73.926116)",
          "Longitude": -73.926116
         },
         "4": "B02155",
         "5": "No",
         "6": "7184828468",
         "7": "18:03:31",
         "8": "LUXURY/LIMOUSINE"
        },
        {
         "0": {
          "Building": "36-26",
          "City": "FLUSHING",
          "Postcode": 11354,
          "State": "NY",
          "Street": "UNION STREET  3RD FLR"
         },
         "1": "08/15/2019",
         "2": "COZY RIDE LIMOUSINE INC",
         "3": {
          "Latitude": 40.763441,
          "Location": "(40.763441, -73.828039)",
          "Longitude": -73.828039
         },
         "4": "B02532",
         "5": "No",
         "6": "7183595000",
         "7": "18:03:31",
         "8": "BLACK CAR BASE"
        },
        {
         "0": {
          "Building": "1104",
          "City": "BRONX",
          "Postcode": 10474,
          "State": "NY",
          "Street": "GARRISON AVENUE"
         },
         "1": "08/15/2019",
         "2": "B Q N C/S CORP",
         "3": {
          "Latitude": 40.819497,
          "Location": "(40.819497, -73.88907)",
          "Longitude": -73.88907
         },
         "4": "B01051",
         "5": "No",
         "6": "7183281111",
         "7": "18:03:31",
         "8": "LIVERY BASE"
        },
        {
         "0": {
          "Building": "1028",
          "City": "BRONX",
          "Postcode": 10459,
          "State": "NY",
          "Street": "FREEMAN STREET"
         },
         "1": "08/15/2019",
         "2": "HUNTER AMBULETTE AMBUL INC",
         "3": {
          "Latitude": 40.612075,
          "Location": "(40.612075, -73.752768)",
          "Longitude": -73.752768
         },
         "4": "B90149",
         "5": "No",
         "6": "5163712622",
         "7": "18:03:31",
         "8": "PARATRANSIT BASE"
        },
        {
         "0": {
          "Building": "4301",
          "City": "BROOKLYN",
          "Postcode": 11210,
          "State": "NY",
          "Street": "GLENWOOD ROAD  2ND FLOOR"
         },
         "1": "08/15/2019",
         "2": "ABBA LOCAL TRANSPORTATION INC",
         "3": {
          "Latitude": 40.635028,
          "Location": "(40.635028, -73.935002)",
          "Longitude": -73.935002
         },
         "4": "B90675",
         "5": "No",
         "6": "7184445125",
         "7": "18:03:31",
         "8": "PARATRANSIT BASE"
        },
        {
         "0": {
          "Building": "84",
          "City": "NEW YORK",
          "Postcode": 10002,
          "State": "NY",
          "Street": "CLINTON STREET"
         },
         "1": "08/15/2019",
         "2": "A NEW DAY RAD DISP INC",
         "3": {
          "Latitude": 40.718549,
          "Location": "(40.718549, -73.98515)",
          "Longitude": -73.98515
         },
         "4": "B01341",
         "5": "No",
         "6": "2122286666",
         "7": "18:03:31",
         "8": "LIVERY BASE"
        },
        {
         "0": {
          "Building": "636",
          "City": "NEW YORK",
          "Postcode": 10001,
          "State": "NY",
          "Street": "WEST   28 STREET"
         },
         "1": "08/15/2019",
         "2": "ZWEI-NY,LLC",
         "3": {
          "Latitude": 40.75273,
          "Location": "(40.75273, -74.006408)",
          "Longitude": -74.006408
         },
         "4": "B02866",
         "5": "No",
         "6": "7189715559",
         "7": "18:03:31",
         "8": "BLACK CAR BASE"
        },
        {
         "0": {
          "Building": "293",
          "City": "BROOKLYN",
          "Postcode": 11223,
          "State": "NY",
          "Street": "AVENUE S"
         },
         "1": "08/15/2019",
         "2": "NINA'S TRANSPORTATION SERVICE INC.",
         "3": {
          "Latitude": 40.601735,
          "Location": "(40.601735, -73.97455)",
          "Longitude": -73.97455
         },
         "4": "B90548",
         "5": "No",
         "6": "7183769747",
         "7": "18:03:31",
         "8": "PARATRANSIT BASE"
        },
        {
         "0": {
          "Building": "6202",
          "City": "BROOKLYN",
          "Postcode": 11219,
          "State": "NY",
          "Street": "NEW UTRECHT AVENUE"
         },
         "1": "08/15/2019",
         "2": "LIL'D DISPATCH INC.",
         "3": {
          "Latitude": 40.607908,
          "Location": "(40.607908, -74.00157)",
          "Longitude": -74.00157
         },
         "4": "B01308",
         "5": "No",
         "6": "3472341474",
         "7": "18:03:31",
         "8": "LIVERY BASE"
        },
        {
         "0": {
          "Building": "5030",
          "City": "NEW YORK",
          "Postcode": 10034,
          "State": "NY",
          "Street": "BROADWAY  SUITE 676"
         },
         "1": "08/15/2019",
         "2": "SANO CAR LLC",
         "3": {
          "Latitude": 40.86885,
          "Location": "(40.86885, -73.91664)",
          "Longitude": -73.91664
         },
         "4": "B02898",
         "5": "Yes",
         "6": "9293284813",
         "7": "18:03:31",
         "8": "BLACK CAR BASE"
        },
        {
         "0": {
          "Building": "102-54",
          "City": "FLUSHING",
          "Postcode": 11368,
          "State": "NY",
          "Street": "43 AVENUE"
         },
         "1": "08/15/2019",
         "2": "RED APPLE CAR & LIMO, INC",
         "3": {
          "Latitude": 40.739077,
          "Location": "(40.739077, -73.787622)",
          "Longitude": -73.787622
         },
         "4": "B02923",
         "5": "No",
         "6": "3476151595",
         "7": "18:03:31",
         "8": "BLACK CAR BASE"
        },
        {
         "0": {
          "Building": "2939",
          "City": "BROOKLYN",
          "Postcode": 11235,
          "State": "NY",
          "Street": "AVENUE Y"
         },
         "1": "08/15/2019",
         "2": "ALLY CAR SERVICE LLC",
         "3": {
          "Latitude": 40.591996,
          "Location": "(40.591996, -73.93961)",
          "Longitude": -73.93961
         },
         "4": "B02756",
         "5": "No",
         "6": "7184357777",
         "7": "18:03:31",
         "8": "LIVERY BASE"
        },
        {
         "0": {
          "Building": "2111",
          "City": "BROOKLYN",
          "Postcode": 11235,
          "State": "NY",
          "Street": "AVENUE Z"
         },
         "1": "08/15/2019",
         "2": "KINGSBAY CAR SERVICE INC",
         "3": {
          "Latitude": 40.588885,
          "Location": "(40.588885, -73.947936)",
          "Longitude": -73.947936
         },
         "4": "B00151",
         "5": "No",
         "6": "7186482600",
         "7": "18:03:31",
         "8": "LIVERY BASE"
        },
        {
         "0": {
          "Building": "171",
          "City": "BROOKLYN",
          "Postcode": 11217,
          "State": "NY",
          "Street": "5 AVENUE"
         },
         "1": "08/15/2019",
         "2": "ARECIBO C/S INC",
         "3": {
          "Latitude": 40.677669,
          "Location": "(40.677669, -73.97994)",
          "Longitude": -73.97994
         },
         "4": "B01346",
         "5": "No",
         "6": "7187836465",
         "7": "18:03:31",
         "8": "LIVERY BASE"
        },
        {
         "0": {
          "Building": "209",
          "City": "BROOKLYN",
          "Postcode": 11232,
          "State": "NY",
          "Street": "25 STREET  2ND FLR"
         },
         "1": "08/15/2019",
         "2": "LEGEND LUXURY LIMO INC.",
         "3": {
          "Latitude": 40.681771,
          "Location": "(40.681771, -73.98047)",
          "Longitude": -73.98047
         },
         "4": "B02747",
         "5": "No",
         "6": "7187881234",
         "7": "18:03:31",
         "8": "BLACK CAR BASE"
        },
        {
         "0": {
          "Building": "21-02",
          "City": "ASTORIA",
          "Postcode": 11105,
          "State": "NY",
          "Street": "23 STREET"
         },
         "1": "08/15/2019",
         "2": "LEON LUXURY LIMO INC",
         "3": {
          "Latitude": 40.781591,
          "Location": "(40.781591, -73.91386)",
          "Longitude": -73.91386
         },
         "4": "B02667",
         "5": "No",
         "6": "7186265300",
         "7": "18:03:31",
         "8": "LUXURY/LIMOUSINE"
        },
        {
         "0": {
          "Building": "787",
          "City": "BROOKLYN",
          "Postcode": 11218,
          "State": "NY",
          "Street": "CONEY ISLAND AVENUE"
         },
         "1": "08/15/2019",
         "2": "FIVE STAR LUXURY INC.",
         "3": {
          "Latitude": 40.638265,
          "Location": "(40.638265, -73.96821)",
          "Longitude": -73.96821
         },
         "4": "B02819",
         "5": "No",
         "6": "7189400044",
         "7": "18:03:31",
         "8": "BLACK CAR BASE"
        },
        {
         "0": {
          "Building": "41-09",
          "City": "L.I.C.",
          "Postcode": 11104,
          "State": "NY",
          "Street": "49 STREET"
         },
         "1": "08/15/2019",
         "2": "NEW PRONTO TRANSP INC",
         "3": {
          "Latitude": 40.746164,
          "Location": "(40.746164, -73.91524)",
          "Longitude": -73.91524
         },
         "4": "B01436",
         "5": "Yes",
         "6": "7184575777",
         "7": "18:03:31",
         "8": "LIVERY BASE"
        },
        {
         "0": {
          "Building": "31-00",
          "City": "LONG ISLAND CIT",
          "Postcode": 11101,
          "State": "NY",
          "Street": "47 AVENUE"
         },
         "1": "08/15/2019",
         "2": "KUCHEN,LLC",
         "3": {
          "Latitude": 40.74844,
          "Location": "(40.74844, -73.93946)",
          "Longitude": -73.93946
         },
         "4": "B02404",
         "5": "No",
         "6": "7189715559",
         "7": "18:03:31",
         "8": "LIVERY BASE"
        },
        {
         "0": {
          "Building": "1448",
          "City": "BROOKLYN",
          "Postcode": 11230,
          "State": "NY",
          "Street": "CONEY ISLAND AVENUE"
         },
         "1": "08/15/2019",
         "2": "FRIENDLY BEST-WAY TRANSPORTATION, INC.",
         "3": {
          "Latitude": 40.622131,
          "Location": "(40.622131, -73.96493)",
          "Longitude": -73.96493
         },
         "4": "B00531",
         "5": "Yes",
         "6": "7182526363",
         "7": "18:03:31",
         "8": "LIVERY BASE"
        },
        {
         "0": {
          "Building": "159-06",
          "City": "JAMAICA",
          "Postcode": 11432,
          "State": "NY",
          "Street": "HILLSIDE AVENUE"
         },
         "1": "08/15/2019",
         "2": "JPAN TRANSPORTATION INC",
         "3": {
          "Latitude": 40.707728,
          "Location": "(40.707728, -73.8025)",
          "Longitude": -73.8025
         },
         "4": "B01510",
         "5": "Yes",
         "6": "7182063300",
         "7": "18:03:31",
         "8": "LIVERY BASE"
        },
        {
         "0": {
          "Building": "329",
          "City": "BROOKLYN",
          "Postcode": 11232,
          "State": "NY",
          "Street": "38 STREET  2ND FLR"
         },
         "1": "08/15/2019",
         "2": "LUXURY WORLDWIDE TRANSPORTATION, LLC",
         "3": {
          "Latitude": 40.654091,
          "Location": "(40.654091, -74.006819)",
          "Longitude": -74.006819
         },
         "4": "B01985",
         "5": "No",
         "6": "7188322600",
         "7": "18:03:31",
         "8": "BLACK CAR BASE"
        },
        {
         "0": {
          "Building": "1478",
          "City": "BRONX",
          "Postcode": 10462,
          "State": "NY",
          "Street": "WHITE PLAINS RD"
         },
         "1": "08/15/2019",
         "2": "V.I.T. BLACK CAR TRANSPORTATION CORP.",
         "3": {
          "Latitude": 40.837752,
          "Location": "(40.837752, -73.863335)",
          "Longitude": -73.863335
         },
         "4": "B02930",
         "5": "No",
         "6": "7189048080",
         "7": "18:03:31",
         "8": "BLACK CAR BASE"
        },
        {
         "0": {
          "Building": "93-04",
          "City": "ELMHURST",
          "Postcode": 11373,
          "State": "NY",
          "Street": "CORONA AVENUE"
         },
         "1": "08/15/2019",
         "2": "REPUBLICA CAR & LIMO SERVICE CORP.",
         "3": {
          "Latitude": 40.742387,
          "Location": "(40.742387, -73.871082)",
          "Longitude": -73.871082
         },
         "4": "B01455",
         "5": "Yes",
         "6": "7182716666",
         "7": "18:03:31",
         "8": "LIVERY BASE"
        },
        {
         "0": {
          "Building": "712",
          "City": "BROOKLYN",
          "Postcode": 11206,
          "State": "NY",
          "Street": "BROADWAY  2ND FLOOR"
         },
         "1": "08/15/2019",
         "2": "A & S LIMOUSINE SERVICE CORP",
         "3": {
          "Latitude": 40.701213,
          "Location": "(40.701213, -73.943166)",
          "Longitude": -73.943166
         },
         "4": "B02103",
         "5": "No",
         "6": "7184551900",
         "7": "18:03:31",
         "8": "LIVERY BASE"
        },
        {
         "0": {
          "Building": "36-36",
          "City": "LIC",
          "Postcode": 11106,
          "State": "NY",
          "Street": "33 STREET  SUITE 308"
         },
         "1": "08/15/2019",
         "2": "VALERA GLOBAL, INC.",
         "3": {
          "Latitude": 40.740256,
          "Location": "(40.740256, -73.952684)",
          "Longitude": -73.952684
         },
         "4": "B02285",
         "5": "No",
         "6": "7184331111",
         "7": "18:03:31",
         "8": "LUXURY/LIMOUSINE"
        },
        {
         "0": {
          "Building": "169",
          "City": "BROOKLYN",
          "Postcode": 11214,
          "State": "NY",
          "Street": "BAY   17 STREET"
         },
         "1": "08/15/2019",
         "2": "BIG APPLE CAR INC",
         "3": {
          "Latitude": 40.604428,
          "Location": "(40.604428, -74.006622)",
          "Longitude": -74.006622
         },
         "4": "B00272",
         "5": "No",
         "6": "7182368765",
         "7": "18:03:31",
         "8": "BLACK CAR BASE"
        },
        {
         "0": {
          "Building": "2134",
          "City": "BROOKLYN",
          "Postcode": 11214,
          "State": "NY",
          "Street": "86 STREET"
         },
         "1": "08/15/2019",
         "2": "BENSONHURST RIDE INC.",
         "3": {
          "Latitude": 40.602721,
          "Location": "(40.602721, -73.99516)",
          "Longitude": -73.99516
         },
         "4": "B01280",
         "5": "No",
         "6": "7189461111",
         "7": "18:03:31",
         "8": "LIVERY BASE"
        },
        {
         "0": {
          "Building": "11",
          "City": "BRONX",
          "Postcode": 10467,
          "State": "NY",
          "Street": "EAST 213 STREET"
         },
         "1": "08/15/2019",
         "2": "KJ TRANSPORTATION",
         "3": {
          "Latitude": 40.884924,
          "Location": "(40.884924, -73.878591)",
          "Longitude": -73.878591
         },
         "4": "B02688",
         "5": "No",
         "6": "7185152600",
         "7": "18:03:31",
         "8": "LIVERY BASE"
        },
        {
         "0": {
          "Building": "1131",
          "City": "BROOKLYN",
          "Postcode": 11230,
          "State": "NY",
          "Street": "CONEY ISLAND AVENUE"
         },
         "1": "08/15/2019",
         "2": "PIA CAR LIMO. INC.",
         "3": {
          "Latitude": 40.630098,
          "Location": "(40.630098, -73.96582)",
          "Longitude": -73.96582
         },
         "4": "B02346",
         "5": "Yes",
         "6": "7188590100",
         "7": "18:03:31",
         "8": "LIVERY BASE"
        },
        {
         "0": {
          "Building": "2809",
          "City": "BRONX",
          "Postcode": 10458,
          "State": "NY",
          "Street": "WEBSTER AVENUE"
         },
         "1": "08/15/2019",
         "2": "N.Y.M EXPRESS INC",
         "3": {
          "Latitude": 40.866717,
          "Location": "(40.866717, -73.88502)",
          "Longitude": -73.88502
         },
         "4": "B02928",
         "5": "No",
         "6": "7185029299",
         "7": "18:03:31",
         "8": "BLACK CAR BASE"
        },
        {
         "0": {
          "Building": "33-46",
          "City": "WOODSIDE",
          "Postcode": 11377,
          "State": "NY",
          "Street": "55 STREET"
         },
         "1": "08/15/2019",
         "2": "BCL NETWORK LLC",
         "3": {
          "Latitude": 40.752104,
          "Location": "(40.752104, -73.906711)",
          "Longitude": -73.906711
         },
         "4": "B02200",
         "5": "No",
         "6": "7184247077",
         "7": "18:03:31",
         "8": "LUXURY/LIMOUSINE"
        },
        {
         "0": {
          "Building": "35-28",
          "City": "ASTORIA",
          "Postcode": 11105,
          "State": "NY",
          "Street": "19 AVENUE"
         },
         "1": "08/15/2019",
         "2": "BRIDGES LIMOUSINE INC",
         "3": {
          "Latitude": 40.779639,
          "Location": "(40.779639, -73.901658)",
          "Longitude": -73.901658
         },
         "4": "B02360",
         "5": "No",
         "6": "7187775743",
         "7": "18:03:31",
         "8": "BLACK CAR BASE"
        },
        {
         "0": {
          "Building": "7205",
          "City": "BROOKLYN",
          "Postcode": 11209,
          "State": "NY",
          "Street": "3 AVENUE"
         },
         "1": "08/15/2019",
         "2": "YOURS CAR SERVICE INC",
         "3": {
          "Latitude": 40.633303,
          "Location": "(40.633303, -74.026743)",
          "Longitude": -74.026743
         },
         "4": "B01601",
         "5": "Yes",
         "6": "7186805200",
         "7": "18:03:31",
         "8": "LIVERY BASE"
        },
        {
         "0": {
          "Building": "636",
          "City": "NEW YORK",
          "Postcode": 10001,
          "State": "NY",
          "Street": "WEST   28 STREET"
         },
         "1": "08/15/2019",
         "2": "ZEHN-NY,LLC.",
         "3": {
          "Latitude": 40.75273,
          "Location": "(40.75273, -74.00641)",
          "Longitude": -74.00641
         },
         "4": "B02869",
         "5": "No",
         "6": "6466657439",
         "7": "18:03:31",
         "8": "BLACK CAR BASE"
        },
        {
         "0": {
          "Building": "87-38",
          "City": "JAMAICA",
          "Postcode": 11435,
          "State": "NY",
          "Street": "148 STREET"
         },
         "1": "08/15/2019",
         "2": "LA NUEVA QUISQUEYA C/S INC",
         "3": {
          "Latitude": 40.706245,
          "Location": "(40.706245, -73.80929)",
          "Longitude": -73.80929
         },
         "4": "B01626",
         "5": "No",
         "6": "7182061616",
         "7": "18:03:31",
         "8": "LIVERY BASE"
        },
        {
         "0": {
          "Building": "1126",
          "City": "BROOKLYN",
          "Postcode": 11221,
          "State": "NY",
          "Street": "BUSHWICK AVENUE"
         },
         "1": "08/15/2019",
         "2": "NEW YORK APPLE CAR SERVICE INC",
         "3": {
          "Latitude": 40.689376,
          "Location": "(40.689376, -73.91839)",
          "Longitude": -73.91839
         },
         "4": "B01200",
         "5": "Yes",
         "6": "7184552121",
         "7": "18:03:31",
         "8": "LIVERY BASE"
        },
        {
         "0": {
          "Building": "1059",
          "City": "NYC",
          "Postcode": 10032,
          "State": "NY",
          "Street": "ST NICHOLAS AVENUE"
         },
         "1": "08/15/2019",
         "2": "NEW HEAVEN RADIO DISPATCH CORP",
         "3": {
          "Latitude": 40.836953,
          "Location": "(40.836953, -73.94037)",
          "Longitude": -73.94037
         },
         "4": "B02461",
         "5": "Yes",
         "6": "2129231212",
         "7": "18:03:31",
         "8": "LIVERY BASE"
        },
        {
         "0": {
          "Building": "98-51",
          "City": "REGO PARK",
          "Postcode": 11374,
          "State": "NY",
          "Street": "QUEENS BOULEVARD  2G"
         },
         "1": "08/15/2019",
         "2": "CATHAY EXPRESS TRANSPORTATION INC",
         "3": {
          "Latitude": 40.728061,
          "Location": "(40.728061, -73.856072)",
          "Longitude": -73.856072
         },
         "4": "B90701",
         "5": "Yes",
         "6": "2123373333",
         "7": "18:03:31",
         "8": "PARATRANSIT BASE"
        },
        {
         "0": {
          "Building": "1417",
          "City": "BROOKLYN",
          "Postcode": 11236,
          "State": "NY",
          "Street": "ROCKAWAY PARKWAY"
         },
         "1": "08/15/2019",
         "2": "TRANSIT PRIVATE CAR SERVICE INC.",
         "3": {
          "Latitude": 40.645455,
          "Location": "(40.645455, -73.902663)",
          "Longitude": -73.902663
         },
         "4": "B00056",
         "5": "No",
         "6": "7186494100",
         "7": "18:03:31",
         "8": "LIVERY BASE"
        },
        {
         "0": {
          "Building": "2699",
          "City": "STATEN ISLAND",
          "Postcode": 10303,
          "State": "NY",
          "Street": "RICHMOND TERRACE"
         },
         "1": "08/15/2019",
         "2": "MERCY CARE TRANSPORTATION INC.",
         "3": {
          "Latitude": 40.637594,
          "Location": "(40.637594, -74.150488)",
          "Longitude": -74.150488
         },
         "4": "B90469",
         "5": "No",
         "6": "7182663355",
         "7": "18:03:31",
         "8": "PARATRANSIT BASE"
        },
        {
         "0": {
          "Building": "108",
          "City": "NEW YORK",
          "Postcode": 10002,
          "State": "NY",
          "Street": "MADISON STREET"
         },
         "1": "08/15/2019",
         "2": "W.K. CAR & LIMO SERVICE INC",
         "3": {
          "Latitude": 40.712007,
          "Location": "(40.712007, -73.99515)",
          "Longitude": -73.99515
         },
         "4": "B01721",
         "5": "No",
         "6": "2122741166",
         "7": "18:03:31",
         "8": "LIVERY BASE"
        },
        {
         "0": {
          "Building": "2224",
          "City": "NEW YORK",
          "Postcode": 10032,
          "State": "NY",
          "Street": "AMSTERDAM AVENUE"
         },
         "1": "08/15/2019",
         "2": "R C AUDUBON SVC INC",
         "3": {
          "Latitude": 40.838228,
          "Location": "(40.838228, -73.937654)",
          "Longitude": -73.937654
         },
         "4": "B01339",
         "5": "Yes",
         "6": "2129238787",
         "7": "18:03:31",
         "8": "LIVERY BASE"
        }
       ],
       "schema": [
        {
         "key": "0",
         "name": "Address",
         "type": "StructType(StructField(Building,StringType,true),StructField(City,StringType,true),StructField(Postcode,LongType,true),StructField(State,StringType,true),StructField(Street,StringType,true))"
        },
        {
         "key": "1",
         "name": "Date",
         "type": "string"
        },
        {
         "key": "2",
         "name": "Entity Name",
         "type": "string"
        },
        {
         "key": "3",
         "name": "GeoLocation",
         "type": "StructType(StructField(Latitude,DoubleType,true),StructField(Location,StringType,true),StructField(Longitude,DoubleType,true))"
        },
        {
         "key": "4",
         "name": "License Number",
         "type": "string"
        },
        {
         "key": "5",
         "name": "SHL Endorsed",
         "type": "string"
        },
        {
         "key": "6",
         "name": "Telephone Number",
         "type": "bigint"
        },
        {
         "key": "7",
         "name": "Time",
         "type": "string"
        },
        {
         "key": "8",
         "name": "Type of Base",
         "type": "string"
        }
       ],
       "truncated": false
      }
     },
     "type": "Synapse.DataFrame"
    },
    "d4a0b4bb-5879-4b3b-8aa1-b3ccdeb94f28": {
     "persist_state": {
      "view": {
       "chartOptions": {
        "aggregationType": "count",
        "categoryFieldKeys": [
         "0"
        ],
        "chartType": "bar",
        "isStacked": false,
        "seriesFieldKeys": [
         "0"
        ]
       },
       "tableOptions": {},
       "type": "details"
      }
     },
     "sync_state": {
      "isSummary": false,
      "language": "scala",
      "table": {
       "rows": [
        {
         "0": "HV0005",
         "1": "B02510",
         "2": "2019-11-03 16:16:50",
         "3": "2019-11-03 16:26:03",
         "4": "50",
         "5": "239",
         "6": "1"
        },
        {
         "0": "HV0005",
         "1": "B02510",
         "2": "2019-11-03 16:41:02",
         "3": "2019-11-03 17:11:08",
         "4": "143",
         "5": "246",
         "6": "1"
        },
        {
         "0": "HV0005",
         "1": "B02510",
         "2": "2019-11-03 16:17:40",
         "3": "2019-11-03 17:01:44",
         "4": "159",
         "5": "186"
        },
        {
         "0": "HV0003",
         "1": "B02682",
         "2": "2019-11-03 16:27:01",
         "3": "2019-11-03 16:36:28",
         "4": "179",
         "5": "7"
        },
        {
         "0": "HV0003",
         "1": "B02682",
         "2": "2019-11-03 16:53:43",
         "3": "2019-11-03 17:07:47",
         "4": "7",
         "5": "179"
        },
        {
         "0": "HV0003",
         "1": "B02867",
         "2": "2019-11-03 16:18:55",
         "3": "2019-11-03 17:00:58",
         "4": "231",
         "5": "1"
        },
        {
         "0": "HV0003",
         "1": "B02682",
         "2": "2019-11-03 16:01:55",
         "3": "2019-11-03 16:12:25",
         "4": "237",
         "5": "161"
        },
        {
         "0": "HV0003",
         "1": "B02682",
         "2": "2019-11-03 16:22:32",
         "3": "2019-11-03 17:18:52",
         "4": "230",
         "5": "132"
        },
        {
         "0": "HV0003",
         "1": "B02765",
         "2": "2019-11-03 16:58:13",
         "3": "2019-11-03 17:20:07",
         "4": "237",
         "5": "230"
        },
        {
         "0": "HV0003",
         "1": "B02836",
         "2": "2019-11-03 16:01:03",
         "3": "2019-11-03 16:19:57",
         "4": "249",
         "5": "148",
         "6": "1"
        }
       ],
       "schema": [
        {
         "key": "0",
         "name": "hvfhs_license_num",
         "type": "string"
        },
        {
         "key": "1",
         "name": "dispatching_base_num",
         "type": "string"
        },
        {
         "key": "2",
         "name": "pickup_datetime",
         "type": "string"
        },
        {
         "key": "3",
         "name": "dropoff_datetime",
         "type": "string"
        },
        {
         "key": "4",
         "name": "PULocationID",
         "type": "string"
        },
        {
         "key": "5",
         "name": "DOLocationID",
         "type": "string"
        },
        {
         "key": "6",
         "name": "SR_Flag",
         "type": "string"
        }
       ],
       "truncated": false
      }
     },
     "type": "Synapse.DataFrame"
    },
    "e15b4210-db64-47fe-8753-09a25e5f5c53": {
     "persist_state": {
      "view": {
       "chartOptions": {
        "aggregationType": "count",
        "categoryFieldKeys": [
         "0"
        ],
        "chartType": "bar",
        "isStacked": false,
        "seriesFieldKeys": [
         "0"
        ]
       },
       "tableOptions": {},
       "type": "details"
      }
     },
     "sync_state": {
      "isSummary": false,
      "language": "scala",
      "table": {
       "rows": [
        {
         "0": "2",
         "1": "2019-11-06 07:14:26",
         "10": "0",
         "11": "0.5",
         "12": "0",
         "13": "0",
         "15": "0.3",
         "16": "14.3",
         "17": "2",
         "18": "1",
         "19": "0",
         "2": "2019-11-06 07:31:12",
         "3": "N",
         "4": "1",
         "5": "116",
         "6": "75",
         "7": "1",
         "8": "3.16",
         "9": "13.5"
        },
        {
         "0": "2",
         "1": "2019-11-06 07:51:20",
         "10": "0",
         "11": "0.5",
         "12": "0",
         "13": "0",
         "15": "0.3",
         "16": "7.8",
         "17": "2",
         "18": "1",
         "19": "0",
         "2": "2019-11-06 07:58:42",
         "3": "N",
         "4": "1",
         "5": "152",
         "6": "24",
         "7": "1",
         "8": "1.19",
         "9": "7"
        },
        {
         "0": "2",
         "1": "2019-11-06 07:34:59",
         "10": "0",
         "11": "0.5",
         "12": "0",
         "13": "0",
         "15": "0",
         "16": "19.32",
         "17": "2",
         "18": "1",
         "19": "0",
         "2": "2019-11-06 07:37:00",
         "3": "N",
         "4": "5",
         "5": "55",
         "6": "55",
         "7": "1",
         "8": ".00",
         "9": "18.82"
        },
        {
         "0": "1",
         "1": "2019-11-06 07:08:45",
         "10": "0",
         "11": "0.5",
         "12": "0",
         "13": "0",
         "15": "0.3",
         "16": "39",
         "17": "1",
         "18": "1",
         "19": "0",
         "2": "2019-11-06 07:49:53",
         "3": "N",
         "4": "1",
         "5": "216",
         "6": "14",
         "7": "1",
         "8": ".00",
         "9": "38.2"
        },
        {
         "0": "2",
         "1": "2019-11-06 07:58:42",
         "10": "0",
         "11": "0.5",
         "12": "0",
         "13": "0",
         "15": "0.3",
         "16": "4.8",
         "17": "2",
         "18": "1",
         "19": "0",
         "2": "2019-11-06 08:01:13",
         "3": "N",
         "4": "1",
         "5": "244",
         "6": "244",
         "7": "1",
         "8": ".36",
         "9": "4"
        },
        {
         "0": "2",
         "1": "2019-11-06 07:30:11",
         "10": "0",
         "11": "0.5",
         "12": "0",
         "13": "0",
         "15": "0.3",
         "16": "8.3",
         "17": "2",
         "18": "1",
         "19": "0",
         "2": "2019-11-06 07:38:52",
         "3": "N",
         "4": "1",
         "5": "75",
         "6": "238",
         "7": "1",
         "8": "1.15",
         "9": "7.5"
        },
        {
         "0": "2",
         "1": "2019-11-06 07:55:53",
         "10": "0",
         "11": "0.5",
         "12": "1.76",
         "13": "0",
         "15": "0.3",
         "16": "10.56",
         "17": "1",
         "18": "1",
         "19": "0",
         "2": "2019-11-06 08:04:33",
         "3": "N",
         "4": "1",
         "5": "41",
         "6": "238",
         "7": "1",
         "8": "1.51",
         "9": "8"
        },
        {
         "0": "2",
         "1": "2019-11-06 07:25:39",
         "10": "0",
         "11": "0.5",
         "12": "0",
         "13": "0",
         "15": "0.3",
         "16": "13.3",
         "17": "2",
         "18": "1",
         "19": "0",
         "2": "2019-11-06 07:39:54",
         "3": "N",
         "4": "1",
         "5": "75",
         "6": "116",
         "7": "1",
         "8": "2.85",
         "9": "12.5"
        },
        {
         "0": "2",
         "1": "2019-11-06 07:45:07",
         "10": "0",
         "11": "0.5",
         "12": "0",
         "13": "0",
         "15": "0.3",
         "16": "8.3",
         "17": "2",
         "18": "1",
         "19": "0",
         "2": "2019-11-06 07:53:06",
         "3": "N",
         "4": "1",
         "5": "152",
         "6": "42",
         "7": "1",
         "8": "1.30",
         "9": "7.5"
        },
        {
         "0": "2",
         "1": "2019-11-06 07:54:56",
         "10": "0",
         "11": "0.5",
         "12": "0",
         "13": "0",
         "15": "0.3",
         "16": "10.8",
         "17": "2",
         "18": "1",
         "19": "0",
         "2": "2019-11-06 08:07:44",
         "3": "N",
         "4": "1",
         "5": "42",
         "6": "69",
         "7": "1",
         "8": "1.49",
         "9": "10"
        }
       ],
       "schema": [
        {
         "key": "0",
         "name": "VendorID",
         "type": "string"
        },
        {
         "key": "1",
         "name": "lpep_pickup_datetime",
         "type": "string"
        },
        {
         "key": "2",
         "name": "lpep_dropoff_datetime",
         "type": "string"
        },
        {
         "key": "3",
         "name": "store_and_fwd_flag",
         "type": "string"
        },
        {
         "key": "4",
         "name": "RatecodeID",
         "type": "string"
        },
        {
         "key": "5",
         "name": "PULocationID",
         "type": "string"
        },
        {
         "key": "6",
         "name": "DOLocationID",
         "type": "string"
        },
        {
         "key": "7",
         "name": "passenger_count",
         "type": "string"
        },
        {
         "key": "8",
         "name": "trip_distance",
         "type": "string"
        },
        {
         "key": "9",
         "name": "fare_amount",
         "type": "string"
        },
        {
         "key": "10",
         "name": "extra",
         "type": "string"
        },
        {
         "key": "11",
         "name": "mta_tax",
         "type": "string"
        },
        {
         "key": "12",
         "name": "tip_amount",
         "type": "string"
        },
        {
         "key": "13",
         "name": "tolls_amount",
         "type": "string"
        },
        {
         "key": "14",
         "name": "ehail_fee",
         "type": "string"
        },
        {
         "key": "15",
         "name": "improvement_surcharge",
         "type": "string"
        },
        {
         "key": "16",
         "name": "total_amount",
         "type": "string"
        },
        {
         "key": "17",
         "name": "payment_type",
         "type": "string"
        },
        {
         "key": "18",
         "name": "trip_type",
         "type": "string"
        },
        {
         "key": "19",
         "name": "congestion_surcharge",
         "type": "string"
        }
       ],
       "truncated": false
      }
     },
     "type": "Synapse.DataFrame"
    },
    "f9a503c1-66ae-4252-a3db-83890e0821be": {
     "persist_state": {
      "view": {
       "chartType": "column",
       "type": "profile"
      }
     },
     "sync_state": {
      "profileResult": {
       "columnProfiles": [
        {
         "column": "lpep_dropoff_datetime",
         "profile": {
          "advanceProperty": {},
          "column": "lpep_dropoff_datetime",
          "completeness": 1,
          "count": 449500,
          "dataType": "datetime",
          "distinctCount": 382152,
          "topK": [
           {
            "count": 14,
            "value": "2019-11-29 00:00:00"
           },
           {
            "count": 6,
            "value": "2019-11-26 16:23:00"
           },
           {
            "count": 6,
            "value": "2019-11-25 12:14:00"
           },
           {
            "count": 7,
            "value": "2019-11-27 09:53:00"
           },
           {
            "count": 8,
            "value": "2019-11-25 15:19:00"
           },
           {
            "count": 7,
            "value": "2019-11-01 16:43:00"
           },
           {
            "count": 17,
            "value": "2019-11-17 00:00:00"
           },
           {
            "count": 8,
            "value": "2019-11-27 12:22:00"
           },
           {
            "count": 7,
            "value": "2019-11-25 17:35:00"
           },
           {
            "count": 8,
            "value": "2019-11-25 12:56:00"
           },
           {
            "count": 8,
            "value": "2019-11-01 09:30:00"
           },
           {
            "count": 9,
            "value": "2019-11-30 00:00:00"
           },
           {
            "count": 12,
            "value": "2019-11-08 00:00:00"
           },
           {
            "count": 7,
            "value": "2019-11-26 13:13:00"
           },
           {
            "count": 7,
            "value": "2019-11-01 09:17:00"
           },
           {
            "count": 7,
            "value": "2019-11-27 12:53:00"
           },
           {
            "count": 6,
            "value": "2019-11-26 10:50:00"
           },
           {
            "count": 7,
            "value": "2019-11-01 15:13:00"
           },
           {
            "count": 7,
            "value": "2019-11-27 14:10:00"
           },
           {
            "count": 8,
            "value": "2019-11-02 00:00:00"
           },
           {
            "count": 8,
            "value": "2019-11-01 12:10:00"
           },
           {
            "count": 7,
            "value": "2019-11-27 11:23:00"
           },
           {
            "count": 17,
            "value": "2019-11-11 00:00:00"
           },
           {
            "count": 7,
            "value": "2019-11-27 08:17:00"
           },
           {
            "count": 6,
            "value": "2019-11-26 13:24:00"
           },
           {
            "count": 7,
            "value": "2019-11-01 08:55:00"
           },
           {
            "count": 13,
            "value": "2019-11-10 00:00:00"
           },
           {
            "count": 8,
            "value": "2019-11-27 08:30:00"
           },
           {
            "count": 7,
            "value": "2019-11-26 12:45:00"
           },
           {
            "count": 9,
            "value": "2019-11-14 00:00:00"
           },
           {
            "count": 7,
            "value": "2019-11-26 11:24:00"
           },
           {
            "count": 8,
            "value": "2019-11-25 10:46:00"
           },
           {
            "count": 7,
            "value": "2019-11-26 09:50:00"
           },
           {
            "count": 7,
            "value": "2019-11-25 13:03:00"
           },
           {
            "count": 7,
            "value": "2019-11-24 12:10:00"
           },
           {
            "count": 7,
            "value": "2019-11-27 14:22:00"
           },
           {
            "count": 7,
            "value": "2019-11-01 11:42:00"
           },
           {
            "count": 6,
            "value": "2019-11-01 10:02:00"
           },
           {
            "count": 7,
            "value": "2019-11-01 18:13:00"
           },
           {
            "count": 8,
            "value": "2019-11-26 15:49:00"
           },
           {
            "count": 7,
            "value": "2019-11-12 10:28:00"
           },
           {
            "count": 7,
            "value": "2019-11-26 09:39:00"
           },
           {
            "count": 6,
            "value": "2019-11-25 10:32:00"
           },
           {
            "count": 11,
            "value": "2019-11-24 00:00:00"
           },
           {
            "count": 22,
            "value": "2019-12-01 00:00:00"
           },
           {
            "count": 7,
            "value": "2019-11-26 14:20:00"
           },
           {
            "count": 8,
            "value": "2019-11-26 14:34:00"
           },
           {
            "count": 8,
            "value": "2019-11-25 09:34:00"
           },
           {
            "count": 7,
            "value": "2019-11-25 13:02:00"
           },
           {
            "count": 9,
            "value": "2019-11-25 15:26:00"
           },
           {
            "count": 7,
            "value": "2019-11-26 13:08:00"
           },
           {
            "count": 9,
            "value": "2019-11-25 09:10:00"
           },
           {
            "count": 7,
            "value": "2019-11-25 12:39:00"
           },
           {
            "count": 7,
            "value": "2019-11-25 14:10:00"
           },
           {
            "count": 6,
            "value": "2019-11-26 15:13:00"
           },
           {
            "count": 7,
            "value": "2019-11-27 12:56:00"
           },
           {
            "count": 7,
            "value": "2019-11-26 15:54:00"
           },
           {
            "count": 9,
            "value": "2019-11-01 10:29:00"
           },
           {
            "count": 9,
            "value": "2019-11-27 08:37:00"
           },
           {
            "count": 8,
            "value": "2019-11-25 15:33:00"
           },
           {
            "count": 12,
            "value": "2019-11-18 00:00:00"
           },
           {
            "count": 7,
            "value": "2019-11-26 11:54:00"
           },
           {
            "count": 7,
            "value": "2019-11-01 11:24:00"
           },
           {
            "count": 6,
            "value": "2019-11-26 09:34:00"
           },
           {
            "count": 6,
            "value": "2019-11-25 08:19:00"
           },
           {
            "count": 7,
            "value": "2019-11-27 10:30:00"
           },
           {
            "count": 6,
            "value": "2019-11-26 16:01:00"
           },
           {
            "count": 7,
            "value": "2019-11-27 12:42:00"
           },
           {
            "count": 8,
            "value": "2019-11-26 09:48:00"
           },
           {
            "count": 13,
            "value": "2019-11-15 00:00:00"
           },
           {
            "count": 6,
            "value": "2019-11-25 10:33:00"
           },
           {
            "count": 7,
            "value": "2019-11-26 10:15:00"
           },
           {
            "count": 9,
            "value": "2019-11-25 10:47:00"
           },
           {
            "count": 10,
            "value": "2019-11-03 00:00:00"
           },
           {
            "count": 7,
            "value": "2019-11-26 14:01:00"
           },
           {
            "count": 8,
            "value": "2019-11-26 12:29:00"
           },
           {
            "count": 6,
            "value": "2019-11-28 16:04:00"
           },
           {
            "count": 9,
            "value": "2019-11-28 00:00:00"
           },
           {
            "count": 6,
            "value": "2019-11-27 10:44:00"
           },
           {
            "count": 9,
            "value": "2019-11-25 13:13:00"
           },
           {
            "count": 6,
            "value": "2019-11-26 10:24:00"
           },
           {
            "count": 6,
            "value": "2019-11-07 00:00:00"
           },
           {
            "count": 8,
            "value": "2019-11-26 10:55:00"
           },
           {
            "count": 6,
            "value": "2019-11-26 12:43:00"
           },
           {
            "count": 7,
            "value": "2019-11-26 11:00:00"
           },
           {
            "count": 9,
            "value": "2019-11-26 13:32:00"
           },
           {
            "count": 10,
            "value": "2019-11-21 00:00:00"
           },
           {
            "count": 7,
            "value": "2019-11-26 13:50:00"
           },
           {
            "count": 7,
            "value": "2019-11-25 09:19:00"
           },
           {
            "count": 8,
            "value": "2019-11-26 11:21:00"
           },
           {
            "count": 6,
            "value": "2019-11-26 11:16:00"
           },
           {
            "count": 7,
            "value": "2019-11-01 16:39:00"
           },
           {
            "count": 7,
            "value": "2019-11-25 11:24:00"
           },
           {
            "count": 10,
            "value": "2019-11-25 11:01:00"
           },
           {
            "count": 10,
            "value": "2019-11-27 13:32:00"
           },
           {
            "count": 10,
            "value": "2019-11-16 00:00:00"
           },
           {
            "count": 7,
            "value": "2019-11-25 10:10:00"
           },
           {
            "count": 7,
            "value": "2019-11-01 10:10:00"
           },
           {
            "count": 8,
            "value": "2019-11-25 13:07:00"
           },
           {
            "count": 7,
            "value": "2019-11-26 09:57:00"
           }
          ]
         }
        },
        {
         "column": "DOLocationID",
         "profile": {
          "advanceProperty": {
           "numNan": 0,
           "numZero": 0
          },
          "column": "DOLocationID",
          "completeness": 1,
          "count": 449500,
          "dataType": "integer",
          "distinctCount": 262,
          "histograms": [
           {
            "count": 31897,
            "minBin": 1
           },
           {
            "count": 63532,
            "minBin": 27
           },
           {
            "count": 63006.00000000001,
            "minBin": 53
           },
           {
            "count": 40780,
            "minBin": 79
           },
           {
            "count": 34430,
            "minBin": 105
           },
           {
            "count": 44141,
            "minBin": 131
           },
           {
            "count": 48089,
            "minBin": 157
           },
           {
            "count": 24384,
            "minBin": 183
           },
           {
            "count": 36382,
            "minBin": 209
           },
           {
            "count": 62859,
            "minBin": 235
           }
          ],
          "max": 265,
          "mean": 129.31752169076765,
          "min": 1,
          "quantiles": [
           {
            "percentage": 0,
            "value": 1
           },
           {
            "percentage": 0.01,
            "value": 7
           },
           {
            "percentage": 0.02,
            "value": 7
           },
           {
            "percentage": 0.03,
            "value": 10
           },
           {
            "percentage": 0.04,
            "value": 17
           },
           {
            "percentage": 0.05,
            "value": 19
           },
           {
            "percentage": 0.06,
            "value": 25
           },
           {
            "percentage": 0.07,
            "value": 26
           },
           {
            "percentage": 0.08,
            "value": 33
           },
           {
            "percentage": 0.09,
            "value": 35
           },
           {
            "percentage": 0.1,
            "value": 37
           },
           {
            "percentage": 0.11,
            "value": 40
           },
           {
            "percentage": 0.12,
            "value": 41
           },
           {
            "percentage": 0.13,
            "value": 41
           },
           {
            "percentage": 0.14,
            "value": 41
           },
           {
            "percentage": 0.15,
            "value": 42
           },
           {
            "percentage": 0.16,
            "value": 42
           },
           {
            "percentage": 0.17,
            "value": 42
           },
           {
            "percentage": 0.18,
            "value": 43
           },
           {
            "percentage": 0.19,
            "value": 48
           },
           {
            "percentage": 0.2,
            "value": 49
           },
           {
            "percentage": 0.21,
            "value": 52
           },
           {
            "percentage": 0.22,
            "value": 56
           },
           {
            "percentage": 0.23,
            "value": 61
           },
           {
            "percentage": 0.24,
            "value": 61
           },
           {
            "percentage": 0.25,
            "value": 65
           },
           {
            "percentage": 0.26,
            "value": 68
           },
           {
            "percentage": 0.27,
            "value": 70
           },
           {
            "percentage": 0.28,
            "value": 74
           },
           {
            "percentage": 0.29,
            "value": 74
           },
           {
            "percentage": 0.3,
            "value": 74
           },
           {
            "percentage": 0.31,
            "value": 74
           },
           {
            "percentage": 0.32,
            "value": 75
           },
           {
            "percentage": 0.33,
            "value": 75
           },
           {
            "percentage": 0.34,
            "value": 75
           },
           {
            "percentage": 0.35,
            "value": 77
           },
           {
            "percentage": 0.36,
            "value": 81
           },
           {
            "percentage": 0.37,
            "value": 82
           },
           {
            "percentage": 0.38,
            "value": 83
           },
           {
            "percentage": 0.39,
            "value": 88
           },
           {
            "percentage": 0.4,
            "value": 91
           },
           {
            "percentage": 0.41,
            "value": 95
           },
           {
            "percentage": 0.42,
            "value": 95
           },
           {
            "percentage": 0.43,
            "value": 97
           },
           {
            "percentage": 0.44,
            "value": 100
           },
           {
            "percentage": 0.45,
            "value": 108
           },
           {
            "percentage": 0.46,
            "value": 116
           },
           {
            "percentage": 0.47,
            "value": 116
           },
           {
            "percentage": 0.48,
            "value": 121
           },
           {
            "percentage": 0.49,
            "value": 129
           },
           {
            "percentage": 0.5,
            "value": 129
           },
           {
            "percentage": 0.51,
            "value": 129
           },
           {
            "percentage": 0.52,
            "value": 131
           },
           {
            "percentage": 0.53,
            "value": 134
           },
           {
            "percentage": 0.54,
            "value": 137
           },
           {
            "percentage": 0.55,
            "value": 138
           },
           {
            "percentage": 0.56,
            "value": 140
           },
           {
            "percentage": 0.57,
            "value": 142
           },
           {
            "percentage": 0.58,
            "value": 145
           },
           {
            "percentage": 0.59,
            "value": 148
           },
           {
            "percentage": 0.6,
            "value": 151
           },
           {
            "percentage": 0.61,
            "value": 152
           },
           {
            "percentage": 0.62,
            "value": 157
           },
           {
            "percentage": 0.63,
            "value": 160
           },
           {
            "percentage": 0.64,
            "value": 163
           },
           {
            "percentage": 0.65,
            "value": 166
           },
           {
            "percentage": 0.66,
            "value": 166
           },
           {
            "percentage": 0.67,
            "value": 168
           },
           {
            "percentage": 0.68,
            "value": 170
           },
           {
            "percentage": 0.69,
            "value": 173
           },
           {
            "percentage": 0.7,
            "value": 179
           },
           {
            "percentage": 0.71,
            "value": 181
           },
           {
            "percentage": 0.72,
            "value": 181
           },
           {
            "percentage": 0.73,
            "value": 187
           },
           {
            "percentage": 0.74,
            "value": 189
           },
           {
            "percentage": 0.75,
            "value": 193
           },
           {
            "percentage": 0.76,
            "value": 196
           },
           {
            "percentage": 0.77,
            "value": 198
           },
           {
            "percentage": 0.78,
            "value": 209
           },
           {
            "percentage": 0.79,
            "value": 215
           },
           {
            "percentage": 0.8,
            "value": 218
           },
           {
            "percentage": 0.81,
            "value": 223
           },
           {
            "percentage": 0.82,
            "value": 223
           },
           {
            "percentage": 0.83,
            "value": 226
           },
           {
            "percentage": 0.84,
            "value": 227
           },
           {
            "percentage": 0.85,
            "value": 230
           },
           {
            "percentage": 0.86,
            "value": 234
           },
           {
            "percentage": 0.87,
            "value": 236
           },
           {
            "percentage": 0.88,
            "value": 237
           },
           {
            "percentage": 0.89,
            "value": 238
           },
           {
            "percentage": 0.9,
            "value": 238
           },
           {
            "percentage": 0.91,
            "value": 239
           },
           {
            "percentage": 0.92,
            "value": 243
           },
           {
            "percentage": 0.93,
            "value": 244
           },
           {
            "percentage": 0.94,
            "value": 246
           },
           {
            "percentage": 0.95,
            "value": 252
           },
           {
            "percentage": 0.96,
            "value": 256
           },
           {
            "percentage": 0.97,
            "value": 260
           },
           {
            "percentage": 0.98,
            "value": 262
           },
           {
            "percentage": 0.99,
            "value": 263
           },
           {
            "percentage": 1,
            "value": 265
           }
          ],
          "stddev": 76.3045133480584
         }
        },
        {
         "column": "PULocationID",
         "profile": {
          "advanceProperty": {
           "numNan": 0,
           "numZero": 0
          },
          "column": "PULocationID",
          "completeness": 1,
          "count": 449500,
          "dataType": "integer",
          "distinctCount": 260,
          "histograms": [
           {
            "count": 37618,
            "minBin": 1
           },
           {
            "count": 76108,
            "minBin": 27
           },
           {
            "count": 98866,
            "minBin": 53
           },
           {
            "count": 62954.00000000001,
            "minBin": 79
           },
           {
            "count": 34380,
            "minBin": 105
           },
           {
            "count": 18819,
            "minBin": 131
           },
           {
            "count": 41798,
            "minBin": 157
           },
           {
            "count": 16326.000000000002,
            "minBin": 183
           },
           {
            "count": 21974,
            "minBin": 209
           },
           {
            "count": 40657,
            "minBin": 235
           }
          ],
          "max": 265,
          "mean": 108.071323692992,
          "min": 1,
          "quantiles": [
           {
            "percentage": 0,
            "value": 1
           },
           {
            "percentage": 0.01,
            "value": 7
           },
           {
            "percentage": 0.02,
            "value": 7
           },
           {
            "percentage": 0.03,
            "value": 7
           },
           {
            "percentage": 0.04,
            "value": 7
           },
           {
            "percentage": 0.05,
            "value": 17
           },
           {
            "percentage": 0.06,
            "value": 24
           },
           {
            "percentage": 0.07,
            "value": 25
           },
           {
            "percentage": 0.08,
            "value": 25
           },
           {
            "percentage": 0.09,
            "value": 33
           },
           {
            "percentage": 0.1,
            "value": 33
           },
           {
            "percentage": 0.11,
            "value": 33
           },
           {
            "percentage": 0.12,
            "value": 37
           },
           {
            "percentage": 0.13,
            "value": 41
           },
           {
            "percentage": 0.14,
            "value": 41
           },
           {
            "percentage": 0.15,
            "value": 41
           },
           {
            "percentage": 0.16,
            "value": 41
           },
           {
            "percentage": 0.17,
            "value": 41
           },
           {
            "percentage": 0.18,
            "value": 41
           },
           {
            "percentage": 0.19,
            "value": 42
           },
           {
            "percentage": 0.2,
            "value": 42
           },
           {
            "percentage": 0.21,
            "value": 42
           },
           {
            "percentage": 0.22,
            "value": 42
           },
           {
            "percentage": 0.23,
            "value": 43
           },
           {
            "percentage": 0.24,
            "value": 49
           },
           {
            "percentage": 0.25,
            "value": 52
           },
           {
            "percentage": 0.26,
            "value": 56
           },
           {
            "percentage": 0.27,
            "value": 61
           },
           {
            "percentage": 0.28,
            "value": 65
           },
           {
            "percentage": 0.29,
            "value": 65
           },
           {
            "percentage": 0.3,
            "value": 66
           },
           {
            "percentage": 0.31,
            "value": 66
           },
           {
            "percentage": 0.32,
            "value": 71
           },
           {
            "percentage": 0.33,
            "value": 74
           },
           {
            "percentage": 0.34,
            "value": 74
           },
           {
            "percentage": 0.35,
            "value": 74
           },
           {
            "percentage": 0.36,
            "value": 74
           },
           {
            "percentage": 0.37,
            "value": 74
           },
           {
            "percentage": 0.38,
            "value": 74
           },
           {
            "percentage": 0.39,
            "value": 74
           },
           {
            "percentage": 0.4,
            "value": 74
           },
           {
            "percentage": 0.41,
            "value": 75
           },
           {
            "percentage": 0.42,
            "value": 75
           },
           {
            "percentage": 0.43,
            "value": 75
           },
           {
            "percentage": 0.44,
            "value": 75
           },
           {
            "percentage": 0.45,
            "value": 75
           },
           {
            "percentage": 0.46,
            "value": 75
           },
           {
            "percentage": 0.47,
            "value": 77
           },
           {
            "percentage": 0.48,
            "value": 82
           },
           {
            "percentage": 0.49,
            "value": 82
           },
           {
            "percentage": 0.5,
            "value": 82
           },
           {
            "percentage": 0.51,
            "value": 82
           },
           {
            "percentage": 0.52,
            "value": 82
           },
           {
            "percentage": 0.53,
            "value": 83
           },
           {
            "percentage": 0.54,
            "value": 89
           },
           {
            "percentage": 0.55,
            "value": 92
           },
           {
            "percentage": 0.56,
            "value": 95
           },
           {
            "percentage": 0.57,
            "value": 95
           },
           {
            "percentage": 0.58,
            "value": 95
           },
           {
            "percentage": 0.59,
            "value": 97
           },
           {
            "percentage": 0.6,
            "value": 97
           },
           {
            "percentage": 0.61,
            "value": 97
           },
           {
            "percentage": 0.62,
            "value": 112
           },
           {
            "percentage": 0.63,
            "value": 116
           },
           {
            "percentage": 0.64,
            "value": 121
           },
           {
            "percentage": 0.65,
            "value": 129
           },
           {
            "percentage": 0.66,
            "value": 129
           },
           {
            "percentage": 0.67,
            "value": 129
           },
           {
            "percentage": 0.68,
            "value": 130
           },
           {
            "percentage": 0.69,
            "value": 131
           },
           {
            "percentage": 0.7,
            "value": 134
           },
           {
            "percentage": 0.71,
            "value": 145
           },
           {
            "percentage": 0.72,
            "value": 149
           },
           {
            "percentage": 0.73,
            "value": 155
           },
           {
            "percentage": 0.74,
            "value": 166
           },
           {
            "percentage": 0.75,
            "value": 166
           },
           {
            "percentage": 0.76,
            "value": 166
           },
           {
            "percentage": 0.77,
            "value": 166
           },
           {
            "percentage": 0.78,
            "value": 166
           },
           {
            "percentage": 0.79,
            "value": 173
           },
           {
            "percentage": 0.8,
            "value": 179
           },
           {
            "percentage": 0.81,
            "value": 181
           },
           {
            "percentage": 0.82,
            "value": 181
           },
           {
            "percentage": 0.83,
            "value": 188
           },
           {
            "percentage": 0.84,
            "value": 193
           },
           {
            "percentage": 0.85,
            "value": 196
           },
           {
            "percentage": 0.86,
            "value": 208
           },
           {
            "percentage": 0.87,
            "value": 213
           },
           {
            "percentage": 0.88,
            "value": 222
           },
           {
            "percentage": 0.89,
            "value": 223
           },
           {
            "percentage": 0.9,
            "value": 226
           },
           {
            "percentage": 0.91,
            "value": 235
           },
           {
            "percentage": 0.92,
            "value": 242
           },
           {
            "percentage": 0.93,
            "value": 244
           },
           {
            "percentage": 0.94,
            "value": 244
           },
           {
            "percentage": 0.95,
            "value": 245
           },
           {
            "percentage": 0.96,
            "value": 255
           },
           {
            "percentage": 0.97,
            "value": 256
           },
           {
            "percentage": 0.98,
            "value": 260
           },
           {
            "percentage": 0.99,
            "value": 260
           },
           {
            "percentage": 1,
            "value": 265
           }
          ],
          "stddev": 71.07893144025388
         }
        },
        {
         "column": "trip_distance",
         "profile": {
          "advanceProperty": {
           "numNan": 0,
           "numZero": 12926
          },
          "column": "trip_distance",
          "completeness": 1,
          "count": 449500,
          "dataType": "float",
          "distinctCount": 5753,
          "histograms": [
           {
            "count": 0,
            "minBin": -20329.08
           },
           {
            "count": 0,
            "minBin": -18285.600000000002
           },
           {
            "count": 2,
            "minBin": -16242.12
           },
           {
            "count": 0,
            "minBin": -14198.640000000001
           },
           {
            "count": 0,
            "minBin": -12155.16
           },
           {
            "count": 0,
            "minBin": -10111.68
           },
           {
            "count": 0,
            "minBin": -8068.200000000001
           },
           {
            "count": 0,
            "minBin": -6024.719999999999
           },
           {
            "count": 0,
            "minBin": -3981.24
           },
           {
            "count": 449498,
            "minBin": -1937.7599999999984
           }
          ],
          "max": 105.72,
          "mean": 2.8923469410456075,
          "min": -20329.08,
          "quantiles": [
           {
            "percentage": 0,
            "value": -20329.08
           },
           {
            "percentage": 0.01,
            "value": -8.49
           },
           {
            "percentage": 0.02,
            "value": -4.01
           },
           {
            "percentage": 0.03,
            "value": -1.46
           },
           {
            "percentage": 0.04,
            "value": 0
           },
           {
            "percentage": 0.05,
            "value": 0
           },
           {
            "percentage": 0.06,
            "value": 0
           },
           {
            "percentage": 0.07,
            "value": 0.11
           },
           {
            "percentage": 0.08,
            "value": 0.32
           },
           {
            "percentage": 0.09,
            "value": 0.41
           },
           {
            "percentage": 0.1,
            "value": 0.48
           },
           {
            "percentage": 0.11,
            "value": 0.52
           },
           {
            "percentage": 0.12,
            "value": 0.57
           },
           {
            "percentage": 0.13,
            "value": 0.6
           },
           {
            "percentage": 0.14,
            "value": 0.65
           },
           {
            "percentage": 0.15,
            "value": 0.69
           },
           {
            "percentage": 0.16,
            "value": 0.71
           },
           {
            "percentage": 0.17,
            "value": 0.75
           },
           {
            "percentage": 0.18,
            "value": 0.78
           },
           {
            "percentage": 0.19,
            "value": 0.8
           },
           {
            "percentage": 0.2,
            "value": 0.84
           },
           {
            "percentage": 0.21,
            "value": 0.87
           },
           {
            "percentage": 0.22,
            "value": 0.9
           },
           {
            "percentage": 0.23,
            "value": 0.92
           },
           {
            "percentage": 0.24,
            "value": 0.95
           },
           {
            "percentage": 0.25,
            "value": 0.99
           },
           {
            "percentage": 0.26,
            "value": 1.01
           },
           {
            "percentage": 0.27,
            "value": 1.04
           },
           {
            "percentage": 0.28,
            "value": 1.08
           },
           {
            "percentage": 0.29,
            "value": 1.1
           },
           {
            "percentage": 0.3,
            "value": 1.13
           },
           {
            "percentage": 0.31,
            "value": 1.17
           },
           {
            "percentage": 0.32,
            "value": 1.2
           },
           {
            "percentage": 0.33,
            "value": 1.22
           },
           {
            "percentage": 0.34,
            "value": 1.26
           },
           {
            "percentage": 0.35,
            "value": 1.3
           },
           {
            "percentage": 0.36,
            "value": 1.32
           },
           {
            "percentage": 0.37,
            "value": 1.36
           },
           {
            "percentage": 0.38,
            "value": 1.39
           },
           {
            "percentage": 0.39,
            "value": 1.42
           },
           {
            "percentage": 0.4,
            "value": 1.46
           },
           {
            "percentage": 0.41,
            "value": 1.5
           },
           {
            "percentage": 0.42,
            "value": 1.53
           },
           {
            "percentage": 0.43,
            "value": 1.57
           },
           {
            "percentage": 0.44,
            "value": 1.6
           },
           {
            "percentage": 0.45,
            "value": 1.65
           },
           {
            "percentage": 0.46,
            "value": 1.7
           },
           {
            "percentage": 0.47,
            "value": 1.73
           },
           {
            "percentage": 0.48,
            "value": 1.79
           },
           {
            "percentage": 0.49,
            "value": 1.83
           },
           {
            "percentage": 0.5,
            "value": 1.88
           },
           {
            "percentage": 0.51,
            "value": 1.92
           },
           {
            "percentage": 0.52,
            "value": 1.98
           },
           {
            "percentage": 0.53,
            "value": 2.03
           },
           {
            "percentage": 0.54,
            "value": 2.09
           },
           {
            "percentage": 0.55,
            "value": 2.14
           },
           {
            "percentage": 0.56,
            "value": 2.2
           },
           {
            "percentage": 0.57,
            "value": 2.26
           },
           {
            "percentage": 0.58,
            "value": 2.32
           },
           {
            "percentage": 0.59,
            "value": 2.4
           },
           {
            "percentage": 0.6,
            "value": 2.46
           },
           {
            "percentage": 0.61,
            "value": 2.53
           },
           {
            "percentage": 0.62,
            "value": 2.6
           },
           {
            "percentage": 0.63,
            "value": 2.68
           },
           {
            "percentage": 0.64,
            "value": 2.76
           },
           {
            "percentage": 0.65,
            "value": 2.83
           },
           {
            "percentage": 0.66,
            "value": 2.91
           },
           {
            "percentage": 0.67,
            "value": 3
           },
           {
            "percentage": 0.68,
            "value": 3.1
           },
           {
            "percentage": 0.69,
            "value": 3.19
           },
           {
            "percentage": 0.7,
            "value": 3.28
           },
           {
            "percentage": 0.71,
            "value": 3.39
           },
           {
            "percentage": 0.72,
            "value": 3.5
           },
           {
            "percentage": 0.73,
            "value": 3.6
           },
           {
            "percentage": 0.74,
            "value": 3.72
           },
           {
            "percentage": 0.75,
            "value": 3.85
           },
           {
            "percentage": 0.76,
            "value": 3.98
           },
           {
            "percentage": 0.77,
            "value": 4.13
           },
           {
            "percentage": 0.78,
            "value": 4.3
           },
           {
            "percentage": 0.79,
            "value": 4.48
           },
           {
            "percentage": 0.8,
            "value": 4.67
           },
           {
            "percentage": 0.81,
            "value": 4.87
           },
           {
            "percentage": 0.82,
            "value": 5.1
           },
           {
            "percentage": 0.83,
            "value": 5.32
           },
           {
            "percentage": 0.84,
            "value": 5.59
           },
           {
            "percentage": 0.85,
            "value": 5.84
           },
           {
            "percentage": 0.86,
            "value": 6.13
           },
           {
            "percentage": 0.87,
            "value": 6.45
           },
           {
            "percentage": 0.88,
            "value": 6.8
           },
           {
            "percentage": 0.89,
            "value": 7.16
           },
           {
            "percentage": 0.9,
            "value": 7.58
           },
           {
            "percentage": 0.91,
            "value": 8.06
           },
           {
            "percentage": 0.92,
            "value": 8.66
           },
           {
            "percentage": 0.93,
            "value": 9.39
           },
           {
            "percentage": 0.94,
            "value": 10.26
           },
           {
            "percentage": 0.95,
            "value": 11.34
           },
           {
            "percentage": 0.96,
            "value": 12.69
           },
           {
            "percentage": 0.97,
            "value": 14.29
           },
           {
            "percentage": 0.98,
            "value": 16.44
           },
           {
            "percentage": 0.99,
            "value": 19.47
           },
           {
            "percentage": 1,
            "value": 105.72
           }
          ],
          "stddev": 44.14220334851708
         }
        },
        {
         "column": "RatecodeID",
         "profile": {
          "advanceProperty": {
           "numNan": 0,
           "numZero": 0
          },
          "column": "RatecodeID",
          "completeness": 0.806293659621802,
          "count": 362429,
          "dataType": "integer",
          "distinctCount": 7,
          "histograms": [
           {
            "count": 362429,
            "minBin": 1
           },
           {
            "count": 0,
            "minBin": 10
           },
           {
            "count": 0,
            "minBin": 19
           },
           {
            "count": 0,
            "minBin": 28
           },
           {
            "count": 0,
            "minBin": 37
           },
           {
            "count": 0,
            "minBin": 46
           },
           {
            "count": 0,
            "minBin": 55
           },
           {
            "count": 0,
            "minBin": 64
           },
           {
            "count": 0,
            "minBin": 73
           },
           {
            "count": 0,
            "minBin": 82
           }
          ],
          "max": 99,
          "mean": 1.1028918767537974,
          "min": 1,
          "quantiles": [
           {
            "percentage": 0,
            "value": 1
           },
           {
            "percentage": 0.01,
            "value": 1
           },
           {
            "percentage": 0.02,
            "value": 1
           },
           {
            "percentage": 0.03,
            "value": 1
           },
           {
            "percentage": 0.04,
            "value": 1
           },
           {
            "percentage": 0.05,
            "value": 1
           },
           {
            "percentage": 0.06,
            "value": 1
           },
           {
            "percentage": 0.07,
            "value": 1
           },
           {
            "percentage": 0.08,
            "value": 1
           },
           {
            "percentage": 0.09,
            "value": 1
           },
           {
            "percentage": 0.1,
            "value": 1
           },
           {
            "percentage": 0.11,
            "value": 1
           },
           {
            "percentage": 0.12,
            "value": 1
           },
           {
            "percentage": 0.13,
            "value": 1
           },
           {
            "percentage": 0.14,
            "value": 1
           },
           {
            "percentage": 0.15,
            "value": 1
           },
           {
            "percentage": 0.16,
            "value": 1
           },
           {
            "percentage": 0.17,
            "value": 1
           },
           {
            "percentage": 0.18,
            "value": 1
           },
           {
            "percentage": 0.19,
            "value": 1
           },
           {
            "percentage": 0.2,
            "value": 1
           },
           {
            "percentage": 0.21,
            "value": 1
           },
           {
            "percentage": 0.22,
            "value": 1
           },
           {
            "percentage": 0.23,
            "value": 1
           },
           {
            "percentage": 0.24,
            "value": 1
           },
           {
            "percentage": 0.25,
            "value": 1
           },
           {
            "percentage": 0.26,
            "value": 1
           },
           {
            "percentage": 0.27,
            "value": 1
           },
           {
            "percentage": 0.28,
            "value": 1
           },
           {
            "percentage": 0.29,
            "value": 1
           },
           {
            "percentage": 0.3,
            "value": 1
           },
           {
            "percentage": 0.31,
            "value": 1
           },
           {
            "percentage": 0.32,
            "value": 1
           },
           {
            "percentage": 0.33,
            "value": 1
           },
           {
            "percentage": 0.34,
            "value": 1
           },
           {
            "percentage": 0.35,
            "value": 1
           },
           {
            "percentage": 0.36,
            "value": 1
           },
           {
            "percentage": 0.37,
            "value": 1
           },
           {
            "percentage": 0.38,
            "value": 1
           },
           {
            "percentage": 0.39,
            "value": 1
           },
           {
            "percentage": 0.4,
            "value": 1
           },
           {
            "percentage": 0.41,
            "value": 1
           },
           {
            "percentage": 0.42,
            "value": 1
           },
           {
            "percentage": 0.43,
            "value": 1
           },
           {
            "percentage": 0.44,
            "value": 1
           },
           {
            "percentage": 0.45,
            "value": 1
           },
           {
            "percentage": 0.46,
            "value": 1
           },
           {
            "percentage": 0.47,
            "value": 1
           },
           {
            "percentage": 0.48,
            "value": 1
           },
           {
            "percentage": 0.49,
            "value": 1
           },
           {
            "percentage": 0.5,
            "value": 1
           },
           {
            "percentage": 0.51,
            "value": 1
           },
           {
            "percentage": 0.52,
            "value": 1
           },
           {
            "percentage": 0.53,
            "value": 1
           },
           {
            "percentage": 0.54,
            "value": 1
           },
           {
            "percentage": 0.55,
            "value": 1
           },
           {
            "percentage": 0.56,
            "value": 1
           },
           {
            "percentage": 0.57,
            "value": 1
           },
           {
            "percentage": 0.58,
            "value": 1
           },
           {
            "percentage": 0.59,
            "value": 1
           },
           {
            "percentage": 0.6,
            "value": 1
           },
           {
            "percentage": 0.61,
            "value": 1
           },
           {
            "percentage": 0.62,
            "value": 1
           },
           {
            "percentage": 0.63,
            "value": 1
           },
           {
            "percentage": 0.64,
            "value": 1
           },
           {
            "percentage": 0.65,
            "value": 1
           },
           {
            "percentage": 0.66,
            "value": 1
           },
           {
            "percentage": 0.67,
            "value": 1
           },
           {
            "percentage": 0.68,
            "value": 1
           },
           {
            "percentage": 0.69,
            "value": 1
           },
           {
            "percentage": 0.7,
            "value": 1
           },
           {
            "percentage": 0.71,
            "value": 1
           },
           {
            "percentage": 0.72,
            "value": 1
           },
           {
            "percentage": 0.73,
            "value": 1
           },
           {
            "percentage": 0.74,
            "value": 1
           },
           {
            "percentage": 0.75,
            "value": 1
           },
           {
            "percentage": 0.76,
            "value": 1
           },
           {
            "percentage": 0.77,
            "value": 1
           },
           {
            "percentage": 0.78,
            "value": 1
           },
           {
            "percentage": 0.79,
            "value": 1
           },
           {
            "percentage": 0.8,
            "value": 1
           },
           {
            "percentage": 0.81,
            "value": 1
           },
           {
            "percentage": 0.82,
            "value": 1
           },
           {
            "percentage": 0.83,
            "value": 1
           },
           {
            "percentage": 0.84,
            "value": 1
           },
           {
            "percentage": 0.85,
            "value": 1
           },
           {
            "percentage": 0.86,
            "value": 1
           },
           {
            "percentage": 0.87,
            "value": 1
           },
           {
            "percentage": 0.88,
            "value": 1
           },
           {
            "percentage": 0.89,
            "value": 1
           },
           {
            "percentage": 0.9,
            "value": 1
           },
           {
            "percentage": 0.91,
            "value": 1
           },
           {
            "percentage": 0.92,
            "value": 1
           },
           {
            "percentage": 0.93,
            "value": 1
           },
           {
            "percentage": 0.94,
            "value": 1
           },
           {
            "percentage": 0.95,
            "value": 1
           },
           {
            "percentage": 0.96,
            "value": 1
           },
           {
            "percentage": 0.97,
            "value": 1
           },
           {
            "percentage": 0.98,
            "value": 5
           },
           {
            "percentage": 0.99,
            "value": 5
           },
           {
            "percentage": 1,
            "value": 99
           }
          ],
          "stddev": 0.6636104505857771
         }
        },
        {
         "column": "VendorID",
         "profile": {
          "advanceProperty": {
           "numNan": 0,
           "numZero": 0
          },
          "column": "VendorID",
          "completeness": 0.806293659621802,
          "count": 362429,
          "dataType": "integer",
          "distinctCount": 2,
          "histograms": [
           {
            "count": 60939.99999999999,
            "minBin": 1
           },
           {
            "count": 301489,
            "minBin": 2
           }
          ],
          "max": 2,
          "mean": 1.8318649997654821,
          "min": 1,
          "quantiles": [
           {
            "percentage": 0,
            "value": 1
           },
           {
            "percentage": 0.01,
            "value": 1
           },
           {
            "percentage": 0.02,
            "value": 1
           },
           {
            "percentage": 0.03,
            "value": 1
           },
           {
            "percentage": 0.04,
            "value": 1
           },
           {
            "percentage": 0.05,
            "value": 1
           },
           {
            "percentage": 0.06,
            "value": 1
           },
           {
            "percentage": 0.07,
            "value": 1
           },
           {
            "percentage": 0.08,
            "value": 1
           },
           {
            "percentage": 0.09,
            "value": 1
           },
           {
            "percentage": 0.1,
            "value": 1
           },
           {
            "percentage": 0.11,
            "value": 1
           },
           {
            "percentage": 0.12,
            "value": 1
           },
           {
            "percentage": 0.13,
            "value": 1
           },
           {
            "percentage": 0.14,
            "value": 1
           },
           {
            "percentage": 0.15,
            "value": 1
           },
           {
            "percentage": 0.16,
            "value": 1
           },
           {
            "percentage": 0.17,
            "value": 2
           },
           {
            "percentage": 0.18,
            "value": 2
           },
           {
            "percentage": 0.19,
            "value": 2
           },
           {
            "percentage": 0.2,
            "value": 2
           },
           {
            "percentage": 0.21,
            "value": 2
           },
           {
            "percentage": 0.22,
            "value": 2
           },
           {
            "percentage": 0.23,
            "value": 2
           },
           {
            "percentage": 0.24,
            "value": 2
           },
           {
            "percentage": 0.25,
            "value": 2
           },
           {
            "percentage": 0.26,
            "value": 2
           },
           {
            "percentage": 0.27,
            "value": 2
           },
           {
            "percentage": 0.28,
            "value": 2
           },
           {
            "percentage": 0.29,
            "value": 2
           },
           {
            "percentage": 0.3,
            "value": 2
           },
           {
            "percentage": 0.31,
            "value": 2
           },
           {
            "percentage": 0.32,
            "value": 2
           },
           {
            "percentage": 0.33,
            "value": 2
           },
           {
            "percentage": 0.34,
            "value": 2
           },
           {
            "percentage": 0.35,
            "value": 2
           },
           {
            "percentage": 0.36,
            "value": 2
           },
           {
            "percentage": 0.37,
            "value": 2
           },
           {
            "percentage": 0.38,
            "value": 2
           },
           {
            "percentage": 0.39,
            "value": 2
           },
           {
            "percentage": 0.4,
            "value": 2
           },
           {
            "percentage": 0.41,
            "value": 2
           },
           {
            "percentage": 0.42,
            "value": 2
           },
           {
            "percentage": 0.43,
            "value": 2
           },
           {
            "percentage": 0.44,
            "value": 2
           },
           {
            "percentage": 0.45,
            "value": 2
           },
           {
            "percentage": 0.46,
            "value": 2
           },
           {
            "percentage": 0.47,
            "value": 2
           },
           {
            "percentage": 0.48,
            "value": 2
           },
           {
            "percentage": 0.49,
            "value": 2
           },
           {
            "percentage": 0.5,
            "value": 2
           },
           {
            "percentage": 0.51,
            "value": 2
           },
           {
            "percentage": 0.52,
            "value": 2
           },
           {
            "percentage": 0.53,
            "value": 2
           },
           {
            "percentage": 0.54,
            "value": 2
           },
           {
            "percentage": 0.55,
            "value": 2
           },
           {
            "percentage": 0.56,
            "value": 2
           },
           {
            "percentage": 0.57,
            "value": 2
           },
           {
            "percentage": 0.58,
            "value": 2
           },
           {
            "percentage": 0.59,
            "value": 2
           },
           {
            "percentage": 0.6,
            "value": 2
           },
           {
            "percentage": 0.61,
            "value": 2
           },
           {
            "percentage": 0.62,
            "value": 2
           },
           {
            "percentage": 0.63,
            "value": 2
           },
           {
            "percentage": 0.64,
            "value": 2
           },
           {
            "percentage": 0.65,
            "value": 2
           },
           {
            "percentage": 0.66,
            "value": 2
           },
           {
            "percentage": 0.67,
            "value": 2
           },
           {
            "percentage": 0.68,
            "value": 2
           },
           {
            "percentage": 0.69,
            "value": 2
           },
           {
            "percentage": 0.7,
            "value": 2
           },
           {
            "percentage": 0.71,
            "value": 2
           },
           {
            "percentage": 0.72,
            "value": 2
           },
           {
            "percentage": 0.73,
            "value": 2
           },
           {
            "percentage": 0.74,
            "value": 2
           },
           {
            "percentage": 0.75,
            "value": 2
           },
           {
            "percentage": 0.76,
            "value": 2
           },
           {
            "percentage": 0.77,
            "value": 2
           },
           {
            "percentage": 0.78,
            "value": 2
           },
           {
            "percentage": 0.79,
            "value": 2
           },
           {
            "percentage": 0.8,
            "value": 2
           },
           {
            "percentage": 0.81,
            "value": 2
           },
           {
            "percentage": 0.82,
            "value": 2
           },
           {
            "percentage": 0.83,
            "value": 2
           },
           {
            "percentage": 0.84,
            "value": 2
           },
           {
            "percentage": 0.85,
            "value": 2
           },
           {
            "percentage": 0.86,
            "value": 2
           },
           {
            "percentage": 0.87,
            "value": 2
           },
           {
            "percentage": 0.88,
            "value": 2
           },
           {
            "percentage": 0.89,
            "value": 2
           },
           {
            "percentage": 0.9,
            "value": 2
           },
           {
            "percentage": 0.91,
            "value": 2
           },
           {
            "percentage": 0.92,
            "value": 2
           },
           {
            "percentage": 0.93,
            "value": 2
           },
           {
            "percentage": 0.94,
            "value": 2
           },
           {
            "percentage": 0.95,
            "value": 2
           },
           {
            "percentage": 0.96,
            "value": 2
           },
           {
            "percentage": 0.97,
            "value": 2
           },
           {
            "percentage": 0.98,
            "value": 2
           },
           {
            "percentage": 0.99,
            "value": 2
           },
           {
            "percentage": 1,
            "value": 2
           }
          ],
          "stddev": 0.3739861253183926
         }
        },
        {
         "column": "trip_type",
         "profile": {
          "advanceProperty": {
           "numNan": 0,
           "numZero": 0
          },
          "column": "trip_type",
          "completeness": 0.806293659621802,
          "count": 362429,
          "dataType": "integer",
          "distinctCount": 2,
          "histograms": [
           {
            "count": 353720,
            "minBin": 1
           },
           {
            "count": 8709,
            "minBin": 2
           }
          ],
          "max": 2,
          "mean": 1.0240516073493018,
          "min": 1,
          "quantiles": [
           {
            "percentage": 0,
            "value": 1
           },
           {
            "percentage": 0.01,
            "value": 1
           },
           {
            "percentage": 0.02,
            "value": 1
           },
           {
            "percentage": 0.03,
            "value": 1
           },
           {
            "percentage": 0.04,
            "value": 1
           },
           {
            "percentage": 0.05,
            "value": 1
           },
           {
            "percentage": 0.06,
            "value": 1
           },
           {
            "percentage": 0.07,
            "value": 1
           },
           {
            "percentage": 0.08,
            "value": 1
           },
           {
            "percentage": 0.09,
            "value": 1
           },
           {
            "percentage": 0.1,
            "value": 1
           },
           {
            "percentage": 0.11,
            "value": 1
           },
           {
            "percentage": 0.12,
            "value": 1
           },
           {
            "percentage": 0.13,
            "value": 1
           },
           {
            "percentage": 0.14,
            "value": 1
           },
           {
            "percentage": 0.15,
            "value": 1
           },
           {
            "percentage": 0.16,
            "value": 1
           },
           {
            "percentage": 0.17,
            "value": 1
           },
           {
            "percentage": 0.18,
            "value": 1
           },
           {
            "percentage": 0.19,
            "value": 1
           },
           {
            "percentage": 0.2,
            "value": 1
           },
           {
            "percentage": 0.21,
            "value": 1
           },
           {
            "percentage": 0.22,
            "value": 1
           },
           {
            "percentage": 0.23,
            "value": 1
           },
           {
            "percentage": 0.24,
            "value": 1
           },
           {
            "percentage": 0.25,
            "value": 1
           },
           {
            "percentage": 0.26,
            "value": 1
           },
           {
            "percentage": 0.27,
            "value": 1
           },
           {
            "percentage": 0.28,
            "value": 1
           },
           {
            "percentage": 0.29,
            "value": 1
           },
           {
            "percentage": 0.3,
            "value": 1
           },
           {
            "percentage": 0.31,
            "value": 1
           },
           {
            "percentage": 0.32,
            "value": 1
           },
           {
            "percentage": 0.33,
            "value": 1
           },
           {
            "percentage": 0.34,
            "value": 1
           },
           {
            "percentage": 0.35,
            "value": 1
           },
           {
            "percentage": 0.36,
            "value": 1
           },
           {
            "percentage": 0.37,
            "value": 1
           },
           {
            "percentage": 0.38,
            "value": 1
           },
           {
            "percentage": 0.39,
            "value": 1
           },
           {
            "percentage": 0.4,
            "value": 1
           },
           {
            "percentage": 0.41,
            "value": 1
           },
           {
            "percentage": 0.42,
            "value": 1
           },
           {
            "percentage": 0.43,
            "value": 1
           },
           {
            "percentage": 0.44,
            "value": 1
           },
           {
            "percentage": 0.45,
            "value": 1
           },
           {
            "percentage": 0.46,
            "value": 1
           },
           {
            "percentage": 0.47,
            "value": 1
           },
           {
            "percentage": 0.48,
            "value": 1
           },
           {
            "percentage": 0.49,
            "value": 1
           },
           {
            "percentage": 0.5,
            "value": 1
           },
           {
            "percentage": 0.51,
            "value": 1
           },
           {
            "percentage": 0.52,
            "value": 1
           },
           {
            "percentage": 0.53,
            "value": 1
           },
           {
            "percentage": 0.54,
            "value": 1
           },
           {
            "percentage": 0.55,
            "value": 1
           },
           {
            "percentage": 0.56,
            "value": 1
           },
           {
            "percentage": 0.57,
            "value": 1
           },
           {
            "percentage": 0.58,
            "value": 1
           },
           {
            "percentage": 0.59,
            "value": 1
           },
           {
            "percentage": 0.6,
            "value": 1
           },
           {
            "percentage": 0.61,
            "value": 1
           },
           {
            "percentage": 0.62,
            "value": 1
           },
           {
            "percentage": 0.63,
            "value": 1
           },
           {
            "percentage": 0.64,
            "value": 1
           },
           {
            "percentage": 0.65,
            "value": 1
           },
           {
            "percentage": 0.66,
            "value": 1
           },
           {
            "percentage": 0.67,
            "value": 1
           },
           {
            "percentage": 0.68,
            "value": 1
           },
           {
            "percentage": 0.69,
            "value": 1
           },
           {
            "percentage": 0.7,
            "value": 1
           },
           {
            "percentage": 0.71,
            "value": 1
           },
           {
            "percentage": 0.72,
            "value": 1
           },
           {
            "percentage": 0.73,
            "value": 1
           },
           {
            "percentage": 0.74,
            "value": 1
           },
           {
            "percentage": 0.75,
            "value": 1
           },
           {
            "percentage": 0.76,
            "value": 1
           },
           {
            "percentage": 0.77,
            "value": 1
           },
           {
            "percentage": 0.78,
            "value": 1
           },
           {
            "percentage": 0.79,
            "value": 1
           },
           {
            "percentage": 0.8,
            "value": 1
           },
           {
            "percentage": 0.81,
            "value": 1
           },
           {
            "percentage": 0.82,
            "value": 1
           },
           {
            "percentage": 0.83,
            "value": 1
           },
           {
            "percentage": 0.84,
            "value": 1
           },
           {
            "percentage": 0.85,
            "value": 1
           },
           {
            "percentage": 0.86,
            "value": 1
           },
           {
            "percentage": 0.87,
            "value": 1
           },
           {
            "percentage": 0.88,
            "value": 1
           },
           {
            "percentage": 0.89,
            "value": 1
           },
           {
            "percentage": 0.9,
            "value": 1
           },
           {
            "percentage": 0.91,
            "value": 1
           },
           {
            "percentage": 0.92,
            "value": 1
           },
           {
            "percentage": 0.93,
            "value": 1
           },
           {
            "percentage": 0.94,
            "value": 1
           },
           {
            "percentage": 0.95,
            "value": 1
           },
           {
            "percentage": 0.96,
            "value": 1
           },
           {
            "percentage": 0.97,
            "value": 1
           },
           {
            "percentage": 0.98,
            "value": 2
           },
           {
            "percentage": 0.99,
            "value": 2
           },
           {
            "percentage": 1,
            "value": 2
           }
          ],
          "stddev": 0.15320942377418073
         }
        },
        {
         "column": "lpep_pickup_datetime",
         "profile": {
          "advanceProperty": {},
          "column": "lpep_pickup_datetime",
          "completeness": 1,
          "count": 449500,
          "dataType": "datetime",
          "distinctCount": 362561,
          "topK": [
           {
            "count": 7,
            "value": "2019-11-26 11:59:00"
           },
           {
            "count": 9,
            "value": "2019-11-25 09:25:00"
           },
           {
            "count": 9,
            "value": "2019-11-25 12:41:00"
           },
           {
            "count": 6,
            "value": "2019-11-27 18:10:00"
           },
           {
            "count": 6,
            "value": "2019-11-25 12:22:00"
           },
           {
            "count": 6,
            "value": "2019-11-26 12:12:00"
           },
           {
            "count": 7,
            "value": "2019-11-01 11:25:00"
           },
           {
            "count": 7,
            "value": "2019-11-25 08:16:00"
           },
           {
            "count": 7,
            "value": "2019-11-27 10:34:00"
           },
           {
            "count": 6,
            "value": "2019-11-25 17:04:00"
           },
           {
            "count": 8,
            "value": "2019-11-27 11:12:00"
           },
           {
            "count": 7,
            "value": "2019-11-26 11:43:00"
           },
           {
            "count": 6,
            "value": "2019-11-26 18:30:00"
           },
           {
            "count": 7,
            "value": "2019-11-25 17:35:00"
           },
           {
            "count": 6,
            "value": "2019-11-27 12:04:00"
           },
           {
            "count": 9,
            "value": "2019-11-27 10:06:00"
           },
           {
            "count": 7,
            "value": "2019-11-02 12:41:00"
           },
           {
            "count": 8,
            "value": "2019-11-01 09:47:00"
           },
           {
            "count": 7,
            "value": "2019-11-26 13:01:00"
           },
           {
            "count": 10,
            "value": "2019-11-26 10:36:00"
           },
           {
            "count": 7,
            "value": "2019-11-26 10:35:00"
           },
           {
            "count": 9,
            "value": "2019-11-26 14:04:00"
           },
           {
            "count": 8,
            "value": "2019-11-27 15:27:00"
           },
           {
            "count": 8,
            "value": "2019-11-25 15:04:00"
           },
           {
            "count": 7,
            "value": "2019-11-27 13:49:00"
           },
           {
            "count": 7,
            "value": "2019-11-27 11:15:00"
           },
           {
            "count": 6,
            "value": "2019-11-01 14:04:00"
           },
           {
            "count": 13,
            "value": "2019-11-27 14:34:00"
           },
           {
            "count": 7,
            "value": "2019-11-26 09:41:00"
           },
           {
            "count": 7,
            "value": "2019-11-26 15:26:00"
           },
           {
            "count": 7,
            "value": "2019-11-20 10:31:00"
           },
           {
            "count": 6,
            "value": "2019-11-25 11:56:00"
           },
           {
            "count": 7,
            "value": "2019-11-01 08:23:00"
           },
           {
            "count": 7,
            "value": "2019-11-25 12:58:00"
           },
           {
            "count": 6,
            "value": "2019-11-25 09:30:00"
           },
           {
            "count": 7,
            "value": "2019-11-26 09:52:00"
           },
           {
            "count": 10,
            "value": "2019-11-01 09:04:00"
           },
           {
            "count": 6,
            "value": "2019-11-25 12:08:00"
           },
           {
            "count": 7,
            "value": "2019-11-24 10:17:00"
           },
           {
            "count": 6,
            "value": "2019-11-01 09:22:00"
           },
           {
            "count": 6,
            "value": "2019-11-26 09:51:00"
           },
           {
            "count": 7,
            "value": "2019-11-26 13:21:00"
           },
           {
            "count": 8,
            "value": "2019-11-26 13:39:00"
           },
           {
            "count": 7,
            "value": "2019-11-25 16:06:00"
           },
           {
            "count": 7,
            "value": "2019-11-26 14:03:00"
           },
           {
            "count": 8,
            "value": "2019-11-01 15:01:00"
           },
           {
            "count": 7,
            "value": "2019-11-25 08:55:00"
           },
           {
            "count": 7,
            "value": "2019-11-25 09:59:00"
           },
           {
            "count": 6,
            "value": "2019-11-01 12:16:00"
           },
           {
            "count": 8,
            "value": "2019-11-27 11:57:00"
           },
           {
            "count": 6,
            "value": "2019-11-25 12:42:00"
           },
           {
            "count": 7,
            "value": "2019-11-26 09:20:00"
           },
           {
            "count": 8,
            "value": "2019-11-26 15:30:00"
           },
           {
            "count": 6,
            "value": "2019-11-26 06:37:00"
           },
           {
            "count": 7,
            "value": "2019-11-01 07:31:00"
           },
           {
            "count": 7,
            "value": "2019-11-01 10:42:00"
           },
           {
            "count": 8,
            "value": "2019-11-26 13:10:00"
           },
           {
            "count": 6,
            "value": "2019-11-24 13:19:00"
           },
           {
            "count": 6,
            "value": "2019-11-26 15:31:00"
           },
           {
            "count": 9,
            "value": "2019-11-25 12:28:00"
           },
           {
            "count": 6,
            "value": "2019-11-26 11:55:00"
           },
           {
            "count": 7,
            "value": "2019-11-01 10:29:00"
           },
           {
            "count": 7,
            "value": "2019-11-26 14:52:00"
           },
           {
            "count": 7,
            "value": "2019-11-25 14:09:00"
           },
           {
            "count": 9,
            "value": "2019-11-26 10:16:00"
           },
           {
            "count": 7,
            "value": "2019-11-26 14:25:00"
           },
           {
            "count": 6,
            "value": "2019-11-06 15:45:00"
           },
           {
            "count": 7,
            "value": "2019-11-01 17:07:00"
           },
           {
            "count": 7,
            "value": "2019-11-26 07:30:00"
           },
           {
            "count": 7,
            "value": "2019-11-25 11:09:00"
           },
           {
            "count": 6,
            "value": "2019-11-30 15:02:00"
           },
           {
            "count": 7,
            "value": "2019-11-25 12:55:00"
           },
           {
            "count": 7,
            "value": "2019-11-01 10:28:00"
           },
           {
            "count": 8,
            "value": "2019-11-26 10:25:00"
           },
           {
            "count": 7,
            "value": "2019-11-25 10:00:00"
           },
           {
            "count": 6,
            "value": "2019-11-28 14:56:00"
           },
           {
            "count": 7,
            "value": "2019-11-27 10:14:00"
           },
           {
            "count": 7,
            "value": "2019-11-25 14:54:00"
           },
           {
            "count": 7,
            "value": "2019-11-25 11:21:00"
           },
           {
            "count": 7,
            "value": "2019-11-26 10:00:00"
           },
           {
            "count": 7,
            "value": "2019-11-27 11:11:00"
           },
           {
            "count": 6,
            "value": "2019-11-25 09:03:00"
           },
           {
            "count": 7,
            "value": "2019-11-25 09:29:00"
           },
           {
            "count": 7,
            "value": "2019-11-26 13:47:00"
           },
           {
            "count": 7,
            "value": "2019-11-25 10:49:00"
           },
           {
            "count": 7,
            "value": "2019-11-25 11:52:00"
           },
           {
            "count": 6,
            "value": "2019-11-26 12:36:00"
           },
           {
            "count": 7,
            "value": "2019-11-25 11:23:00"
           },
           {
            "count": 9,
            "value": "2019-11-24 13:32:00"
           },
           {
            "count": 7,
            "value": "2019-11-26 10:09:00"
           },
           {
            "count": 6,
            "value": "2019-11-26 12:39:00"
           },
           {
            "count": 8,
            "value": "2019-11-27 12:50:00"
           },
           {
            "count": 10,
            "value": "2019-11-27 12:02:00"
           },
           {
            "count": 8,
            "value": "2019-11-26 10:05:00"
           },
           {
            "count": 8,
            "value": "2019-11-25 11:01:00"
           },
           {
            "count": 8,
            "value": "2019-11-25 15:56:00"
           },
           {
            "count": 7,
            "value": "2019-11-01 14:21:00"
           },
           {
            "count": 8,
            "value": "2019-11-01 10:10:00"
           },
           {
            "count": 7,
            "value": "2019-11-26 09:44:00"
           },
           {
            "count": 7,
            "value": "2019-11-01 09:54:00"
           }
          ]
         }
        },
        {
         "column": "passenger_count",
         "profile": {
          "advanceProperty": {
           "numNan": 0,
           "numZero": 707
          },
          "column": "passenger_count",
          "completeness": 0.806293659621802,
          "count": 362429,
          "dataType": "integer",
          "distinctCount": 10,
          "histograms": [
           {
            "count": 708.9999999999999,
            "minBin": 0
           },
           {
            "count": 311242,
            "minBin": 1
           },
           {
            "count": 26913.000000000004,
            "minBin": 2
           },
           {
            "count": 5207,
            "minBin": 3
           },
           {
            "count": 1877,
            "minBin": 4
           },
           {
            "count": 10347,
            "minBin": 5
           },
           {
            "count": 6114,
            "minBin": 6
           },
           {
            "count": 4,
            "minBin": 7
           },
           {
            "count": 16,
            "minBin": 8
           },
           {
            "count": 0,
            "minBin": 9
           }
          ],
          "max": 9,
          "mean": 1.3155100723176139,
          "min": 0,
          "quantiles": [
           {
            "percentage": 0,
            "value": 0
           },
           {
            "percentage": 0.01,
            "value": 1
           },
           {
            "percentage": 0.02,
            "value": 1
           },
           {
            "percentage": 0.03,
            "value": 1
           },
           {
            "percentage": 0.04,
            "value": 1
           },
           {
            "percentage": 0.05,
            "value": 1
           },
           {
            "percentage": 0.06,
            "value": 1
           },
           {
            "percentage": 0.07,
            "value": 1
           },
           {
            "percentage": 0.08,
            "value": 1
           },
           {
            "percentage": 0.09,
            "value": 1
           },
           {
            "percentage": 0.1,
            "value": 1
           },
           {
            "percentage": 0.11,
            "value": 1
           },
           {
            "percentage": 0.12,
            "value": 1
           },
           {
            "percentage": 0.13,
            "value": 1
           },
           {
            "percentage": 0.14,
            "value": 1
           },
           {
            "percentage": 0.15,
            "value": 1
           },
           {
            "percentage": 0.16,
            "value": 1
           },
           {
            "percentage": 0.17,
            "value": 1
           },
           {
            "percentage": 0.18,
            "value": 1
           },
           {
            "percentage": 0.19,
            "value": 1
           },
           {
            "percentage": 0.2,
            "value": 1
           },
           {
            "percentage": 0.21,
            "value": 1
           },
           {
            "percentage": 0.22,
            "value": 1
           },
           {
            "percentage": 0.23,
            "value": 1
           },
           {
            "percentage": 0.24,
            "value": 1
           },
           {
            "percentage": 0.25,
            "value": 1
           },
           {
            "percentage": 0.26,
            "value": 1
           },
           {
            "percentage": 0.27,
            "value": 1
           },
           {
            "percentage": 0.28,
            "value": 1
           },
           {
            "percentage": 0.29,
            "value": 1
           },
           {
            "percentage": 0.3,
            "value": 1
           },
           {
            "percentage": 0.31,
            "value": 1
           },
           {
            "percentage": 0.32,
            "value": 1
           },
           {
            "percentage": 0.33,
            "value": 1
           },
           {
            "percentage": 0.34,
            "value": 1
           },
           {
            "percentage": 0.35,
            "value": 1
           },
           {
            "percentage": 0.36,
            "value": 1
           },
           {
            "percentage": 0.37,
            "value": 1
           },
           {
            "percentage": 0.38,
            "value": 1
           },
           {
            "percentage": 0.39,
            "value": 1
           },
           {
            "percentage": 0.4,
            "value": 1
           },
           {
            "percentage": 0.41,
            "value": 1
           },
           {
            "percentage": 0.42,
            "value": 1
           },
           {
            "percentage": 0.43,
            "value": 1
           },
           {
            "percentage": 0.44,
            "value": 1
           },
           {
            "percentage": 0.45,
            "value": 1
           },
           {
            "percentage": 0.46,
            "value": 1
           },
           {
            "percentage": 0.47,
            "value": 1
           },
           {
            "percentage": 0.48,
            "value": 1
           },
           {
            "percentage": 0.49,
            "value": 1
           },
           {
            "percentage": 0.5,
            "value": 1
           },
           {
            "percentage": 0.51,
            "value": 1
           },
           {
            "percentage": 0.52,
            "value": 1
           },
           {
            "percentage": 0.53,
            "value": 1
           },
           {
            "percentage": 0.54,
            "value": 1
           },
           {
            "percentage": 0.55,
            "value": 1
           },
           {
            "percentage": 0.56,
            "value": 1
           },
           {
            "percentage": 0.57,
            "value": 1
           },
           {
            "percentage": 0.58,
            "value": 1
           },
           {
            "percentage": 0.59,
            "value": 1
           },
           {
            "percentage": 0.6,
            "value": 1
           },
           {
            "percentage": 0.61,
            "value": 1
           },
           {
            "percentage": 0.62,
            "value": 1
           },
           {
            "percentage": 0.63,
            "value": 1
           },
           {
            "percentage": 0.64,
            "value": 1
           },
           {
            "percentage": 0.65,
            "value": 1
           },
           {
            "percentage": 0.66,
            "value": 1
           },
           {
            "percentage": 0.67,
            "value": 1
           },
           {
            "percentage": 0.68,
            "value": 1
           },
           {
            "percentage": 0.69,
            "value": 1
           },
           {
            "percentage": 0.7,
            "value": 1
           },
           {
            "percentage": 0.71,
            "value": 1
           },
           {
            "percentage": 0.72,
            "value": 1
           },
           {
            "percentage": 0.73,
            "value": 1
           },
           {
            "percentage": 0.74,
            "value": 1
           },
           {
            "percentage": 0.75,
            "value": 1
           },
           {
            "percentage": 0.76,
            "value": 1
           },
           {
            "percentage": 0.77,
            "value": 1
           },
           {
            "percentage": 0.78,
            "value": 1
           },
           {
            "percentage": 0.79,
            "value": 1
           },
           {
            "percentage": 0.8,
            "value": 1
           },
           {
            "percentage": 0.81,
            "value": 1
           },
           {
            "percentage": 0.82,
            "value": 1
           },
           {
            "percentage": 0.83,
            "value": 1
           },
           {
            "percentage": 0.84,
            "value": 1
           },
           {
            "percentage": 0.85,
            "value": 1
           },
           {
            "percentage": 0.86,
            "value": 1
           },
           {
            "percentage": 0.87,
            "value": 2
           },
           {
            "percentage": 0.88,
            "value": 2
           },
           {
            "percentage": 0.89,
            "value": 2
           },
           {
            "percentage": 0.9,
            "value": 2
           },
           {
            "percentage": 0.91,
            "value": 2
           },
           {
            "percentage": 0.92,
            "value": 2
           },
           {
            "percentage": 0.93,
            "value": 2
           },
           {
            "percentage": 0.94,
            "value": 3
           },
           {
            "percentage": 0.95,
            "value": 4
           },
           {
            "percentage": 0.96,
            "value": 5
           },
           {
            "percentage": 0.97,
            "value": 5
           },
           {
            "percentage": 0.98,
            "value": 5
           },
           {
            "percentage": 0.99,
            "value": 6
           },
           {
            "percentage": 1,
            "value": 9
           }
          ],
          "stddev": 0.9806875946019225
         }
        },
        {
         "column": "total_amount",
         "profile": {
          "advanceProperty": {
           "numNan": 0,
           "numZero": 1176
          },
          "column": "total_amount",
          "completeness": 1,
          "count": 449500,
          "dataType": "float",
          "distinctCount": 5683,
          "histograms": [
           {
            "count": 230.00000000000003,
            "minBin": -125
           },
           {
            "count": 444445,
            "minBin": -29.167
           },
           {
            "count": 4743,
            "minBin": 66.666
           },
           {
            "count": 42,
            "minBin": 162.49900000000002
           },
           {
            "count": 32,
            "minBin": 258.332
           },
           {
            "count": 0,
            "minBin": 354.16499999999996
           },
           {
            "count": 0,
            "minBin": 449.99800000000005
           },
           {
            "count": 0,
            "minBin": 545.831
           },
           {
            "count": 0,
            "minBin": 641.664
           },
           {
            "count": 8,
            "minBin": 737.497
           }
          ],
          "max": 833.33,
          "mean": 18.707840155728558,
          "min": -125,
          "quantiles": [
           {
            "percentage": 0,
            "value": -125
           },
           {
            "percentage": 0.01,
            "value": 3.3
           },
           {
            "percentage": 0.02,
            "value": 4.3
           },
           {
            "percentage": 0.03,
            "value": 4.8
           },
           {
            "percentage": 0.04,
            "value": 5.3
           },
           {
            "percentage": 0.05,
            "value": 5.8
           },
           {
            "percentage": 0.06,
            "value": 5.8
           },
           {
            "percentage": 0.07,
            "value": 6.3
           },
           {
            "percentage": 0.08,
            "value": 6.3
           },
           {
            "percentage": 0.09,
            "value": 6.36
           },
           {
            "percentage": 0.1,
            "value": 6.8
           },
           {
            "percentage": 0.11,
            "value": 6.8
           },
           {
            "percentage": 0.12,
            "value": 6.96
           },
           {
            "percentage": 0.13,
            "value": 7.3
           },
           {
            "percentage": 0.14,
            "value": 7.3
           },
           {
            "percentage": 0.15,
            "value": 7.3
           },
           {
            "percentage": 0.16,
            "value": 7.56
           },
           {
            "percentage": 0.17,
            "value": 7.8
           },
           {
            "percentage": 0.18,
            "value": 7.8
           },
           {
            "percentage": 0.19,
            "value": 8.15
           },
           {
            "percentage": 0.2,
            "value": 8.3
           },
           {
            "percentage": 0.21,
            "value": 8.3
           },
           {
            "percentage": 0.22,
            "value": 8.3
           },
           {
            "percentage": 0.23,
            "value": 8.76
           },
           {
            "percentage": 0.24,
            "value": 8.8
           },
           {
            "percentage": 0.25,
            "value": 8.8
           },
           {
            "percentage": 0.26,
            "value": 9.12
           },
           {
            "percentage": 0.27,
            "value": 9.3
           },
           {
            "percentage": 0.28,
            "value": 9.35
           },
           {
            "percentage": 0.29,
            "value": 9.55
           },
           {
            "percentage": 0.3,
            "value": 9.8
           },
           {
            "percentage": 0.31,
            "value": 9.8
           },
           {
            "percentage": 0.32,
            "value": 10
           },
           {
            "percentage": 0.33,
            "value": 10.3
           },
           {
            "percentage": 0.34,
            "value": 10.3
           },
           {
            "percentage": 0.35,
            "value": 10.56
           },
           {
            "percentage": 0.36,
            "value": 10.8
           },
           {
            "percentage": 0.37,
            "value": 11
           },
           {
            "percentage": 0.38,
            "value": 11.3
           },
           {
            "percentage": 0.39,
            "value": 11.3
           },
           {
            "percentage": 0.4,
            "value": 11.76
           },
           {
            "percentage": 0.41,
            "value": 11.8
           },
           {
            "percentage": 0.42,
            "value": 12.05
           },
           {
            "percentage": 0.43,
            "value": 12.3
           },
           {
            "percentage": 0.44,
            "value": 12.36
           },
           {
            "percentage": 0.45,
            "value": 12.8
           },
           {
            "percentage": 0.46,
            "value": 12.96
           },
           {
            "percentage": 0.47,
            "value": 13.3
           },
           {
            "percentage": 0.48,
            "value": 13.56
           },
           {
            "percentage": 0.49,
            "value": 13.8
           },
           {
            "percentage": 0.5,
            "value": 14.16
           },
           {
            "percentage": 0.51,
            "value": 14.46
           },
           {
            "percentage": 0.52,
            "value": 14.8
           },
           {
            "percentage": 0.53,
            "value": 15.06
           },
           {
            "percentage": 0.54,
            "value": 15.36
           },
           {
            "percentage": 0.55,
            "value": 15.8
           },
           {
            "percentage": 0.56,
            "value": 16.05
           },
           {
            "percentage": 0.57,
            "value": 16.55
           },
           {
            "percentage": 0.58,
            "value": 16.8
           },
           {
            "percentage": 0.59,
            "value": 17.16
           },
           {
            "percentage": 0.6,
            "value": 17.55
           },
           {
            "percentage": 0.61,
            "value": 17.88
           },
           {
            "percentage": 0.62,
            "value": 18.36
           },
           {
            "percentage": 0.63,
            "value": 18.8
           },
           {
            "percentage": 0.64,
            "value": 19.3
           },
           {
            "percentage": 0.65,
            "value": 19.78
           },
           {
            "percentage": 0.66,
            "value": 20
           },
           {
            "percentage": 0.67,
            "value": 20.55
           },
           {
            "percentage": 0.68,
            "value": 21.05
           },
           {
            "percentage": 0.69,
            "value": 21.63
           },
           {
            "percentage": 0.7,
            "value": 22
           },
           {
            "percentage": 0.71,
            "value": 22.3
           },
           {
            "percentage": 0.72,
            "value": 22.87
           },
           {
            "percentage": 0.73,
            "value": 23.39
           },
           {
            "percentage": 0.74,
            "value": 23.98
           },
           {
            "percentage": 0.75,
            "value": 24.42
           },
           {
            "percentage": 0.76,
            "value": 24.8
           },
           {
            "percentage": 0.77,
            "value": 25.5
           },
           {
            "percentage": 0.78,
            "value": 26.12
           },
           {
            "percentage": 0.79,
            "value": 26.46
           },
           {
            "percentage": 0.8,
            "value": 27.04
           },
           {
            "percentage": 0.81,
            "value": 27.84
           },
           {
            "percentage": 0.82,
            "value": 28.64
           },
           {
            "percentage": 0.83,
            "value": 29.21
           },
           {
            "percentage": 0.84,
            "value": 30.11
           },
           {
            "percentage": 0.85,
            "value": 31.06
           },
           {
            "percentage": 0.86,
            "value": 32.08
           },
           {
            "percentage": 0.87,
            "value": 33.05
           },
           {
            "percentage": 0.88,
            "value": 34.14
           },
           {
            "percentage": 0.89,
            "value": 35.55
           },
           {
            "percentage": 0.9,
            "value": 36.8
           },
           {
            "percentage": 0.91,
            "value": 38.55
           },
           {
            "percentage": 0.92,
            "value": 39.83
           },
           {
            "percentage": 0.93,
            "value": 42.55
           },
           {
            "percentage": 0.94,
            "value": 44.89
           },
           {
            "percentage": 0.95,
            "value": 48.12
           },
           {
            "percentage": 0.96,
            "value": 50.8
           },
           {
            "percentage": 0.97,
            "value": 54.6
           },
           {
            "percentage": 0.98,
            "value": 59.79
           },
           {
            "percentage": 0.99,
            "value": 67.55
           },
           {
            "percentage": 1,
            "value": 833.33
           }
          ],
          "stddev": 14.519723864635338
         }
        }
       ],
       "dataFrameAdvanceMetrics": {},
       "insights": [
        {
         "data": {
          "Q1 - 1.5 * IQR": "-7.590000000000002",
          "Q3 + 1.5 * IQR": "12.430000000000001",
          "outlierExample": "-20329.08"
         },
         "description": "We detect few outliers in column 'trip_distance' by IQR method, for example: '-20329.08', 'Q1 - 1.5 * IQR': '-7.590000000000002', 'Q3 + 1.5 * IQR': '12.430000000000001'. They are probably harmless, however, they might point to bugs in data collection and processing.",
         "entity": "Column",
         "helpLink": "",
         "instances": [
          "trip_distance"
         ],
         "level": "Info",
         "name": "Outliers in Column 'trip_distance'.",
         "suggestedOperations": {}
        },
        {
         "data": {
          "Q1 - 1.5 * IQR": "-38.06",
          "Q3 + 1.5 * IQR": "71.28",
          "outlierExample": "833.33"
         },
         "description": "We detect few outliers in column 'total_amount' by IQR method, for example: '833.33', 'Q1 - 1.5 * IQR': '-38.06', 'Q3 + 1.5 * IQR': '71.28'. They are probably harmless, however, they might point to bugs in data collection and processing.",
         "entity": "Column",
         "helpLink": "",
         "instances": [
          "total_amount"
         ],
         "level": "Info",
         "name": "Outliers in Column 'total_amount'.",
         "suggestedOperations": {}
        },
        {
         "data": {
          "MissingRate": "19.37%"
         },
         "description": "There are too many null in column 'RatecodeID'(missing rate: 19.37%). They might point to bugs in data collection and processing.",
         "entity": "Column",
         "helpLink": "",
         "instances": [
          "RatecodeID"
         ],
         "level": "Warn",
         "name": "High Missing Rate In Column 'RatecodeID'.",
         "suggestedOperations": {}
        },
        {
         "data": {
          "MissingRate": "19.37%"
         },
         "description": "There are too many null in column 'VendorID'(missing rate: 19.37%). They might point to bugs in data collection and processing.",
         "entity": "Column",
         "helpLink": "",
         "instances": [
          "VendorID"
         ],
         "level": "Warn",
         "name": "High Missing Rate In Column 'VendorID'.",
         "suggestedOperations": {}
        },
        {
         "data": {
          "MissingRate": "19.37%"
         },
         "description": "There are too many null in column 'trip_type'(missing rate: 19.37%). They might point to bugs in data collection and processing.",
         "entity": "Column",
         "helpLink": "",
         "instances": [
          "trip_type"
         ],
         "level": "Warn",
         "name": "High Missing Rate In Column 'trip_type'.",
         "suggestedOperations": {}
        },
        {
         "data": {
          "MissingRate": "19.37%"
         },
         "description": "There are too many null in column 'passenger_count'(missing rate: 19.37%). They might point to bugs in data collection and processing.",
         "entity": "Column",
         "helpLink": "",
         "instances": [
          "passenger_count"
         ],
         "level": "Warn",
         "name": "High Missing Rate In Column 'passenger_count'.",
         "suggestedOperations": {}
        }
       ],
       "label": "DataFrame_-1795442554",
       "numRecords": 449500
      }
     },
     "type": "Synapse.DataFrame"
    }
   },
   "version": "0.1"
  }
 },
 "nbformat": 4,
 "nbformat_minor": 2
}
